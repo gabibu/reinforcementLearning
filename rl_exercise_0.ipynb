{
  "nbformat": 4,
  "nbformat_minor": 0,
  "metadata": {
    "colab": {
      "name": "rl_exercise_0.ipynb",
      "version": "0.3.2",
      "provenance": [],
      "collapsed_sections": []
    },
    "kernelspec": {
      "name": "python3",
      "display_name": "Python 3"
    },
    "accelerator": "GPU"
  },
  "cells": [
    {
      "cell_type": "markdown",
      "metadata": {
        "id": "t4mBLnVgDYAA",
        "colab_type": "text"
      },
      "source": [
        "# Exercise 0 - PyTorch Tutorial\n",
        "## Yandex Data Science School RL Course 2019\n",
        "\n",
        "In this exercise you will get up to speed with pyTorch a modern dynamic deep learning framework by Facebook.\n",
        "\n",
        "We will use it for the rest of the book as our platform for training Deep Neural Network.\n",
        "\n",
        "Plenty of tutorials are available online. For example the official one are here https://pytorch.org/tutorials/#getting-started and the official documentations https://pytorch.org/docs/stable/index.html"
      ]
    },
    {
      "cell_type": "markdown",
      "metadata": {
        "id": "5sPBzFJBKSyT",
        "colab_type": "text"
      },
      "source": [
        "## Part 1. Simple Graph\n",
        "Create a DNN with the following layers:\n",
        "1. Linear `n_input` to 5\n",
        "2. Relu\n",
        "3. Linear 5 to 20\n",
        "4. Relu\n",
        "5. Linear 20 to `num_classes`\n",
        "5. Dropout with probability `dropout_prob`\n",
        "6. soft max\n",
        "\n",
        "hints:\n",
        "1.use `nn.Sequential` to create a cascade of layers\n",
        "2. use `nn.X` to use layer of type `X`"
      ]
    },
    {
      "cell_type": "code",
      "metadata": {
        "id": "j1i4BLs7Ddfr",
        "colab_type": "code",
        "colab": {}
      },
      "source": [
        "import torch\n",
        "import torch.nn as nn\n",
        "\n",
        "class OurModule(nn.Module):\n",
        "    def __init__(self, num_inputs, num_classes, dropout_prob=0.3):\n",
        "        super(OurModule, self).__init__()\n",
        "        self.pipe = #your code here\n",
        "\n",
        "    def forward(self, x):\n",
        "        return self.pipe(x)\n",
        "\n",
        "if __name__ == \"__main__\":\n",
        "    net = OurModule(num_inputs=2, num_classes=3)\n",
        "    print(net)\n",
        "    v = torch.FloatTensor([[2, 3]])\n",
        "    out = net(v)\n",
        "    print(out)"
      ],
      "execution_count": 0,
      "outputs": []
    },
    {
      "cell_type": "markdown",
      "metadata": {
        "id": "Hi0IWOpSMCB7",
        "colab_type": "text"
      },
      "source": [
        "## Part 2. Using GPU in Colab\n",
        "Go to Runtime menu and select \"change runtime type\" and checkbox GPU.\n",
        "Run the following code to test if you have succeeded.\n",
        "\n",
        "```\n",
        "print(\"Cuda's availability is %s\" % torch.cuda.is_available())\n",
        "```"
      ]
    },
    {
      "cell_type": "code",
      "metadata": {
        "id": "l9zfNlhkM0Lc",
        "colab_type": "code",
        "outputId": "70547ca6-4531-406a-d047-9198f8145f5a",
        "colab": {
          "base_uri": "https://localhost:8080/",
          "height": 34
        }
      },
      "source": [
        "print(\"Cuda's availability is %s\" % torch.cuda.is_available())"
      ],
      "execution_count": 0,
      "outputs": [
        {
          "output_type": "stream",
          "text": [
            "Cuda's availability is True\n"
          ],
          "name": "stdout"
        }
      ]
    },
    {
      "cell_type": "markdown",
      "metadata": {
        "id": "MKUf8WftUp7M",
        "colab_type": "text"
      },
      "source": [
        "In order to copy a tensor to the device you can user `.to('cuda')` or just `.cuda`"
      ]
    },
    {
      "cell_type": "code",
      "metadata": {
        "id": "VLCbQ6YHU8jI",
        "colab_type": "code",
        "outputId": "9d1c3e5f-2ad0-4072-c3b6-034340ee8ddd",
        "colab": {
          "base_uri": "https://localhost:8080/",
          "height": 51
        }
      },
      "source": [
        "import torch\n",
        "v = torch.FloatTensor([[2, 3]])\n",
        "print(v.to('cuda'))\n",
        "print(v.cuda())"
      ],
      "execution_count": 0,
      "outputs": [
        {
          "output_type": "stream",
          "text": [
            "tensor([[2., 3.]], device='cuda:0')\n",
            "tensor([[2., 3.]], device='cuda:0')\n"
          ],
          "name": "stdout"
        }
      ]
    },
    {
      "cell_type": "markdown",
      "metadata": {
        "id": "9aAPtHSBOccN",
        "colab_type": "text"
      },
      "source": [
        "## Part 3. Using TensorBoard in Colab\n",
        "\n",
        "Note: Ngrock is not necessary for someone who runs the notebook locally. If you run locally you can skip the ngrock issue.\n",
        "\n",
        "We would like to track learning. For this we have handy TensorBoard GUI.=\n",
        "\n",
        "If we work in Colab, since tensorboard is a server-client application, we need to create a network tunnel to access it through the colab virtual machine. See detailed explanation here https://medium.com/@tommytao_54597/use-tensorboard-in-google-colab-16b4bb9812a6 \n",
        "\n",
        "Use the following lines to use tensorboard in colab:\n",
        "\n",
        "```\n",
        "!pip install tensorboardX\n",
        "from tensorboardcolab import TensorBoardColab\n",
        "tbc=TensorBoardColab(graph_path='./runs')\n",
        "```\n",
        "browse the printed url to access the tensorboard\n"
      ]
    },
    {
      "cell_type": "code",
      "metadata": {
        "id": "doN_dizVIsck",
        "colab_type": "code",
        "outputId": "ffe40e0d-1574-41fc-a3c4-ffa0d2cc7fa9",
        "colab": {
          "base_uri": "https://localhost:8080/",
          "height": 258
        }
      },
      "source": [
        "LOG_DIR = './log'\n",
        "\n",
        "!pip install tensorboardX\n",
        "from tensorboardcolab import TensorBoardColab\n",
        "tbc=TensorBoardColab(graph_path=LOG_DIR)\n"
      ],
      "execution_count": 0,
      "outputs": [
        {
          "output_type": "stream",
          "text": [
            "Collecting tensorboardX\n",
            "\u001b[?25l  Downloading https://files.pythonhosted.org/packages/5c/76/89dd44458eb976347e5a6e75eb79fecf8facd46c1ce259bad54e0044ea35/tensorboardX-1.6-py2.py3-none-any.whl (129kB)\n",
            "\u001b[K    100% |████████████████████████████████| 133kB 39.2MB/s \n",
            "\u001b[?25hRequirement already satisfied: protobuf>=3.2.0 in /usr/local/lib/python3.6/dist-packages (from tensorboardX) (3.7.1)\n",
            "Requirement already satisfied: numpy in /usr/local/lib/python3.6/dist-packages (from tensorboardX) (1.16.2)\n",
            "Requirement already satisfied: six in /usr/local/lib/python3.6/dist-packages (from tensorboardX) (1.11.0)\n",
            "Requirement already satisfied: setuptools in /usr/local/lib/python3.6/dist-packages (from protobuf>=3.2.0->tensorboardX) (40.9.0)\n",
            "Installing collected packages: tensorboardX\n",
            "Successfully installed tensorboardX-1.6\n"
          ],
          "name": "stdout"
        },
        {
          "output_type": "stream",
          "text": [
            "Using TensorFlow backend.\n"
          ],
          "name": "stderr"
        },
        {
          "output_type": "stream",
          "text": [
            "Wait for 8 seconds...\n",
            "TensorBoard link:\n",
            "https://093da28f.ngrok.io\n"
          ],
          "name": "stdout"
        }
      ]
    },
    {
      "cell_type": "markdown",
      "metadata": {
        "id": "vFR22XOVSucb",
        "colab_type": "text"
      },
      "source": [
        "use tensorboardX SummaryWritter to create a write to the ./log/demo folder as log_dir.\n",
        "user the writter to log a sin cos and than values at each angle between -360 and 360.\n",
        "Visit the ngrok url of the TensorBoard to see your plots.\n",
        "It should look something like:\n",
        "\n",
        "![alt text](https://i.ibb.co/rGbpc5r/Screen-Shot-2019-03-22-at-14-09-30.png)"
      ]
    },
    {
      "cell_type": "code",
      "metadata": {
        "id": "zVBAq6gmELOb",
        "colab_type": "code",
        "colab": {}
      },
      "source": [
        "import math\n",
        "from tensorboardX import SummaryWriter\n",
        "\n",
        "\n",
        "if __name__ == \"__main__\":\n",
        "    writer = #CREATE A SUMMARY WRITE INSTANCE \n",
        "    funcs = {\"sin\": math.sin, \"cos\": math.cos, \"tan\": math.tan}\n",
        "\n",
        "    for angle in #YOUR CODE:\n",
        "        angle_rad = angle * math.pi / 180\n",
        "        for name, fun in funcs.items():\n",
        "            val = fun(angle_rad)\n",
        "            #USE WRITER TO REPORT A SCALAR \n",
        "    writer.close()"
      ],
      "execution_count": 0,
      "outputs": []
    },
    {
      "cell_type": "markdown",
      "metadata": {
        "id": "t69Mp1jUQ1Q0",
        "colab_type": "text"
      },
      "source": [
        "## Part 4. MNIST Hello World\n",
        "\n",
        "1. Implement `Net` class below to create the following architecture:\n",
        "\n",
        "  1. Relu Conv2D 20x20x5 in_channels, out_channels, kernel_size, stride = 1,20,5,1\n",
        "  2. Max Pooled2D kernel_size, stride=2,2\n",
        "  3. Relu Conv2D in_channels, out_channels, kernel_size, stride = 20,50,5,1\n",
        "  4. Max Pooled2D kernel_size, stride=2,2\n",
        "  5. Fully connected in_features, out_features = 800, 500 (you will need to flat the tensor first)\n",
        "  6. Fully connected in_features, out_features = 500,10\n",
        "  \n",
        "  You can use the help class `Flatten`\n",
        "\n",
        "2. You can use the `get_loader` function to create a generator of batches.\n",
        "3. Don't forget to move the network to the gpu to speed up traning (`.to('cuda')`)\n",
        "4. Use SGD optimizer `optim.SGD`\n",
        "5. Use the following default parameters, you can use `get_args` to get an object with the default params, you will need the first line to make it work. https://github.com/spyder-ide/spyder/issues/3883\n",
        "  * batch_size = 65\n",
        "  * test_batch_size = 1000\n",
        "  * epochs = 10\n",
        "  * learning_rate = 0.01\n",
        "  * momentum = 0.5\n",
        "6. Implement a `train` and `test` function with the  signature below\n",
        "7. Use the writer=SummaryWriter to log training and test loss as well as test accuracy over time.\n",
        "8. Use the main method below.\n"
      ]
    },
    {
      "cell_type": "code",
      "metadata": {
        "id": "wgXYZQWuQ0mK",
        "colab_type": "code",
        "colab": {}
      },
      "source": [
        "import sys; sys.argv=['']; del sys # without this argparse won't work properly. https://github.com/spyder-ide/spyder/issues/3883 \n",
        "\n",
        "\n",
        "class Flatten(nn.Module):\n",
        "  def __init__(self):\n",
        "    super().__init__()\n",
        "  def forward(self, input):\n",
        "      return input.view(input.size(0), -1)\n",
        "\n",
        "class Net(nn.Module):\n",
        "  def __init__(self):\n",
        "      super(Net, self).__init__()\n",
        "      self.net = None\n",
        "\n",
        "  def forward(self, x):\n",
        "      return self.net(x)\n",
        "    \n",
        "def get_loader(train, batch_size, use_cuda):\n",
        "  kwargs = {'num_workers': 1, 'pin_memory': True} if use_cuda else {}\n",
        "\n",
        "  loader = torch.utils.data.DataLoader(\n",
        "    datasets.MNIST('../data', \n",
        "                   train=train, \n",
        "                   download=True,\n",
        "                   transform=transforms.Compose([\n",
        "                       transforms.ToTensor(),\n",
        "                       transforms.Normalize((0.1307,), (0.3081,))\n",
        "                   ])),\n",
        "    batch_size=batch_size, \n",
        "      shuffle=True, \n",
        "      **kwargs)\n",
        "  return loader\n",
        "\n",
        "def train(model, device, train_loader, optimizer, epoch, writer):\n",
        "  raise NotImplemented\n",
        "  \n",
        "def test(model, device, test_loader, epoch, writer):\n",
        "  raise NotImplemented\n",
        "  \n",
        "def get_args():\n",
        "  parser = argparse.ArgumentParser(description='PyTorch MNIST Example')\n",
        "  parser.add_argument('--batch-size', type=int, default=64, metavar='N',\n",
        "                      help='input batch size for training (default: 64)')\n",
        "  parser.add_argument('--test-batch-size', type=int, default=1000, metavar='N',\n",
        "                      help='input batch size for testing (default: 1000)')\n",
        "  parser.add_argument('--epochs', type=int, default=10, metavar='N',\n",
        "                      help='number of epochs to train (default: 10)')\n",
        "  parser.add_argument('--lr', type=float, default=0.01, metavar='LR',\n",
        "                      help='learning rate (default: 0.01)')\n",
        "  parser.add_argument('--momentum', type=float, default=0.5, metavar='M',\n",
        "                      help='SGD momentum (default: 0.5)')\n",
        "  parser.add_argument('--no-cuda', action='store_true', default=False,\n",
        "                      help='disables CUDA training')\n",
        "  parser.add_argument('--seed', type=int, default=1, metavar='S',\n",
        "                      help='random seed (default: 1)')\n",
        "  parser.add_argument('--log-interval', type=int, default=10, metavar='N',\n",
        "                      help='how many batches to wait before logging training status')\n",
        "\n",
        "  parser.add_argument('--save-model', action='store_true', default=False,\n",
        "                      help='For Saving the current Model')\n",
        "  args = parser.parse_args()\n",
        "  return args\n",
        "\n",
        "def main():\n",
        "    args = get_args()\n",
        "    use_cuda = torch.cuda.is_available()\n",
        "    print('use_cuda = {}'.format(use_cuda))\n",
        "    device = torch.device(\"cuda\" if use_cuda else \"cpu\")\n",
        "\n",
        "    torch.manual_seed(args.seed)\n",
        "    now = datetime.now()\n",
        "    writer = SummaryWriter(log_dir=LOG_DIR + '/nminst_' + now.strftime(\"%Y%m%d-%H%M%S\"))\n",
        "\n",
        "    train_loader = get_loader(train=True, batch_size=args.batch_size, use_cuda=use_cuda)\n",
        "    test_loader = get_loader(train=False, batch_size=args.test_batch_size, use_cuda=use_cuda)\n",
        "    model = Net().to(device)\n",
        "    optimizer = # ADD THIS\n",
        "    \n",
        "    for epoch in range(1, args.epochs + 1):\n",
        "        print('epoch={}'.format(epoch))\n",
        "        train(model, device, train_loader, optimizer, epoch, writer)\n",
        "        test(model, device, test_loader, epoch, writer)\n"
      ],
      "execution_count": 0,
      "outputs": []
    },
    {
      "cell_type": "markdown",
      "metadata": {
        "id": "OUXi3MgpVUVO",
        "colab_type": "text"
      },
      "source": [
        ""
      ]
    }
  ]
}