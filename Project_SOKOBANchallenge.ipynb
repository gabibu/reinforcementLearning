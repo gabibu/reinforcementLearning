{
  "nbformat": 4,
  "nbformat_minor": 0,
  "metadata": {
    "colab": {
      "name": "Project-SOKOBANchallenge.ipynb",
      "private_outputs": true,
      "provenance": [],
      "collapsed_sections": []
    },
    "kernelspec": {
      "display_name": "Python 3",
      "language": "python",
      "name": "python3"
    },
    "pycharm": {
      "stem_cell": {
        "cell_type": "raw",
        "metadata": {
          "collapsed": false
        },
        "source": []
      }
    },
    "accelerator": "GPU"
  },
  "cells": [
    {
      "cell_type": "markdown",
      "metadata": {
        "id": "5L88ZFOfGsYB"
      },
      "source": [
        "Based on https://ymd_h.gitlab.io/ymd_blog/posts/gym_on_google_colab_with_gnwrapper/"
      ]
    },
    {
      "cell_type": "markdown",
      "metadata": {
        "id": "1u9QVVsShC9X"
      },
      "source": [
        "## Setup"
      ]
    },
    {
      "cell_type": "code",
      "metadata": {
        "id": "cOs7qfBGZ-Rm"
      },
      "source": [
        "!sudo apt-get install -y xvfb ffmpeg x11-utils\n",
        "!pip install -q 'gym==0.10.11'\n",
        "!pip install -q 'imageio==2.4.0'\n",
        "!pip install -q PILLOW\n",
        "!pip install -q 'pyglet==1.3.2'\n",
        "!pip install -q pyvirtualdisplay\n",
        "!pip install -q tf-agents\n",
        "!pip install colabgymrender\n",
        "!pip install gym_sokoban\n",
        "!pip install gym\n",
        "!apt-get install python-opengl -y\n",
        "!apt-get install -y xvfb python-opengl > /dev/null 2>&1\n",
        "!pip install gym pyvirtualdisplay > /dev/null 2>&1\n",
        "!apt-get install python-opengl -y\n",
        "!apt install xvfb -y\n",
        "!pip install piglet"
      ],
      "execution_count": null,
      "outputs": []
    },
    {
      "cell_type": "code",
      "metadata": {
        "id": "KEHR2Ui-lo8O"
      },
      "source": [
        "\n",
        "import gym\n",
        "import gym_sokoban\n",
        "\n",
        "from pyvirtualdisplay import Display\n",
        "display = Display(visible=0, size=(1400, 900))\n",
        "display.start()\n",
        "\n",
        "from colabgymrender.recorder import Recorder\n",
        "from IPython import display as ipythondisplay\n",
        "from pyvirtualdisplay import Display\n",
        "Display().start()\n",
        "import matplotlib.pyplot as plt\n",
        "from IPython import display as ipythondisplay\n",
        "\n",
        "\n",
        "import gym\n",
        "import math\n",
        "import random\n",
        "import numpy as np\n",
        "import matplotlib\n",
        "import matplotlib.pyplot as plt\n",
        "from collections import namedtuple, deque\n",
        "from itertools import count\n",
        "from PIL import Image\n",
        "\n",
        "import torch\n",
        "import torch.nn as nn\n",
        "import torch.optim as optim\n",
        "import torch.nn.functional as F\n",
        "import torchvision.transforms as T\n",
        "\n",
        "\n",
        "is_ipython = 'inline' in matplotlib.get_backend()\n",
        "if is_ipython:\n",
        "    from IPython import display\n",
        "\n",
        "plt.ion()"
      ],
      "execution_count": null,
      "outputs": []
    },
    {
      "cell_type": "code",
      "metadata": {
        "id": "DbOqA9qYNYBo"
      },
      "source": [
        "env = gym.make(\"PushAndPull-Sokoban-v2\")\n",
        "screen = env.render(mode='rgb_array')\n",
        "print(screen.shape)\n"
      ],
      "execution_count": null,
      "outputs": []
    },
    {
      "cell_type": "code",
      "metadata": {
        "id": "hQ4QU1xYrzMX"
      },
      "source": [
        "screen.shape"
      ],
      "execution_count": null,
      "outputs": []
    },
    {
      "cell_type": "code",
      "metadata": {
        "id": "b-aVN4BGXmgs"
      },
      "source": [
        "plt.imshow(screen)"
      ],
      "execution_count": null,
      "outputs": []
    },
    {
      "cell_type": "code",
      "metadata": {
        "id": "EdYfjj-vNoX5"
      },
      "source": [
        "device = torch.device(\"cuda\" if torch.cuda.is_available() else \"cpu\")\n",
        "device"
      ],
      "execution_count": null,
      "outputs": []
    },
    {
      "cell_type": "code",
      "metadata": {
        "id": "Aym7pOFYYZFX"
      },
      "source": [
        "from skimage import color\n",
        "# img = color.rgb2gray(screen)\n",
        "# plt.imshow(img)\n",
        "screen.shape"
      ],
      "execution_count": null,
      "outputs": []
    },
    {
      "cell_type": "code",
      "metadata": {
        "id": "kloUZ8tHZdB7"
      },
      "source": [
        "plt.imshow(screen)"
      ],
      "execution_count": null,
      "outputs": []
    },
    {
      "cell_type": "code",
      "metadata": {
        "id": "p5lzKoZwb-QH"
      },
      "source": [
        "env = gym.make(\"PushAndPull-Sokoban-v2\")"
      ],
      "execution_count": null,
      "outputs": []
    },
    {
      "cell_type": "code",
      "metadata": {
        "id": "35CiY2RUbPSs"
      },
      "source": [
        "Transition = namedtuple('Transition',\n",
        "                        ('state', 'action', 'next_state', 'reward'))\n",
        "\n",
        "\n",
        "class ReplayMemory(object):\n",
        "\n",
        "    def __init__(self, capacity):\n",
        "        self.memory = deque([],maxlen=capacity)\n",
        "\n",
        "    def push(self, *args):\n",
        "        \"\"\"Save a transition\"\"\"\n",
        "        self.memory.append(Transition(*args))\n",
        "\n",
        "    def sample(self, batch_size):\n",
        "        return random.sample(self.memory, batch_size)\n",
        "\n",
        "    def __len__(self):\n",
        "        return len(self.memory)"
      ],
      "execution_count": null,
      "outputs": []
    },
    {
      "cell_type": "code",
      "metadata": {
        "id": "oN-_r-DJbTOb"
      },
      "source": [
        "class DQN(nn.Module):\n",
        "\n",
        "    def __init__(self, h, w, outputs):\n",
        "        super(DQN, self).__init__()\n",
        "        self.conv1 = nn.Conv2d(1, 16, kernel_size=5, stride=2)\n",
        "        self.bn1 = nn.BatchNorm2d(16)\n",
        "        self.conv2 = nn.Conv2d(16, 32, kernel_size=5, stride=2)\n",
        "        self.bn2 = nn.BatchNorm2d(32)\n",
        "        self.conv3 = nn.Conv2d(32, 32, kernel_size=5, stride=2)\n",
        "        self.bn3 = nn.BatchNorm2d(32)\n",
        "\n",
        "        # Number of Linear input connections depends on output of conv2d layers\n",
        "        # and therefore the input image size, so compute it.\n",
        "        def conv2d_size_out(size, kernel_size = 5, stride = 2):\n",
        "            return (size - (kernel_size - 1) - 1) // stride  + 1\n",
        "        convw = conv2d_size_out(conv2d_size_out(conv2d_size_out(w)))\n",
        "        convh = conv2d_size_out(conv2d_size_out(conv2d_size_out(h)))\n",
        "        linear_input_size = convw * convh * 32\n",
        "        self.head = nn.Linear(linear_input_size, outputs)\n",
        "\n",
        "    # Called with either one element to determine next action, or a batch\n",
        "    # during optimization. Returns tensor([[left0exp,right0exp]...]).\n",
        "    def forward(self, x):\n",
        "        x = x.to(device)\n",
        "        x = F.relu(self.bn1(self.conv1(x)))\n",
        "        x = F.relu(self.bn2(self.conv2(x)))\n",
        "        x = F.relu(self.bn3(self.conv3(x)))\n",
        "        return self.head(x.view(x.size(0), -1))"
      ],
      "execution_count": null,
      "outputs": []
    },
    {
      "cell_type": "code",
      "metadata": {
        "id": "5g2E6ea0bZqa"
      },
      "source": [
        "resize = T.Compose([\n",
        "                    T.ToPILImage(),\n",
        "                    T.Grayscale(num_output_channels=1),\n",
        "                    T.Resize(80, interpolation=Image.CUBIC),\n",
        "                    T.ToTensor()])\n",
        "\n",
        "\n",
        "\n",
        "def get_screen():\n",
        "    screen = env.render(mode='rgb_array')#.transpose((2, 0, 1))\n",
        "    #screen = color.rgb2gray(screen)\n",
        "    return resize(screen)\n",
        "    "
      ],
      "execution_count": null,
      "outputs": []
    },
    {
      "cell_type": "code",
      "metadata": {
        "id": "rUc-gABhkwNu"
      },
      "source": [
        "BATCH_SIZE = 32\n",
        "GAMMA = 0.9\n",
        "EPS_START = 1.0\n",
        "EPS_END = 0.1\n",
        "EPS_DECAY = 60000\n",
        "TARGET_UPDATE = 10\n",
        "\n",
        "# Get screen size so that we can initialize layers correctly based on shape\n",
        "# returned from AI gym. Typical dimensions at this point are close to 3x40x90\n",
        "# which is the result of a clamped and down-scaled render buffer in get_screen()\n",
        "init_screen = get_screen()\n",
        "\n",
        "_, screen_height, screen_width = init_screen.shape\n",
        "\n",
        "# Get number of actions from gym action space\n",
        "n_actions = env.action_space.n\n",
        "\n",
        "policy_net = DQN(screen_height, screen_width, n_actions).to(device)\n",
        "target_net = DQN(screen_height, screen_width, n_actions).to(device)\n",
        "target_net.load_state_dict(policy_net.state_dict())\n",
        "target_net.eval()\n",
        "\n",
        "#optimizer = optim.RMSprop(policy_net.parameters())\n",
        "optimizer = optim.Adam(policy_net.parameters(), lr=0.001)\n",
        "#torch.nn.SmoothL1Loss(size_average=None, reduce=None, reduction='mean', beta=1.0)\n",
        "\n",
        "\n",
        "#torch.nn.HuberLoss(reduction='mean', delta=1.0)\n"
      ],
      "execution_count": null,
      "outputs": []
    },
    {
      "cell_type": "code",
      "metadata": {
        "id": "WIpjRSxMl4FY"
      },
      "source": [
        "criterion = nn.SmoothL1Loss(beta = 0.1)"
      ],
      "execution_count": null,
      "outputs": []
    },
    {
      "cell_type": "code",
      "metadata": {
        "id": "_5xYU_YC1q6y"
      },
      "source": [
        "\n",
        "# steps_done += 10\n",
        "# # # # EPS_END + (EPS_START - EPS_END) * math.exp(-1. * steps_done / EPS_DECAY), steps_done, random.random()\n",
        "# # # state = get_screen().unsqueeze(0)\n",
        "# # # state.shape\n",
        "\n",
        "# # # select_action(state), policy_net(state).max(1)[1].view(1, 1)\n",
        "\n",
        "# EPS_END + (EPS_START - EPS_END) * math.exp(-1. * steps_done / EPS_DECAY), random.random()\n",
        "\n",
        "# EPS_DECAY2 = 60000\n",
        "prev = 1.0\n",
        "\n",
        "for i in range(100000):\n",
        "  eps_threshold = EPS_END + (EPS_START - EPS_END) * math.exp(-1. * i / EPS_DECAY)\n",
        "\n",
        "  if prev - eps_threshold >= 0.1:\n",
        "    print((i, eps_threshold))\n",
        "    prev = eps_threshold"
      ],
      "execution_count": null,
      "outputs": []
    },
    {
      "cell_type": "code",
      "metadata": {
        "id": "D2PMk6mCOxVZ"
      },
      "source": [
        "# select_action(state)\n",
        "# vals = policy_net(state).detach().cpu().numpy().flatten()\n",
        "# min_vale = np.min(vals)\n",
        "# min_vale, vals, vals + -min_vale + 0.0000001"
      ],
      "execution_count": null,
      "outputs": []
    },
    {
      "cell_type": "code",
      "metadata": {
        "id": "7UZDLE0tlwW_"
      },
      "source": [
        "def select_action(state):\n",
        "    # global steps_done\n",
        "    # sample = random.random()\n",
        "    # eps_threshold = EPS_END + (EPS_START - EPS_END) * \\\n",
        "    #     math.exp(-1. * steps_done / EPS_DECAY)\n",
        "    # steps_done += 1\n",
        "    # if sample > eps_threshold:\n",
        "    #     with torch.no_grad():\n",
        "    #         # t.max(1) will return largest column value of each row.\n",
        "    #         # second column on max result is index of where max element was\n",
        "    #         # found, so we pick action with the larger expected reward.\n",
        "    #         return policy_net(state).max(1)[1].view(1, 1)\n",
        "    # else:\n",
        "    #     return torch.tensor([[random.randrange(n_actions)]], device=device, dtype=torch.long)\n",
        "\n",
        "    vals = policy_net(state).detach().cpu().numpy().flatten()\n",
        "    min_vale = np.min(vals)\n",
        "    add = -min_vale + 0.0000001\n",
        "    if min_vale < 0:\n",
        "      vals += add\n",
        "\n",
        "    probs = vals/np.sum(vals)\n",
        "\n",
        "    action = np.random.choice(n_actions, 1, p=probs)[0]\n",
        "\n",
        "    return torch.tensor([[action]], device=device, dtype=torch.long)\n",
        "\n",
        "\n",
        "\n",
        "\n",
        "\n",
        "def plot_durations():\n",
        "    plt.figure(2)\n",
        "    plt.clf()\n",
        "    durations_t = torch.tensor(episode_durations, dtype=torch.float)\n",
        "    plt.title('Training...')\n",
        "    plt.xlabel('Episode')\n",
        "    plt.ylabel('Duration')\n",
        "    plt.plot(durations_t.numpy())\n",
        "    # Take 100 episode averages and plot them too\n",
        "    if len(durations_t) >= 100:\n",
        "        means = durations_t.unfold(0, 100, 1).mean(1).view(-1)\n",
        "        means = torch.cat((torch.zeros(99), means))\n",
        "        plt.plot(means.numpy())\n",
        "\n",
        "    plt.pause(0.001)  # pause a bit so that plots are updated\n",
        "    if is_ipython:\n",
        "        display.clear_output(wait=True)\n",
        "        display.display(plt.gcf())"
      ],
      "execution_count": null,
      "outputs": []
    },
    {
      "cell_type": "code",
      "metadata": {
        "id": "BJu43wD5ox-F"
      },
      "source": [
        "def optimize_model():\n",
        "    if len(memory) < BATCH_SIZE:\n",
        "        return\n",
        "    transitions = memory.sample(BATCH_SIZE)\n",
        "\n",
        "    batch = Transition(*zip(*transitions))\n",
        "\n",
        "    # Compute a mask of non-final states and concatenate the batch elements\n",
        "    # (a final state would've been the one after which simulation ended)\n",
        "    non_final_mask = torch.tensor(tuple(map(lambda s: s is not None,\n",
        "                                          batch.next_state)), device=device, dtype=torch.bool)\n",
        "    non_final_next_states = torch.cat([s for s in batch.next_state\n",
        "                                                if s is not None])\n",
        "    state_batch = torch.cat(batch.state)\n",
        "    action_batch = torch.cat(batch.action)\n",
        "    reward_batch = torch.cat(batch.reward)\n",
        "\n",
        "    # Compute Q(s_t, a) - the model computes Q(s_t), then we select the\n",
        "    # columns of actions taken. These are the actions which would've been taken\n",
        "    # for each batch state according to policy_net\n",
        "    state_action_values = policy_net(state_batch).gather(1, action_batch)\n",
        "\n",
        "    # Compute V(s_{t+1}) for all next states.\n",
        "    # Expected values of actions for non_final_next_states are computed based\n",
        "    # on the \"older\" target_net; selecting their best reward with max(1)[0].\n",
        "    # This is merged based on the mask, such that we'll have either the expected\n",
        "    # state value or 0 in case the state was final.\n",
        "    next_state_values = torch.zeros(BATCH_SIZE, device=device)\n",
        "    next_state_values[non_final_mask] = target_net(non_final_next_states).max(1)[0].detach()\n",
        "    # Compute the expected Q values\n",
        "    expected_state_action_values = (next_state_values * GAMMA) + reward_batch\n",
        "\n",
        "    # Compute Huber loss\n",
        "    \n",
        "    loss = criterion(state_action_values, expected_state_action_values.unsqueeze(1))\n",
        "    #print(state_action_values - expected_state_action_values.unsqueeze(1))\n",
        "    \n",
        "\n",
        "    # Optimize the model\n",
        "    optimizer.zero_grad()\n",
        "    loss.backward()\n",
        "    for param in policy_net.parameters():\n",
        "        param.grad.data.clamp_(-1, 1)\n",
        "    optimizer.step()"
      ],
      "execution_count": null,
      "outputs": []
    },
    {
      "cell_type": "code",
      "metadata": {
        "id": "k4tX-KDmo2ND"
      },
      "source": [
        "num_episodes = 10000\n",
        "episode_durations = []\n",
        "steps_done = 0\n",
        "memory = ReplayMemory(2500)\n",
        "policy_net.train()\n",
        "target_net.eval()\n",
        "eps_to_actions = {}\n",
        "for i_episode in range(num_episodes):\n",
        "    episoe_states = []\n",
        "    eps_to_actions[i_episode] = []\n",
        "    #print(i_episode)\n",
        "    # Initialize the environment and state\n",
        "    env.reset()\n",
        "    #last_screen = get_screen().unsqueeze(0)\n",
        "    state = get_screen().unsqueeze(0)\n",
        "    # state = current_screen - last_screen\n",
        "    for t in count():\n",
        "        # Select and perform an action\n",
        "        action = select_action(state)\n",
        "        \n",
        "        eps_to_actions[i_episode].append(action)\n",
        "        _, reward, done, _ = env.step(action.item())\n",
        "        episoe_states.append((state, reward))\n",
        "        reward = torch.tensor([reward], device=device)\n",
        "\n",
        "#         # Observe new state\n",
        "#         last_screen = current_screen\n",
        "        next_state = get_screen().unsqueeze(0)\n",
        "\n",
        "        if not done:\n",
        "          pass\n",
        "            # diff = torch.sum(next_state - state).detach().cpu().numpy().item()\n",
        "            # if diff == 0:\n",
        "            #   reward = torch.tensor([-0.2], device=device)\n",
        "        else:\n",
        "            next_state = None\n",
        "            # #todo: remove\n",
        "            # break\n",
        "\n",
        "#         # Store the transition in memory\n",
        "        memory.push(state, action, next_state, reward)\n",
        "\n",
        "#         # Move to the next state\n",
        "        state = next_state\n",
        "\n",
        "#         # Perform one step of the optimization (on the policy network)\n",
        "        optimize_model()\n",
        "        if done:\n",
        "            episode_durations.append(t + 1)\n",
        "            #plot_durations()\n",
        "            break\n",
        "\n",
        "  # #todo: remove\n",
        "  #   break\n",
        "    # Update the target network, copying all weights and biases in DQN\n",
        "    if i_episode % TARGET_UPDATE == 0:\n",
        "        target_net.load_state_dict(policy_net.state_dict())\n",
        "        target_net.eval()\n",
        "\n",
        "print('Complete')\n",
        "# env.render()\n",
        "env.close()\n",
        "plt.ioff()\n",
        "plt.show()"
      ],
      "execution_count": null,
      "outputs": []
    },
    {
      "cell_type": "code",
      "metadata": {
        "id": "eH6MnfRSX54A"
      },
      "source": [
        "len(episoe_states)"
      ],
      "execution_count": null,
      "outputs": []
    },
    {
      "cell_type": "code",
      "metadata": {
        "id": "a7hyAIGM0AEB"
      },
      "source": [
        "env.max_steps = 500"
      ],
      "execution_count": null,
      "outputs": []
    },
    {
      "cell_type": "code",
      "metadata": {
        "id": "9hs9wuz4Rgu5"
      },
      "source": [
        " EPS_END + (EPS_START - EPS_END) * math.exp(-1. * steps_done / EPS_DECAY)"
      ],
      "execution_count": null,
      "outputs": []
    },
    {
      "cell_type": "code",
      "metadata": {
        "id": "pWXgVl2rYLGb"
      },
      "source": [
        "policy_net.eval()"
      ],
      "execution_count": null,
      "outputs": []
    },
    {
      "cell_type": "code",
      "metadata": {
        "id": "vLly-EyzJcbF"
      },
      "source": [
        "x  = policy_net(state)\n",
        "torch.argmax(x), x, target_net(state)"
      ],
      "execution_count": null,
      "outputs": []
    },
    {
      "cell_type": "code",
      "metadata": {
        "id": "tx5MaYZAuWrs"
      },
      "source": [
        "x = env.reset()"
      ],
      "execution_count": null,
      "outputs": []
    },
    {
      "cell_type": "code",
      "metadata": {
        "id": "NOl5Tinsw9PK"
      },
      "source": [
        "state = get_screen().unsqueeze(0)\n",
        "i2 = state.squeeze(0).squeeze(0) #.permute(1,2,0)\n",
        "plt.gray()\n",
        "plt.imshow(i2)\n",
        "plt.show()"
      ],
      "execution_count": null,
      "outputs": []
    },
    {
      "cell_type": "code",
      "metadata": {
        "id": "TOxpbN4lYp-8"
      },
      "source": [
        "action = select_action(state)\n",
        "_, reward, done, _ = env.step(action.item())\n",
        "action, reward"
      ],
      "execution_count": null,
      "outputs": []
    },
    {
      "cell_type": "code",
      "metadata": {
        "id": "jbCa03u6w-hR"
      },
      "source": [
        "next_state = get_screen()\n",
        "i2 = next_state.squeeze(0).squeeze(0) \n",
        "plt.gray()\n",
        "plt.imshow(i2)\n",
        "plt.show()\n",
        "state = next_state.unsqueeze(0)"
      ],
      "execution_count": null,
      "outputs": []
    },
    {
      "cell_type": "code",
      "metadata": {
        "id": "I1Z0PUBHxKJv"
      },
      "source": [
        ""
      ],
      "execution_count": null,
      "outputs": []
    },
    {
      "cell_type": "code",
      "metadata": {
        "id": "yW6UQ-_8xRRB"
      },
      "source": [
        "_, reward, done, _ = env.step(action.item())\n",
        "reward"
      ],
      "execution_count": null,
      "outputs": []
    },
    {
      "cell_type": "code",
      "metadata": {
        "id": "5LWCgKZnxmJM"
      },
      "source": [
        "x = policy_net(state)\n",
        "x, torch.argmax(x)"
      ],
      "execution_count": null,
      "outputs": []
    },
    {
      "cell_type": "code",
      "metadata": {
        "id": "71USqc_m62FS"
      },
      "source": [
        "i2 = next_state.squeeze(0).squeeze(0) #.permute(1,2,0)\n",
        "# plt.imshow(i2, cmap=plt.cm.gray)\n",
        "plt.gray()\n",
        "plt.imshow(i2)\n",
        "plt.show()\n",
        "state = next_state.unsqueeze(0)"
      ],
      "execution_count": null,
      "outputs": []
    },
    {
      "cell_type": "code",
      "metadata": {
        "id": "i_22pnY9xo3V"
      },
      "source": [
        "\n",
        "i2 = next_state.squeeze(0).permute(1,2,0)\n",
        "\n",
        "plt.imshow(i2.numpy())"
      ],
      "execution_count": null,
      "outputs": []
    },
    {
      "cell_type": "code",
      "metadata": {
        "id": "B7grAme7x5vc"
      },
      "source": [
        "state = next_state"
      ],
      "execution_count": null,
      "outputs": []
    },
    {
      "cell_type": "code",
      "metadata": {
        "id": "6LPZrpe8yFxA"
      },
      "source": [
        "# BATCH_SIZE = 128\n",
        "# GAMMA = 0.999\n",
        "# EPS_START = 0.9\n",
        "# EPS_END = 0.05\n",
        "# EPS_DECAY = 10\n",
        "# TARGET_UPDATE = 10\n",
        "# import math \n",
        "# steps_done =1\n",
        "# eps_threshold = EPS_END + (EPS_START - EPS_END) * math.exp(-1. * steps_done / EPS_DECAY)\n",
        "\n",
        "# eps_threshold"
      ],
      "execution_count": null,
      "outputs": []
    },
    {
      "cell_type": "code",
      "metadata": {
        "id": "MiwnDvm11CQo"
      },
      "source": [
        "(EPS_START - EPS_END) * math.exp(-1. * 0 / EPS_DECAY)"
      ],
      "execution_count": null,
      "outputs": []
    },
    {
      "cell_type": "code",
      "metadata": {
        "id": "QslnYK_Hyfq7"
      },
      "source": [
        "(EPS_START - EPS_END) * math.exp(-1. * steps_done / EPS_DECAY)"
      ],
      "execution_count": null,
      "outputs": []
    },
    {
      "cell_type": "code",
      "metadata": {
        "id": "qhSr1w1Q4MYk"
      },
      "source": [
        "eps_to_actions[3739][0:30]"
      ],
      "execution_count": null,
      "outputs": []
    },
    {
      "cell_type": "code",
      "metadata": {
        "id": "8K6miGIt5Wkb"
      },
      "source": [
        "eps_to_actions[0][0:20]"
      ],
      "execution_count": null,
      "outputs": []
    },
    {
      "cell_type": "code",
      "metadata": {
        "id": "5xUXlJ-J6Tiv"
      },
      "source": [
        "_, reward, done, _ = env.step(action.item())\n",
        "reward"
      ],
      "execution_count": null,
      "outputs": []
    },
    {
      "cell_type": "code",
      "metadata": {
        "id": "6EWCTuUe8mgH"
      },
      "source": [
        "torch.tensor([reward], device=device).detach().cpu().numpy().dtype"
      ],
      "execution_count": null,
      "outputs": []
    },
    {
      "cell_type": "code",
      "metadata": {
        "id": "RryY9rg68oUf"
      },
      "source": [
        ""
      ],
      "execution_count": null,
      "outputs": []
    }
  ]
}