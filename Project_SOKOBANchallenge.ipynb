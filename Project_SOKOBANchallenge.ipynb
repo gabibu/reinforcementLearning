{
  "nbformat": 4,
  "nbformat_minor": 0,
  "metadata": {
    "colab": {
      "name": "Project-SOKOBANchallenge.ipynb",
      "private_outputs": true,
      "provenance": [],
      "collapsed_sections": []
    },
    "kernelspec": {
      "display_name": "Python 3",
      "language": "python",
      "name": "python3"
    },
    "pycharm": {
      "stem_cell": {
        "cell_type": "raw",
        "metadata": {
          "collapsed": false
        },
        "source": []
      }
    },
    "accelerator": "GPU"
  },
  "cells": [
    {
      "cell_type": "markdown",
      "metadata": {
        "id": "5L88ZFOfGsYB"
      },
      "source": [
        "Based on https://ymd_h.gitlab.io/ymd_blog/posts/gym_on_google_colab_with_gnwrapper/"
      ]
    },
    {
      "cell_type": "markdown",
      "metadata": {
        "id": "1u9QVVsShC9X"
      },
      "source": [
        "## Setup"
      ]
    },
    {
      "cell_type": "code",
      "metadata": {
        "id": "cOs7qfBGZ-Rm"
      },
      "source": [
        "!sudo apt-get install -y xvfb ffmpeg x11-utils\n",
        "!pip install -q 'gym==0.10.11'\n",
        "!pip install -q 'imageio==2.4.0'\n",
        "!pip install -q PILLOW\n",
        "!pip install -q 'pyglet==1.3.2'\n",
        "!pip install -q pyvirtualdisplay\n",
        "!pip install -q tf-agents\n",
        "!pip install colabgymrender\n",
        "!pip install gym_sokoban\n",
        "!pip install gym\n",
        "!apt-get install python-opengl -y\n",
        "!apt-get install -y xvfb python-opengl > /dev/null 2>&1\n",
        "!pip install gym pyvirtualdisplay > /dev/null 2>&1\n",
        "!apt-get install python-opengl -y\n",
        "!apt install xvfb -y\n",
        "!pip install piglet"
      ],
      "execution_count": null,
      "outputs": []
    },
    {
      "cell_type": "code",
      "metadata": {
        "id": "KEHR2Ui-lo8O"
      },
      "source": [
        "\n",
        "import gym\n",
        "import gym_sokoban\n",
        "\n",
        "from pyvirtualdisplay import Display\n",
        "display = Display(visible=0, size=(1400, 900))\n",
        "display.start()\n",
        "\n",
        "from colabgymrender.recorder import Recorder\n",
        "from IPython import display as ipythondisplay\n",
        "from pyvirtualdisplay import Display\n",
        "Display().start()\n",
        "import matplotlib.pyplot as plt\n",
        "from IPython import display as ipythondisplay\n",
        "\n",
        "\n",
        "import gym\n",
        "import math\n",
        "import random\n",
        "import numpy as np\n",
        "import matplotlib\n",
        "import matplotlib.pyplot as plt\n",
        "from collections import namedtuple, deque\n",
        "from itertools import count\n",
        "from PIL import Image\n",
        "\n",
        "import torch\n",
        "import torch.nn as nn\n",
        "import torch.optim as optim\n",
        "import torch.nn.functional as F\n",
        "import torchvision.transforms as T"
      ],
      "execution_count": null,
      "outputs": []
    },
    {
      "cell_type": "code",
      "metadata": {
        "id": "DbOqA9qYNYBo"
      },
      "source": [
        "env = gym.make(\"PushAndPull-Sokoban-v2\")\n",
        "screen = env.render(mode='rgb_array')\n",
        "print(screen.shape)\n"
      ],
      "execution_count": null,
      "outputs": []
    },
    {
      "cell_type": "code",
      "metadata": {
        "id": "b-aVN4BGXmgs"
      },
      "source": [
        "plt.imshow(screen)\n",
        "# observation = env.reset()\n",
        "# ipythondisplay.clear_output(wait=True)\n",
        "# ipythondisplay.display(plt.gcf())"
      ],
      "execution_count": null,
      "outputs": []
    },
    {
      "cell_type": "code",
      "metadata": {
        "id": "EdYfjj-vNoX5"
      },
      "source": [
        "device = torch.device(\"cuda\" if torch.cuda.is_available() else \"cpu\")\n",
        "device"
      ],
      "execution_count": null,
      "outputs": []
    },
    {
      "cell_type": "code",
      "metadata": {
        "id": "cffjAnsrGGO9"
      },
      "source": [
        "# pd = Display()\n",
        "# pd.start()\n",
        "\n",
        "# directory = './video'\n",
        "# env = gym.wrappers.Monitor('PushAndPull-Sokoban-v2', \"recording\",force=True)\n",
        "# env.render(mode='human')\n",
        "# env.reset()\n",
        "# for _ in range(10):\n",
        "#     action = env.action_space.sample()\n",
        "#     #print(action)\n",
        "#     state, reward, done, info = env.step(action) \n",
        "#     screen = env.render(mode='rgb_array')\n",
        "#     plt.imshow(screen)\n",
        "#     ipythondisplay.clear_output(wait=True)\n",
        "#     ipythondisplay.display(plt.gcf())\n",
        "#     if done:\n",
        "#         env.reset()\n",
        "#         print('done')\n"
      ],
      "execution_count": null,
      "outputs": []
    },
    {
      "cell_type": "code",
      "metadata": {
        "id": "Aym7pOFYYZFX"
      },
      "source": [
        "from skimage import color\n",
        "# img = color.rgb2gray(screen)\n",
        "# plt.imshow(img)"
      ],
      "execution_count": null,
      "outputs": []
    },
    {
      "cell_type": "code",
      "metadata": {
        "id": "kloUZ8tHZdB7"
      },
      "source": [
        "plt.imshow(screen)"
      ],
      "execution_count": null,
      "outputs": []
    },
    {
      "cell_type": "code",
      "metadata": {
        "id": "p5lzKoZwb-QH"
      },
      "source": [
        "env = gym.make(\"PushAndPull-Sokoban-v2\")\n",
        "# screen = env.render(mode='rgb_array')\n",
        "# print(screen.shape)\n",
        "# plt.imshow(screen)\n",
        "# observation = env.reset()\n",
        "# ipythondisplay.clear_output(wait=True)\n",
        "# ipythondisplay.display(plt.gcf())\n",
        "# env = gym.make('PushAndPull-Sokoban-v2').unwrapped\n",
        "\n",
        "\n"
      ],
      "execution_count": null,
      "outputs": []
    },
    {
      "cell_type": "code",
      "metadata": {
        "id": "35CiY2RUbPSs"
      },
      "source": [
        "Transition = namedtuple('Transition',\n",
        "                        ('state', 'action', 'next_state', 'reward'))\n",
        "\n",
        "\n",
        "class ReplayMemory(object):\n",
        "\n",
        "    def __init__(self, capacity):\n",
        "        self.memory = deque([],maxlen=capacity)\n",
        "\n",
        "    def push(self, *args):\n",
        "        \"\"\"Save a transition\"\"\"\n",
        "        self.memory.append(Transition(*args))\n",
        "\n",
        "    def sample(self, batch_size):\n",
        "        return random.sample(self.memory, batch_size)\n",
        "\n",
        "    def __len__(self):\n",
        "        return len(self.memory)"
      ],
      "execution_count": null,
      "outputs": []
    },
    {
      "cell_type": "code",
      "metadata": {
        "id": "oN-_r-DJbTOb"
      },
      "source": [
        "class DQN(nn.Module):\n",
        "\n",
        "    def __init__(self, h, w, outputs):\n",
        "        super(DQN, self).__init__()\n",
        "        self.conv1 = nn.Conv2d(3, 16, kernel_size=5, stride=2)\n",
        "        self.bn1 = nn.BatchNorm2d(16)\n",
        "        self.conv2 = nn.Conv2d(16, 32, kernel_size=5, stride=2)\n",
        "        self.bn2 = nn.BatchNorm2d(32)\n",
        "        self.conv3 = nn.Conv2d(32, 32, kernel_size=5, stride=2)\n",
        "        self.bn3 = nn.BatchNorm2d(32)\n",
        "\n",
        "        # Number of Linear input connections depends on output of conv2d layers\n",
        "        # and therefore the input image size, so compute it.\n",
        "        def conv2d_size_out(size, kernel_size = 5, stride = 2):\n",
        "            return (size - (kernel_size - 1) - 1) // stride  + 1\n",
        "        convw = conv2d_size_out(conv2d_size_out(conv2d_size_out(w)))\n",
        "        convh = conv2d_size_out(conv2d_size_out(conv2d_size_out(h)))\n",
        "        linear_input_size = convw * convh * 32\n",
        "        self.head = nn.Linear(linear_input_size, outputs)\n",
        "\n",
        "    # Called with either one element to determine next action, or a batch\n",
        "    # during optimization. Returns tensor([[left0exp,right0exp]...]).\n",
        "    def forward(self, x):\n",
        "        x = x.to(device)\n",
        "        x = F.relu(self.bn1(self.conv1(x)))\n",
        "        x = F.relu(self.bn2(self.conv2(x)))\n",
        "        x = F.relu(self.bn3(self.conv3(x)))\n",
        "        return self.head(x.view(x.size(0), -1))"
      ],
      "execution_count": null,
      "outputs": []
    },
    {
      "cell_type": "code",
      "metadata": {
        "id": "5g2E6ea0bZqa"
      },
      "source": [
        "resize = T.Compose([\n",
        "                    T.ToPILImage(),\n",
        "                    T.Grayscale(num_output_channels=1),\n",
        "                    T.Resize(80, interpolation=Image.CUBIC),\n",
        "                    T.ToTensor()])\n",
        "\n",
        "\n",
        "\n",
        "def get_screen():\n",
        "    screen = env.render(mode='rgb_array')#.transpose((2, 0, 1))\n",
        "    #screen = color.rgb2gray(screen)\n",
        "    return resize(screen)\n",
        "    \n",
        "\n",
        "\n",
        "plt.gray()\n",
        "plt.imshow(get_screen().cpu().squeeze(0).numpy())\n",
        "plt.show()\n",
        "\n",
        "\n",
        "# env.reset()\n",
        "# plt.figure()\n",
        "# plt.imshow(get_screen().cpu().squeeze(0).permute(1, 2, 0).numpy(),\n",
        "#            interpolation='none')\n",
        "# plt.title('Example extracted screen')\n",
        "# plt.show()"
      ],
      "execution_count": null,
      "outputs": []
    },
    {
      "cell_type": "code",
      "metadata": {
        "id": "dSVV6fr1feIt"
      },
      "source": [
        "plt.figure()\n",
        "ii = get_screen().squeeze(0)\n",
        "ii.shape\n",
        "# plt.imshow(ii.permute(1, 2, 0).numpy(),interpolation='none')"
      ],
      "execution_count": null,
      "outputs": []
    },
    {
      "cell_type": "code",
      "metadata": {
        "id": "oCRTUzLZhJ3f"
      },
      "source": [
        "plt.gray()\n",
        "plt.imshow(ii.squeeze(0).numpy())\n",
        "plt.show()\n"
      ],
      "execution_count": null,
      "outputs": []
    }
  ]
}