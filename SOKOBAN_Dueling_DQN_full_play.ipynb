{
  "nbformat": 4,
  "nbformat_minor": 0,
  "metadata": {
    "colab": {
      "name": "Project-SOKOBANchallenge.ipynb",
      "private_outputs": true,
      "provenance": [],
      "collapsed_sections": []
    },
    "kernelspec": {
      "display_name": "Python 3",
      "language": "python",
      "name": "python3"
    },
    "pycharm": {
      "stem_cell": {
        "cell_type": "raw",
        "metadata": {
          "collapsed": false
        },
        "source": []
      }
    },
    "accelerator": "GPU"
  },
  "cells": [
    {
      "cell_type": "markdown",
      "metadata": {
        "id": "1u9QVVsShC9X"
      },
      "source": [
        "## Setup"
      ]
    },
    {
      "cell_type": "code",
      "metadata": {
        "id": "cOs7qfBGZ-Rm"
      },
      "source": [
        "!sudo apt-get install -y xvfb ffmpeg x11-utils\n",
        "!pip install -q 'gym==0.10.11'\n",
        "!pip install -q 'imageio==2.4.0'\n",
        "!pip install -q PILLOW\n",
        "!pip install -q 'pyglet==1.3.2'\n",
        "!pip install -q pyvirtualdisplay\n",
        "!pip install -q tf-agents\n",
        "!pip install colabgymrender\n",
        "!pip install gym_sokoban\n",
        "!pip install gym\n",
        "!apt-get install python-opengl -y\n",
        "!apt-get install -y xvfb python-opengl > /dev/null 2>&1\n",
        "!pip install gym pyvirtualdisplay > /dev/null 2>&1\n",
        "!apt-get install python-opengl -y\n",
        "!apt install xvfb -y\n",
        "!pip install piglet"
      ],
      "execution_count": null,
      "outputs": []
    },
    {
      "cell_type": "code",
      "metadata": {
        "id": "KEHR2Ui-lo8O"
      },
      "source": [
        "import gym\n",
        "import gym_sokoban\n",
        "\n",
        "from pyvirtualdisplay import Display\n",
        "display = Display(visible=0, size=(1400, 900))\n",
        "display.start()\n",
        "\n",
        "from colabgymrender.recorder import Recorder\n",
        "from IPython import display as ipythondisplay\n",
        "from pyvirtualdisplay import Display\n",
        "Display().start()\n",
        "import matplotlib.pyplot as plt\n",
        "from IPython import display as ipythondisplay\n",
        "\n",
        "\n",
        "import gym\n",
        "import math\n",
        "import random\n",
        "import numpy as np\n",
        "import matplotlib\n",
        "import matplotlib.pyplot as plt\n",
        "from collections import namedtuple, deque\n",
        "from itertools import count\n",
        "from PIL import Image\n",
        "\n",
        "import torch\n",
        "import torch.nn as nn\n",
        "import torch.optim as optim\n",
        "import torch.nn.functional as F\n",
        "import torchvision.transforms as T\n",
        "\n",
        "\n",
        "is_ipython = 'inline' in matplotlib.get_backend()\n",
        "if is_ipython:\n",
        "    from IPython import display\n",
        "\n",
        "plt.ion()"
      ],
      "execution_count": null,
      "outputs": []
    },
    {
      "cell_type": "code",
      "metadata": {
        "id": "DbOqA9qYNYBo"
      },
      "source": [
        "env = gym.make(\"PushAndPull-Sokoban-v2\")\n",
        "env.max_steps =  200 \n",
        "screen = env.render(mode='rgb_array')\n",
        "print(screen.shape)"
      ],
      "execution_count": null,
      "outputs": []
    },
    {
      "cell_type": "code",
      "metadata": {
        "id": "b-aVN4BGXmgs"
      },
      "source": [
        "plt.imshow(screen)"
      ],
      "execution_count": null,
      "outputs": []
    },
    {
      "cell_type": "code",
      "metadata": {
        "id": "EdYfjj-vNoX5"
      },
      "source": [
        "device = torch.device(\"cuda\" if torch.cuda.is_available() else \"cpu\")\n",
        "device"
      ],
      "execution_count": null,
      "outputs": []
    },
    {
      "cell_type": "code",
      "metadata": {
        "id": "35CiY2RUbPSs"
      },
      "source": [
        "Transition = namedtuple('Transition',\n",
        "                        ('state', 'action', 'next_state', 'reward', 'expected_reward'))\n",
        "\n",
        "\n",
        "class ReplayMemory(object):\n",
        "\n",
        "    def __init__(self, capacity):\n",
        "        self.memory = deque([],maxlen=capacity)\n",
        "\n",
        "    def push(self, *args):\n",
        "        \"\"\"Save a transition\"\"\"\n",
        "        self.memory.append(Transition(*args))\n",
        "\n",
        "    def sample(self, batch_size):\n",
        "        return random.sample(self.memory, batch_size)\n",
        "    \n",
        "    def priority_sample(self, batch_size):\n",
        "      diffs = np.array([np.power(np.absolute(x.reward.item() - x.expected_reward), 0.66)  for x in self.memory])\n",
        "      s1 = np.sum(diffs)\n",
        "      probs = diffs/s1\n",
        "\n",
        "      inds = np.random.choice(len(self.memory), batch_size, replace=False)\n",
        "\n",
        "      return [self.memory[i] for i in inds]\n",
        "\n",
        "\n",
        "\n",
        "\n",
        "    def __len__(self):\n",
        "        return len(self.memory)"
      ],
      "execution_count": null,
      "outputs": []
    },
    {
      "cell_type": "code",
      "metadata": {
        "id": "oN-_r-DJbTOb"
      },
      "source": [
        "# class DQN(nn.Module):\n",
        "\n",
        "#     def __init__(self, h, w, outputs):\n",
        "#         super(DQN, self).__init__()\n",
        "      \n",
        "\n",
        "#         self.conv1 = nn.Conv2d(1, 32, kernel_size=8, stride=4)\n",
        "#         #self.bn1 = nn.BatchNorm2d(16)\n",
        "#         self.conv2 = nn.Conv2d(32, 64, kernel_size=4, stride=2)\n",
        "#         #self.bn2 = nn.BatchNorm2d(32)\n",
        "#         self.conv3 = nn.Conv2d(64, 64, kernel_size=3, stride=1)\n",
        "#         #self.bn3 = nn.BatchNorm2d(32)\n",
        "\n",
        "#         self.pooling = nn.MaxPool2d(3, stride=2)\n",
        "\n",
        "#         # Number of Linear input connections depends on output of conv2d layers\n",
        "#         # and therefore the input image size, so compute it.\n",
        "#         def conv2d_size_out(size, kernel_size = 5, stride = 2):\n",
        "#             return (size - (kernel_size - 1) - 1) // stride  + 1\n",
        "\n",
        "#         convw = conv2d_size_out(conv2d_size_out(conv2d_size_out(w)))\n",
        "#         convh = conv2d_size_out(conv2d_size_out(conv2d_size_out(h)))\n",
        "#         linear_input_size = convw * convh * 32\n",
        "\n",
        "#         self.pre_adventage = nn.Linear(6400, 512)\n",
        "#         self.adventage = nn.Linear(512, outputs)\n",
        "\n",
        "#         self.pre_val = nn.Linear(6400, 512)\n",
        "#         self.val = nn.Linear(512, 1)\n",
        " \n",
        "#     # Called with either one element to determine next action, or a batch\n",
        "#     # during optimization. Returns tensor([[left0exp,right0exp]...]).\n",
        "#     def forward(self, x):\n",
        "#         x = x.to(device)\n",
        "#         # x = F.relu(self.bn1(self.conv1(x)))\n",
        "#         # x = F.relu(self.bn2(self.conv2(x)))\n",
        "#         # x = F.relu(self.bn3(self.conv3(x)))\n",
        "#         x = F.relu(self.conv1(x))\n",
        "#         x = F.relu(self.conv2(x))\n",
        "#         x = F.relu(self.conv3(x))\n",
        "#         x = x.view(x.size(0), -1)\n",
        "\n",
        "\n",
        "       \n",
        "\n",
        "#         value = F.relu(self.pre_val(x))\n",
        "#         value =  self.val(value)\n",
        "\n",
        "#         adv = F.relu(self.pre_adventage(x))\n",
        "\n",
        "#         adv =  self.adventage(adv)\n",
        "\n",
        "#         return value + adv - adv.mean()\n",
        "  \n",
        "#     def init_weights(self):\n",
        "#       torch.nn.init.xavier_uniform(self.conv1.weight)\n",
        "#       torch.nn.init.xavier_uniform(self.conv2.weight)\n",
        "#       torch.nn.init.xavier_uniform(self.conv3.weight)\n",
        "#       torch.nn.init.xavier_uniform(self.adventage.weight)\n",
        "#       torch.nn.init.xavier_uniform(self.val.weight)\n",
        "#       torch.nn.init.xavier_uniform(self.pre_adventage.weight)\n",
        "#       torch.nn.init.xavier_uniform(self.pre_val.weight)\n",
        "\n",
        "\n",
        "class DQN(nn.Module):\n",
        "    def __init__(self, outputs):\n",
        "        super().__init__()\n",
        "\n",
        "        self.conv1 = nn.Conv2d(1, 6, 5)\n",
        "        self.pool1 = nn.MaxPool2d(2, 2)\n",
        "        self.pool2 = nn.MaxPool2d(2, 2)\n",
        "        self.conv2 = nn.Conv2d(6, 16, 5)\n",
        "\n",
        "        self.pre_adv = nn.Linear(10000, 512)\n",
        "        self.adv = nn.Linear(512, outputs)\n",
        "\n",
        "        self.pre_val = nn.Linear(10000, 512)\n",
        "        self.val = nn.Linear(512, 1)\n",
        "        \n",
        "\n",
        "    def forward(self, x):\n",
        "        x = x.to(device)\n",
        "        x = self.pool1(F.leaky_relu(self.conv1(x)))\n",
        "\n",
        "        \n",
        "        x = self.pool2(F.leaky_relu(self.conv2(x)))\n",
        "        x = torch.flatten(x, 1) # flatten all dimensions except batch\n",
        "\n",
        "        adv = F.leaky_relu(self.pre_adv(x))\n",
        "        adv = self.adv(adv)\n",
        "\n",
        "        value = F.leaky_relu(self.pre_val(x))\n",
        "        value = self.val(value)\n",
        "        \n",
        "        \n",
        "        return value + adv - adv.mean()\n",
        "\n",
        "    \n",
        "    def init_weights(self):\n",
        "      torch.nn.init.xavier_uniform(self.conv1.weight)\n",
        "      torch.nn.init.xavier_uniform(self.conv2.weight)\n",
        "      \n",
        "      torch.nn.init.xavier_uniform(self.pre_adv.weight)\n",
        "      torch.nn.init.xavier_uniform(self.adv.weight)\n",
        "\n",
        "      torch.nn.init.xavier_uniform(self.pre_val.weight)\n",
        "      torch.nn.init.xavier_uniform(self.val.weight)\n",
        "\n",
        "      return self\n"
      ],
      "execution_count": null,
      "outputs": []
    },
    {
      "cell_type": "code",
      "metadata": {
        "id": "QD9JHXWNXNi1"
      },
      "source": [
        "# m1 = nn.MaxPool2d(3, stride=2)\n",
        "# m2 = nn.MaxPool2d(3, stride=2)\n",
        "# state = get_screen().unsqueeze(0)\n",
        "# conv1 = nn.Conv2d(1, 32, kernel_size=8, stride=4)\n",
        "# conv2 = nn.Conv2d(32, 64, kernel_size=4, stride=2)\n",
        "# conv3 = nn.Conv2d(64, 64, kernel_size=3, stride=1)\n",
        "\n",
        "# i = conv1(state)\n",
        "# x1 = i.shape\n",
        "\n",
        "# i = m1(i)\n",
        "# x2=i.shape\n",
        "# i = conv2(i)\n",
        "# i = m2(i)\n",
        "\n",
        "# i.shape\n",
        "\n",
        "# x = DQN(13)\n",
        "# x = x.init_weights().to(device)\n",
        "\n",
        "\n"
      ],
      "execution_count": null,
      "outputs": []
    },
    {
      "cell_type": "code",
      "metadata": {
        "id": "5g2E6ea0bZqa"
      },
      "source": [
        "resize = T.Compose([\n",
        "                    T.ToPILImage(),\n",
        "                    T.Grayscale(num_output_channels=1),\n",
        "                    #T.Resize(80, interpolation=Image.CUBIC),\n",
        "                    T.ToTensor()])\n",
        "\n",
        "#resize = T.Compose([T.ToTensor()])\n",
        "\n",
        "\n",
        "def get_screen():\n",
        "    screen = env.render(mode='rgb_array')\n",
        "    #return screen\n",
        "    return resize(screen)\n",
        "\n",
        "\n",
        "    "
      ],
      "execution_count": null,
      "outputs": []
    },
    {
      "cell_type": "code",
      "metadata": {
        "id": "6-Jsu3hTX0Su"
      },
      "source": [
        "BATCH_SIZE = 128\n",
        "GAMMA = 0.9\n",
        "EPS_START = 1.0\n",
        "EPS_END = 0.1\n",
        "EPS_DECAY = 60000\n",
        "TARGET_UPDATE = 10"
      ],
      "execution_count": null,
      "outputs": []
    },
    {
      "cell_type": "code",
      "metadata": {
        "id": "rUc-gABhkwNu"
      },
      "source": [
        "\n",
        "\n",
        "# Get screen size so that we can initialize layers correctly based on shape\n",
        "# returned from AI gym. Typical dimensions at this point are close to 3x40x90\n",
        "# which is the result of a clamped and down-scaled render buffer in get_screen()\n",
        "init_screen = get_screen()\n",
        "\n",
        "_, screen_height, screen_width = init_screen.shape\n",
        "\n",
        "# Get number of actions from gym action space\n",
        "n_actions = env.action_space.n\n",
        "\n",
        "policy_net = DQN(n_actions)\n",
        "policy_net.init_weights()\n",
        "policy_net.to(device)\n",
        "\n",
        "target_net = DQN(n_actions).to(device)\n",
        "target_net.load_state_dict(policy_net.state_dict())\n",
        "target_net.eval()\n",
        "\n",
        "optimizer = optim.RMSprop(policy_net.parameters(), lr=0.001)\n",
        "criterion = nn.SmoothL1Loss() #nn.SmoothL1Loss(reduction='mean', beta=0.3) #beta=0.1\n",
        "\n",
        "# screen_height, screen_width"
      ],
      "execution_count": null,
      "outputs": []
    },
    {
      "cell_type": "code",
      "metadata": {
        "id": "7UZDLE0tlwW_"
      },
      "source": [
        "def select_action(state, deterministic = False):\n",
        "    global steps_done\n",
        "    steps_done += 1\n",
        "\n",
        "    # sample = random.random()\n",
        "    # eps_threshold = EPS_END + (EPS_START - EPS_END) * \\\n",
        "    #     math.exp(-1. * steps_done / EPS_DECAY)\n",
        "    \n",
        "    # if sample > eps_threshold:\n",
        "    #     with torch.no_grad():\n",
        "    #         # t.max(1) will return largest column value of each row.\n",
        "    #         # second column on max result is index of where max element was\n",
        "    #         # found, so we pick action with the larger expected reward.\n",
        "    #         return policy_net(state).max(1)[1].view(1, 1)\n",
        "    # else:\n",
        "    #     return torch.tensor([[random.randrange(n_actions)]], device=device, dtype=torch.long)\n",
        "\n",
        "    with torch.no_grad():\n",
        "      xxx = policy_net(state).cpu().detach().numpy().flatten()\n",
        "     \n",
        "\n",
        "      \n",
        "      if deterministic:\n",
        "        return xxx.max(1)[1].view(1, 1)\n",
        "      else:\n",
        "        m = xxx.min()\n",
        "        vals = xxx - m + 0.0001 if m < 0 else xxx + 0.0001\n",
        "\n",
        "        s  = np.sum(vals)\n",
        "        ps = vals/s\n",
        "        val = np.random.choice(n_actions, p = ps)\n",
        "        return torch.tensor([[val]], device=device, dtype=torch.long), xxx[val]\n"
      ],
      "execution_count": null,
      "outputs": []
    },
    {
      "cell_type": "code",
      "metadata": {
        "id": "BJu43wD5ox-F"
      },
      "source": [
        "def optimize_model():\n",
        "    if len(memory) < BATCH_SIZE:\n",
        "        return\n",
        "    #transitions = memory.sample(BATCH_SIZE)\n",
        "\n",
        "    transitions = memory.priority_sample(BATCH_SIZE)\n",
        "\n",
        "    batch = Transition(*zip(*transitions))\n",
        "\n",
        "    # Compute a mask of non-final states and concatenate the batch elements\n",
        "    # (a final state would've been the one after which simulation ended)\n",
        "    non_final_mask = torch.tensor(tuple(map(lambda s: s is not None,\n",
        "                                          batch.next_state)), device=device, dtype=torch.bool)\n",
        "    non_final_next_states = torch.cat([s for s in batch.next_state\n",
        "                                                if s is not None])\n",
        "    state_batch = torch.cat(batch.state)\n",
        "    action_batch = torch.cat(batch.action)\n",
        "    reward_batch = torch.cat(batch.reward)\n",
        "\n",
        "    # Compute Q(s_t, a) - the model computes Q(s_t), then we select the\n",
        "    # columns of actions taken. These are the actions which would've been taken\n",
        "    # for each batch state according to policy_net\n",
        "    state_action_values = policy_net(state_batch).gather(1, action_batch)\n",
        "\n",
        "    # Compute V(s_{t+1}) for all next states.\n",
        "    # Expected values of actions for non_final_next_states are computed based\n",
        "    # on the \"older\" target_net; selecting their best reward with max(1)[0].\n",
        "    # This is merged based on the mask, such that we'll have either the expected\n",
        "    # state value or 0 in case the state was final.\n",
        "    # next_state_values = torch.zeros(BATCH_SIZE, device=device)\n",
        "    # next_state_values[non_final_mask] = target_net(non_final_next_states).max(1)[0].detach()\n",
        "    # # Compute the expected Q values\n",
        "    expected_state_action_values = reward_batch #(next_state_values * GAMMA) + reward_batch\n",
        "\n",
        "    # Compute Huber loss\n",
        "    \n",
        "    loss = criterion(state_action_values, expected_state_action_values.unsqueeze(1))\n",
        "    #print(state_action_values - expected_state_action_values.unsqueeze(1))\n",
        "    \n",
        "\n",
        "    # Optimize the model\n",
        "    optimizer.zero_grad()\n",
        "    loss.backward()\n",
        "    for param in policy_net.parameters():\n",
        "        param.grad.data.clamp_(-1, 1)\n",
        "    optimizer.step()"
      ],
      "execution_count": null,
      "outputs": []
    },
    {
      "cell_type": "code",
      "metadata": {
        "id": "zkiUiikI8jve"
      },
      "source": [
        "env.max_steps"
      ],
      "execution_count": null,
      "outputs": []
    },
    {
      "cell_type": "code",
      "metadata": {
        "id": "tHZH3s3YKDbV"
      },
      "source": [
        "# l = [-0.1, -0.1,-0.1,-0.1,-0.1,-0.1,-0.1,-0.1,-0.1,-0.1]\n",
        "\n",
        "# np.sum([ x * np.power(0.8, i) for (i, x ) in  enumerate(l)])\n",
        "\n",
        "# [(x.reward, x.expected_reward) for x in memory.priority_sample(3)]"
      ],
      "execution_count": null,
      "outputs": []
    },
    {
      "cell_type": "code",
      "metadata": {
        "id": "k4tX-KDmo2ND"
      },
      "source": [
        "num_episodes = 10000\n",
        "episode_durations = []\n",
        "steps_done = 0\n",
        "memory = ReplayMemory(2500)\n",
        "policy_net.train()\n",
        "target_net.eval()\n",
        "sarsa_k = 1\n",
        "window = 10\n",
        "\n",
        "for i_episode in range(num_episodes):\n",
        "    \n",
        "    if i_episode % 50 == 0:\n",
        "      print(i_episode)\n",
        "\n",
        "    env.reset()\n",
        "    state = get_screen().unsqueeze(0)\n",
        "\n",
        "    \n",
        "    temp_rewards = []\n",
        "    temp_mempry =[]\n",
        "    for t in count():\n",
        "        action, expected_reward = select_action(state)\n",
        "        _, reward, done, _ = env.step(action.item())\n",
        "        \n",
        "        next_state = get_screen().unsqueeze(0)\n",
        "\n",
        "        if done:\n",
        "          next_state = None\n",
        "        temp_mempry.append((state, action, next_state, expected_reward))\n",
        "        temp_rewards.append(reward)\n",
        "\n",
        "        \n",
        "        if done:\n",
        "\n",
        "          for (index, data) in enumerate(temp_mempry):\n",
        "            state, action, next_state, expected_reward = data \n",
        "            full_rewards = temp_rewards[index: index + window]\n",
        "\n",
        "            if t == env.max_steps - 1:\n",
        "              if len(full_rewards) < window:\n",
        "                # print(index)\n",
        "                continue\n",
        "            # else:\n",
        "            #   print('well {}'.format(t))\n",
        "\n",
        "            reward = np.sum([ x * np.power(0.8, i) for (i, x ) in  enumerate(full_rewards)])\n",
        "            reward = torch.tensor([reward], device=device).float()\n",
        "            memory.push(state, action, next_state, reward, expected_reward)\n",
        "\n",
        "\n",
        "        state = next_state\n",
        "\n",
        "        if steps_done % BATCH_SIZE == 0:\n",
        "          optimize_model()\n",
        "        if done:\n",
        "            episode_durations.append(t + 1)\n",
        "            #plot_durations()\n",
        "            break\n",
        "\n",
        "    if i_episode % TARGET_UPDATE == 0:\n",
        "        target_net.load_state_dict(policy_net.state_dict())\n",
        "        target_net.eval()\n",
        "\n",
        "print('Complete')\n",
        "# env.render()\n",
        "env.close()\n",
        "plt.ioff()\n",
        "plt.show()"
      ],
      "execution_count": null,
      "outputs": []
    },
    {
      "cell_type": "code",
      "metadata": {
        "id": "jBCl9s91CFKR"
      },
      "source": [
        "import pandas as pd \n",
        "durarion_counter = {}\n",
        "\n",
        "# for duration in episode_durations:\n",
        "#   if duration not in durarion_counter:\n",
        "#     durarion_counter[duration] = 0\n",
        "  \n",
        "#   durarion_counter[duration] += 1\n",
        "\n",
        "\n",
        "# durations_df = pd.DataFrame([(duration, counter) for (duration, counter) in durarion_counter.items()], columns =[\"duration\", \"counter\"])\n",
        "\n",
        "durations_df = pd.DataFrame([(iteration, duration) for (iteration, duration) in enumerate(episode_durations)], columns =[\"iteration\", \"duration\"])\n",
        "\n",
        "import seaborn as sns\n",
        "sns.set_theme(style=\"whitegrid\")\n",
        "# ax = sns.barplot(x=\"duration\", y=\"counter\", data=durations_df)\n",
        "\n",
        "sns.scatterplot(data=durations_df, x=\"iteration\", y=\"duration\")\n"
      ],
      "execution_count": null,
      "outputs": []
    },
    {
      "cell_type": "code",
      "metadata": {
        "id": "PZtJ5miaCDlq"
      },
      "source": [
        "len(episode_durations)"
      ],
      "execution_count": null,
      "outputs": []
    },
    {
      "cell_type": "code",
      "metadata": {
        "id": "eH6MnfRSX54A"
      },
      "source": [
        "episode_durations[-50:]"
      ],
      "execution_count": null,
      "outputs": []
    },
    {
      "cell_type": "code",
      "metadata": {
        "id": "LTWx7YG4z8lS"
      },
      "source": [
        "np.bincount(episode_durations, minlength=2)"
      ],
      "execution_count": null,
      "outputs": []
    },
    {
      "cell_type": "code",
      "metadata": {
        "id": "5f4F4N3UQotd"
      },
      "source": [
        ""
      ],
      "execution_count": null,
      "outputs": []
    },
    {
      "cell_type": "code",
      "metadata": {
        "id": "a7hyAIGM0AEB"
      },
      "source": [
        "env.max_steps"
      ],
      "execution_count": null,
      "outputs": []
    },
    {
      "cell_type": "code",
      "metadata": {
        "id": "9hs9wuz4Rgu5"
      },
      "source": [
        " EPS_END + (EPS_START - EPS_END) * math.exp(-1. * steps_done / EPS_DECAY)"
      ],
      "execution_count": null,
      "outputs": []
    },
    {
      "cell_type": "code",
      "metadata": {
        "id": "pWXgVl2rYLGb"
      },
      "source": [
        "policy_net.eval()"
      ],
      "execution_count": null,
      "outputs": []
    },
    {
      "cell_type": "code",
      "metadata": {
        "id": "vLly-EyzJcbF"
      },
      "source": [
        "x  = policy_net(state)\n",
        "# torch.argmax(x), x, target_net(state)\n",
        "\n",
        "with torch.no_grad():\n",
        "  xxx = policy_net(state).cpu().detach().numpy().flatten()\n",
        "  m = xxx.min()\n",
        "  vals = xxx - m + 0.0001\n",
        "\n",
        "  s = np.sum(vals)\n",
        "  ps = vals/s\n",
        "\n",
        "np.max(ps), np.argmax(ps), ps"
      ],
      "execution_count": null,
      "outputs": []
    },
    {
      "cell_type": "code",
      "metadata": {
        "id": "tx5MaYZAuWrs"
      },
      "source": [
        "\n",
        "x = env.reset()"
      ],
      "execution_count": null,
      "outputs": []
    },
    {
      "cell_type": "code",
      "metadata": {
        "id": "H7q9THghMsFT"
      },
      "source": [
        "# p1, reward, done, p2 = env.step(action.item())\n",
        "p2, done"
      ],
      "execution_count": null,
      "outputs": []
    },
    {
      "cell_type": "code",
      "metadata": {
        "id": "NOl5Tinsw9PK"
      },
      "source": [
        "state = get_screen().unsqueeze(0)\n",
        "i2 = state.squeeze(0).squeeze(0)\n",
        "plt.gray()\n",
        "plt.imshow(i2)\n",
        "# plt.show()\n",
        "# plt.imshow(i2)\n",
        "# i2.shape"
      ],
      "execution_count": null,
      "outputs": []
    },
    {
      "cell_type": "code",
      "metadata": {
        "id": "5-ZCpOp2y7aP"
      },
      "source": [
        "# _, reward, done, _ = env.step(4)\n",
        "# reward, done"
      ],
      "execution_count": null,
      "outputs": []
    },
    {
      "cell_type": "code",
      "metadata": {
        "id": "TOxpbN4lYp-8"
      },
      "source": [
        "action = select_action(state)\n",
        "_, reward, done, _ = env.step(action.item())\n",
        "action.item(), reward"
      ],
      "execution_count": null,
      "outputs": []
    },
    {
      "cell_type": "code",
      "metadata": {
        "id": "jbCa03u6w-hR"
      },
      "source": [
        "next_state = get_screen()\n",
        "i2 = state.squeeze(0).squeeze(0)\n",
        "#plt.gray()\n",
        "# plt.imshow(i2)\n",
        "# plt.show()\n",
        "plt.imshow(i2)\n",
        "state = next_state.unsqueeze(0)"
      ],
      "execution_count": null,
      "outputs": []
    },
    {
      "cell_type": "code",
      "metadata": {
        "id": "I1Z0PUBHxKJv"
      },
      "source": [
        ""
      ],
      "execution_count": null,
      "outputs": []
    },
    {
      "cell_type": "code",
      "metadata": {
        "id": "yW6UQ-_8xRRB"
      },
      "source": [
        "_, reward, done, _ = env.step(action.item())\n",
        "reward"
      ],
      "execution_count": null,
      "outputs": []
    },
    {
      "cell_type": "code",
      "metadata": {
        "id": "5LWCgKZnxmJM"
      },
      "source": [
        "x = policy_net(state)\n",
        "x, torch.argmax(x)"
      ],
      "execution_count": null,
      "outputs": []
    },
    {
      "cell_type": "code",
      "metadata": {
        "id": "80YZGveAqGPB"
      },
      "source": [
        "x = policy_net(state)\n",
        "xxx = x.cpu().detach().numpy().flatten()\n",
        "m = xxx.min()\n",
        "\n",
        "vals = xxx - m + 0.0001\n",
        "\n",
        "s = np.sum(vals)\n",
        "ps = vals/s\n",
        "\n",
        "\n",
        "np.random.choice(n_actions, p = ps), np.max(ps), ps"
      ],
      "execution_count": null,
      "outputs": []
    },
    {
      "cell_type": "code",
      "metadata": {
        "id": "71USqc_m62FS"
      },
      "source": [
        "i2 = next_state.squeeze(0).squeeze(0) #.permute(1,2,0)\n",
        "# plt.imshow(i2, cmap=plt.cm.gray)\n",
        "plt.gray()\n",
        "plt.imshow(i2)\n",
        "plt.show()\n",
        "state = next_state.unsqueeze(0)"
      ],
      "execution_count": null,
      "outputs": []
    },
    {
      "cell_type": "code",
      "metadata": {
        "id": "i_22pnY9xo3V"
      },
      "source": [
        "\n",
        "i2 = next_state.squeeze(0).permute(1,2,0)\n",
        "\n",
        "plt.imshow(i2.numpy())"
      ],
      "execution_count": null,
      "outputs": []
    },
    {
      "cell_type": "code",
      "metadata": {
        "id": "B7grAme7x5vc"
      },
      "source": [
        "state = next_state"
      ],
      "execution_count": null,
      "outputs": []
    },
    {
      "cell_type": "code",
      "metadata": {
        "id": "6LPZrpe8yFxA"
      },
      "source": [
        "# BATCH_SIZE = 128\n",
        "# GAMMA = 0.999\n",
        "# EPS_START = 0.9\n",
        "# EPS_END = 0.05\n",
        "# EPS_DECAY = 10\n",
        "# TARGET_UPDATE = 10\n",
        "# import math \n",
        "# steps_done =1\n",
        "# eps_threshold = EPS_END + (EPS_START - EPS_END) * math.exp(-1. * steps_done / EPS_DECAY)\n",
        "\n",
        "# eps_threshold"
      ],
      "execution_count": null,
      "outputs": []
    },
    {
      "cell_type": "code",
      "metadata": {
        "id": "MiwnDvm11CQo"
      },
      "source": [
        "(EPS_START - EPS_END) * math.exp(-1. * 0 / EPS_DECAY)"
      ],
      "execution_count": null,
      "outputs": []
    },
    {
      "cell_type": "code",
      "metadata": {
        "id": "QslnYK_Hyfq7"
      },
      "source": [
        "(EPS_START - EPS_END) * math.exp(-1. * steps_done / EPS_DECAY)"
      ],
      "execution_count": null,
      "outputs": []
    },
    {
      "cell_type": "code",
      "metadata": {
        "id": "qhSr1w1Q4MYk"
      },
      "source": [
        "eps_to_actions[3739][0:30]"
      ],
      "execution_count": null,
      "outputs": []
    },
    {
      "cell_type": "code",
      "metadata": {
        "id": "8K6miGIt5Wkb"
      },
      "source": [
        "eps_to_actions[0][0:20]"
      ],
      "execution_count": null,
      "outputs": []
    },
    {
      "cell_type": "code",
      "metadata": {
        "id": "5xUXlJ-J6Tiv"
      },
      "source": [
        "_, reward, done, _ = env.step(action.item())\n",
        "reward"
      ],
      "execution_count": null,
      "outputs": []
    },
    {
      "cell_type": "code",
      "metadata": {
        "id": "6EWCTuUe8mgH"
      },
      "source": [
        "torch.tensor([reward], device=device).detach().cpu().numpy().dtype"
      ],
      "execution_count": null,
      "outputs": []
    },
    {
      "cell_type": "code",
      "metadata": {
        "id": "RryY9rg68oUf"
      },
      "source": [
        ""
      ],
      "execution_count": null,
      "outputs": []
    }
  ]
}