{
  "nbformat": 4,
  "nbformat_minor": 0,
  "metadata": {
    "colab": {
      "name": "actor_critic.ipynb",
      "provenance": []
    },
    "kernelspec": {
      "name": "python3",
      "display_name": "Python 3"
    },
    "language_info": {
      "name": "python"
    },
    "accelerator": "GPU"
  },
  "cells": [
    {
      "cell_type": "code",
      "metadata": {
        "colab": {
          "base_uri": "https://localhost:8080/"
        },
        "id": "cfuLYnwaSRVA",
        "outputId": "feb6925a-df4b-4799-9c18-7abe0b5231c8"
      },
      "source": [
        "!apt-get install -y xvfb python-opengl > /dev/null 2>&1\n",
        "!pip install gym pyvirtualdisplay > /dev/null 2>&1\n",
        "\n",
        "!pip install box2d-py"
      ],
      "execution_count": 1,
      "outputs": [
        {
          "output_type": "stream",
          "text": [
            "Collecting box2d-py\n",
            "  Downloading box2d_py-2.3.8-cp37-cp37m-manylinux1_x86_64.whl (448 kB)\n",
            "\u001b[?25l\r\u001b[K     |▊                               | 10 kB 18.0 MB/s eta 0:00:01\r\u001b[K     |█▌                              | 20 kB 21.9 MB/s eta 0:00:01\r\u001b[K     |██▏                             | 30 kB 25.8 MB/s eta 0:00:01\r\u001b[K     |███                             | 40 kB 21.2 MB/s eta 0:00:01\r\u001b[K     |███▋                            | 51 kB 8.0 MB/s eta 0:00:01\r\u001b[K     |████▍                           | 61 kB 9.0 MB/s eta 0:00:01\r\u001b[K     |█████▏                          | 71 kB 9.0 MB/s eta 0:00:01\r\u001b[K     |█████▉                          | 81 kB 9.2 MB/s eta 0:00:01\r\u001b[K     |██████▋                         | 92 kB 10.0 MB/s eta 0:00:01\r\u001b[K     |███████▎                        | 102 kB 8.1 MB/s eta 0:00:01\r\u001b[K     |████████                        | 112 kB 8.1 MB/s eta 0:00:01\r\u001b[K     |████████▊                       | 122 kB 8.1 MB/s eta 0:00:01\r\u001b[K     |█████████▌                      | 133 kB 8.1 MB/s eta 0:00:01\r\u001b[K     |██████████▎                     | 143 kB 8.1 MB/s eta 0:00:01\r\u001b[K     |███████████                     | 153 kB 8.1 MB/s eta 0:00:01\r\u001b[K     |███████████▊                    | 163 kB 8.1 MB/s eta 0:00:01\r\u001b[K     |████████████▍                   | 174 kB 8.1 MB/s eta 0:00:01\r\u001b[K     |█████████████▏                  | 184 kB 8.1 MB/s eta 0:00:01\r\u001b[K     |█████████████▉                  | 194 kB 8.1 MB/s eta 0:00:01\r\u001b[K     |██████████████▋                 | 204 kB 8.1 MB/s eta 0:00:01\r\u001b[K     |███████████████▍                | 215 kB 8.1 MB/s eta 0:00:01\r\u001b[K     |████████████████                | 225 kB 8.1 MB/s eta 0:00:01\r\u001b[K     |████████████████▉               | 235 kB 8.1 MB/s eta 0:00:01\r\u001b[K     |█████████████████▌              | 245 kB 8.1 MB/s eta 0:00:01\r\u001b[K     |██████████████████▎             | 256 kB 8.1 MB/s eta 0:00:01\r\u001b[K     |███████████████████             | 266 kB 8.1 MB/s eta 0:00:01\r\u001b[K     |███████████████████▊            | 276 kB 8.1 MB/s eta 0:00:01\r\u001b[K     |████████████████████▌           | 286 kB 8.1 MB/s eta 0:00:01\r\u001b[K     |█████████████████████▏          | 296 kB 8.1 MB/s eta 0:00:01\r\u001b[K     |██████████████████████          | 307 kB 8.1 MB/s eta 0:00:01\r\u001b[K     |██████████████████████▋         | 317 kB 8.1 MB/s eta 0:00:01\r\u001b[K     |███████████████████████▍        | 327 kB 8.1 MB/s eta 0:00:01\r\u001b[K     |████████████████████████        | 337 kB 8.1 MB/s eta 0:00:01\r\u001b[K     |████████████████████████▉       | 348 kB 8.1 MB/s eta 0:00:01\r\u001b[K     |█████████████████████████▋      | 358 kB 8.1 MB/s eta 0:00:01\r\u001b[K     |██████████████████████████▎     | 368 kB 8.1 MB/s eta 0:00:01\r\u001b[K     |███████████████████████████     | 378 kB 8.1 MB/s eta 0:00:01\r\u001b[K     |███████████████████████████▊    | 389 kB 8.1 MB/s eta 0:00:01\r\u001b[K     |████████████████████████████▌   | 399 kB 8.1 MB/s eta 0:00:01\r\u001b[K     |█████████████████████████████▏  | 409 kB 8.1 MB/s eta 0:00:01\r\u001b[K     |██████████████████████████████  | 419 kB 8.1 MB/s eta 0:00:01\r\u001b[K     |██████████████████████████████▊ | 430 kB 8.1 MB/s eta 0:00:01\r\u001b[K     |███████████████████████████████▍| 440 kB 8.1 MB/s eta 0:00:01\r\u001b[K     |████████████████████████████████| 448 kB 8.1 MB/s \n",
            "\u001b[?25hInstalling collected packages: box2d-py\n",
            "Successfully installed box2d-py-2.3.8\n"
          ],
          "name": "stdout"
        }
      ]
    },
    {
      "cell_type": "code",
      "metadata": {
        "id": "D9BSVI9uSS3a"
      },
      "source": [
        "import argparse\n",
        "import gym\n",
        "import gym\n",
        "import numpy as np\n",
        "from itertools import count\n",
        "from collections import namedtuple\n",
        "\n",
        "import torch\n",
        "import torch.nn as nn\n",
        "import torch.nn.functional as F\n",
        "import torch.optim as optim\n",
        "from torch.distributions import Categorical\n",
        "import matplotlib.pyplot as plt\n",
        "import torchvision\n",
        "\n",
        "from torchvision.transforms.functional import InterpolationMode\n",
        "import torch.nn.functional as F\n",
        "import torchvision.transforms as T\n",
        "from PIL import Image\n",
        "import math\n",
        "import random \n",
        "import pandas as pd \n",
        "import seaborn as sns\n",
        "\n",
        "import gym\n",
        "from gym import wrappers\n",
        "import random\n",
        "import torch\n",
        "import numpy as np\n",
        "from collections import deque\n",
        "import matplotlib.pyplot as plt\n",
        "import io\n",
        "import base64\n",
        "from IPython.display import HTML\n",
        "%matplotlib inline"
      ],
      "execution_count": 2,
      "outputs": []
    },
    {
      "cell_type": "code",
      "metadata": {
        "colab": {
          "base_uri": "https://localhost:8080/"
        },
        "id": "JJ7Bi8kgUGud",
        "outputId": "eb8ce10d-fab9-4823-b099-658de3a6bd7b"
      },
      "source": [
        "device = torch.device(\"cuda\" if torch.cuda.is_available() else \"cpu\")\n",
        "device"
      ],
      "execution_count": 3,
      "outputs": [
        {
          "output_type": "execute_result",
          "data": {
            "text/plain": [
              "device(type='cuda')"
            ]
          },
          "metadata": {},
          "execution_count": 3
        }
      ]
    },
    {
      "cell_type": "code",
      "metadata": {
        "colab": {
          "base_uri": "https://localhost:8080/"
        },
        "id": "Fi0I0rlzUHK2",
        "outputId": "7b2a9031-a890-4e44-c908-71acaa4bb4b0"
      },
      "source": [
        "from pyvirtualdisplay import Display\n",
        "display = Display(visible=0, size=(400, 300))\n",
        "display.start()"
      ],
      "execution_count": 4,
      "outputs": [
        {
          "output_type": "execute_result",
          "data": {
            "text/plain": [
              "<pyvirtualdisplay.display.Display at 0x7fa6cf4ade50>"
            ]
          },
          "metadata": {},
          "execution_count": 4
        }
      ]
    },
    {
      "cell_type": "code",
      "metadata": {
        "id": "mtE7zxPqi9go",
        "colab": {
          "base_uri": "https://localhost:8080/"
        },
        "outputId": "ab5d3db9-f037-4551-96db-aa75bb80d146"
      },
      "source": [
        "env = gym.make('LunarLanderContinuous-v2')\n",
        "state = env.reset()\n",
        "state"
      ],
      "execution_count": 5,
      "outputs": [
        {
          "output_type": "execute_result",
          "data": {
            "text/plain": [
              "array([-0.00595245,  1.3985053 , -0.6029336 , -0.55178946,  0.00690418,\n",
              "        0.13657331,  0.        ,  0.        ], dtype=float32)"
            ]
          },
          "metadata": {},
          "execution_count": 5
        }
      ]
    },
    {
      "cell_type": "code",
      "metadata": {
        "id": "vdDQhv6bfPsx",
        "colab": {
          "base_uri": "https://localhost:8080/",
          "height": 286
        },
        "outputId": "326a07ed-b9dc-42c2-b4b0-aa20fa9a2e50"
      },
      "source": [
        "# \n",
        "screen = env.render(mode='rgb_array')\n",
        "plt.imshow(screen)"
      ],
      "execution_count": 6,
      "outputs": [
        {
          "output_type": "execute_result",
          "data": {
            "text/plain": [
              "<matplotlib.image.AxesImage at 0x7fa638d23810>"
            ]
          },
          "metadata": {},
          "execution_count": 6
        },
        {
          "output_type": "display_data",
          "data": {
            "image/png": "[encoded data removed]",
            "text/plain": [
              "<Figure size 432x288 with 1 Axes>"
            ]
          },
          "metadata": {
            "needs_background": "light"
          }
        }
      ]
    },
    {
      "cell_type": "code",
      "metadata": {
        "colab": {
          "base_uri": "https://localhost:8080/"
        },
        "id": "EEDxuutFU9Dw",
        "outputId": "145ab576-3110-4c56-e069-265b30d7fc70"
      },
      "source": [
        "actions_map = {0: [0.5, 0.0], 1: [-1, -0.75] , 2: [-1, 0.75] , 3: [0.5, -0.75] , 4: [0.5, 0.75]}\n",
        "num_of_actions = len(actions_map)\n",
        "num_of_actions"
      ],
      "execution_count": 7,
      "outputs": [
        {
          "output_type": "execute_result",
          "data": {
            "text/plain": [
              "5"
            ]
          },
          "metadata": {},
          "execution_count": 7
        }
      ]
    },
    {
      "cell_type": "code",
      "metadata": {
        "id": "Wodr19xdDxZl"
      },
      "source": [
        "ActionLog = namedtuple('ActionLog', ['log_prob'])\n"
      ],
      "execution_count": 8,
      "outputs": []
    },
    {
      "cell_type": "code",
      "metadata": {
        "id": "jlPcO4lHL8Lb"
      },
      "source": [
        "class Net(nn.Module):\n",
        "    def __init__(self, state_size, num_of_actions):\n",
        "        super(Net, self).__init__()\n",
        "        self.fc1 = nn.Linear(state_size, 256)\n",
        "        self.bn1 = nn.BatchNorm1d(256)\n",
        "        self.fc2 = nn.Linear(256, 128)\n",
        "        self.bn2 = nn.BatchNorm1d(128)\n",
        "        self.fc3 = nn.Linear(128, 64)\n",
        "        self.bn3 = nn.BatchNorm1d(64)\n",
        "        self.fc4 = nn.Linear(64, num_of_actions)\n",
        "\n",
        "    def forward(self, state):\n",
        "        x = self.fc1(state)\n",
        "        #x = self.bn1(x)\n",
        "        x = F.leaky_relu(x)\n",
        "        \n",
        "        x = self.fc2(x)\n",
        "        #x = self.bn2(x)\n",
        "        x = F.leaky_relu(x)\n",
        "        x = self.fc3(x)\n",
        "        #x = self.bn3(x)\n",
        "        x = F.leaky_relu(x)\n",
        "        x =  self.fc4(x)\n",
        "\n",
        "        return F.softmax(x, dim=1)\n",
        "    \n",
        "    def init_weights(self):\n",
        "\n",
        "      torch.nn.init.xavier_uniform_(self.fc1.weight)\n",
        "      torch.nn.init.xavier_uniform_(self.fc2.weight)\n",
        "      torch.nn.init.xavier_uniform_(self.fc3.weight)\n",
        "      torch.nn.init.xavier_uniform_(self.fc4.weight)\n",
        "\n",
        "      return self\n",
        "    \n",
        "\n",
        "\n",
        "class Agent:\n",
        "    def __init__(self, net):\n",
        "        self.net = net \n",
        "\n",
        "        self.saved_actions = []\n",
        "        self.rewards = []\n",
        "\n",
        "    def run_on_state(self, state):\n",
        "\n",
        "        state = state.to(device)\n",
        "        actions_prob = self.net(state)\n",
        "      \n",
        "        return  actions_prob"
      ],
      "execution_count": 9,
      "outputs": []
    },
    {
      "cell_type": "code",
      "metadata": {
        "id": "NiT3RFYZWksR"
      },
      "source": [
        "GAMMA = 0.9\n",
        "EPS_START = 1.0\n",
        "EPS_END = 0.2\n",
        "EPS_DECAY = 6000\n",
        "steps_done = 0"
      ],
      "execution_count": 10,
      "outputs": []
    },
    {
      "cell_type": "code",
      "metadata": {
        "id": "sA0z-jLQWmxn"
      },
      "source": [
        "def select_action(state):\n",
        "  \n",
        "    global steps_done\n",
        "    steps_done += 1\n",
        "\n",
        "    state_tensor = torch.Tensor([state]).to(device)\n",
        "    probs = model.run_on_state(state_tensor)\n",
        "    categorical = Categorical(probs)\n",
        "\n",
        "    action = categorical.sample()\n",
        "    model.saved_actions.append(ActionLog(categorical.log_prob(action)))\n",
        "\n",
        "\n",
        "    return action.item()"
      ],
      "execution_count": 12,
      "outputs": []
    },
    {
      "cell_type": "code",
      "metadata": {
        "id": "qWrNmUilWsuX"
      },
      "source": [
        "def train_on_episode():\n",
        "\n",
        "    saved_actions = model.saved_actions\n",
        "    policy_losses = [] \n",
        "    returns = []\n",
        "\n",
        "    step_total_r = 0\n",
        "    for step_immediate_rewars in reversed(model.rewards):\n",
        "        step_total_r = step_immediate_rewars + GAMMA * step_total_r\n",
        "        returns.insert(0, step_total_r)\n",
        "\n",
        "    returns = torch.tensor(returns).to(device)\n",
        "\n",
        "    returns = (returns - returns.mean()) / (returns.std() + eps)\n",
        "\n",
        "    prev_state = None\n",
        "    prev_action = None\n",
        "    for (saved_action, step_total_r) in zip(saved_actions, returns):\n",
        "\n",
        "        # policy_losses.append(-saved_action.log_prob * step_total_r)\n",
        "        policy_losses.append(-saved_action.log_prob * step_total_r)\n",
        "\n",
        "\n",
        "    optimizer.zero_grad()\n",
        "  \n",
        "    loss = torch.cat(policy_losses).sum()\n",
        "\n",
        "    loss.backward()\n",
        "    optimizer.step()\n",
        "    \n",
        "    model.rewards = []\n",
        "    model.saved_actions = []\n",
        "\n",
        "    return loss"
      ],
      "execution_count": 13,
      "outputs": []
    },
    {
      "cell_type": "code",
      "metadata": {
        "id": "Z2Lq32hqWvQ_"
      },
      "source": [
        "net = Net(state.shape[0] , num_of_actions).init_weights().to(device)\n",
        "\n",
        "model = Agent(net)\n",
        "\n",
        "optimizer = optim.SGD(net.parameters(), lr=0.0001)\n",
        "\n",
        "eps = np.finfo(np.float32).eps.item()"
      ],
      "execution_count": 14,
      "outputs": []
    },
    {
      "cell_type": "code",
      "metadata": {
        "id": "SgbVd7mZggeJ"
      },
      "source": [
        "episodes_durations = []\n",
        "episodes_rewards = []\n",
        "steps_done = 0\n",
        "net.train()\n",
        "\n",
        "\n",
        "\n",
        "for episode_number in count(1):\n",
        "\n",
        "  if episode_number > 5000:\n",
        "    break\n",
        "  if episode_number % 50 == 0:\n",
        "    print('episode_number {}'.format(episode_number))\n",
        "\n",
        "  state = env.reset()\n",
        "\n",
        "\n",
        "  #not_allowed_actions = None\n",
        "  episode_reward = 0.0\n",
        "  for step_number in range(1, 10000):\n",
        "    action_id = select_action(state)\n",
        "\n",
        "    action = actions_map[action_id]\n",
        "\n",
        "    state, reward, done, _ = env.step(action)\n",
        "    episode_reward += reward\n",
        "    \n",
        "    model.rewards.append(reward)\n",
        "\n",
        "    if done:\n",
        "      episodes_durations.append(step_number)\n",
        "      episodes_rewards.append(episode_reward)\n",
        "      break\n",
        "\n",
        "  train_on_episode()"
      ],
      "execution_count": null,
      "outputs": []
    },
    {
      "cell_type": "code",
      "metadata": {
        "id": "X1srlrcnYOUn",
        "outputId": "81c0d547-271e-4480-fda9-1bde4fac89e8",
        "colab": {
          "base_uri": "https://localhost:8080/",
          "height": 302
        }
      },
      "source": [
        "durations_df = pd.DataFrame([(iteration, duration) for (iteration, duration) in enumerate(episodes_durations)], columns =[\"iteration\", \"duration\"])\n",
        "sns.set_theme(style=\"whitegrid\")\n",
        "\n",
        "sns.scatterplot(data=durations_df, x=\"iteration\", y=\"duration\")\n"
      ],
      "execution_count": 16,
      "outputs": [
        {
          "output_type": "execute_result",
          "data": {
            "text/plain": [
              "<matplotlib.axes._subplots.AxesSubplot at 0x7fa63752ec10>"
            ]
          },
          "metadata": {},
          "execution_count": 16
        },
        {
          "output_type": "display_data",
          "data": {
            "image/png": "[encoded data removed]",
            "text/plain": [
              "<Figure size 432x288 with 1 Axes>"
            ]
          },
          "metadata": {}
        }
      ]
    },
    {
      "cell_type": "code",
      "metadata": {
        "id": "Lbzo46q0YNcX",
        "outputId": "c3af3b31-e7b0-4252-d1ff-460c23220910",
        "colab": {
          "base_uri": "https://localhost:8080/",
          "height": 302
        }
      },
      "source": [
        "durations_df = pd.DataFrame([(iteration, reward) for (iteration, reward) in enumerate(episodes_rewards)], columns =[\"iteration\", \"reward\"])\n",
        "sns.set_theme(style=\"whitegrid\")\n",
        "\n",
        "sns.scatterplot(data=durations_df, x=\"iteration\", y=\"reward\")\n"
      ],
      "execution_count": 17,
      "outputs": [
        {
          "output_type": "execute_result",
          "data": {
            "text/plain": [
              "<matplotlib.axes._subplots.AxesSubplot at 0x7fa63621c050>"
            ]
          },
          "metadata": {},
          "execution_count": 17
        },
        {
          "output_type": "display_data",
          "data": {
            "image/png": "[encoded data removed]",
            "text/plain": [
              "<Figure size 432x288 with 1 Axes>"
            ]
          },
          "metadata": {}
        }
      ]
    },
    {
      "cell_type": "code",
      "metadata": {
        "colab": {
          "base_uri": "https://localhost:8080/"
        },
        "id": "7Me16IPXl5Iv",
        "outputId": "83e40486-d38f-4a33-bb60-59af5c7de9cb"
      },
      "source": [
        "# state_tensor = torch.Tensor(state).unsqueeze(0).to(device)\n",
        "\n",
        "# state_tensor.shape \n",
        "# #probs = model.run_on_state(state_tensor)\n",
        "# state = env.reset()\n",
        "state_tensor = torch.Tensor([state]).to(device)\n",
        "net(state_tensor).sum()"
      ],
      "execution_count": 26,
      "outputs": [
        {
          "output_type": "execute_result",
          "data": {
            "text/plain": [
              "tensor(1., device='cuda:0', grad_fn=<SumBackward0>)"
            ]
          },
          "metadata": {},
          "execution_count": 26
        }
      ]
    },
    {
      "cell_type": "code",
      "metadata": {
        "colab": {
          "base_uri": "https://localhost:8080/",
          "height": 232
        },
        "id": "TKcA5LnsmJyt",
        "outputId": "92796b39-f238-4b9b-c39b-37620ab93f27"
      },
      "source": [
        "net.eval()\n",
        "\n",
        "state = env.reset()\n",
        "screen = env.render(mode='rgb_array')\n",
        "plt.imshow(screen)"
      ],
      "execution_count": 1,
      "outputs": [
        {
          "output_type": "error",
          "ename": "NameError",
          "evalue": "ignored",
          "traceback": [
            "\u001b[0;31m---------------------------------------------------------------------------\u001b[0m",
            "\u001b[0;31mNameError\u001b[0m                                 Traceback (most recent call last)",
            "\u001b[0;32m<ipython-input-1-8861ada7e180>\u001b[0m in \u001b[0;36m<module>\u001b[0;34m()\u001b[0m\n\u001b[0;32m----> 1\u001b[0;31m \u001b[0mnet\u001b[0m\u001b[0;34m.\u001b[0m\u001b[0meval\u001b[0m\u001b[0;34m(\u001b[0m\u001b[0;34m)\u001b[0m\u001b[0;34m\u001b[0m\u001b[0;34m\u001b[0m\u001b[0m\n\u001b[0m\u001b[1;32m      2\u001b[0m \u001b[0;34m\u001b[0m\u001b[0m\n\u001b[1;32m      3\u001b[0m \u001b[0mstate\u001b[0m \u001b[0;34m=\u001b[0m \u001b[0menv\u001b[0m\u001b[0;34m.\u001b[0m\u001b[0mreset\u001b[0m\u001b[0;34m(\u001b[0m\u001b[0;34m)\u001b[0m\u001b[0;34m\u001b[0m\u001b[0;34m\u001b[0m\u001b[0m\n\u001b[1;32m      4\u001b[0m \u001b[0mscreen\u001b[0m \u001b[0;34m=\u001b[0m \u001b[0menv\u001b[0m\u001b[0;34m.\u001b[0m\u001b[0mrender\u001b[0m\u001b[0;34m(\u001b[0m\u001b[0mmode\u001b[0m\u001b[0;34m=\u001b[0m\u001b[0;34m'rgb_array'\u001b[0m\u001b[0;34m)\u001b[0m\u001b[0;34m\u001b[0m\u001b[0;34m\u001b[0m\u001b[0m\n\u001b[1;32m      5\u001b[0m \u001b[0mplt\u001b[0m\u001b[0;34m.\u001b[0m\u001b[0mimshow\u001b[0m\u001b[0;34m(\u001b[0m\u001b[0mscreen\u001b[0m\u001b[0;34m)\u001b[0m\u001b[0;34m\u001b[0m\u001b[0;34m\u001b[0m\u001b[0m\n",
            "\u001b[0;31mNameError\u001b[0m: name 'net' is not defined"
          ]
        }
      ]
    }
  ]
}