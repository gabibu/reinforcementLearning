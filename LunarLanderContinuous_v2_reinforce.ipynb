{
  "nbformat": 4,
  "nbformat_minor": 0,
  "metadata": {
    "colab": {
      "name": "actor_critic.ipynb",
      "provenance": []
    },
    "kernelspec": {
      "name": "python3",
      "display_name": "Python 3"
    },
    "language_info": {
      "name": "python"
    },
    "accelerator": "GPU"
  },
  "cells": [
    {
      "cell_type": "code",
      "metadata": {
        "id": "cfuLYnwaSRVA",
        "outputId": "a9858c44-6f16-4ca8-c375-0a65d7637832",
        "colab": {
          "base_uri": "https://localhost:8080/"
        }
      },
      "source": [
        "!apt-get install -y xvfb python-opengl > /dev/null 2>&1\n",
        "!pip install gym pyvirtualdisplay > /dev/null 2>&1\n",
        "\n",
        "!pip install box2d-py"
      ],
      "execution_count": 7,
      "outputs": [
        {
          "output_type": "stream",
          "text": [
            "Collecting box2d-py\n",
            "  Downloading box2d_py-2.3.8-cp37-cp37m-manylinux1_x86_64.whl (448 kB)\n",
            "\u001b[?25l\r\u001b[K     |▊                               | 10 kB 34.8 MB/s eta 0:00:01\r\u001b[K     |█▌                              | 20 kB 39.4 MB/s eta 0:00:01\r\u001b[K     |██▏                             | 30 kB 20.6 MB/s eta 0:00:01\r\u001b[K     |███                             | 40 kB 16.6 MB/s eta 0:00:01\r\u001b[K     |███▋                            | 51 kB 8.6 MB/s eta 0:00:01\r\u001b[K     |████▍                           | 61 kB 8.9 MB/s eta 0:00:01\r\u001b[K     |█████▏                          | 71 kB 9.1 MB/s eta 0:00:01\r\u001b[K     |█████▉                          | 81 kB 9.2 MB/s eta 0:00:01\r\u001b[K     |██████▋                         | 92 kB 7.7 MB/s eta 0:00:01\r\u001b[K     |███████▎                        | 102 kB 8.4 MB/s eta 0:00:01\r\u001b[K     |████████                        | 112 kB 8.4 MB/s eta 0:00:01\r\u001b[K     |████████▊                       | 122 kB 8.4 MB/s eta 0:00:01\r\u001b[K     |█████████▌                      | 133 kB 8.4 MB/s eta 0:00:01\r\u001b[K     |██████████▎                     | 143 kB 8.4 MB/s eta 0:00:01\r\u001b[K     |███████████                     | 153 kB 8.4 MB/s eta 0:00:01\r\u001b[K     |███████████▊                    | 163 kB 8.4 MB/s eta 0:00:01\r\u001b[K     |████████████▍                   | 174 kB 8.4 MB/s eta 0:00:01\r\u001b[K     |█████████████▏                  | 184 kB 8.4 MB/s eta 0:00:01\r\u001b[K     |█████████████▉                  | 194 kB 8.4 MB/s eta 0:00:01\r\u001b[K     |██████████████▋                 | 204 kB 8.4 MB/s eta 0:00:01\r\u001b[K     |███████████████▍                | 215 kB 8.4 MB/s eta 0:00:01\r\u001b[K     |████████████████                | 225 kB 8.4 MB/s eta 0:00:01\r\u001b[K     |████████████████▉               | 235 kB 8.4 MB/s eta 0:00:01\r\u001b[K     |█████████████████▌              | 245 kB 8.4 MB/s eta 0:00:01\r\u001b[K     |██████████████████▎             | 256 kB 8.4 MB/s eta 0:00:01\r\u001b[K     |███████████████████             | 266 kB 8.4 MB/s eta 0:00:01\r\u001b[K     |███████████████████▊            | 276 kB 8.4 MB/s eta 0:00:01\r\u001b[K     |████████████████████▌           | 286 kB 8.4 MB/s eta 0:00:01\r\u001b[K     |█████████████████████▏          | 296 kB 8.4 MB/s eta 0:00:01\r\u001b[K     |██████████████████████          | 307 kB 8.4 MB/s eta 0:00:01\r\u001b[K     |██████████████████████▋         | 317 kB 8.4 MB/s eta 0:00:01\r\u001b[K     |███████████████████████▍        | 327 kB 8.4 MB/s eta 0:00:01\r\u001b[K     |████████████████████████        | 337 kB 8.4 MB/s eta 0:00:01\r\u001b[K     |████████████████████████▉       | 348 kB 8.4 MB/s eta 0:00:01\r\u001b[K     |█████████████████████████▋      | 358 kB 8.4 MB/s eta 0:00:01\r\u001b[K     |██████████████████████████▎     | 368 kB 8.4 MB/s eta 0:00:01\r\u001b[K     |███████████████████████████     | 378 kB 8.4 MB/s eta 0:00:01\r\u001b[K     |███████████████████████████▊    | 389 kB 8.4 MB/s eta 0:00:01\r\u001b[K     |████████████████████████████▌   | 399 kB 8.4 MB/s eta 0:00:01\r\u001b[K     |█████████████████████████████▏  | 409 kB 8.4 MB/s eta 0:00:01\r\u001b[K     |██████████████████████████████  | 419 kB 8.4 MB/s eta 0:00:01\r\u001b[K     |██████████████████████████████▊ | 430 kB 8.4 MB/s eta 0:00:01\r\u001b[K     |███████████████████████████████▍| 440 kB 8.4 MB/s eta 0:00:01\r\u001b[K     |████████████████████████████████| 448 kB 8.4 MB/s \n",
            "\u001b[?25hInstalling collected packages: box2d-py\n",
            "Successfully installed box2d-py-2.3.8\n"
          ],
          "name": "stdout"
        }
      ]
    },
    {
      "cell_type": "code",
      "metadata": {
        "id": "D9BSVI9uSS3a"
      },
      "source": [
        "import argparse\n",
        "import gym\n",
        "import gym\n",
        "import numpy as np\n",
        "from itertools import count\n",
        "from collections import namedtuple\n",
        "\n",
        "import torch\n",
        "import torch.nn as nn\n",
        "import torch.nn.functional as F\n",
        "import torch.optim as optim\n",
        "from torch.distributions import Categorical\n",
        "import matplotlib.pyplot as plt\n",
        "import torchvision\n",
        "\n",
        "from torchvision.transforms.functional import InterpolationMode\n",
        "import torch.nn.functional as F\n",
        "import torchvision.transforms as T\n",
        "from PIL import Image\n",
        "import math\n",
        "import random \n",
        "import pandas as pd \n",
        "import seaborn as sns\n",
        "\n",
        "import gym\n",
        "from gym import wrappers\n",
        "import random\n",
        "import torch\n",
        "import numpy as np\n",
        "from collections import deque\n",
        "import matplotlib.pyplot as plt\n",
        "import io\n",
        "import base64\n",
        "from IPython.display import HTML\n",
        "%matplotlib inline"
      ],
      "execution_count": 8,
      "outputs": []
    },
    {
      "cell_type": "code",
      "metadata": {
        "id": "JJ7Bi8kgUGud",
        "outputId": "3f8ad699-1ef2-4171-9eb5-52f237abcdfc",
        "colab": {
          "base_uri": "https://localhost:8080/"
        }
      },
      "source": [
        "device = torch.device(\"cuda\" if torch.cuda.is_available() else \"cpu\")\n",
        "device"
      ],
      "execution_count": 6,
      "outputs": [
        {
          "output_type": "execute_result",
          "data": {
            "text/plain": [
              "device(type='cuda')"
            ]
          },
          "metadata": {},
          "execution_count": 6
        }
      ]
    },
    {
      "cell_type": "code",
      "metadata": {
        "id": "Fi0I0rlzUHK2",
        "outputId": "d82bfbcf-995b-4b0f-a079-a53455fa34b5",
        "colab": {
          "base_uri": "https://localhost:8080/"
        }
      },
      "source": [
        "from pyvirtualdisplay import Display\n",
        "display = Display(visible=0, size=(400, 300))\n",
        "display.start()"
      ],
      "execution_count": 9,
      "outputs": [
        {
          "output_type": "execute_result",
          "data": {
            "text/plain": [
              "<pyvirtualdisplay.display.Display at 0x7f18a2e3dbd0>"
            ]
          },
          "metadata": {},
          "execution_count": 9
        }
      ]
    },
    {
      "cell_type": "code",
      "metadata": {
        "id": "mtE7zxPqi9go"
      },
      "source": [
        "env = gym.make('LunarLanderContinuous-v2')\n",
        "state = env.reset()"
      ],
      "execution_count": 11,
      "outputs": []
    },
    {
      "cell_type": "code",
      "metadata": {
        "id": "vdDQhv6bfPsx",
        "outputId": "2ce59013-20a3-4af3-c4ca-5f5cee5893a3",
        "colab": {
          "base_uri": "https://localhost:8080/",
          "height": 286
        }
      },
      "source": [
        "# \n",
        "screen = env.render(mode='rgb_array')\n",
        "plt.imshow(screen)"
      ],
      "execution_count": 16,
      "outputs": [
        {
          "output_type": "execute_result",
          "data": {
            "text/plain": [
              "<matplotlib.image.AxesImage at 0x7f18860790d0>"
            ]
          },
          "metadata": {},
          "execution_count": 16
        },
        {
          "output_type": "display_data",
          "data": {
            "image/png": "[encoded data removed]",
            "text/plain": [
              "<Figure size 432x288 with 1 Axes>"
            ]
          },
          "metadata": {
            "needs_background": "light"
          }
        }
      ]
    },
    {
      "cell_type": "code",
      "metadata": {
        "colab": {
          "base_uri": "https://localhost:8080/"
        },
        "id": "Wodr19xdDxZl",
        "outputId": "eded80a2-812d-4c1a-ec67-3ffbfde5a51a"
      },
      "source": [
        ""
      ],
      "execution_count": null,
      "outputs": [
        {
          "output_type": "execute_result",
          "data": {
            "text/plain": [
              "13"
            ]
          },
          "metadata": {},
          "execution_count": 3
        }
      ]
    },
    {
      "cell_type": "code",
      "metadata": {
        "colab": {
          "base_uri": "https://localhost:8080/"
        },
        "id": "jlPcO4lHL8Lb",
        "outputId": "a44c7587-31ae-4cd5-ec80-5587ecd6b914"
      },
      "source": [
        ""
      ],
      "execution_count": null,
      "outputs": [
        {
          "output_type": "execute_result",
          "data": {
            "text/plain": [
              "device(type='cuda')"
            ]
          },
          "metadata": {},
          "execution_count": 5
        }
      ]
    }
  ]
}