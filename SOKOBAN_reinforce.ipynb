{
  "nbformat": 4,
  "nbformat_minor": 0,
  "metadata": {
    "colab": {
      "name": "actor_critic.ipynb",
      "provenance": []
    },
    "kernelspec": {
      "name": "python3",
      "display_name": "Python 3"
    },
    "language_info": {
      "name": "python"
    },
    "accelerator": "GPU"
  },
  "cells": [
    {
      "cell_type": "code",
      "metadata": {
        "colab": {
          "base_uri": "https://localhost:8080/"
        },
        "id": "1TLLlx9MDsLm",
        "outputId": "12d2b247-db5e-41ba-8cf4-b66218ec75f5"
      },
      "source": [
        "!pip install gym_sokoban"
      ],
      "execution_count": 1,
      "outputs": [
        {
          "output_type": "stream",
          "text": [
            "Collecting gym_sokoban\n",
            "  Downloading gym_sokoban-0.0.6-py3-none-any.whl (36 kB)\n",
            "Requirement already satisfied: tqdm>=4.32.1 in /usr/local/lib/python3.7/dist-packages (from gym_sokoban) (4.62.0)\n",
            "Requirement already satisfied: imageio>=2.3.0 in /usr/local/lib/python3.7/dist-packages (from gym_sokoban) (2.4.1)\n",
            "Requirement already satisfied: numpy>=1.14.1 in /usr/local/lib/python3.7/dist-packages (from gym_sokoban) (1.19.5)\n",
            "Requirement already satisfied: gym>=0.2.3 in /usr/local/lib/python3.7/dist-packages (from gym_sokoban) (0.17.3)\n",
            "Requirement already satisfied: requests>=2.22.0 in /usr/local/lib/python3.7/dist-packages (from gym_sokoban) (2.23.0)\n",
            "Requirement already satisfied: pyglet<=1.5.0,>=1.4.0 in /usr/local/lib/python3.7/dist-packages (from gym>=0.2.3->gym_sokoban) (1.5.0)\n",
            "Requirement already satisfied: scipy in /usr/local/lib/python3.7/dist-packages (from gym>=0.2.3->gym_sokoban) (1.4.1)\n",
            "Requirement already satisfied: cloudpickle<1.7.0,>=1.2.0 in /usr/local/lib/python3.7/dist-packages (from gym>=0.2.3->gym_sokoban) (1.3.0)\n",
            "Requirement already satisfied: pillow in /usr/local/lib/python3.7/dist-packages (from imageio>=2.3.0->gym_sokoban) (7.1.2)\n",
            "Requirement already satisfied: future in /usr/local/lib/python3.7/dist-packages (from pyglet<=1.5.0,>=1.4.0->gym>=0.2.3->gym_sokoban) (0.16.0)\n",
            "Requirement already satisfied: chardet<4,>=3.0.2 in /usr/local/lib/python3.7/dist-packages (from requests>=2.22.0->gym_sokoban) (3.0.4)\n",
            "Requirement already satisfied: certifi>=2017.4.17 in /usr/local/lib/python3.7/dist-packages (from requests>=2.22.0->gym_sokoban) (2021.5.30)\n",
            "Requirement already satisfied: idna<3,>=2.5 in /usr/local/lib/python3.7/dist-packages (from requests>=2.22.0->gym_sokoban) (2.10)\n",
            "Requirement already satisfied: urllib3!=1.25.0,!=1.25.1,<1.26,>=1.21.1 in /usr/local/lib/python3.7/dist-packages (from requests>=2.22.0->gym_sokoban) (1.24.3)\n",
            "Installing collected packages: gym-sokoban\n",
            "Successfully installed gym-sokoban-0.0.6\n"
          ],
          "name": "stdout"
        }
      ]
    },
    {
      "cell_type": "code",
      "metadata": {
        "id": "LJxh1JNoL_OC"
      },
      "source": [
        "import argparse\n",
        "import gym\n",
        "import gym\n",
        "import gym_sokoban\n",
        "import numpy as np\n",
        "from itertools import count\n",
        "from collections import namedtuple\n",
        "\n",
        "import torch\n",
        "import torch.nn as nn\n",
        "import torch.nn.functional as F\n",
        "import torch.optim as optim\n",
        "from torch.distributions import Categorical\n",
        "import matplotlib.pyplot as plt\n",
        "import torchvision\n",
        "\n",
        "from torchvision.transforms.functional import InterpolationMode\n",
        "import torch.nn.functional as F\n",
        "import torchvision.transforms as T\n",
        "from PIL import Image\n",
        "import math\n",
        "import random \n",
        "import pandas as pd \n",
        "import seaborn as sns"
      ],
      "execution_count": 2,
      "outputs": []
    },
    {
      "cell_type": "code",
      "metadata": {
        "id": "mtE7zxPqi9go"
      },
      "source": [
        "image_transformations = T.Compose([\n",
        "                    T.ToPILImage(),\n",
        "                    T.Resize(64, interpolation= InterpolationMode.BILINEAR),\n",
        "                    T.ToTensor(),\n",
        "                    T.Normalize((0.5, 0.5, 0.5), (0.5, 0.5, 0.5))\n",
        "                    ])\n",
        "\n",
        "\n",
        "\n"
      ],
      "execution_count": 3,
      "outputs": []
    },
    {
      "cell_type": "code",
      "metadata": {
        "id": "vdDQhv6bfPsx"
      },
      "source": [
        "MAX_NUM_OF_ITERATIONS = 150\n",
        "seed = 999"
      ],
      "execution_count": 4,
      "outputs": []
    },
    {
      "cell_type": "code",
      "metadata": {
        "colab": {
          "base_uri": "https://localhost:8080/"
        },
        "id": "Wodr19xdDxZl",
        "outputId": "b0cb2c18-e454-4aec-b798-76fa75439c05"
      },
      "source": [
        "env = gym.make('PushAndPull-Sokoban-v2')\n",
        "\n",
        "env.max_steps =  MAX_NUM_OF_ITERATIONS\n",
        "screen = env.render(mode='rgb_array')\n",
        "env.seed(seed)\n",
        "torch.manual_seed(seed)\n",
        "num_of_actions = env.action_space.n\n",
        "num_of_actions"
      ],
      "execution_count": 5,
      "outputs": [
        {
          "output_type": "execute_result",
          "data": {
            "text/plain": [
              "13"
            ]
          },
          "metadata": {},
          "execution_count": 5
        }
      ]
    },
    {
      "cell_type": "code",
      "metadata": {
        "colab": {
          "base_uri": "https://localhost:8080/",
          "height": 302
        },
        "id": "kdkcJEr1i4Li",
        "outputId": "a3852a52-9139-461e-a99f-5012e2ca78c9"
      },
      "source": [
        "state_transformed = image_transformations(env.reset())\n",
        "plt.imshow(state_transformed.permute(1,2,0).detach().cpu().numpy())"
      ],
      "execution_count": 6,
      "outputs": [
        {
          "output_type": "stream",
          "text": [
            "Clipping input data to the valid range for imshow with RGB data ([0..1] for floats or [0..255] for integers).\n"
          ],
          "name": "stderr"
        },
        {
          "output_type": "execute_result",
          "data": {
            "text/plain": [
              "<matplotlib.image.AxesImage at 0x7eff2eabc550>"
            ]
          },
          "metadata": {},
          "execution_count": 6
        },
        {
          "output_type": "display_data",
          "data": {
            "image/png": "[encoded data removed]",
            "text/plain": [
              "<Figure size 432x288 with 1 Axes>"
            ]
          },
          "metadata": {
            "needs_background": "light"
          }
        }
      ]
    },
    {
      "cell_type": "code",
      "metadata": {
        "colab": {
          "base_uri": "https://localhost:8080/"
        },
        "id": "jlPcO4lHL8Lb",
        "outputId": "604d04cc-7c75-4153-b0f6-25cc4b963905"
      },
      "source": [
        "device = torch.device(\"cuda\" if torch.cuda.is_available() else \"cpu\")\n",
        "device"
      ],
      "execution_count": 7,
      "outputs": [
        {
          "output_type": "execute_result",
          "data": {
            "text/plain": [
              "device(type='cuda')"
            ]
          },
          "metadata": {},
          "execution_count": 7
        }
      ]
    },
    {
      "cell_type": "code",
      "metadata": {
        "id": "H7ejhxyoEFVL"
      },
      "source": [
        "ActionLog = namedtuple('ActionLog', ['log_prob'])"
      ],
      "execution_count": 13,
      "outputs": []
    },
    {
      "cell_type": "code",
      "metadata": {
        "id": "MxVqBbfSEHM8"
      },
      "source": [
        "class Net(nn.Module):\n",
        "    def __init__(self, num_of_actions):\n",
        "        super().__init__()\n",
        "        self.pool = nn.MaxPool2d(2, 2)\n",
        "        self.conv1 = nn.Conv2d(3, 6, 7)\n",
        "        self.conv2 = nn.Conv2d(6, 16, 5)\n",
        "        self.conv3 = nn.Conv2d(16, 16, 3)\n",
        "        self.pre_actions1 = nn.Linear(400, 200)\n",
        "        self.pre_actions2 = nn.Linear(200, 100)\n",
        "        self.actions = nn.Linear(100, num_of_actions)\n",
        "\n",
        "    def forward(self, x):\n",
        "\n",
        "        x = self.pool(F.leaky_relu(self.conv1(x)))\n",
        "        x = self.pool(F.leaky_relu(self.conv2(x)))\n",
        "        x = self.pool(F.leaky_relu(self.conv3(x)))\n",
        "        x = torch.flatten(x, 1) \n",
        "\n",
        "        actions = F.leaky_relu(self.pre_actions1(x))\n",
        "        actions = F.leaky_relu(self.pre_actions2(actions))\n",
        "        actions = F.leaky_relu(self.actions(actions))\n",
        "        actions = F.softmax(actions, dim=1)\n",
        "\n",
        "        return actions\n",
        "\n",
        "    def init_weights(self):\n",
        "\n",
        "      torch.nn.init.xavier_uniform_(self.conv1.weight)\n",
        "      torch.nn.init.xavier_uniform_(self.conv2.weight)\n",
        "      torch.nn.init.xavier_uniform_(self.conv3.weight)\n",
        "      torch.nn.init.xavier_uniform_(self.pre_actions1.weight)\n",
        "      torch.nn.init.xavier_uniform_(self.pre_actions2.weight)\n",
        "\n",
        "      torch.nn.init.xavier_uniform_(self.actions.weight)\n",
        "\n",
        "  \n",
        "\n",
        "      return self\n",
        "\n",
        "class Agent:\n",
        "    def __init__(self, net):\n",
        "        self.net = net \n",
        "\n",
        "        self.saved_actions = []\n",
        "        self.rewards = []\n",
        "\n",
        "    def run_on_state(self, state):\n",
        "\n",
        "        state = state.to(device)\n",
        "        actions_prob = self.net(state)\n",
        "      \n",
        "        return  actions_prob\n"
      ],
      "execution_count": 17,
      "outputs": []
    },
    {
      "cell_type": "code",
      "metadata": {
        "id": "xaM_-uymNazL"
      },
      "source": [
        ""
      ],
      "execution_count": null,
      "outputs": []
    },
    {
      "cell_type": "code",
      "metadata": {
        "id": "IzVf6Scad7ds"
      },
      "source": [
        ""
      ],
      "execution_count": 58,
      "outputs": []
    },
    {
      "cell_type": "code",
      "metadata": {
        "id": "Gbc1-WVnUOpf"
      },
      "source": [
        "GAMMA = 0.9\n",
        "EPS_START = 1.0\n",
        "EPS_END = 0.2\n",
        "EPS_DECAY = 6000\n",
        "steps_done = 0"
      ],
      "execution_count": 53,
      "outputs": []
    },
    {
      "cell_type": "code",
      "metadata": {
        "id": "1ZLpeWB8ELUr"
      },
      "source": [
        "def select_action(state):\n",
        "  \n",
        "    global steps_done\n",
        "    steps_done += 1\n",
        "\n",
        "    state = image_transformations(state).unsqueeze(0)\n",
        "    probs = model.run_on_state(state)\n",
        "    categorical = Categorical(probs)\n",
        "\n",
        "    action = categorical.sample()\n",
        "    model.saved_actions.append(ActionLog(categorical.log_prob(action)))\n",
        "\n",
        "\n",
        "    return action.item()"
      ],
      "execution_count": 56,
      "outputs": []
    },
    {
      "cell_type": "code",
      "metadata": {
        "id": "w8IhhbNIENpT"
      },
      "source": [
        "def train_on_episode():\n",
        "\n",
        "    saved_actions = model.saved_actions\n",
        "    policy_losses = [] \n",
        "    returns = []\n",
        "\n",
        "    step_total_r = 0\n",
        "    for step_immediate_rewars in reversed(model.rewards):\n",
        "        step_total_r = step_immediate_rewars + GAMMA * step_total_r\n",
        "        returns.insert(0, step_total_r)\n",
        "\n",
        "    returns = torch.tensor(returns).to(device)\n",
        "\n",
        "    returns = (returns - returns.mean()) / (returns.std() + eps)\n",
        "\n",
        "    for (saved_action, step_total_r) in zip(saved_actions, returns):\n",
        "        policy_losses.append(-saved_action.log_prob * step_total_r)\n",
        "\n",
        "\n",
        "    optimizer.zero_grad()\n",
        "  \n",
        "    loss = torch.cat(policy_losses).sum()\n",
        "\n",
        "    loss.backward()\n",
        "    optimizer.step()\n",
        "    \n",
        "    model.rewards = []\n",
        "    model.saved_actions = []\n",
        "\n",
        "    return loss"
      ],
      "execution_count": 75,
      "outputs": []
    },
    {
      "cell_type": "code",
      "metadata": {
        "id": "SIMSVv5DvIp9"
      },
      "source": [
        "net = Net(num_of_actions).init_weights().to(device)\n",
        "\n",
        "model = Agent(net)\n",
        "\n",
        "optimizer = optim.RMSprop(net.parameters(), lr=0.001)\n",
        "\n",
        "eps = np.finfo(np.float32).eps.item()"
      ],
      "execution_count": 76,
      "outputs": []
    },
    {
      "cell_type": "code",
      "metadata": {
        "id": "wtCNc3BlEQAT"
      },
      "source": [
        "episodes_durations = []\n",
        "steps_done = 0\n",
        "net.train()\n",
        "\n",
        "for episode_number in count(1):\n",
        "\n",
        "  if episode_number % 50 == 0:\n",
        "    print('episode_number {}'.format(episode_number))\n",
        "\n",
        "  state = env.reset()\n",
        "\n",
        "  for step_number in range(1, 10000):\n",
        "\n",
        "    action = select_action(state)\n",
        "    \n",
        "    state, reward, done, _ = env.step(action)\n",
        "            \n",
        "    model.rewards.append(reward)\n",
        "\n",
        "    if done:\n",
        "      episodes_durations.append(step_number)\n",
        "      break\n",
        "  \n",
        "  train_on_episode()\n",
        "\n"
      ],
      "execution_count": null,
      "outputs": []
    },
    {
      "cell_type": "code",
      "metadata": {
        "colab": {
          "base_uri": "https://localhost:8080/",
          "height": 303
        },
        "id": "KTczNnZWUFq-",
        "outputId": "cb8e3b9b-7b87-49a2-d8bc-3d9adec30495"
      },
      "source": [
        "\n",
        "\n",
        "durations_df = pd.DataFrame([(iteration, duration) for (iteration, duration) in enumerate(episodes_durations)], columns =[\"iteration\", \"duration\"])\n",
        "sns.set_theme(style=\"whitegrid\")\n",
        "\n",
        "sns.scatterplot(data=durations_df, x=\"iteration\", y=\"duration\")"
      ],
      "execution_count": 63,
      "outputs": [
        {
          "output_type": "execute_result",
          "data": {
            "text/plain": [
              "<matplotlib.axes._subplots.AxesSubplot at 0x7eff2614d7d0>"
            ]
          },
          "metadata": {},
          "execution_count": 63
        },
        {
          "output_type": "display_data",
          "data": {
            "image/png": "[encoded data removed]",
            "text/plain": [
              "<Figure size 432x288 with 1 Axes>"
            ]
          },
          "metadata": {}
        }
      ]
    },
    {
      "cell_type": "code",
      "metadata": {
        "colab": {
          "base_uri": "https://localhost:8080/"
        },
        "id": "q20CbQb3r3bk",
        "outputId": "f547b2b0-a517-4da4-b1d8-dde75e976e94"
      },
      "source": [
        "net.eval()\n",
        "\n",
        "state1 = image_transformations(state).unsqueeze(0).to(device)\n",
        "\n",
        "net(state1)"
      ],
      "execution_count": 66,
      "outputs": [
        {
          "output_type": "execute_result",
          "data": {
            "text/plain": [
              "tensor([[1.7731e-13, 3.5692e-16, 7.0426e-14, 3.4910e-16, 3.2052e-16, 1.0000e+00,\n",
              "         3.2384e-16, 3.2431e-16, 3.5731e-16, 3.1402e-16, 3.5794e-16, 3.6557e-10,\n",
              "         3.5925e-16]], device='cuda:0', grad_fn=<SoftmaxBackward>)"
            ]
          },
          "metadata": {},
          "execution_count": 66
        }
      ]
    },
    {
      "cell_type": "code",
      "metadata": {
        "id": "WreDG12Sys4m",
        "outputId": "56f3a3c1-48dc-4be9-9861-bef2772576c0",
        "colab": {
          "base_uri": "https://localhost:8080/"
        }
      },
      "source": [
        "eps"
      ],
      "execution_count": 67,
      "outputs": [
        {
          "output_type": "execute_result",
          "data": {
            "text/plain": [
              "1.1920928955078125e-07"
            ]
          },
          "metadata": {},
          "execution_count": 67
        }
      ]
    }
  ]
}