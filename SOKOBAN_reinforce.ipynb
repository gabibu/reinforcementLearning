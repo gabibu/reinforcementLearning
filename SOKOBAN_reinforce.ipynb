{
  "nbformat": 4,
  "nbformat_minor": 0,
  "metadata": {
    "colab": {
      "name": "actor_critic.ipynb",
      "provenance": []
    },
    "kernelspec": {
      "name": "python3",
      "display_name": "Python 3"
    },
    "language_info": {
      "name": "python"
    },
    "accelerator": "GPU"
  },
  "cells": [
    {
      "cell_type": "code",
      "metadata": {
        "colab": {
          "base_uri": "https://localhost:8080/"
        },
        "id": "1TLLlx9MDsLm",
        "outputId": "12d2b247-db5e-41ba-8cf4-b66218ec75f5"
      },
      "source": [
        "!pip install gym_sokoban"
      ],
      "execution_count": 1,
      "outputs": [
        {
          "output_type": "stream",
          "text": [
            "Collecting gym_sokoban\n",
            "  Downloading gym_sokoban-0.0.6-py3-none-any.whl (36 kB)\n",
            "Requirement already satisfied: tqdm>=4.32.1 in /usr/local/lib/python3.7/dist-packages (from gym_sokoban) (4.62.0)\n",
            "Requirement already satisfied: imageio>=2.3.0 in /usr/local/lib/python3.7/dist-packages (from gym_sokoban) (2.4.1)\n",
            "Requirement already satisfied: numpy>=1.14.1 in /usr/local/lib/python3.7/dist-packages (from gym_sokoban) (1.19.5)\n",
            "Requirement already satisfied: gym>=0.2.3 in /usr/local/lib/python3.7/dist-packages (from gym_sokoban) (0.17.3)\n",
            "Requirement already satisfied: requests>=2.22.0 in /usr/local/lib/python3.7/dist-packages (from gym_sokoban) (2.23.0)\n",
            "Requirement already satisfied: pyglet<=1.5.0,>=1.4.0 in /usr/local/lib/python3.7/dist-packages (from gym>=0.2.3->gym_sokoban) (1.5.0)\n",
            "Requirement already satisfied: scipy in /usr/local/lib/python3.7/dist-packages (from gym>=0.2.3->gym_sokoban) (1.4.1)\n",
            "Requirement already satisfied: cloudpickle<1.7.0,>=1.2.0 in /usr/local/lib/python3.7/dist-packages (from gym>=0.2.3->gym_sokoban) (1.3.0)\n",
            "Requirement already satisfied: pillow in /usr/local/lib/python3.7/dist-packages (from imageio>=2.3.0->gym_sokoban) (7.1.2)\n",
            "Requirement already satisfied: future in /usr/local/lib/python3.7/dist-packages (from pyglet<=1.5.0,>=1.4.0->gym>=0.2.3->gym_sokoban) (0.16.0)\n",
            "Requirement already satisfied: chardet<4,>=3.0.2 in /usr/local/lib/python3.7/dist-packages (from requests>=2.22.0->gym_sokoban) (3.0.4)\n",
            "Requirement already satisfied: certifi>=2017.4.17 in /usr/local/lib/python3.7/dist-packages (from requests>=2.22.0->gym_sokoban) (2021.5.30)\n",
            "Requirement already satisfied: idna<3,>=2.5 in /usr/local/lib/python3.7/dist-packages (from requests>=2.22.0->gym_sokoban) (2.10)\n",
            "Requirement already satisfied: urllib3!=1.25.0,!=1.25.1,<1.26,>=1.21.1 in /usr/local/lib/python3.7/dist-packages (from requests>=2.22.0->gym_sokoban) (1.24.3)\n",
            "Installing collected packages: gym-sokoban\n",
            "Successfully installed gym-sokoban-0.0.6\n"
          ],
          "name": "stdout"
        }
      ]
    },
    {
      "cell_type": "code",
      "metadata": {
        "id": "LJxh1JNoL_OC"
      },
      "source": [
        "import argparse\n",
        "import gym\n",
        "import gym\n",
        "import gym_sokoban\n",
        "import numpy as np\n",
        "from itertools import count\n",
        "from collections import namedtuple\n",
        "\n",
        "import torch\n",
        "import torch.nn as nn\n",
        "import torch.nn.functional as F\n",
        "import torch.optim as optim\n",
        "from torch.distributions import Categorical\n",
        "import matplotlib.pyplot as plt\n",
        "import torchvision\n",
        "\n",
        "from torchvision.transforms.functional import InterpolationMode\n",
        "import torch.nn.functional as F\n",
        "import torchvision.transforms as T\n",
        "from PIL import Image\n",
        "import math\n",
        "import random \n",
        "import pandas as pd \n",
        "import seaborn as sns"
      ],
      "execution_count": 1,
      "outputs": []
    },
    {
      "cell_type": "code",
      "metadata": {
        "id": "mtE7zxPqi9go"
      },
      "source": [
        "image_transformations = T.Compose([\n",
        "                    T.ToPILImage(),\n",
        "                    T.Resize(64, interpolation= InterpolationMode.BILINEAR),\n",
        "                    T.ToTensor(),\n",
        "                    T.Normalize((0.5, 0.5, 0.5), (0.5, 0.5, 0.5))\n",
        "                    ])\n",
        "\n",
        "\n",
        "\n"
      ],
      "execution_count": 13,
      "outputs": []
    },
    {
      "cell_type": "code",
      "metadata": {
        "id": "vdDQhv6bfPsx"
      },
      "source": [
        "MAX_NUM_OF_ITERATIONS = 150\n",
        "seed = 999"
      ],
      "execution_count": 2,
      "outputs": []
    },
    {
      "cell_type": "code",
      "metadata": {
        "colab": {
          "base_uri": "https://localhost:8080/"
        },
        "id": "Wodr19xdDxZl",
        "outputId": "eded80a2-812d-4c1a-ec67-3ffbfde5a51a"
      },
      "source": [
        "env = gym.make('PushAndPull-Sokoban-v2')\n",
        "\n",
        "env.max_steps =  MAX_NUM_OF_ITERATIONS\n",
        "screen = env.render(mode='rgb_array')\n",
        "env.seed(seed)\n",
        "torch.manual_seed(seed)\n",
        "num_of_actions = env.action_space.n\n",
        "num_of_actions"
      ],
      "execution_count": 3,
      "outputs": [
        {
          "output_type": "execute_result",
          "data": {
            "text/plain": [
              "13"
            ]
          },
          "metadata": {},
          "execution_count": 3
        }
      ]
    },
    {
      "cell_type": "code",
      "metadata": {
        "colab": {
          "base_uri": "https://localhost:8080/",
          "height": 302
        },
        "id": "kdkcJEr1i4Li",
        "outputId": "8383b845-50bf-4f6a-fc57-cd1c6906f575"
      },
      "source": [
        "state_transformed = image_transformations(env.reset())\n",
        "plt.imshow(state_transformed.permute(1,2,0).detach().cpu().numpy())"
      ],
      "execution_count": 14,
      "outputs": [
        {
          "output_type": "stream",
          "text": [
            "Clipping input data to the valid range for imshow with RGB data ([0..1] for floats or [0..255] for integers).\n"
          ],
          "name": "stderr"
        },
        {
          "output_type": "execute_result",
          "data": {
            "text/plain": [
              "<matplotlib.image.AxesImage at 0x7efeed94b410>"
            ]
          },
          "metadata": {},
          "execution_count": 14
        },
        {
          "output_type": "display_data",
          "data": {
            "image/png": "[encoded data removed]",
            "text/plain": [
              "<Figure size 432x288 with 1 Axes>"
            ]
          },
          "metadata": {
            "needs_background": "light"
          }
        }
      ]
    },
    {
      "cell_type": "code",
      "metadata": {
        "colab": {
          "base_uri": "https://localhost:8080/"
        },
        "id": "jlPcO4lHL8Lb",
        "outputId": "a44c7587-31ae-4cd5-ec80-5587ecd6b914"
      },
      "source": [
        "device = torch.device(\"cuda\" if torch.cuda.is_available() else \"cpu\")\n",
        "device"
      ],
      "execution_count": 5,
      "outputs": [
        {
          "output_type": "execute_result",
          "data": {
            "text/plain": [
              "device(type='cuda')"
            ]
          },
          "metadata": {},
          "execution_count": 5
        }
      ]
    },
    {
      "cell_type": "code",
      "metadata": {
        "id": "H7ejhxyoEFVL"
      },
      "source": [
        "ActionLog = namedtuple('ActionLog', ['log_prob'])"
      ],
      "execution_count": 6,
      "outputs": []
    },
    {
      "cell_type": "code",
      "metadata": {
        "id": "MxVqBbfSEHM8"
      },
      "source": [
        "class Net(nn.Module):\n",
        "    def __init__(self, num_of_actions):\n",
        "        super().__init__()\n",
        "        self.pool = nn.MaxPool2d(2, 2)\n",
        "        self.conv1 = nn.Conv2d(3, 6, 7)\n",
        "        self.conv2 = nn.Conv2d(6, 16, 5)\n",
        "        self.conv3 = nn.Conv2d(16, 16, 3)\n",
        "        self.pre_actions1 = nn.Linear(400, 200)\n",
        "        self.pre_actions2 = nn.Linear(200, 100)\n",
        "        self.actions = nn.Linear(100, num_of_actions)\n",
        "\n",
        "    def forward(self, x):\n",
        "\n",
        "        x = self.pool(F.leaky_relu(self.conv1(x)))\n",
        "        x = self.pool(F.leaky_relu(self.conv2(x)))\n",
        "        x = self.pool(F.leaky_relu(self.conv3(x)))\n",
        "        x = torch.flatten(x, 1) \n",
        "\n",
        "        actions = F.leaky_relu(self.pre_actions1(x))\n",
        "        actions = F.leaky_relu(self.pre_actions2(actions))\n",
        "        actions = F.leaky_relu(self.actions(actions))\n",
        "        actions = F.softmax(actions, dim=1)\n",
        "\n",
        "        return actions\n",
        "\n",
        "    def init_weights(self):\n",
        "\n",
        "      torch.nn.init.xavier_uniform_(self.conv1.weight)\n",
        "      torch.nn.init.xavier_uniform_(self.conv2.weight)\n",
        "      torch.nn.init.xavier_uniform_(self.conv3.weight)\n",
        "      torch.nn.init.xavier_uniform_(self.pre_actions1.weight)\n",
        "      torch.nn.init.xavier_uniform_(self.pre_actions2.weight)\n",
        "\n",
        "      torch.nn.init.xavier_uniform_(self.actions.weight)\n",
        "\n",
        "  \n",
        "\n",
        "      return self\n",
        "\n",
        "class Agent:\n",
        "    def __init__(self, net):\n",
        "        self.net = net \n",
        "\n",
        "        self.saved_actions = []\n",
        "        self.rewards = []\n",
        "\n",
        "    def run_on_state(self, state):\n",
        "\n",
        "        state = state.to(device)\n",
        "        actions_prob = self.net(state)\n",
        "      \n",
        "        return  actions_prob\n"
      ],
      "execution_count": 7,
      "outputs": []
    },
    {
      "cell_type": "code",
      "metadata": {
        "id": "xaM_-uymNazL"
      },
      "source": [
        ""
      ],
      "execution_count": null,
      "outputs": []
    },
    {
      "cell_type": "code",
      "metadata": {
        "id": "IzVf6Scad7ds"
      },
      "source": [
        ""
      ],
      "execution_count": 58,
      "outputs": []
    },
    {
      "cell_type": "code",
      "metadata": {
        "id": "Gbc1-WVnUOpf"
      },
      "source": [
        "GAMMA = 0.9\n",
        "EPS_START = 1.0\n",
        "EPS_END = 0.2\n",
        "EPS_DECAY = 6000\n",
        "steps_done = 0"
      ],
      "execution_count": 8,
      "outputs": []
    },
    {
      "cell_type": "code",
      "metadata": {
        "id": "1ZLpeWB8ELUr"
      },
      "source": [
        "def select_action(state, not_allowed_actions = None):\n",
        "  \n",
        "    global steps_done\n",
        "    steps_done += 1\n",
        "\n",
        "    state_tensor = image_transformations(state).unsqueeze(0)\n",
        "    probs = model.run_on_state(state_tensor)\n",
        "    categorical = Categorical(probs)\n",
        "\n",
        "    action = categorical.sample()\n",
        "\n",
        "    # while not_allowed_actions is not None and any(not_allowed_actions) and  action.item() in not_allowed_actions:\n",
        "    #   action = categorical.sample()\n",
        "\n",
        "\n",
        "\n",
        "    model.saved_actions.append(ActionLog(categorical.log_prob(action)))\n",
        "\n",
        "\n",
        "    return action.item()"
      ],
      "execution_count": 9,
      "outputs": []
    },
    {
      "cell_type": "code",
      "metadata": {
        "id": "w8IhhbNIENpT"
      },
      "source": [
        "def train_on_episode():\n",
        "\n",
        "    saved_actions = model.saved_actions\n",
        "    policy_losses = [] \n",
        "    returns = []\n",
        "\n",
        "    step_total_r = 0\n",
        "    for step_immediate_rewars in reversed(model.rewards):\n",
        "        step_total_r = step_immediate_rewars + GAMMA * step_total_r\n",
        "        returns.insert(0, step_total_r)\n",
        "\n",
        "    returns = torch.tensor(returns).to(device)\n",
        "\n",
        "    returns = (returns - returns.mean()) / (returns.std() + eps)\n",
        "\n",
        "    prev_state = None\n",
        "    prev_action = None\n",
        "    for (saved_action, step_total_r) in zip(saved_actions, returns):\n",
        "\n",
        "        # policy_losses.append(-saved_action.log_prob * step_total_r)\n",
        "        policy_losses.append(-saved_action.log_prob * step_total_r)\n",
        "\n",
        "\n",
        "    optimizer.zero_grad()\n",
        "  \n",
        "    loss = torch.cat(policy_losses).sum()\n",
        "\n",
        "    loss.backward()\n",
        "    optimizer.step()\n",
        "    \n",
        "    model.rewards = []\n",
        "    model.saved_actions = []\n",
        "\n",
        "    return loss"
      ],
      "execution_count": 10,
      "outputs": []
    },
    {
      "cell_type": "code",
      "metadata": {
        "id": "SIMSVv5DvIp9"
      },
      "source": [
        "net = Net(num_of_actions).init_weights().to(device)\n",
        "\n",
        "model = Agent(net)\n",
        "\n",
        "optimizer = optim.SGD(net.parameters(), lr=0.0001)\n",
        "\n",
        "eps = np.finfo(np.float32).eps.item()"
      ],
      "execution_count": 21,
      "outputs": []
    },
    {
      "cell_type": "code",
      "metadata": {
        "colab": {
          "base_uri": "https://localhost:8080/"
        },
        "id": "wtCNc3BlEQAT",
        "outputId": "f5e631d0-52d6-4c11-a9e8-9d5873dc0de8"
      },
      "source": [
        "episodes_durations = []\n",
        "steps_done = 0\n",
        "net.train()\n",
        "\n",
        "\n",
        "for episode_number in count(1):\n",
        "\n",
        "  if episode_number > 5000:\n",
        "    break\n",
        "  if episode_number % 50 == 0:\n",
        "    print('episode_number {}'.format(episode_number))\n",
        "\n",
        "  state = env.reset()\n",
        "\n",
        "\n",
        "  #not_allowed_actions = None\n",
        "  for step_number in range(1, 10000):\n",
        "    #prev_state = state \n",
        "    action = select_action(state)\n",
        "  \n",
        "    state, reward, done, _ = env.step(action)\n",
        "    \n",
        "    # if prev_state is not None and np.array_equal(prev_state, state):\n",
        "    #   not_allowed_actions = not_allowed_actions if not_allowed_actions is not None else []\n",
        "\n",
        "    #   not_allowed_actions.append(action)\n",
        "\n",
        "    # else:\n",
        "    #   not_allowed_actions = None\n",
        "    \n",
        "    #prev_state = state\n",
        "\n",
        "    model.rewards.append(reward)\n",
        "\n",
        "    if done:\n",
        "      episodes_durations.append(step_number)\n",
        "      break\n",
        "\n",
        "  train_on_episode()\n",
        "\n"
      ],
      "execution_count": 22,
      "outputs": [
        {
          "output_type": "stream",
          "text": [
            "episode_number 50\n",
            "episode_number 100\n",
            "episode_number 150\n",
            "episode_number 200\n",
            "episode_number 250\n",
            "episode_number 300\n",
            "episode_number 350\n",
            "episode_number 400\n",
            "episode_number 450\n",
            "episode_number 500\n",
            "episode_number 550\n",
            "episode_number 600\n",
            "episode_number 650\n",
            "episode_number 700\n",
            "episode_number 750\n",
            "episode_number 800\n",
            "episode_number 850\n",
            "episode_number 900\n",
            "episode_number 950\n",
            "episode_number 1000\n",
            "episode_number 1050\n",
            "episode_number 1100\n",
            "episode_number 1150\n",
            "episode_number 1200\n",
            "episode_number 1250\n",
            "episode_number 1300\n",
            "episode_number 1350\n",
            "episode_number 1400\n",
            "episode_number 1450\n",
            "episode_number 1500\n",
            "episode_number 1550\n",
            "episode_number 1600\n",
            "episode_number 1650\n",
            "episode_number 1700\n",
            "episode_number 1750\n",
            "episode_number 1800\n",
            "episode_number 1850\n",
            "episode_number 1900\n",
            "episode_number 1950\n",
            "episode_number 2000\n",
            "episode_number 2050\n",
            "episode_number 2100\n",
            "episode_number 2150\n",
            "episode_number 2200\n",
            "episode_number 2250\n",
            "episode_number 2300\n",
            "episode_number 2350\n",
            "episode_number 2400\n",
            "episode_number 2450\n",
            "episode_number 2500\n",
            "episode_number 2550\n",
            "episode_number 2600\n",
            "episode_number 2650\n",
            "episode_number 2700\n",
            "episode_number 2750\n",
            "episode_number 2800\n",
            "[SOKOBAN] Runtime Error/Warning: Not enough free spots (#3) to place 1 player and 2 boxes.\n",
            "[SOKOBAN] Retry . . .\n",
            "episode_number 2850\n",
            "episode_number 2900\n",
            "episode_number 2950\n",
            "episode_number 3000\n",
            "episode_number 3050\n",
            "episode_number 3100\n",
            "episode_number 3150\n",
            "episode_number 3200\n",
            "episode_number 3250\n",
            "episode_number 3300\n",
            "episode_number 3350\n",
            "episode_number 3400\n",
            "episode_number 3450\n",
            "episode_number 3500\n",
            "episode_number 3550\n",
            "episode_number 3600\n",
            "episode_number 3650\n",
            "episode_number 3700\n",
            "episode_number 3750\n",
            "episode_number 3800\n",
            "episode_number 3850\n",
            "episode_number 3900\n",
            "episode_number 3950\n",
            "episode_number 4000\n",
            "episode_number 4050\n",
            "episode_number 4100\n",
            "episode_number 4150\n",
            "episode_number 4200\n",
            "episode_number 4250\n",
            "episode_number 4300\n",
            "episode_number 4350\n",
            "episode_number 4400\n",
            "episode_number 4450\n",
            "episode_number 4500\n",
            "episode_number 4550\n",
            "episode_number 4600\n",
            "episode_number 4650\n",
            "episode_number 4700\n",
            "episode_number 4750\n",
            "episode_number 4800\n",
            "episode_number 4850\n",
            "episode_number 4900\n",
            "episode_number 4950\n",
            "episode_number 5000\n"
          ],
          "name": "stdout"
        }
      ]
    },
    {
      "cell_type": "code",
      "metadata": {
        "colab": {
          "base_uri": "https://localhost:8080/",
          "height": 302
        },
        "id": "KTczNnZWUFq-",
        "outputId": "ccb7b13a-59a8-4484-a8af-2a5da4bccff6"
      },
      "source": [
        "\n",
        "durations_df = pd.DataFrame([(iteration, duration) for (iteration, duration) in enumerate(episodes_durations)], columns =[\"iteration\", \"duration\"])\n",
        "sns.set_theme(style=\"whitegrid\")\n",
        "\n",
        "sns.scatterplot(data=durations_df, x=\"iteration\", y=\"duration\")"
      ],
      "execution_count": 23,
      "outputs": [
        {
          "output_type": "execute_result",
          "data": {
            "text/plain": [
              "<matplotlib.axes._subplots.AxesSubplot at 0x7efeaafa9f50>"
            ]
          },
          "metadata": {},
          "execution_count": 23
        },
        {
          "output_type": "display_data",
          "data": {
            "image/png": "[encoded data removed]",
            "text/plain": [
              "<Figure size 432x288 with 1 Axes>"
            ]
          },
          "metadata": {}
        }
      ]
    },
    {
      "cell_type": "code",
      "metadata": {
        "id": "r0QKeqnqCK6M"
      },
      "source": [
        ""
      ],
      "execution_count": 35,
      "outputs": []
    },
    {
      "cell_type": "code",
      "metadata": {
        "id": "rQARuqlnAnk1"
      },
      "source": [
        "state = env.reset()"
      ],
      "execution_count": 17,
      "outputs": []
    },
    {
      "cell_type": "code",
      "metadata": {
        "colab": {
          "base_uri": "https://localhost:8080/"
        },
        "id": "q20CbQb3r3bk",
        "outputId": "09f01e10-ceda-4a9d-b80b-22e167824794"
      },
      "source": [
        "\n",
        "net.eval()\n",
        "net.to(device)\n",
        "state1 = image_transformations(state).unsqueeze(0).to(device)\n",
        "\n",
        "net(state1)"
      ],
      "execution_count": 18,
      "outputs": [
        {
          "output_type": "execute_result",
          "data": {
            "text/plain": [
              "tensor([[0.0731, 0.0731, 0.0731, 0.0731, 0.0826, 0.0731, 0.0817, 0.0926, 0.0732,\n",
              "         0.0850, 0.0732, 0.0730, 0.0732]], device='cuda:0',\n",
              "       grad_fn=<SoftmaxBackward>)"
            ]
          },
          "metadata": {},
          "execution_count": 18
        }
      ]
    },
    {
      "cell_type": "code",
      "metadata": {
        "colab": {
          "base_uri": "https://localhost:8080/"
        },
        "id": "GevOoTxi8DGy",
        "outputId": "39aacf9e-c452-4bab-8f20-76fcd6c385c1"
      },
      "source": [
        ""
      ],
      "execution_count": 139,
      "outputs": [
        {
          "output_type": "execute_result",
          "data": {
            "text/plain": [
              "0.82254"
            ]
          },
          "metadata": {},
          "execution_count": 139
        }
      ]
    },
    {
      "cell_type": "code",
      "metadata": {
        "colab": {
          "base_uri": "https://localhost:8080/"
        },
        "id": "WreDG12Sys4m",
        "outputId": "58aee422-5c2a-4923-9bb9-7c7e22b5a41e"
      },
      "source": [
        "saved_actions = model.saved_actions\n",
        "policy_losses = [] \n",
        "returns = []\n",
        "\n",
        "step_total_r = 0\n",
        "for step_immediate_rewars in reversed(model.rewards):\n",
        "  step_total_r = step_immediate_rewars + GAMMA * step_total_r\n",
        "  returns.insert(0, step_total_r)\n",
        "\n",
        "returns = torch.tensor(returns).to(device)\n",
        "\n",
        "returns = (returns - returns.mean()) / (returns.std() + eps)\n",
        "\n",
        "for (saved_action, step_total_r) in zip(saved_actions, returns):\n",
        "  # policy_losses.append(-saved_action.log_prob * step_total_r)\n",
        "  policy_losses.append(saved_action.log_prob * step_total_r)\n",
        "\n",
        "   \n",
        "optimizer.zero_grad()\n",
        "  \n",
        "loss = torch.cat(policy_losses).sum()\n",
        "\n",
        "loss.backward()\n",
        "optimizer.step()\n",
        "\n",
        "model.rewards = []\n",
        "model.saved_actions = []    \n",
        "loss\n",
        "\n",
        "\n",
        "# loss = \n",
        "# loss"
      ],
      "execution_count": 137,
      "outputs": [
        {
          "output_type": "execute_result",
          "data": {
            "text/plain": [
              "tensor(2.0550, device='cuda:0', grad_fn=<SumBackward0>)"
            ]
          },
          "metadata": {},
          "execution_count": 137
        }
      ]
    },
    {
      "cell_type": "code",
      "metadata": {
        "colab": {
          "base_uri": "https://localhost:8080/"
        },
        "id": "7iFmz9ws0C6N",
        "outputId": "4acee430-6e09-4633-92db-3c240f5c6945"
      },
      "source": [
        "\n",
        "\n",
        "\n",
        "state1 = image_transformations(state).unsqueeze(0)\n",
        "probs = model.run_on_state(state1)\n",
        "probs\n",
        "# categorical = Categorical(probs)\n",
        "\n",
        "# action = categorical.sample()\n",
        "# action, probs, categorical.log_prob(action)\n",
        "\n",
        "# model.saved_actions.append(ActionLog(categorical.log_prob(action)))"
      ],
      "execution_count": 142,
      "outputs": [
        {
          "output_type": "execute_result",
          "data": {
            "text/plain": [
              "tensor([[5.4675e-04, 8.2254e-01, 5.6333e-04, 5.5430e-04, 5.6239e-04, 5.4557e-04,\n",
              "         5.3103e-04, 7.9609e-04, 1.3101e-01, 5.6406e-04, 5.5700e-04, 4.0683e-02,\n",
              "         5.5461e-04]], device='cuda:0', grad_fn=<SoftmaxBackward>)"
            ]
          },
          "metadata": {},
          "execution_count": 142
        }
      ]
    },
    {
      "cell_type": "code",
      "metadata": {
        "id": "RTdd4rTy1ReE"
      },
      "source": [
        "# [(a.log_prob, a.action) for a in saved_actions]"
      ],
      "execution_count": 154,
      "outputs": []
    }
  ]
}