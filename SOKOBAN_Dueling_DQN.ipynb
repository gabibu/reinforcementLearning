{
  "nbformat": 4,
  "nbformat_minor": 0,
  "metadata": {
    "colab": {
      "name": "Project-SOKOBANchallenge.ipynb",
      "private_outputs": true,
      "provenance": [],
      "collapsed_sections": []
    },
    "kernelspec": {
      "display_name": "Python 3",
      "language": "python",
      "name": "python3"
    },
    "pycharm": {
      "stem_cell": {
        "cell_type": "raw",
        "metadata": {
          "collapsed": false
        },
        "source": []
      }
    },
    "accelerator": "GPU"
  },
  "cells": [
    {
      "cell_type": "code",
      "metadata": {
        "id": "cOs7qfBGZ-Rm"
      },
      "source": [
        "!sudo apt-get install -y xvfb ffmpeg x11-utils\n",
        "!pip install -q 'gym==0.10.11'\n",
        "!pip install -q 'imageio==2.4.0'\n",
        "!pip install -q PILLOW\n",
        "!pip install -q 'pyglet==1.3.2'\n",
        "!pip install -q pyvirtualdisplay\n",
        "!pip install -q tf-agents\n",
        "!pip install colabgymrender\n",
        "!pip install gym_sokoban\n",
        "!pip install gym\n",
        "!apt-get install python-opengl -y\n",
        "!apt-get install -y xvfb python-opengl > /dev/null 2>&1\n",
        "!pip install gym pyvirtualdisplay > /dev/null 2>&1\n",
        "!apt-get install python-opengl -y\n",
        "!apt install xvfb -y\n",
        "!pip install piglet"
      ],
      "execution_count": null,
      "outputs": []
    },
    {
      "cell_type": "code",
      "metadata": {
        "id": "KEHR2Ui-lo8O"
      },
      "source": [
        "import gym\n",
        "import gym_sokoban\n",
        "\n",
        "from pyvirtualdisplay import Display\n",
        "display = Display(visible=0, size=(1400, 900))\n",
        "display.start()\n",
        "\n",
        "from colabgymrender.recorder import Recorder\n",
        "from IPython import display as ipythondisplay\n",
        "from pyvirtualdisplay import Display\n",
        "Display().start()\n",
        "import matplotlib.pyplot as plt\n",
        "from IPython import display as ipythondisplay\n",
        "\n",
        "\n",
        "import gym\n",
        "import math\n",
        "import random\n",
        "import numpy as np\n",
        "import matplotlib\n",
        "import matplotlib.pyplot as plt\n",
        "from collections import namedtuple, deque\n",
        "from itertools import count\n",
        "from PIL import Image\n",
        "\n",
        "import torch\n",
        "import torch.nn as nn\n",
        "import torch.optim as optim\n",
        "import torch.nn.functional as F\n",
        "import torchvision.transforms as T\n",
        "\n",
        "\n",
        "is_ipython = 'inline' in matplotlib.get_backend()\n",
        "if is_ipython:\n",
        "    from IPython import display\n",
        "\n",
        "plt.ion()"
      ],
      "execution_count": null,
      "outputs": []
    },
    {
      "cell_type": "code",
      "metadata": {
        "id": "DbOqA9qYNYBo"
      },
      "source": [
        "env = gym.make(\"PushAndPull-Sokoban-v2\")\n",
        "env.max_steps =  5000 \n",
        "screen = env.render(mode='rgb_array')\n",
        "print(screen.shape)"
      ],
      "execution_count": null,
      "outputs": []
    },
    {
      "cell_type": "code",
      "metadata": {
        "id": "b-aVN4BGXmgs"
      },
      "source": [
        "plt.imshow(screen)"
      ],
      "execution_count": null,
      "outputs": []
    },
    {
      "cell_type": "code",
      "metadata": {
        "id": "EdYfjj-vNoX5"
      },
      "source": [
        "device = torch.device(\"cuda\" if torch.cuda.is_available() else \"cpu\")\n",
        "device"
      ],
      "execution_count": null,
      "outputs": []
    },
    {
      "cell_type": "code",
      "metadata": {
        "id": "35CiY2RUbPSs"
      },
      "source": [
        "Transition = namedtuple('Transition',\n",
        "                        ('state', 'action', 'next_state', 'reward'))\n",
        "\n",
        "\n",
        "class ReplayMemory(object):\n",
        "\n",
        "    def __init__(self, capacity):\n",
        "        self.memory = deque([],maxlen=capacity)\n",
        "\n",
        "    def push(self, *args):\n",
        "        \"\"\"Save a transition\"\"\"\n",
        "        self.memory.append(Transition(*args))\n",
        "\n",
        "    def sample(self, batch_size):\n",
        "        return random.sample(self.memory, batch_size)\n",
        "\n",
        "    def __len__(self):\n",
        "        return len(self.memory)"
      ],
      "execution_count": null,
      "outputs": []
    },
    {
      "cell_type": "code",
      "metadata": {
        "id": "oN-_r-DJbTOb"
      },
      "source": [
        "class DQN(nn.Module):\n",
        "    def __init__(self, outputs):\n",
        "        super().__init__()\n",
        "\n",
        "        self.conv1 = nn.Conv2d(1, 6, 5)\n",
        "        self.pool1 = nn.MaxPool2d(2, 2)\n",
        "        self.pool2 = nn.MaxPool2d(2, 2)\n",
        "        self.conv2 = nn.Conv2d(6, 16, 5)\n",
        "\n",
        "        self.pre_adv = nn.Linear(10000, 512)\n",
        "        self.adv = nn.Linear(512, outputs)\n",
        "\n",
        "        self.pre_val = nn.Linear(10000, 512)\n",
        "        self.val = nn.Linear(512, 1)\n",
        "        \n",
        "\n",
        "    def forward(self, x):\n",
        "        x = x.to(device)\n",
        "        x = self.pool1(F.relu(self.conv1(x)))\n",
        "\n",
        "        \n",
        "        x = self.pool2(F.relu(self.conv2(x)))\n",
        "        x = torch.flatten(x, 1) \n",
        "\n",
        "        adv = F.relu(self.pre_adv(x))\n",
        "        adv = self.adv(adv)\n",
        "\n",
        "        value = F.relu(self.pre_val(x))\n",
        "        value = self.val(value)\n",
        "        \n",
        "        \n",
        "        return value + adv - adv.mean()\n",
        "\n",
        "    \n",
        "    def init_weights(self):\n",
        "      torch.nn.init.xavier_uniform(self.conv1.weight)\n",
        "      torch.nn.init.xavier_uniform(self.conv2.weight)\n",
        "      \n",
        "      torch.nn.init.xavier_uniform(self.pre_adv.weight)\n",
        "      torch.nn.init.xavier_uniform(self.adv.weight)\n",
        "\n",
        "      torch.nn.init.xavier_uniform(self.pre_val.weight)\n",
        "      torch.nn.init.xavier_uniform(self.val.weight)\n",
        "\n",
        "      return self\n"
      ],
      "execution_count": null,
      "outputs": []
    },
    {
      "cell_type": "code",
      "metadata": {
        "id": "5g2E6ea0bZqa"
      },
      "source": [
        "resize = T.Compose([\n",
        "                    T.ToPILImage(),\n",
        "                    T.Grayscale(num_output_channels=1),\n",
        "                    T.ToTensor()])\n",
        "\n",
        "\n",
        "def get_screen():\n",
        "    screen = env.render(mode='rgb_array')\n",
        "    return resize(screen)"
      ],
      "execution_count": null,
      "outputs": []
    },
    {
      "cell_type": "code",
      "metadata": {
        "id": "rUc-gABhkwNu"
      },
      "source": [
        "BATCH_SIZE = 32\n",
        "GAMMA = 0.9\n",
        "EPS_START = 1.0\n",
        "EPS_END = 0.1\n",
        "EPS_DECAY = 60000\n",
        "TARGET_UPDATE = 10\n",
        "\n",
        "init_screen = get_screen()\n",
        "\n",
        "_, screen_height, screen_width = init_screen.shape\n",
        "\n",
        "n_actions = env.action_space.n\n",
        "\n",
        "policy_net = DQN(n_actions)\n",
        "policy_net.init_weights()\n",
        "policy_net.to(device)\n",
        "\n",
        "target_net = DQN(n_actions).to(device)\n",
        "target_net.load_state_dict(policy_net.state_dict())\n",
        "target_net.eval()\n",
        "\n",
        "optimizer = optim.RMSprop(policy_net.parameters(), lr=0.001)\n",
        "criterion = nn.SmoothL1Loss()\n"
      ],
      "execution_count": null,
      "outputs": []
    },
    {
      "cell_type": "code",
      "metadata": {
        "id": "7UZDLE0tlwW_"
      },
      "source": [
        "def select_action(state):\n",
        "    global steps_done\n",
        "    steps_done += 1\n",
        "\n",
        "    sample = random.random()\n",
        "    eps_threshold = EPS_END + (EPS_START - EPS_END) * \\\n",
        "        math.exp(-1. * steps_done / EPS_DECAY)\n",
        "    \n",
        "    if sample > eps_threshold:\n",
        "        with torch.no_grad():\n",
        "            return policy_net(state).max(1)[1].view(1, 1)\n",
        "    else:\n",
        "        return torch.tensor([[random.randrange(n_actions)]], device=device, dtype=torch.long)"
      ],
      "execution_count": null,
      "outputs": []
    },
    {
      "cell_type": "code",
      "metadata": {
        "id": "BJu43wD5ox-F"
      },
      "source": [
        "def optimize_model():\n",
        "    if len(memory) < BATCH_SIZE:\n",
        "        return\n",
        "        \n",
        "    transitions = memory.sample(BATCH_SIZE)\n",
        "\n",
        "    batch = Transition(*zip(*transitions))\n",
        "    non_final_mask = torch.tensor(tuple(map(lambda s: s is not None,\n",
        "                                          batch.next_state)), device=device, dtype=torch.bool)\n",
        "    non_final_next_states = torch.cat([s for s in batch.next_state\n",
        "                                                if s is not None])\n",
        "    state_batch = torch.cat(batch.state)\n",
        "    action_batch = torch.cat(batch.action)\n",
        "    reward_batch = torch.cat(batch.reward)\n",
        "    state_action_values = policy_net(state_batch).gather(1, action_batch)\n",
        "\n",
        "  \n",
        "    next_state_values = torch.zeros(BATCH_SIZE, device=device)\n",
        "    next_state_values[non_final_mask] = target_net(non_final_next_states).max(1)[0].detach()\n",
        "  \n",
        "    expected_state_action_values = (next_state_values * GAMMA) + reward_batch    \n",
        "    loss = criterion(state_action_values, expected_state_action_values.unsqueeze(1))\n",
        "\n",
        "    optimizer.zero_grad()\n",
        "    loss.backward()\n",
        "\n",
        "    optimizer.step()"
      ],
      "execution_count": null,
      "outputs": []
    },
    {
      "cell_type": "code",
      "metadata": {
        "id": "k4tX-KDmo2ND"
      },
      "source": [
        "num_episodes = 10000\n",
        "episode_durations = []\n",
        "steps_done = 0\n",
        "memory = ReplayMemory(2500)\n",
        "policy_net.train()\n",
        "target_net.eval()\n",
        "sarsa_k = 1\n",
        "\n",
        "\n",
        "for i_episode in range(num_episodes):\n",
        "    \n",
        "    if i_episode % 50 == 0:\n",
        "      print(i_episode)\n",
        "\n",
        "    env.reset()\n",
        "    state = get_screen().unsqueeze(0)\n",
        "\n",
        "    prev_states = []\n",
        "    sarsa_k_states = []\n",
        "    for t in count():\n",
        "        action = select_action(state)\n",
        "        _, reward, done, _ = env.step(action.item())\n",
        "        reward = torch.tensor([reward], device=device)\n",
        "        next_state = get_screen().unsqueeze(0)\n",
        "\n",
        "        if not done:\n",
        "          if sarsa_k == 1:\n",
        "            memory.push(state, action, next_state, reward)\n",
        "          else:\n",
        "            sarsa_k_states_new = []\n",
        "            for prev_state, prev_action, _, prev_rewards, prev_counter in sarsa_k_states:\n",
        "              k_rewards = prev_rewards + reward\n",
        "              counter = prev_counter +  1\n",
        "\n",
        "              if counter == sarsa_k:\n",
        "                memory.push(prev_state, prev_action, next_state, k_rewards)\n",
        "              else:\n",
        "                sarsa_k_states_new.append((prev_state, prev_action, None, k_rewards, counter))\n",
        "          \n",
        "            sarsa_k_states_new.append((state, action, None, reward, 1))\n",
        "            sarsa_k_states = sarsa_k_states_new\n",
        "            sarsa_k_states_new = None\n",
        "        else:\n",
        "            next_state = None\n",
        "\n",
        "            for prev_state, prev_action, _, prev_rewards, prev_counter in sarsa_k_states:\n",
        "              k_rewards = prev_rewards + reward\n",
        "              memory.push(prev_state, prev_action, next_state, k_rewards)\n",
        "            \n",
        "            memory.push(state, action, next_state, reward)\n",
        "\n",
        "      \n",
        "\n",
        "        state = next_state\n",
        "\n",
        "        if steps_done % BATCH_SIZE == 0:\n",
        "          optimize_model()\n",
        "\n",
        "        if done:\n",
        "            episode_durations.append(t + 1)\n",
        "            break\n",
        "\n",
        "    if i_episode % TARGET_UPDATE == 0:\n",
        "        target_net.load_state_dict(policy_net.state_dict())\n",
        "        target_net.eval()\n",
        "\n",
        "\n",
        "env.close()"
      ],
      "execution_count": null,
      "outputs": []
    },
    {
      "cell_type": "code",
      "metadata": {
        "id": "RryY9rg68oUf"
      },
      "source": [
        ""
      ],
      "execution_count": null,
      "outputs": []
    }
  ]
}