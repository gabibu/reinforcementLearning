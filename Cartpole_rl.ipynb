{
  "nbformat": 4,
  "nbformat_minor": 0,
  "metadata": {
    "colab": {
      "name": "exercise_4_continous_action_space.ipynb",
      "version": "0.3.2",
      "provenance": [],
      "collapsed_sections": []
    },
    "language_info": {
      "codemirror_mode": {
        "name": "ipython",
        "version": 3
      },
      "file_extension": ".py",
      "mimetype": "text/x-python",
      "name": "python",
      "nbconvert_exporter": "python",
      "pygments_lexer": "ipython3",
      "version": "3.6.3"
    },
    "kernelspec": {
      "name": "python3",
      "display_name": "Python 3"
    },
    "accelerator": "GPU"
  },
  "cells": [
    {
      "cell_type": "markdown",
      "metadata": {
        "id": "OimD9qiN4Vh4",
        "colab_type": "text"
      },
      "source": [
        "# Continous Observation Space\n",
        "## Part 1:  Q-learning with Binarized state spaces\n",
        "\n",
        "This notebook will guide you through implementation of vanilla Q-learning algorithm... not again! just kidding this will be given.\n",
        "You will get `QlearningAgent` class and `play_and_train` fundtion. see below"
      ]
    },
    {
      "cell_type": "code",
      "metadata": {
        "id": "oiRqMCag4Vh6",
        "colab_type": "code",
        "colab": {}
      },
      "source": [
        "import os\n",
        "import numpy as np\n",
        "import matplotlib.pyplot as plt\n",
        "from collections import defaultdict\n",
        "import random, math\n",
        "import numpy as np\n",
        "import gym\n",
        "import numpy as np\n",
        "import matplotlib.pyplot as plt\n",
        "import pandas as pd\n",
        "import matplotlib.pyplot as plt\n",
        "%matplotlib inline\n",
        "%load_ext autoreload\n",
        "%autoreload 2"
      ],
      "execution_count": 0,
      "outputs": []
    },
    {
      "cell_type": "code",
      "metadata": {
        "id": "Ytm9C8Wh4ViB",
        "colab_type": "code",
        "colab": {}
      },
      "source": [
        "\n",
        "\n",
        "class QLearningAgent:\n",
        "    def __init__(self, alpha, epsilon, discount, get_legal_actions):\n",
        "        \"\"\"\n",
        "        Q-Learning Agent\n",
        "        based on http://inst.eecs.berkeley.edu/~cs188/sp09/pacman.html\n",
        "        Instance variables you have access to\n",
        "          - self.epsilon (exploration prob)\n",
        "          - self.alpha (learning rate)\n",
        "          - self.discount (discount rate aka gamma)\n",
        "\n",
        "        Functions you should use\n",
        "          - self.get_legal_actions(state) {state, hashable -> list of actions, each is hashable}\n",
        "            which returns legal actions for a state\n",
        "          - self.get_qvalue(state,action)\n",
        "            which returns Q(state,action)\n",
        "          - self.set_qvalue(state,action,value)\n",
        "            which sets Q(state,action) := value\n",
        "\n",
        "        !!!Important!!!\n",
        "        Note: please avoid using self._qValues directly. \n",
        "            There's a special self.get_qvalue/set_qvalue for that.\n",
        "        \"\"\"\n",
        "\n",
        "        self.get_legal_actions = get_legal_actions\n",
        "        self._qvalues = defaultdict(lambda: defaultdict(lambda: 0))\n",
        "        self.alpha = alpha\n",
        "        self.epsilon = epsilon\n",
        "        self.discount = discount\n",
        "\n",
        "    def get_qvalue(self, state, action):\n",
        "        \"\"\" Returns Q(state,action) \"\"\"\n",
        "        return self._qvalues[state][action]\n",
        "\n",
        "    def set_qvalue(self,state,action,value):\n",
        "        \"\"\" Sets the Qvalue for [state,action] to the given value \"\"\"\n",
        "        self._qvalues[state][action] = value\n",
        "\n",
        "    #---------------------START OF YOUR CODE---------------------#\n",
        "\n",
        "    def get_value(self, state):\n",
        "        \"\"\"\n",
        "        Compute your agent's estimate of V(s) using current q-values\n",
        "        V(s) = max_over_action Q(state,action) over possible actions.\n",
        "        Note: please take into account that q-values can be negative.\n",
        "        \"\"\"\n",
        "        possible_actions = self.get_legal_actions(state)\n",
        "\n",
        "        #If there are no legal actions, return 0.0\n",
        "        if len(possible_actions) == 0:\n",
        "            return 0.0\n",
        "\n",
        "        #<YOUR CODE HERE>\n",
        "        value = max(self.get_qvalue(state,action) for action in possible_actions)\n",
        "        \n",
        "        return value\n",
        "\n",
        "    def update(self, state, action, reward, next_state):\n",
        "        \"\"\"\n",
        "        You should do your Q-Value update here:\n",
        "           Q(s,a) := (1 - alpha) * Q(s,a) + alpha * (r + gamma * V(s'))\n",
        "        \"\"\"\n",
        "\n",
        "        #agent parameters\n",
        "        gamma = self.discount\n",
        "        learning_rate = self.alpha\n",
        "\n",
        "        #<YOUR CODE HERE>\n",
        "        value = (1-learning_rate) * self.get_qvalue(state,action) + learning_rate * (reward + gamma * self.get_value(next_state))\n",
        "        \n",
        "        self.set_qvalue(state, action, value)\n",
        "\n",
        "    \n",
        "    def get_best_action(self, state):\n",
        "        \"\"\"\n",
        "        Compute the best action to take in a state (using current q-values). \n",
        "        \"\"\"\n",
        "        possible_actions = self.get_legal_actions(state)\n",
        "\n",
        "        #If there are no legal actions, return None\n",
        "        if len(possible_actions) == 0:\n",
        "            return None\n",
        "\n",
        "        #<YOUR CODE HERE>\n",
        "        best_acton = None\n",
        "        best_q = float(\"-inf\")\n",
        "        for action in possible_actions:\n",
        "            cur_q = self.get_qvalue(state,action)\n",
        "            if cur_q > best_q:\n",
        "                best_q = cur_q\n",
        "                best_action  = action\n",
        "\n",
        "        return best_action\n",
        "\n",
        "    def get_action(self, state):\n",
        "        \"\"\"\n",
        "        Compute the action to take in the current state, including exploration.  \n",
        "        With probability self.epsilon, we should take a random action.\n",
        "            otherwise - the best policy action (self.getPolicy).\n",
        "        \n",
        "        Note: To pick randomly from a list, use random.choice(list). \n",
        "              To pick True or False with a given probablity, generate uniform number in [0, 1]\n",
        "              and compare it with your probability\n",
        "        \"\"\"\n",
        "\n",
        "        # Pick Action\n",
        "        possible_actions = self.get_legal_actions(state)\n",
        "        action = random.choice(possible_actions)\n",
        "\n",
        "        #If there are no legal actions, return None\n",
        "        if len(possible_actions) == 0:\n",
        "            return None\n",
        "\n",
        "        #agent parameters:\n",
        "        epsilon = self.epsilon\n",
        "\n",
        "        #<YOUR CODE HERE>\n",
        "        if random.random() > epsilon:\n",
        "            chosen_action = self.get_best_action(state)\n",
        "        else:\n",
        "            chosen_action = action\n",
        "        \n",
        "        return chosen_action"
      ],
      "execution_count": 0,
      "outputs": []
    },
    {
      "cell_type": "code",
      "metadata": {
        "id": "BdoSJaOD4ViK",
        "colab_type": "code",
        "colab": {}
      },
      "source": [
        "def play_and_train(env,agent,t_max=10**4):\n",
        "    \"\"\"\n",
        "    This function should \n",
        "    - run a full game, actions given by agent's e-greedy policy\n",
        "    - train agent using agent.update(...) whenever it is possible\n",
        "    - return total reward\n",
        "    \"\"\"\n",
        "    total_reward = 0.0\n",
        "    s = env.reset()\n",
        "    \n",
        "    for t in range(t_max):\n",
        "        # get agent to pick action given state s.\n",
        "        a = agent.get_action(s)#<YOUR CODE>\n",
        "        \n",
        "        next_s, r, done, _ = env.step(a)\n",
        "        \n",
        "        # train (update) agent for state s\n",
        "        #<YOUR CODE HERE>\n",
        "        agent.update(s, a, r, next_s)\n",
        "        \n",
        "        s = next_s\n",
        "        total_reward +=r\n",
        "        if done: break\n",
        "        \n",
        "    return total_reward\n",
        "    \n",
        "        \n",
        "    "
      ],
      "execution_count": 0,
      "outputs": []
    },
    {
      "cell_type": "code",
      "metadata": {
        "id": "w1o-4PoC9far",
        "colab_type": "code",
        "outputId": "ba5d4653-0f13-414b-d585-339c550c0199",
        "colab": {
          "base_uri": "https://localhost:8080/",
          "height": 781
        }
      },
      "source": [
        "# fix no screen problem in collab (https://stackoverflow.com/questions/50107530/how-to-render-openai-gym-in-google-colab?rq=1)\n",
        "!apt-get install -y xvfb python-opengl\n",
        "!pip install gym pyvirtualdisplay "
      ],
      "execution_count": 3,
      "outputs": [
        {
          "output_type": "stream",
          "text": [
            "Reading package lists... Done\n",
            "Building dependency tree       \n",
            "Reading state information... Done\n",
            "The following package was automatically installed and is no longer required:\n",
            "  libnvidia-common-410\n",
            "Use 'apt autoremove' to remove it.\n",
            "Suggested packages:\n",
            "  libgle3\n",
            "The following NEW packages will be installed:\n",
            "  python-opengl xvfb\n",
            "0 upgraded, 2 newly installed, 0 to remove and 16 not upgraded.\n",
            "Need to get 1,280 kB of archives.\n",
            "After this operation, 7,682 kB of additional disk space will be used.\n",
            "Get:1 http://archive.ubuntu.com/ubuntu bionic/universe amd64 python-opengl all 3.1.0+dfsg-1 [496 kB]\n",
            "Get:2 http://archive.ubuntu.com/ubuntu bionic-updates/universe amd64 xvfb amd64 2:1.19.6-1ubuntu4.2 [783 kB]\n",
            "Fetched 1,280 kB in 1s (1,234 kB/s)\n",
            "Selecting previously unselected package python-opengl.\n",
            "(Reading database ... 130942 files and directories currently installed.)\n",
            "Preparing to unpack .../python-opengl_3.1.0+dfsg-1_all.deb ...\n",
            "Unpacking python-opengl (3.1.0+dfsg-1) ...\n",
            "Selecting previously unselected package xvfb.\n",
            "Preparing to unpack .../xvfb_2%3a1.19.6-1ubuntu4.2_amd64.deb ...\n",
            "Unpacking xvfb (2:1.19.6-1ubuntu4.2) ...\n",
            "Setting up python-opengl (3.1.0+dfsg-1) ...\n",
            "Setting up xvfb (2:1.19.6-1ubuntu4.2) ...\n",
            "Processing triggers for man-db (2.8.3-2ubuntu0.1) ...\n",
            "Requirement already satisfied: gym in /usr/local/lib/python3.6/dist-packages (0.10.11)\n",
            "Collecting pyvirtualdisplay\n",
            "  Downloading https://files.pythonhosted.org/packages/cf/ad/b15f252bfb0f1693ad3150b55a44a674f3cba711cacdbb9ae2f03f143d19/PyVirtualDisplay-0.2.4-py2.py3-none-any.whl\n",
            "Requirement already satisfied: six in /usr/local/lib/python3.6/dist-packages (from gym) (1.12.0)\n",
            "Requirement already satisfied: pyglet>=1.2.0 in /usr/local/lib/python3.6/dist-packages (from gym) (1.3.2)\n",
            "Requirement already satisfied: requests>=2.0 in /usr/local/lib/python3.6/dist-packages (from gym) (2.21.0)\n",
            "Requirement already satisfied: numpy>=1.10.4 in /usr/local/lib/python3.6/dist-packages (from gym) (1.16.4)\n",
            "Requirement already satisfied: scipy in /usr/local/lib/python3.6/dist-packages (from gym) (1.3.0)\n",
            "Collecting EasyProcess (from pyvirtualdisplay)\n",
            "  Downloading https://files.pythonhosted.org/packages/fa/29/40040d1d64a224a5e44df9572794a66494618ffe5c77199214aeceedb8a7/EasyProcess-0.2.7-py2.py3-none-any.whl\n",
            "Requirement already satisfied: future in /usr/local/lib/python3.6/dist-packages (from pyglet>=1.2.0->gym) (0.16.0)\n",
            "Requirement already satisfied: certifi>=2017.4.17 in /usr/local/lib/python3.6/dist-packages (from requests>=2.0->gym) (2019.6.16)\n",
            "Requirement already satisfied: urllib3<1.25,>=1.21.1 in /usr/local/lib/python3.6/dist-packages (from requests>=2.0->gym) (1.24.3)\n",
            "Requirement already satisfied: chardet<3.1.0,>=3.0.2 in /usr/local/lib/python3.6/dist-packages (from requests>=2.0->gym) (3.0.4)\n",
            "Requirement already satisfied: idna<2.9,>=2.5 in /usr/local/lib/python3.6/dist-packages (from requests>=2.0->gym) (2.8)\n",
            "Installing collected packages: EasyProcess, pyvirtualdisplay\n",
            "Successfully installed EasyProcess-0.2.7 pyvirtualdisplay-0.2.4\n"
          ],
          "name": "stdout"
        }
      ]
    },
    {
      "cell_type": "code",
      "metadata": {
        "id": "wBH68GwOgMZl",
        "colab_type": "code",
        "colab": {}
      },
      "source": [
        "from IPython import display as ipythondisplay\n",
        "from pyvirtualdisplay import Display"
      ],
      "execution_count": 0,
      "outputs": []
    },
    {
      "cell_type": "code",
      "metadata": {
        "id": "ASfX8_Oe-fUa",
        "colab_type": "code",
        "outputId": "2ca3bdbf-5890-4d2f-ff31-59284699c5bb",
        "colab": {
          "base_uri": "https://localhost:8080/",
          "height": 72
        }
      },
      "source": [
        "\n",
        "display = Display(visible=0, size=(400, 300))\n",
        "display.start()"
      ],
      "execution_count": 5,
      "outputs": [
        {
          "output_type": "stream",
          "text": [
            "xdpyinfo was not found, X start can not be checked! Please install xdpyinfo!\n"
          ],
          "name": "stderr"
        },
        {
          "output_type": "execute_result",
          "data": {
            "text/plain": [
              "<Display cmd_param=['Xvfb', '-br', '-nolisten', 'tcp', '-screen', '0', '400x300x24', ':1001'] cmd=['Xvfb', '-br', '-nolisten', 'tcp', '-screen', '0', '400x300x24', ':1001'] oserror=None return_code=None stdout=\"None\" stderr=\"None\" timeout_happened=False>"
            ]
          },
          "metadata": {
            "tags": []
          },
          "execution_count": 5
        }
      ]
    },
    {
      "cell_type": "markdown",
      "metadata": {
        "collapsed": true,
        "id": "PcUGDMTR4ViT",
        "colab_type": "text"
      },
      "source": [
        "## Cartpole\n",
        "Use agent to train efficiently on ***CartPole-v0***.\n",
        "\n",
        "This environment has a continuous set of possible states, so you will have to group them into bins somehow.\n",
        "\n",
        "The simplest way is to use `round(x,n_digits)` (or numpy round) to round real number to a given amount of digits.\n",
        "\n",
        "The tricky part is to get the n_digits right for each state to train effectively.\n",
        "\n",
        "Note that you don't need to convert state to integers, but to __tuples__ of any kind of values.\n",
        "\n",
        "let's first have a look at the environment..."
      ]
    },
    {
      "cell_type": "code",
      "metadata": {
        "id": "iSWBaecr4ViT",
        "colab_type": "code",
        "outputId": "e574ef5e-fdc8-4d56-960a-a1d84adaf0e2",
        "colab": {
          "base_uri": "https://localhost:8080/",
          "height": 304
        }
      },
      "source": [
        "\n",
        "\n",
        "env = gym.make(\"CartPole-v0\")\n",
        "n_actions = env.action_space.n\n",
        "env.reset()\n",
        "print(\"first state:%s\" % (env.reset()))\n",
        "m = env.render(mode='rgb_array')\n",
        "plt.imshow(m)"
      ],
      "execution_count": 0,
      "outputs": [
        {
          "output_type": "stream",
          "text": [
            "first state:[-0.01336203  0.00592878 -0.0072919   0.03372623]\n"
          ],
          "name": "stdout"
        },
        {
          "output_type": "execute_result",
          "data": {
            "text/plain": [
              "<matplotlib.image.AxesImage at 0x7f73e2e37400>"
            ]
          },
          "metadata": {
            "tags": []
          },
          "execution_count": 7
        },
        {
          "output_type": "display_data",
          "data": {
            "image/png": "[encoded data removed]",
            "text/plain": [
              "<Figure size 432x288 with 1 Axes>"
            ]
          },
          "metadata": {
            "tags": []
          }
        }
      ]
    },
    {
      "cell_type": "markdown",
      "metadata": {
        "id": "TkHQOK08_cY4",
        "colab_type": "text"
      },
      "source": [
        "now let's look at the environment documentation to understand what does the state 4-tuple mean:"
      ]
    },
    {
      "cell_type": "code",
      "metadata": {
        "id": "Q7ZYXBrF-3mr",
        "colab_type": "code",
        "outputId": "f7f85633-bc5b-49aa-d435-ed584ac80e71",
        "colab": {
          "base_uri": "https://localhost:8080/",
          "height": 676
        }
      },
      "source": [
        "print(env.unwrapped.__doc__)"
      ],
      "execution_count": 0,
      "outputs": [
        {
          "output_type": "stream",
          "text": [
            "\n",
            "    Description:\n",
            "        A pole is attached by an un-actuated joint to a cart, which moves along a frictionless track. The pendulum starts upright, and the goal is to prevent it from falling over by increasing and reducing the cart's velocity.\n",
            "\n",
            "    Source:\n",
            "        This environment corresponds to the version of the cart-pole problem described by Barto, Sutton, and Anderson\n",
            "\n",
            "    Observation: \n",
            "        Type: Box(4)\n",
            "        Num\tObservation                 Min         Max\n",
            "        0\tCart Position             -4.8            4.8\n",
            "        1\tCart Velocity             -Inf            Inf\n",
            "        2\tPole Angle                 -24°           24°\n",
            "        3\tPole Velocity At Tip      -Inf            Inf\n",
            "        \n",
            "    Actions:\n",
            "        Type: Discrete(2)\n",
            "        Num\tAction\n",
            "        0\tPush cart to the left\n",
            "        1\tPush cart to the right\n",
            "        \n",
            "        Note: The amount the velocity is reduced or increased is not fixed as it depends on the angle the pole is pointing. This is because the center of gravity of the pole increases the amount of energy needed to move the cart underneath it\n",
            "\n",
            "    Reward:\n",
            "        Reward is 1 for every step taken, including the termination step\n",
            "\n",
            "    Starting State:\n",
            "        All observations are assigned a uniform random value between ±0.05\n",
            "\n",
            "    Episode Termination:\n",
            "        Pole Angle is more than ±12°\n",
            "        Cart Position is more than ±2.4 (center of the cart reaches the edge of the display)\n",
            "        Episode length is greater than 200\n",
            "        Solved Requirements\n",
            "        Considered solved when the average reward is greater than or equal to 195.0 over 100 consecutive trials.\n",
            "    \n"
          ],
          "name": "stdout"
        }
      ]
    },
    {
      "cell_type": "markdown",
      "metadata": {
        "id": "6EoKOiQ34ViW",
        "colab_type": "text"
      },
      "source": [
        "### Play a few games\n",
        "\n",
        "We need to estimate observation distributions. To do so, we'll play a few games and record all states."
      ]
    },
    {
      "cell_type": "code",
      "metadata": {
        "id": "t6mjlFA74ViX",
        "colab_type": "code",
        "outputId": "4481a137-e806-4725-b5f1-5d200b1aaab7",
        "colab": {
          "base_uri": "https://localhost:8080/",
          "height": 1025
        }
      },
      "source": [
        "all_states = []\n",
        "for _ in range(1000):\n",
        "    all_states.append(env.reset())\n",
        "    done = False\n",
        "    while not done:\n",
        "        s, r, done, _ = env.step(env.action_space.sample())\n",
        "        all_states.append(s)\n",
        "        if done: break\n",
        "            \n",
        "all_states = np.array(all_states)\n",
        "\n",
        "for obs_i in range(env.observation_space.shape[0]):\n",
        "    plt.hist(all_states[:, obs_i], bins=20)\n",
        "    plt.show()"
      ],
      "execution_count": 0,
      "outputs": [
        {
          "output_type": "display_data",
          "data": {
            "image/png": "[encoded data removed]",
            "text/plain": [
              "<Figure size 432x288 with 1 Axes>"
            ]
          },
          "metadata": {
            "tags": []
          }
        },
        {
          "output_type": "display_data",
          "data": {
            "image/png": "[encoded data removed]",
            "text/plain": [
              "<Figure size 432x288 with 1 Axes>"
            ]
          },
          "metadata": {
            "tags": []
          }
        },
        {
          "output_type": "display_data",
          "data": {
            "image/png": "[encoded data removed]",
            "text/plain": [
              "<Figure size 432x288 with 1 Axes>"
            ]
          },
          "metadata": {
            "tags": []
          }
        },
        {
          "output_type": "display_data",
          "data": {
            "image/png": "[encoded data removed]",
            "text/plain": [
              "<Figure size 432x288 with 1 Axes>"
            ]
          },
          "metadata": {
            "tags": []
          }
        }
      ]
    },
    {
      "cell_type": "markdown",
      "metadata": {
        "id": "a3hnnQOM4ViZ",
        "colab_type": "text"
      },
      "source": [
        "## Binarize environment"
      ]
    },
    {
      "cell_type": "code",
      "metadata": {
        "id": "ZqQXmPFz4Via",
        "colab_type": "code",
        "colab": {}
      },
      "source": [
        "from gym.core import ObservationWrapper\n",
        "class Binarizer(ObservationWrapper): # notice the usage of wrapper\n",
        "    \n",
        "    def _observation(self, state):    \n",
        "        \n",
        "        #state = <round state to some amount digits.>\n",
        "        #hint: you can do that with round(x,n_digits)\n",
        "        #you will need to pick a different n_digits for each dimension\n",
        "        \n",
        "        #state = <YOUR CODE> # n_digits can be any integer but we recommend between 0 and 2 and can (should) be different between state dimension>\n",
        "        digits = [0, 1, 2, 1]\n",
        "\n",
        "        state = [round(x, digits[index]) for index,  x in enumerate(state)]\n",
        "      \n",
        "        return tuple(state)"
      ],
      "execution_count": 0,
      "outputs": []
    },
    {
      "cell_type": "code",
      "metadata": {
        "id": "iwql8A8E4Vic",
        "colab_type": "code",
        "colab": {}
      },
      "source": [
        "env = Binarizer(gym.make(\"CartPole-v0\"))"
      ],
      "execution_count": 0,
      "outputs": []
    },
    {
      "cell_type": "code",
      "metadata": {
        "id": "KWwgNuLT4Vif",
        "colab_type": "code",
        "outputId": "0ddcfd1f-bd49-45d7-8043-1249c9a8fc44",
        "colab": {
          "base_uri": "https://localhost:8080/",
          "height": 1025
        }
      },
      "source": [
        "all_states = []\n",
        "for _ in range(1000):\n",
        "    all_states.append(env.reset())\n",
        "    done = False\n",
        "    while not done:\n",
        "        s, r, done, _ = env.step(env.action_space.sample())\n",
        "        all_states.append(s)\n",
        "        if done: break\n",
        "            \n",
        "all_states = np.array(all_states)\n",
        "\n",
        "for obs_i in range(env.observation_space.shape[0]):\n",
        "    \n",
        "    plt.hist(all_states[:,obs_i],bins=20)\n",
        "    plt.show()"
      ],
      "execution_count": 0,
      "outputs": [
        {
          "output_type": "display_data",
          "data": {
            "image/png": "[encoded data removed]",
            "text/plain": [
              "<Figure size 432x288 with 1 Axes>"
            ]
          },
          "metadata": {
            "tags": []
          }
        },
        {
          "output_type": "display_data",
          "data": {
            "image/png": "[encoded data removed]",
            "text/plain": [
              "<Figure size 432x288 with 1 Axes>"
            ]
          },
          "metadata": {
            "tags": []
          }
        },
        {
          "output_type": "display_data",
          "data": {
            "image/png": "[encoded data removed]",
            "text/plain": [
              "<Figure size 432x288 with 1 Axes>"
            ]
          },
          "metadata": {
            "tags": []
          }
        },
        {
          "output_type": "display_data",
          "data": {
            "image/png": "[encoded data removed]",
            "text/plain": [
              "<Figure size 432x288 with 1 Axes>"
            ]
          },
          "metadata": {
            "tags": []
          }
        }
      ]
    },
    {
      "cell_type": "markdown",
      "metadata": {
        "id": "zTPuASz24Vii",
        "colab_type": "text"
      },
      "source": [
        "## Learn binarized policy\n",
        "\n",
        "Now let's train a policy that uses binarized state space.\n",
        "\n",
        "__Tips:__ \n",
        "* If your binarization is too coarse, your agent may fail to find optimal policy. In that case, change binarization. \n",
        "* If your binarization is too fine-grained, your agent will take much longer than 1000 steps to converge. You can either increase number of iterations and decrease epsilon decay or change binarization.\n",
        "* Having 10^3 ~ 10^4 distinct states is recommended (`len(QLearningAgent._qvalues)`), but not required.\n",
        "* Feel free to change what ever you want (eps # steps etc)\n"
      ]
    },
    {
      "cell_type": "code",
      "metadata": {
        "id": "WsKTWwJA4Vij",
        "colab_type": "code",
        "colab": {}
      },
      "source": [
        "agent = QLearningAgent(alpha=0.5, epsilon=0.25, discount=0.99,\n",
        "                       get_legal_actions= lambda s: range(n_actions))"
      ],
      "execution_count": 0,
      "outputs": []
    },
    {
      "cell_type": "code",
      "metadata": {
        "scrolled": true,
        "id": "5SNMaR5s4Vil",
        "colab_type": "code",
        "outputId": "b5022174-e67a-4d48-94a3-5b82dd0d0d08",
        "colab": {
          "base_uri": "https://localhost:8080/",
          "height": 286
        }
      },
      "source": [
        "from IPython.display import clear_output\n",
        "rewards = []\n",
        "for i in range(3000):\n",
        "    rewards.append(play_and_train(env,agent))   \n",
        "    \n",
        "    #OPTIONAL YOUR CODE: adjust epsilon\n",
        "    \n",
        "    if i %20 ==0:\n",
        "        agent.epsilon *= 0.99\n",
        "        clear_output(True)\n",
        "        print('eps =', agent.epsilon, 'mean reward =', np.mean(rewards[-10:]) , 'i=', i)\n",
        "        plt.plot(rewards)\n",
        "        plt.show()\n",
        "        "
      ],
      "execution_count": 0,
      "outputs": [
        {
          "output_type": "stream",
          "text": [
            "eps = 0.055362946809715236 mean reward = 67.8 i= 2980\n"
          ],
          "name": "stdout"
        },
        {
          "output_type": "display_data",
          "data": {
            "image/png": "[encoded data removed]",
            "text/plain": [
              "<Figure size 432x288 with 1 Axes>"
            ]
          },
          "metadata": {
            "tags": []
          }
        }
      ]
    },
    {
      "cell_type": "markdown",
      "metadata": {
        "collapsed": true,
        "id": "5TIapl4E4Vip",
        "colab_type": "text"
      },
      "source": [
        "### Check Solution"
      ]
    },
    {
      "cell_type": "code",
      "metadata": {
        "id": "Xur6VmOL4Vip",
        "colab_type": "code",
        "outputId": "37757def-cef8-48c9-f2e5-32928874c975",
        "colab": {
          "base_uri": "https://localhost:8080/",
          "height": 34
        }
      },
      "source": [
        "assert np.mean(rewards[:-100])>70 # good enough\n",
        "print('good enough')"
      ],
      "execution_count": 0,
      "outputs": [
        {
          "output_type": "stream",
          "text": [
            "good enough\n"
          ],
          "name": "stdout"
        }
      ]
    },
    {
      "cell_type": "markdown",
      "metadata": {
        "id": "pc0xNnH34Vit",
        "colab_type": "text"
      },
      "source": [
        "## Part 2:  Q-learning with Function Approximation\n",
        "\n",
        "Consider asking colab for a gpu enabled kernel"
      ]
    },
    {
      "cell_type": "code",
      "metadata": {
        "id": "jlbSd_nY36I7",
        "colab_type": "code",
        "outputId": "2fbcc1fb-ba73-4dc7-ed52-841ac4c94a94",
        "colab": {
          "base_uri": "https://localhost:8080/",
          "height": 52
        }
      },
      "source": [
        "%matplotlib inline\n",
        "%load_ext autoreload\n",
        "%autoreload 2\n",
        "# fix no screen problem in collab (https://stackoverflow.com/questions/50107530/how-to-render-openai-gym-in-google-colab?rq=1)\n",
        "!apt-get install -y xvfb python-opengl > /dev/null 2>&1\n",
        "!pip install gym pyvirtualdisplay > /dev/null 2>&1\n"
      ],
      "execution_count": 3,
      "outputs": [
        {
          "output_type": "stream",
          "text": [
            "The autoreload extension is already loaded. To reload it, use:\n",
            "  %reload_ext autoreload\n"
          ],
          "name": "stdout"
        }
      ]
    },
    {
      "cell_type": "code",
      "metadata": {
        "id": "ckviF5-agGhw",
        "colab_type": "code",
        "colab": {}
      },
      "source": [
        "\n",
        "from IPython import display as ipythondisplay\n",
        "from pyvirtualdisplay import Display"
      ],
      "execution_count": 0,
      "outputs": []
    },
    {
      "cell_type": "code",
      "metadata": {
        "id": "THyHnRqRCJCD",
        "colab_type": "code",
        "outputId": "275b5d0a-4d39-44a2-fe37-f669ad789d90",
        "colab": {
          "base_uri": "https://localhost:8080/",
          "height": 304
        }
      },
      "source": [
        "#make sure we got everything in place\n",
        "\n",
        "display = Display(visible=0, size=(400, 300))\n",
        "display.start()\n",
        "%matplotlib inline\n",
        "\n",
        "env = gym.make(\"CartPole-v0\").env\n",
        "env.reset()\n",
        "n_actions = env.action_space.n\n",
        "state_dim = env.observation_space.shape\n",
        "\n",
        "plt.imshow(env.render(\"rgb_array\"))"
      ],
      "execution_count": 5,
      "outputs": [
        {
          "output_type": "stream",
          "text": [
            "xdpyinfo was not found, X start can not be checked! Please install xdpyinfo!\n"
          ],
          "name": "stderr"
        },
        {
          "output_type": "execute_result",
          "data": {
            "text/plain": [
              "<matplotlib.image.AxesImage at 0x7f7ea704a9b0>"
            ]
          },
          "metadata": {
            "tags": []
          },
          "execution_count": 5
        },
        {
          "output_type": "display_data",
          "data": {
            "image/png": "[encoded data removed]",
            "text/plain": [
              "<Figure size 432x288 with 1 Axes>"
            ]
          },
          "metadata": {
            "tags": []
          }
        }
      ]
    },
    {
      "cell_type": "markdown",
      "metadata": {
        "id": "T0kCL6JkC1jG",
        "colab_type": "text"
      },
      "source": [
        "### Approximate (deep) Q-learning: building the network\n",
        "\n",
        "To train a neural network policy one must have a neural network policy. Let's build it.\n",
        "\n",
        "\n",
        "Since we're working with a pre-extracted features (cart positions, angles and velocities), we don't need a complicated network yet. In fact, let's build something like this for starters:\n",
        "\n",
        "![img](https://raw.githubusercontent.com/yandexdataschool/Practical_RL/master/yet_another_week/_resource/qlearning_scheme.png)\n",
        "\n",
        "For your first run, please only use linear layers (L.Dense) and activations. Stuff like batch normalization or dropout may ruin everything if used haphazardly. \n",
        "\n",
        "Also please avoid using nonlinearities like sigmoid & tanh: agent's observations are not normalized so sigmoids may become saturated from init.\n",
        "\n",
        "Ideally you should start small with maybe 1-2 hidden layers with < 200 neurons and then increase network size if agent doesn't beat the target score."
      ]
    },
    {
      "cell_type": "code",
      "metadata": {
        "id": "6zla_WoxC61J",
        "colab_type": "code",
        "colab": {}
      },
      "source": [
        ""
      ],
      "execution_count": 0,
      "outputs": []
    },
    {
      "cell_type": "markdown",
      "metadata": {
        "colab_type": "text",
        "id": "SyvURakzIsc2"
      },
      "source": [
        "### Q-learning via gradient descent\n",
        "\n",
        "We shall now train our agent's Q-function by minimizing the TD loss:\n",
        "$$ L = { 1 \\over N} \\sum_i (Q_{\\theta}(s,a) - [r(s,a) + \\gamma \\cdot max_{a'} Q_{-}(s', a')]) ^2 $$\n",
        "\n",
        "\n",
        "Where\n",
        "* $s, a, r, s'$ are current state, action, reward and next state respectively\n",
        "* $\\gamma$ is a discount factor defined two cells above.\n",
        "\n",
        "The tricky part is with  $Q_{-}(s',a')$. From an engineering standpoint, it's the same as $Q_{\\theta}$ - the output of your neural network policy. However, when doing gradient descent, __we won't propagate gradients through it__ to make training more stable (see lectures).\n",
        "\n",
        "To do so, we shall use `tf.stop_gradient` function which basically says \"consider this thing constant when doingbackprop\"."
      ]
    },
    {
      "cell_type": "code",
      "metadata": {
        "id": "_Eo4_McGhFXb",
        "colab_type": "code",
        "colab": {}
      },
      "source": [
        "import gym\n",
        "import matplotlib.pyplot as plt\n",
        "from pyvirtualdisplay import Display\n",
        "import random\n",
        "import torch\n",
        "import torch.nn as nn\n",
        "import torch.optim as optim\n",
        "import torch.nn.functional as F\n",
        "from collections import namedtuple  "
      ],
      "execution_count": 0,
      "outputs": []
    },
    {
      "cell_type": "code",
      "metadata": {
        "id": "oXd2uULXIv0_",
        "colab_type": "code",
        "colab": {}
      },
      "source": [
        "env = gym.make(\"CartPole-v0\").env\n",
        "env.reset()\n",
        "n_actions = env.action_space.n\n",
        "state_dim = env.observation_space.shape\n",
        "number_of_states = state_dim[0]\n",
        "device = torch.device(\"cuda\" if torch.cuda.is_available() else \"cpu\")"
      ],
      "execution_count": 0,
      "outputs": []
    },
    {
      "cell_type": "code",
      "metadata": {
        "id": "_25m7pppDnLI",
        "colab_type": "code",
        "colab": {}
      },
      "source": [
        "MEMROY_SIZE = 2000\n",
        "BATCH_SIZE = 32\n",
        "gamma = 0.99"
      ],
      "execution_count": 0,
      "outputs": []
    },
    {
      "cell_type": "code",
      "metadata": {
        "id": "fBGYlVjNhFaP",
        "colab_type": "code",
        "outputId": "a7033874-8e6f-4dad-9f3d-de0e0c307b0c",
        "colab": {
          "base_uri": "https://localhost:8080/",
          "height": 34
        }
      },
      "source": [
        "n_actions,state_dim"
      ],
      "execution_count": 9,
      "outputs": [
        {
          "output_type": "execute_result",
          "data": {
            "text/plain": [
              "(2, (4,))"
            ]
          },
          "metadata": {
            "tags": []
          },
          "execution_count": 9
        }
      ]
    },
    {
      "cell_type": "code",
      "metadata": {
        "id": "D-c1rMDchFc7",
        "colab_type": "code",
        "colab": {}
      },
      "source": [
        "class Net(nn.Module):\n",
        "    def __init__(self, input_size, ouput_size):\n",
        "        super(Net, self).__init__()\n",
        "        self.pipe = nn.Sequential(nn.Linear(input_size, 50), nn.ReLU(),\n",
        "                                  nn.Linear(50, ouput_size))\n",
        "\n",
        "    def forward(self, x):\n",
        "        return self.pipe(x)\n",
        "    \n",
        "    def _init_weights(self, m):\n",
        "        if type(m) == nn.Linear:\n",
        "            m.weight.data.normal_(0, 0.1)\n",
        "            \n",
        "    def initWeights(self):\n",
        "        self.pipe.apply(self._init_weights)\n"
      ],
      "execution_count": 0,
      "outputs": []
    },
    {
      "cell_type": "code",
      "metadata": {
        "id": "aimwePj5hFvU",
        "colab_type": "code",
        "colab": {}
      },
      "source": [
        "Transition = namedtuple('Transition',\n",
        "                        ('state', 'action', 'next_state', 'reward'))\n",
        "\n"
      ],
      "execution_count": 0,
      "outputs": []
    },
    {
      "cell_type": "code",
      "metadata": {
        "id": "tMd9qqQfhFyC",
        "colab_type": "code",
        "colab": {}
      },
      "source": [
        "class ReplayMemory:\n",
        "\n",
        "    def __init__(self, capacity):\n",
        "        self.capacity = capacity\n",
        "        self.memory = [None for _ in range(self.capacity)]\n",
        "        self.position = 0\n",
        "        self.memory_counter = 0\n",
        "\n",
        "    def push(self, *args):\n",
        "\n",
        "        self.memory[self.position] = Transition(*args)\n",
        "        self.position = (self.position + 1) % self.capacity\n",
        "        self.memory_counter  += 1\n",
        "\n",
        "    def sample(self, batch_size):\n",
        "        return random.sample(self.memory, batch_size)\n"
      ],
      "execution_count": 0,
      "outputs": []
    },
    {
      "cell_type": "code",
      "metadata": {
        "id": "UnOHUCDIhF01",
        "colab_type": "code",
        "colab": {}
      },
      "source": [
        "def select_action(state, epsilon = 0):\n",
        "\n",
        "    state = torch.unsqueeze(torch.FloatTensor(state), 0).to(device)\n",
        "\n",
        "    if random.random() <= epsilon:\n",
        "        with torch.no_grad():\n",
        "            selected_action = np.random.randint(0, n_actions)\n",
        "\n",
        "    else:\n",
        "\n",
        "        actions_expected_rewards = policy_net(state)\n",
        "        selected_action = torch.max(actions_expected_rewards, 1)[1].cpu().data.numpy()[0].item()\n",
        "\n",
        "    return selected_action"
      ],
      "execution_count": 0,
      "outputs": []
    },
    {
      "cell_type": "code",
      "metadata": {
        "id": "AdG1nwWchF3y",
        "colab_type": "code",
        "colab": {}
      },
      "source": [
        "def train():\n",
        "    batch_sample = replay_memory.sample(batch_size=BATCH_SIZE)\n",
        "    b_s = torch.FloatTensor([sample.state for sample in batch_sample]).to(device)\n",
        "\n",
        "    b_a = torch.LongTensor([sample.action for sample in batch_sample]).reshape(-1,1).to(device)\n",
        "    b_r = torch.FloatTensor([sample.reward for sample in batch_sample]).reshape(-1,1).to(device)\n",
        "    b_s_ = torch.FloatTensor([sample.next_state for sample in batch_sample]).to(device)\n",
        "\n",
        "    q_eval = policy_net(b_s).gather(1, b_a)  # shape (batch, 1)\n",
        "    q_next = target_net(b_s_).detach()  # detach from graph, don't backpropagate\n",
        "    q_target = b_r + gamma * q_next.max(1)[0].view(BATCH_SIZE, 1)  # shape (batch, 1)\n",
        "    loss = loss_func(q_eval, q_target)\n",
        "\n",
        "    optimizer.zero_grad()\n",
        "    loss.backward()\n",
        "    optimizer.step()"
      ],
      "execution_count": 0,
      "outputs": []
    },
    {
      "cell_type": "code",
      "metadata": {
        "id": "FX33CzMEhF9i",
        "colab_type": "code",
        "colab": {
          "base_uri": "https://localhost:8080/",
          "height": 621
        },
        "outputId": "b6a217ac-24a4-4696-bbe9-6baaf3e6bb39"
      },
      "source": [
        "loss_func = nn.MSELoss()\n",
        "lr = 1e-2\n",
        "policy_net  = Net(number_of_states, n_actions).to(device)\n",
        "policy_net.initWeights()\n",
        "target_net  = Net(number_of_states, n_actions).to(device)\n",
        "target_net.load_state_dict(policy_net.state_dict())\n",
        "target_net.eval()\n",
        "optimizer = torch.optim.Adam(policy_net.parameters(), lr=lr)\n",
        "episode = 0\n",
        "NUMBER_OF_EPISODES = 50\n",
        "\n",
        "\n",
        "num_of_episodes_for_update = 100\n",
        "replay_memory = ReplayMemory(MEMROY_SIZE)\n",
        "stated_trainning = False\n",
        "cycles = 0\n",
        "trainning_counter = 0\n",
        "#for episode in count(): #range(NUMBER_OF_EPISODES):\n",
        "while True:\n",
        "    \n",
        "    episode += 1\n",
        "    if trainning_counter == NUMBER_OF_EPISODES or episode == 254:\n",
        "      break \n",
        "      \n",
        "    \n",
        "    state = env.reset()\n",
        "    reward = 0\n",
        "\n",
        "    episode_tato_reward = 0\n",
        "    \n",
        "    if stated_trainning:\n",
        "      trainning_counter += 1\n",
        "\n",
        "    while True:\n",
        "\n",
        "        if cycles % num_of_episodes_for_update == 0:\n",
        "            #print('copy weights')\n",
        "\n",
        "            target_net.load_state_dict(policy_net.state_dict())\n",
        "\n",
        "        cycles += 1\n",
        "\n",
        "        env.render()\n",
        "\n",
        "        action = select_action(state, epsilon=0.1)\n",
        "\n",
        "        next_state, reward, done, _ = env.step(action)\n",
        "\n",
        "        x, x_dot, theta, theta_dot = next_state\n",
        "        r1 = (env.x_threshold - abs(x)) / env.x_threshold - 0.8\n",
        "        r2 = (env.theta_threshold_radians - abs(theta)) / env.theta_threshold_radians - 0.5\n",
        "        reward = r1 + r2\n",
        "\n",
        "\n",
        "        episode_tato_reward += reward\n",
        "\n",
        "        replay_memory.push(state, action, next_state, reward)\n",
        "\n",
        "        if replay_memory.memory_counter >= MEMROY_SIZE:\n",
        "\n",
        "            if not stated_trainning:\n",
        "                stated_trainning = True\n",
        "                print('start trainning')\n",
        "\n",
        "            train()\n",
        "\n",
        "        state = next_state\n",
        "\n",
        "        if done:\n",
        "            episode_tato_reward +=-1\n",
        "\n",
        "            if stated_trainning:\n",
        "                #print(episode_tato_reward)\n",
        "                print('Ep:  {0} | Ep_r:  {1}'.format(episode, episode_tato_reward))\n",
        "            else:\n",
        "                if episode % 100 == 0:\n",
        "                    print(episode_tato_reward)\n",
        "\n",
        "            break\n"
      ],
      "execution_count": 0,
      "outputs": [
        {
          "output_type": "stream",
          "text": [
            "1.6121258090745467\n",
            "1.9334938447140608\n",
            "start trainning\n",
            "Ep:  206 | Ep_r:  0.004109508090726743\n",
            "Ep:  207 | Ep_r:  1.614860909622951\n",
            "Ep:  208 | Ep_r:  3.1021523353542246\n",
            "Ep:  209 | Ep_r:  4.006187482932279\n",
            "Ep:  210 | Ep_r:  0.3501565380461522\n",
            "Ep:  211 | Ep_r:  1.959904048767727\n",
            "Ep:  212 | Ep_r:  0.15200504960597705\n",
            "Ep:  213 | Ep_r:  19.221950617164644\n",
            "Ep:  214 | Ep_r:  29.176502986136157\n",
            "Ep:  215 | Ep_r:  52.485494324595486\n",
            "Ep:  216 | Ep_r:  17.037071247932587\n",
            "Ep:  217 | Ep_r:  23.691334242564565\n",
            "Ep:  218 | Ep_r:  22.261428014595474\n",
            "Ep:  219 | Ep_r:  12.427935337195498\n",
            "Ep:  220 | Ep_r:  13.928899026485784\n",
            "Ep:  221 | Ep_r:  25.91520639485586\n",
            "Ep:  222 | Ep_r:  13.442564373101176\n",
            "Ep:  223 | Ep_r:  15.858986132356808\n",
            "Ep:  224 | Ep_r:  44.22212557422021\n",
            "Ep:  225 | Ep_r:  17.976331191633644\n",
            "Ep:  226 | Ep_r:  58.65871114496045\n",
            "Ep:  227 | Ep_r:  56.63610256772684\n",
            "Ep:  228 | Ep_r:  99.80707671046643\n",
            "Ep:  229 | Ep_r:  90.39072099510156\n",
            "Ep:  230 | Ep_r:  226.49520161371524\n",
            "Ep:  231 | Ep_r:  209.83044318181706\n",
            "Ep:  232 | Ep_r:  113.2814395225243\n",
            "Ep:  233 | Ep_r:  206.0681760000755\n",
            "Ep:  234 | Ep_r:  164.2852500938125\n",
            "Ep:  235 | Ep_r:  769.3806088088362\n",
            "Ep:  236 | Ep_r:  1462.2926335921943\n"
          ],
          "name": "stdout"
        }
      ]
    },
    {
      "cell_type": "markdown",
      "metadata": {
        "id": "YUMWa84gQ9q1",
        "colab_type": "text"
      },
      "source": [
        "![alt text](https://cdn-images-1.medium.com/max/1600/1*LqQEd7iO2ECwEzW2vG0OBw.png)"
      ]
    },
    {
      "cell_type": "markdown",
      "metadata": {
        "id": "38rqGLQjXqm3",
        "colab_type": "text"
      },
      "source": [
        ""
      ]
    },
    {
      "cell_type": "markdown",
      "metadata": {
        "id": "6TYThW58HCwR",
        "colab_type": "text"
      },
      "source": [
        "### How to interpret results\n",
        "\n",
        "\n",
        "Welcome to the f.. world of deep f...n reinforcement learning. Don't expect agent's reward to smoothly go up. Hope for it to go increase eventually. If it deems you worthy.\n",
        "\n",
        "Seriously though,\n",
        "* __ mean reward__ is the average reward per game. For a correct implementation it may stay low for some 10 epochs, then start growing while oscilating insanely and converges by ~50-100 steps depending on the network architecture. \n",
        "* If it never reaches target score by the end of for loop, try increasing the number of hidden neurons or look at the epsilon.\n",
        "* __ epsilon__ - agent's willingness to explore. If you see that agent's already at < 0.01 epsilon before it's is at least 200, just reset it back to 0.1 - 0.5."
      ]
    },
    {
      "cell_type": "code",
      "metadata": {
        "id": "7VXVsfDfEd4K",
        "colab_type": "code",
        "colab": {}
      },
      "source": [
        "!pip install JSAnimation"
      ],
      "execution_count": 0,
      "outputs": []
    },
    {
      "cell_type": "code",
      "metadata": {
        "id": "fWEnsDfwQqvP",
        "colab_type": "code",
        "colab": {}
      },
      "source": [
        "\n",
        "# Imports specifically so we can render outputs in Jupyter.\n",
        "from JSAnimation.IPython_display import display_animation\n",
        "from matplotlib import animation\n",
        "from IPython.display import display\n",
        "\n",
        "\n",
        "def display_frames_as_gif(frames):\n",
        "    \"\"\"\n",
        "    Displays a list of frames as a gif, with controls\n",
        "    \"\"\"\n",
        "    #plt.figure(figsize=(frames[0].shape[1] / 72.0, frames[0].shape[0] / 72.0), dpi = 72)\n",
        "    patch = plt.imshow(frames[0])\n",
        "    plt.axis('off')\n",
        "\n",
        "    def animate(i):\n",
        "        patch.set_data(frames[i])\n",
        "\n",
        "    anim = animation.FuncAnimation(plt.gcf(), animate, frames = len(frames), interval=50)\n",
        "    display(display_animation(anim, default_mode='loop'))\n"
      ],
      "execution_count": 0,
      "outputs": []
    },
    {
      "cell_type": "code",
      "metadata": {
        "id": "x06v9ZvQXrdi",
        "colab_type": "code",
        "outputId": "6941796b-0060-4bcf-8049-d243672fbad1",
        "colab": {
          "base_uri": "https://localhost:8080/",
          "height": 405
        }
      },
      "source": [
        "#record agent\n",
        "frames = []\n",
        "s = env.reset()\n",
        "epsilon = 0\n",
        "total_reward = 0\n",
        "for t in range(1000):\n",
        "    frames.append(env.render(mode = 'rgb_array'))\n",
        "    a = select_action(s, epsilon=epsilon)       \n",
        "    next_s, r, done, _ = env.step(a)\n",
        "    total_reward += r\n",
        "    s = next_s\n",
        "    if done: break\n",
        "print(t)\n",
        "env.close()\n",
        "display_frames_as_gif(frames)"
      ],
      "execution_count": 25,
      "outputs": [
        {
          "output_type": "stream",
          "text": [
            "88\n"
          ],
          "name": "stdout"
        },
        {
          "output_type": "display_data",
          "data": {
            "text/html": [
              "\n",
              "<script language=\"javascript\">\n",
              "  /* Define the Animation class */\n",
              "  function Animation(frames, img_id, slider_id, interval, loop_select_id){\n",
              "    this.img_id = img_id;\n",
              "    this.slider_id = slider_id;\n",
              "    this.loop_select_id = loop_select_id;\n",
              "    this.interval = interval;\n",
              "    this.current_frame = 0;\n",
              "    this.direction = 0;\n",
              "    this.timer = null;\n",
              "    this.frames = new Array(frames.length);\n",
              "\n",
              "    for (var i=0; i<frames.length; i++)\n",
              "    {\n",
              "     this.frames[i] = new Image();\n",
              "     this.frames[i].src = frames[i];\n",
              "    }\n",
              "    document.getElementById(this.slider_id).max = this.frames.length - 1;\n",
              "    this.set_frame(this.current_frame);\n",
              "  }\n",
              "\n",
              "  Animation.prototype.get_loop_state = function(){\n",
              "    var button_group = document[this.loop_select_id].state;\n",
              "    for (var i = 0; i < button_group.length; i++) {\n",
              "        var button = button_group[i];\n",
              "        if (button.checked) {\n",
              "            return button.value;\n",
              "        }\n",
              "    }\n",
              "    return undefined;\n",
              "  }\n",
              "\n",
              "  Animation.prototype.set_frame = function(frame){\n",
              "    this.current_frame = frame;\n",
              "    document.getElementById(this.img_id).src = this.frames[this.current_frame].src;\n",
              "    document.getElementById(this.slider_id).value = this.current_frame;\n",
              "  }\n",
              "\n",
              "  Animation.prototype.next_frame = function()\n",
              "  {\n",
              "    this.set_frame(Math.min(this.frames.length - 1, this.current_frame + 1));\n",
              "  }\n",
              "\n",
              "  Animation.prototype.previous_frame = function()\n",
              "  {\n",
              "    this.set_frame(Math.max(0, this.current_frame - 1));\n",
              "  }\n",
              "\n",
              "  Animation.prototype.first_frame = function()\n",
              "  {\n",
              "    this.set_frame(0);\n",
              "  }\n",
              "\n",
              "  Animation.prototype.last_frame = function()\n",
              "  {\n",
              "    this.set_frame(this.frames.length - 1);\n",
              "  }\n",
              "\n",
              "  Animation.prototype.slower = function()\n",
              "  {\n",
              "    this.interval /= 0.7;\n",
              "    if(this.direction > 0){this.play_animation();}\n",
              "    else if(this.direction < 0){this.reverse_animation();}\n",
              "  }\n",
              "\n",
              "  Animation.prototype.faster = function()\n",
              "  {\n",
              "    this.interval *= 0.7;\n",
              "    if(this.direction > 0){this.play_animation();}\n",
              "    else if(this.direction < 0){this.reverse_animation();}\n",
              "  }\n",
              "\n",
              "  Animation.prototype.anim_step_forward = function()\n",
              "  {\n",
              "    this.current_frame += 1;\n",
              "    if(this.current_frame < this.frames.length){\n",
              "      this.set_frame(this.current_frame);\n",
              "    }else{\n",
              "      var loop_state = this.get_loop_state();\n",
              "      if(loop_state == \"loop\"){\n",
              "        this.first_frame();\n",
              "      }else if(loop_state == \"reflect\"){\n",
              "        this.last_frame();\n",
              "        this.reverse_animation();\n",
              "      }else{\n",
              "        this.pause_animation();\n",
              "        this.last_frame();\n",
              "      }\n",
              "    }\n",
              "  }\n",
              "\n",
              "  Animation.prototype.anim_step_reverse = function()\n",
              "  {\n",
              "    this.current_frame -= 1;\n",
              "    if(this.current_frame >= 0){\n",
              "      this.set_frame(this.current_frame);\n",
              "    }else{\n",
              "      var loop_state = this.get_loop_state();\n",
              "      if(loop_state == \"loop\"){\n",
              "        this.last_frame();\n",
              "      }else if(loop_state == \"reflect\"){\n",
              "        this.first_frame();\n",
              "        this.play_animation();\n",
              "      }else{\n",
              "        this.pause_animation();\n",
              "        this.first_frame();\n",
              "      }\n",
              "    }\n",
              "  }\n",
              "\n",
              "  Animation.prototype.pause_animation = function()\n",
              "  {\n",
              "    this.direction = 0;\n",
              "    if (this.timer){\n",
              "      clearInterval(this.timer);\n",
              "      this.timer = null;\n",
              "    }\n",
              "  }\n",
              "\n",
              "  Animation.prototype.play_animation = function()\n",
              "  {\n",
              "    this.pause_animation();\n",
              "    this.direction = 1;\n",
              "    var t = this;\n",
              "    if (!this.timer) this.timer = setInterval(function(){t.anim_step_forward();}, this.interval);\n",
              "  }\n",
              "\n",
              "  Animation.prototype.reverse_animation = function()\n",
              "  {\n",
              "    this.pause_animation();\n",
              "    this.direction = -1;\n",
              "    var t = this;\n",
              "    if (!this.timer) this.timer = setInterval(function(){t.anim_step_reverse();}, this.interval);\n",
              "  }\n",
              "</script>\n",
              "\n",
              "<div class=\"animation\" align=\"center\">\n",
              "    <img id=\"_anim_imgUKAUEOAEYWMHCCQR\">\n",
              "    <br>\n",
              "    <input id=\"_anim_sliderUKAUEOAEYWMHCCQR\" type=\"range\" style=\"width:350px\" name=\"points\" min=\"0\" max=\"1\" step=\"1\" value=\"0\" onchange=\"animUKAUEOAEYWMHCCQR.set_frame(parseInt(this.value));\"></input>\n",
              "    <br>\n",
              "    <button onclick=\"animUKAUEOAEYWMHCCQR.slower()\">&#8211;</button>\n",
              "    <button onclick=\"animUKAUEOAEYWMHCCQR.first_frame()\"><img class=\"anim_icon\" src=\"data:image/png;base64,iVBORw0KGgoAAAANSUhEUgAAABQAAAAUCAQAAAAngNWGAAAAAXNSR0IArs4c6QAAAAJiS0dEAP+Hj8y/AAAACXBIWXMAAAsTAAALEwEAmpwYAAAAB3RJTUUH3QURCAgaeZk4EQAAASlJREFUKM/dkj9LQnEUhp9zr3bpj1uBcKGiJWxzLWivKAIRjIhcCqcgqJbKRagPICiVSVEuNTu0tLYGUg4tkRGUdxLJ0u79Ndxr5FfwTO/L+xzO4XCgO+v2T70AFU+/A/Dhmlzg6Pr0DKAMwOH4zQxAAbAkv2xNeF2RoQUVc1ytgttXUbWVdN1dOPE8pz4j4APQsdFtKA0WY6vpKjqvVciHnvZTS6Ja4HgggJLs7MHxl9nCh8NYcO+iGG0agiaC4h9oa6Vsw2yiK+QHSZT934YoEQABNBcTNDszsrhm1m1B+bFS86PT6QFppx6oeSaeOwlMXRp1h4aK13Y2kuHhUo9ykPboPvFjeEvsrhTMt3ylHyB0r8KZyYdCrbfj4OveoHMANjuyx+76rV+/blxKMZUnLgAAAABJRU5ErkJggg==\"></button>\n",
              "    <button onclick=\"animUKAUEOAEYWMHCCQR.previous_frame()\"><img class=\"anim_icon\" src=\"data:image/png;base64,iVBORw0KGgoAAAANSUhEUgAAABQAAAAUCAQAAAAngNWGAAAAAXNSR0IArs4c6QAAAAJiS0dEAP+Hj8y/AAAACXBIWXMAAAsTAAALEwEAmpwYAAAAB3RJTUUH3QURCAgyTCyQ6wAAANRJREFUKM9jYBjO4AiUfgzFGGAp4+yayUvX6jMwMDCsYmBgOCS4OAOrSYmMgcc8/pd5Q3irC+Neh/1AlmeBMVgZmP8yMLD8/c/cqv9r90whzv/MX7Eq/MfAwMDIwCuZdfSV8U8WDgZGRmYGrAoZGRgY/jO8b3sj/J2F6T8j4z80pzEhmIwMjAxsSbqqlkeZGP//Z8SlkJnhPwMjwx/Guoe1NhmRwk+YGH5jV8jOwMPHzcDBysAwh8FrxQwtPU99HrwBXsnAwMDAsJiBgYGBoZ1xmKYqALHhMpn1o7igAAAAAElFTkSuQmCC\"></button>\n",
              "    <button onclick=\"animUKAUEOAEYWMHCCQR.reverse_animation()\"><img class=\"anim_icon\" src=\"data:image/png;base64,iVBORw0KGgoAAAANSUhEUgAAABQAAAAUCAQAAAAngNWGAAAAAXNSR0IArs4c6QAAAAJiS0dEAP+Hj8y/AAAACXBIWXMAAAsTAAALEwEAmpwYAAAAB3RJTUUH3QURCAgmVvZElgAAAVFJREFUKM+t0k8ow3EYx/H3s/2aLDUSZctFkgsHEi1XLi5ukpPSWsuJklwclsPSsDKFi7MSJ0I5qF2GHO2m0FY7+BdNv7Y9DpuxDSt5vsfvq+fT9/k+8D8VBxIAWH6H0ead4Qb5BRwCENoceZi5Stl/6BgCBmtWhjzxg4mUQ02rAhil7JgB9tze7aTLxFAKsUUd14B9ZzCyFUk401gQyQJaDNcBHwv7t7ETd0ZVQFEEzcNCdE/1wtj15imGWlEB8qkf2QaAWjbG/bPSamIDyX65/iwDIFx7tWjUvWCoSo5oGbYATN7PORt7W9IZEQXJH8ohuN7C0VVX91KNqYhq4a1lEGJI0j892tazXCWQRUpwAbYDcHczPxXuajq3mbnhfANz5eOJxsuNvs7+jud0UcuyL3QAkuEMx4rnIvBYq1JhEwPAUb3fG7x8tVdc292/7Po7f2VqA+Yz7ZwAAAAASUVORK5CYII=\"></button>\n",
              "    <button onclick=\"animUKAUEOAEYWMHCCQR.pause_animation()\"><img class=\"anim_icon\" src=\"data:image/png;base64,iVBORw0KGgoAAAANSUhEUgAAABQAAAAUCAQAAAAngNWGAAAAAXNSR0IArs4c6QAAAAJiS0dEAP+Hj8y/AAAACXBIWXMAAAsTAAALEwEAmpwYAAAAB3RJTUUH3QURCAkR91DQ2AAAAKtJREFUKM9jYCANTEVib2K4jcRbzQihGWEC00JuNjN8Z2Q0Zo3VYWA4lL005venH9+c3ZK5IfIsMIXMBtc12Bj+MMgxMDAwMPzWe2TBzPCf4SLcZCYY4/9/RgZGBiaYFf8gljFhKiQERhUOeoX/Gf8y/GX4y/APmlj+Mfxj+MfwH64Qnnq0zr9fyfLrPzP3eQYGBobvk5x4GX4xMIij23gdib0cRWYHiVmAAQDK5ircshCbHQAAAABJRU5ErkJggg==\"></button>\n",
              "    <button onclick=\"animUKAUEOAEYWMHCCQR.play_animation()\"><img class=\"anim_icon\" src=\"data:image/png;base64,iVBORw0KGgoAAAANSUhEUgAAABQAAAAUCAQAAAAngNWGAAAAAXNSR0IArs4c6QAAAAJiS0dEAP+Hj8y/AAAACXBIWXMAAAsTAAALEwEAmpwYAAAAB3RJTUUH3QURCAkEmo00MwAAAS9JREFUKM+tkj1IQmEUhp9j94LQj0FD4RRBLdLQ3ftb26PRcCiQIIiIDFwKC0OhaAiam5wVDBpqCKohQojMLYzaAiUatOtpuQrKVQl64fu+4Xt4OLwc+Fs+nNM16jsPAWS6gZXggoZfXmfhog3hcZ6aTXF87Sp68OmH4/YggAo8bmfyyeh6Z1AAKPVldyO1+Iz2uILq3AriJSe3l+H7aj+cuRnrTsVDxSxay+VYbMDnCtZxxQOU9G4nlU9E1HQBxRkCQMRGRnIbpxMARkvxCIoAorYMMrq0mJ0qu4COUW3xyVDqJC4P+86P0ewDQbQqgevhlc2C8ETApXAEFLzvwa3EXG9BoIE1GQUbv1h7k4fTXxBu6cKgUbX5M3ZzNC+a7rQ936HV56SlRpcle+Mf8wvgJ16zo/4BtQAAAABJRU5ErkJggg==\"></button>\n",
              "    <button onclick=\"animUKAUEOAEYWMHCCQR.next_frame()\"><img class=\"anim_icon\" src=\"data:image/png;base64,iVBORw0KGgoAAAANSUhEUgAAABQAAAAUCAQAAAAngNWGAAAAAXNSR0IArs4c6QAAAAJiS0dEAP+Hj8y/AAAACXBIWXMAAAsTAAALEwEAmpwYAAAAB3RJTUUH3QURCAkd/uac8wAAAMhJREFUKM9jYBie4DEUQ8B+fEq3+3UrMzAwMFxjYGBgYJizYubaOUxYFUaXh/6vWfRfEMIL/+//P5gZJoei4/f/7wxnY1PeNUXdE2RgYGZgYoCrY2BBVsjKwMDAwvCS4f3SG/dXxm5gYESSQ1HIwvCPgZmB8f8Pxv+Kxxb/YfiPJIdi9T8GJgaG/38ZFd4Fx0xUYsZt4h8GBgb2D2bLy7KnMTAwMEIxFoVCXIYr1IoDnkF4XAysqNIwUMDAwMDAsADKS2NkGL4AAIARMlfNIfZMAAAAAElFTkSuQmCC\"></button>\n",
              "    <button onclick=\"animUKAUEOAEYWMHCCQR.last_frame()\"><img class=\"anim_icon\" src=\"data:image/png;base64,iVBORw0KGgoAAAANSUhEUgAAABQAAAAUCAQAAAAngNWGAAAAAXNSR0IArs4c6QAAAAJiS0dEAP+Hj8y/AAAACXBIWXMAAAsTAAALEwEAmpwYAAAAB3RJTUUH3QURCAknOOpFQQAAAS9JREFUKM/dkrEvQ3EQxz/33mtoQxiYpANbLU26NAabSCcSUouGBVNDjYQaOiDpIEiKjURIw2Kx04hEYmkHEpGoJpSISaXq9Wd4P03/ht5y98197/u9XA4aK4rAWw3lgWddZ3S+/G9mEovtAB8AHE4pgTQAx8PbJweRmsq6GimmNpxaNYXVzMNNCI6A2figimwCGACK786zuWgh3qcsKf/w0pM4X0m/doNVFVzVGlEQsdRj193VxEWpH0RsdRu+zi3tVMqCAsDShoiYqiSV4OouVDFEqS9Pbiyg7vV62lpQ2BJ4Gg0meg0MbNpkYG/e+540NNFyrE1a8qHk5BaAjfnrzUaHfAWImVrLIXbgnx4/9X06s35cweWsVACa3a24PVp0X+rPv1aHFnSONdiL8Qci0lzwpOM5sQAAAABJRU5ErkJggg==\"></button>\n",
              "    <button onclick=\"animUKAUEOAEYWMHCCQR.faster()\">+</button>\n",
              "  <form action=\"#n\" name=\"_anim_loop_selectUKAUEOAEYWMHCCQR\" class=\"anim_control\">\n",
              "    <input type=\"radio\" name=\"state\" value=\"once\" > Once </input>\n",
              "    <input type=\"radio\" name=\"state\" value=\"loop\" checked> Loop </input>\n",
              "    <input type=\"radio\" name=\"state\" value=\"reflect\" > Reflect </input>\n",
              "  </form>\n",
              "</div>\n",
              "\n",
              "\n",
              "<script language=\"javascript\">\n",
              "  /* Instantiate the Animation class. */\n",
              "  /* The IDs given should match those used in the template above. */\n",
              "  (function() {\n",
              "    var img_id = \"_anim_imgUKAUEOAEYWMHCCQR\";\n",
              "    var slider_id = \"_anim_sliderUKAUEOAEYWMHCCQR\";\n",
              "    var loop_select_id = \"_anim_loop_selectUKAUEOAEYWMHCCQR\";\n",
              "    var frames = new Array(0);\n",
              "    \n",
              "  frames[0] = \"data:image/png;base64,iVBORw0KGgoAAAANSUhEUgAAAbAAAAEgCAYAAADVKCZpAAAABHNCSVQICAgIfAhkiAAAAAlwSFlzAAALEgAACxIB0t1+/AAAADl0RVh0U29mdHdhcmUAbWF0cGxvdGxpYiB2ZXJzaW9uIDMuMC4zLCBodHRwOi8vbWF0cGxvdGxpYi5vcmcvnQurowAABPNJREFUeJzt29FNwlAYgFFrXMI5cAzngDVcA+ZwDJnDMeqbCcoDSuzls+ckJKQJ5E+g+Si3d5rneb4DgJj70QMAwG8IGABJAgZAkoABkCRgACQJGABJAgZAkoABkCRgACQJGABJAgZAkoABkCRgACQJGABJAgZAkoABkCRgACQJGABJAgZAkoABkCRgACQJGABJAgZAkoABkCRgACQJGABJAgZAkoABkCRgACQJGABJAgZAkoABkCRgACQJGABJAgZAkoABkCRgACQJGABJAgZAkoABkCRgACQJGABJAgZAkoABkCRgACQJGABJAgZAkoABkCRgACQJGABJAgZAkoABkCRgACQJGABJAgZAkoABkCRgACQJGABJAgZAkoABkCRgACQJGABJAgZAkoABkCRgACQJGABJAgZAkoABkCRgACQJGABJAgZAkoABkCRgACQJGABJAgZAkoABkCRgACQJGABJAgZAkoABkCRgACQJGABJAgZAkoABkCRgACQJGABJAgZAkoABkCRgACQJGABJAgZAkoABkCRgACQJGABJAgZAkoABkCRgACQJGABJAgZAkoABkCRgACQJGABJAgZAkoABkCRgACQJGABJAgZAkoABkCRgACQJGABJAgZAkoABkCRgACQJGABJAgZAkoABkCRgACQJGABJAgZAkoABkCRgACQJGABJAgZAkoABkCRgACQJGABJAgZA0sPoAWCNjofdt2Ob7X7AJNDlCgyAJAEDIEnAAEgSMACSBAyAJAEDIEnAAEgSMFjYuT1gwM8JGABJAgZAkoABkCRgACQJGABJAgZAkoABkCRgACQJGABJAgZAkoDBDdhs96NHgBwBAyBJwABIEjAAkgQMgCQBAyBJwABIEjAAkgQMgCQBAyBJwABIEjBY0PGwGz0C/BsCBkCSgAGQJGAAJAkYAEkCBkCSgAGQJGAAJAkYAEkCBkCSgAGQJGAw2Ga7Hz0CJAkYAEkCBkCSgAGQJGAAJAkYAEkCBkCSgAGQJGAAJAkYAEkCBkCSgMFCjofd6BHgXxEwAJIEDIAkAQMgScAASBIwAJIEDIAkAQMgScAASBIwuMI0TRc/rn0P4JSAAZD0MHoAWJPX9+3n8+fHw8BJoG+a53kePQRU/eSvvZeXtzPHni5+vVMVTvkLEYAkAQMgScBgIV/XvKyBwXWsgcEVlry93akKp1ZzF6J9NNT5DvMXyj+MVhOw8ofE7XIFBuNYAwMgScAASBIwAJIEDIAkAQMgScAASBIwAJJWsw8M/oK9WTCOKzAAkgQMgCQBAyBJwABIEjAAkgQMgCQBAyBJwABIEjAAkgQMgCQBAyBJwABIEjAAkgQMgCQBAyBJwABIEjAAkgQMgCQBAyBJwABIEjAAkgQMgCQBAyBJwABIEjAAkgQMgCQBAyBJwABIEjAAkgQMgCQBAyBJwABIEjAAkgQMgCQBAyBJwABIEjAAkgQMgCQBAyBJwABIEjAAkgQMgCQBAyBJwABIEjAAkgQMgCQBAyBJwABIEjAAkgQMgCQBAyBJwABIEjAAkgQMgCQBAyBJwABIEjAAkgQMgCQBAyBJwABIEjAAkgQMgCQBAyBJwABIEjAAkgQMgCQBAyBJwABIEjAAkgQMgCQBAyBJwABIEjAAkgQMgCQBAyBJwABIEjAAkgQMgCQBAyBJwABIEjAAkj4AIoUzRBQVFNUAAAAASUVORK5CYII=\"\n",
              "  frames[1] = \"data:image/png;base64,iVBORw0KGgoAAAANSUhEUgAAAbAAAAEgCAYAAADVKCZpAAAABHNCSVQICAgIfAhkiAAAAAlwSFlzAAALEgAACxIB0t1+/AAAADl0RVh0U29mdHdhcmUAbWF0cGxvdGxpYiB2ZXJzaW9uIDMuMC4zLCBodHRwOi8vbWF0cGxvdGxpYi5vcmcvnQurowAABOpJREFUeJzt29FNwlAYgFFrXMI5cAzngJnoHK7BHI5R34xEYkRjrx89J2lC+0D+pJCPG3qnZVmWOwCIuR89AAD8hIABkCRgACQJGABJAgZAkoABkCRgACQJGABJAgZAkoABkCRgACQJGABJAgZAkoABkCRgACQJGABJAgZAkoABkCRgACQJGABJAgZAkoABkCRgACQJGABJAgZAkoABkCRgACQJGABJAgZAkoABkCRgACQJGABJAgZAkoABkCRgACQJGABJAgZAkoABkCRgACQJGABJAgZAkoABkCRgACQJGABJAgZAkoABkCRgACQJGABJAgZAkoABkCRgACQJGABJAgZAkoABkCRgACQJGABJAgZAkoABkCRgACQJGABJAgZAkoABkCRgACQJGABJAgZAkoABkCRgACQJGABJAgZAkoABkCRgACQJGABJAgZAkoABkCRgACQJGABJAgZAkoABkCRgACQJGABJAgZAkoABkCRgACQJGABJAgZAkoABkCRgACQJGABJAgZAkoABkCRgACQJGABJAgZAkoABkCRgACQJGABJAgZAkoABkCRgACQJGABJAgZAkoABkCRgACQJGABJAgZAkoABkCRgACQJGABJAgZAkoABkCRgACQJGABJAgZAkoABkCRgACQJGABJAgZAkoABkCRgACQJGABJAgZAkoABkCRgACQJGABJAgZAkoABkCRgACQ9jB4Atug0Hz5d2+2PAyaBLiswAJIEDIAkAQMgScAASBIwAJIEDIAkAQMgScBgZZf2gAHXEzAAkgQMgCQBAyBJwABIEjAAkgQMgCQBAyBJwABIEjAAkgQMgCQBg39gtz+OHgFyBAyAJAEDIEnAAEgSMACSBAyAJAEDIEnAAEgSMACSBAyAJAEDIEnAYEWn+TB6BLgZAgZAkoABkCRgACQJGABJAgZAkoABkCRgACQJGABJAgZAkoABkCRgMNhufxw9AiQJGABJAgZAkoABkCRgACQJGABJAgZAkoABkCRgACQJGABJAgZAkoDBSk7zYfQIcFMEDIAkAQMgScAASBIwAJIEDIAkAQMgScAASBIwAJIEDH5hmqZvH799D+CcgAGQ9DB6ANiSl9f9++vnx/nu6TAPnAbarMBgJR/jdekcuI6AAZAkYAAkCRis5Plx/vIcuM60LMsyegioWvPxdl9VOLeZpxDto6HOZ5i/UP5htJmAlW8S/5cVGIzjPzAAkgQMgCQBAyBJwABIEjAAkgQMgCQBAyBpM/vA4C/YmwXjWIEBkCRgACQJGABJAgZAkoABkCRgACQJGABJAgZAkoABkCRgACQJGABJAgZAkoABkCRgACQJGABJAgZAkoABkCRgACQJGABJAgZAkoABkCRgACQJGABJAgZAkoABkCRgACQJGABJAgZAkoABkCRgACQJGABJAgZAkoABkCRgACQJGABJAgZAkoABkCRgACQJGABJAgZAkoABkCRgACQJGABJAgZAkoABkCRgACQJGABJAgZAkoABkCRgACQJGABJAgZAkoABkCRgACQJGABJAgZAkoABkCRgACQJGABJAgZAkoABkCRgACQJGABJAgZAkoABkCRgACQJGABJAgZAkoABkCRgACQJGABJAgZAkoABkCRgACQJGABJAgZAkoABkCRgACQJGABJAgZAkoABkPQGBbMugFRldVkAAAAASUVORK5CYII=\"\n",
              "  frames[2] = \"data:image/png;base64,iVBORw0KGgoAAAANSUhEUgAAAbAAAAEgCAYAAADVKCZpAAAABHNCSVQICAgIfAhkiAAAAAlwSFlzAAALEgAACxIB0t1+/AAAADl0RVh0U29mdHdhcmUAbWF0cGxvdGxpYiB2ZXJzaW9uIDMuMC4zLCBodHRwOi8vbWF0cGxvdGxpYi5vcmcvnQurowAABOdJREFUeJzt28ttwkAUQNE4oonUQRupA2qCOtIGdaQMZxnls0j4eLj4HMkLWFhPAnQZmJnmeZ6fACDmefQAAHAOAQMgScAASBIwAJIEDIAkAQMgScAASBIwAJIEDIAkAQMgScAASBIwAJIEDIAkAQMgScAASBIwAJIEDIAkAQMgScAASBIwAJIEDIAkAQMgScAASBIwAJIEDIAkAQMgScAASBIwAJIEDIAkAQMgScAASBIwAJIEDIAkAQMgScAASBIwAJIEDIAkAQMgScAASBIwAJIEDIAkAQMgScAASBIwAJIEDIAkAQMgScAASBIwAJIEDIAkAQMgScAASBIwAJIEDIAkAQMgScAASBIwAJIEDIAkAQMgScAASBIwAJIEDIAkAQMgScAASBIwAJIEDIAkAQMgScAASBIwAJIEDIAkAQMgScAASBIwAJIEDIAkAQMgScAASBIwAJIEDIAkAQMgScAASBIwAJIEDIAkAQMgScAASBIwAJIEDIAkAQMgScAASBIwAJIEDIAkAQMgScAASBIwAJIEDIAkAQMgScAASBIwAJIEDIAkAQMgScAASBIwAJIEDIAkAQMgScAASBIwAJIEDIAkAQMgScAASBIwAJIEDIAkAQMgScAASBIwAJIEDIAkAQMgScAASBIwAJIEDIAkAQMgScAASBIwAJIEDIAkAQMgScAASBIwAJIEDIAkAQMgScAASNqMHgDW6HTc/3huuzsMmAS6rMAASBIwAJIEDIAkAQMgScAASBIwAJIEDBb22xZ64P8EDIAkAQMgScAASBIwAJIEDIAkAQMgScAASBIwAJIEDIAkAQMgScAASBIwAJIEDO7AdncYPQLkCBgASQIGQJKAAZAkYAAkCRgASQIGQJKAAZAkYAAkCRgASQIGQJKAAZAkYLCg03E/egR4GAIGQJKAAZAkYAAkCRgASQIGQJKAAZAkYAAkCRgASQIGQJKAAZAkYAAkCRgMtt0dRo8ASQIGQJKAAZAkYAAkCRgASQIGQJKAAZAkYAAkCRgASQIGQJKAAZAkYAAkCRgs5HTcjx4BHoqAAZAkYAAkCRgASQIGQJKAwQWmafrzdct7wBoJGABJm9EDwJq8ve++PH59OQ6aBPqswGAh3+MFXEbAYCBRg/MJGAzkJ0Q4n4DBQsQKrmua53kePQRULb213ccVPq1mF6IzNDwC72OurfylaDUBK79I3C8rMBjHf2AAJAkYAEkCBkCSgAGQJGAAJAkYAEkCBkDSas6BwS04lwXjWIEBkCRgACQJGABJAgZAkoABkCRgACQJGABJAgZAkoABkCRgACQJGABJAgZAkoABkCRgACQJGABJAgZAkoABkCRgACQJGABJAgZAkoABkCRgACQJGABJAgZAkoABkCRgACQJGABJAgZAkoABkCRgACQJGABJAgZAkoABkCRgACQJGABJAgZAkoABkCRgACQJGABJAgZAkoABkCRgACQJGABJAgZAkoABkCRgACQJGABJAgZAkoABkCRgACQJGABJAgZAkoABkCRgACQJGABJAgZAkoABkCRgACQJGABJAgZAkoABkCRgACQJGABJAgZAkoABkCRgACQJGABJAgZAkoABkCRgACQJGABJAgZAkoABkCRgACQJGABJAgZAkoABkCRgACQJGABJAgZAkoABkPQB470tTiC/8dwAAAAASUVORK5CYII=\"\n",
              "  frames[3] = \"data:image/png;base64,iVBORw0KGgoAAAANSUhEUgAAAbAAAAEgCAYAAADVKCZpAAAABHNCSVQICAgIfAhkiAAAAAlwSFlzAAALEgAACxIB0t1+/AAAADl0RVh0U29mdHdhcmUAbWF0cGxvdGxpYiB2ZXJzaW9uIDMuMC4zLCBodHRwOi8vbWF0cGxvdGxpYi5vcmcvnQurowAABOdJREFUeJzt28ttwkAUQNE4oonUQRupA2qCOtIGdaQMZxnls0j4eLj4HImFWaAnGXQZ2zPN8zw/AUDM8+gBAOAcAgZAkoABkCRgACQJGABJAgZAkoABkCRgACQJGABJAgZAkoABkCRgACQJGABJAgZAkoABkCRgACQJGABJAgZAkoABkCRgACQJGABJAgZAkoABkCRgACQJGABJAgZAkoABkCRgACQJGABJAgZAkoABkCRgACQJGABJAgZAkoABkCRgACQJGABJAgZAkoABkCRgACQJGABJAgZAkoABkCRgACQJGABJAgZAkoABkCRgACQJGABJAgZAkoABkCRgACQJGABJAgZAkoABkCRgACQJGABJAgZAkoABkCRgACQJGABJAgZAkoABkCRgACQJGABJAgZAkoABkCRgACQJGABJAgZAkoABkCRgACQJGABJAgZAkoABkCRgACQJGABJAgZAkoABkCRgACQJGABJAgZAkoABkCRgACQJGABJAgZAkoABkCRgACQJGABJAgZAkoABkCRgACQJGABJAgZAkoABkCRgACQJGABJAgZAkoABkCRgACQJGABJAgZAkoABkCRgACQJGABJAgZAkoABkCRgACQJGABJAgZAkoABkCRgACQJGABJAgZAkoABkCRgACQJGABJAgZAkoABkCRgACQJGABJAgZAkoABkCRgACQJGABJAgZAkoABkLQZPQCs0em4//HedncYMAl0WYEBkCRgACQJGABJAgZAkoABkCRgACQJGABJAgYL+20PGPB/AgZAkoABkCRgACQJGABJAgZAkoABkCRgACQJGABJAgZAkoABkCRgACQJGNyB7e4wegTIETAAkgQMgCQBAyBJwABIEjAAkgQMgCQBAyBJwABIEjAAkgQMgCQBAyBJwGBBp+N+9AjwMAQMgCQBAyBJwABIEjAAkgQMgCQBAyBJwABIEjAAkgQMgCQBAyBJwABIEjAYbLs7jB4BkgQMgCQBAyBJwABIEjAAkgQMgCQBAyBJwABIEjAAkgQMgCQBAyBJwABIEjBYyOm4Hz0CPBQBAyBJwABIEjAAkgQMgCQBgwtM0/Tn1y0/A9ZIwABI2oweANbk7X335fj15ThoEuizAoOFfI8XcBkBg4FEDc4nYDCQS4hwPgGDhYgVXNc0z/M8egioWvrRdj9X+LSapxDtoeER+B5zbeU/RasJWPkkcb+swGAc98AASBIwAJIEDIAkAQMgScAASBIwAJIEDICk1ewDg1uwLwvGsQIDIEnAAEgSMACSBAyAJAEDIEnAAEgSMACSBAyAJAEDIEnAAEgSMACSBAyAJAEDIEnAAEgSMACSBAyAJAEDIEnAAEgSMACSBAyAJAEDIEnAAEgSMACSBAyAJAEDIEnAAEgSMACSBAyAJAEDIEnAAEgSMACSBAyAJAEDIEnAAEgSMACSBAyAJAEDIEnAAEgSMACSBAyAJAEDIEnAAEgSMACSBAyAJAEDIEnAAEgSMACSBAyAJAEDIEnAAEgSMACSBAyAJAEDIEnAAEgSMACSBAyAJAEDIEnAAEgSMACSBAyAJAEDIEnAAEgSMACSBAyAJAEDIEnAAEgSMACSBAyAJAEDIEnAAEgSMACSBAyAJAEDIEnAAEgSMACSBAyAJAEDIEnAAEgSMACSBAyAJAEDIOkDsrstTofH62QAAAAASUVORK5CYII=\"\n",
              "  frames[4] = \"data:image/png;base64,iVBORw0KGgoAAAANSUhEUgAAAbAAAAEgCAYAAADVKCZpAAAABHNCSVQICAgIfAhkiAAAAAlwSFlzAAALEgAACxIB0t1+/AAAADl0RVh0U29mdHdhcmUAbWF0cGxvdGxpYiB2ZXJzaW9uIDMuMC4zLCBodHRwOi8vbWF0cGxvdGxpYi5vcmcvnQurowAABOhJREFUeJzt28ttwlAQQNE4oonUQRupA2qCOlJGqCNlOMsonwUQ8OPCOUtkoZHAXAbsaZ7n+QkAYp5HDwAA5xAwAJIEDIAkAQMgScAASBIwAJIEDIAkAQMgScAASBIwAJIEDIAkAQMgScAASBIwAJIEDIAkAQMgScAASBIwAJIEDIAkAQMgScAASBIwAJIEDIAkAQMgScAASBIwAJIEDIAkAQMgScAASBIwAJIEDIAkAQMgScAASBIwAJIEDIAkAQMgScAASBIwAJIEDIAkAQMgScAASBIwAJIEDIAkAQMgScAASBIwAJIEDIAkAQMgScAASBIwAJIEDIAkAQMgScAASBIwAJIEDIAkAQMgScAASBIwAJIEDIAkAQMgScAASBIwAJIEDIAkAQMgScAASBIwAJIEDIAkAQMgScAASBIwAJIEDIAkAQMgScAASBIwAJIEDIAkAQMgScAASBIwAJIEDIAkAQMgScAASBIwAJIEDIAkAQMgScAASBIwAJIEDIAkAQMgScAASBIwAJIEDIAkAQMgScAASBIwAJIEDIAkAQMgScAASBIwAJIEDIAkAQMgScAASBIwAJIEDIAkAQMgScAASBIwAJIEDIAkAQMgScAASBIwAJIEDIAkAQMgScAASBIwAJIEDIAkAQMgScAASBIwAJIEDIAkAQMgScAASBIwAJIEDIAkAQMgScAASBIwAJIEDICk1egB4BEd9ttfj603uwGTQJcNDIAkAQMgScAASBIwAJIEDIAkAQMgScAASBIwWNhf94ABpxMwAJIEDIAkAQMgScAASBIwAJIEDIAkAQMgScAASBIwAJIEDIAkAQMgScAASBIwAJIEDG7AerMbPQLkCBgASQIGQJKAAZAkYAAkCRgASQIGQJKAAZAkYAAkCRgASQIGQJKAAZAkYAAkCRgs6LDfjh4B7oaAAZAkYAAkCRgASQIGQJKAAZAkYAAkCRgASQIGQJKAAZAkYAAkCRgASQIGQJKAwWDrzW70CJAkYAAkCRgASQIGQJKAAZAkYAAkCRgASQIGQJKAAZAkYAAkCRgASQIGQJKAAZC0Gj0AlE3TdPSx77vNv59jnuejj4V7ZwMDIMkGBgt6+/i+hb2+7AdNAn02MBjoZ9CA4wkYLESs4LIEDBbi50K4LAGDgUQNzjfNrsuFs51yCfwlOF3hy8Nchbj0Bw1cg/cxl1b+UvQwASu/SNwuGxiM4z8wAJIEDIAkAQMgScAASBIwAJIEDIAkAQMg6WHuA4NrcF8WjGMDAyBJwABIEjAAkgQMgCQBAyBJwABIEjAAkgQMgCQBAyBJwABIEjAAkgQMgCQBAyBJwABIEjAAkgQMgCQBAyBJwABIEjAAkgQMgCQBAyBJwABIEjAAkgQMgCQBAyBJwABIEjAAkgQMgCQBAyBJwABIEjAAkgQMgCQBAyBJwABIEjAAkgQMgCQBAyBJwABIEjAAkgQMgCQBAyBJwABIEjAAkgQMgCQBAyBJwABIEjAAkgQMgCQBAyBJwABIEjAAkgQMgCQBAyBJwABIEjAAkgQMgCQBAyBJwABIEjAAkgQMgCQBAyBJwABIEjAAkgQMgCQBAyBJwABIEjAAkgQMgCQBAyBJwABIEjAAkgQMgCQBAyBJwABIEjAAkgQMgCQBAyBJwABIEjAAkgQMgCQBAyDpE7L0MA5JBZ+mAAAAAElFTkSuQmCC\"\n",
              "  frames[5] = \"data:image/png;base64,iVBORw0KGgoAAAANSUhEUgAAAbAAAAEgCAYAAADVKCZpAAAABHNCSVQICAgIfAhkiAAAAAlwSFlzAAALEgAACxIB0t1+/AAAADl0RVh0U29mdHdhcmUAbWF0cGxvdGxpYiB2ZXJzaW9uIDMuMC4zLCBodHRwOi8vbWF0cGxvdGxpYi5vcmcvnQurowAABOlJREFUeJzt3MltwlAUQNE4oonUQRupA2qCOlJGqCNlOMsowwII+HPhnCWy0JMYLg9spnme5ycAiHkePQAAnEPAAEgSMACSBAyAJAEDIEnAAEgSMACSBAyAJAEDIEnAAEgSMACSBAyAJAEDIEnAAEgSMACSBAyAJAEDIEnAAEgSMACSBAyAJAEDIEnAAEgSMACSBAyAJAEDIEnAAEgSMACSBAyAJAEDIEnAAEgSMACSBAyAJAEDIEnAAEgSMACSBAyAJAEDIEnAAEgSMACSBAyAJAEDIEnAAEgSMACSBAyAJAEDIEnAAEgSMACSBAyAJAEDIEnAAEgSMACSBAyAJAEDIEnAAEgSMACSBAyAJAEDIEnAAEgSMACSBAyAJAEDIEnAAEgSMACSBAyAJAEDIEnAAEgSMACSBAyAJAEDIEnAAEgSMACSBAyAJAEDIEnAAEgSMACSBAyAJAEDIEnAAEgSMACSBAyAJAEDIEnAAEgSMACSBAyAJAEDIEnAAEgSMACSBAyAJAEDIEnAAEgSMACSBAyAJAEDIEnAAEgSMACSBAyAJAEDIEnAAEgSMACSBAyAJAEDIEnAAEgSMACSBAyAJAEDIEnAAEgSMACSBAyAJAEDIEnAAEgSMACSBAyAJAEDIEnAAEgSMACSBAyAJAEDIEnAAEgSMACSBAyAJAEDIEnAAEgSMACSBAyAJAEDIEnAAEgSMACSVqMHgEd02G9/3bbe7AZMAl02MACSBAyAJAEDIEnAAEgSMACSBAyAJAEDIEnAAEgSMACSBAwW9te/cACnEzAAkgQMgCQBAyBJwABIEjAAkgQMgCQBAyBJwABIEjAAkgQMgCQBAyBJwABIEjC4AevNbvQIkCNgACQJGABJAgZAkoABkCRgACQJGABJAgZAkoABkCRgACQJGABJAgZAkoABkCRgsKDDfjt6BLgbAgZAkoABkCRgACQJGABJAgZAkoABkCRgACQJGABJAgZAkoABkCRgACQJGABJAgaDrTe70SNAkoABkCRgACQJGABJAgZAkoABkCRgACQJGABJAgZAkoABkCRgACQJGABJq9EDQNk0TUcf+77b/Ps+5nk++li4dzYwAJJsYLCgt4/vW9jry37QJNBnA4OBfgYNOJ6AwULECi5LwGAhvi6EyxIwGEjU4HzT7LxcONspp8BfgpcrfHmYsxCXfqOBa/A85tLKH4oeJmDlB4nbZQODcfwGBkCSgAGQJGAAJAkYAEkCBkCSgAGQJGAAJD3MdWBwDa7LgnFsYAAkCRgASQIGQJKAAZAkYAAkCRgASQIGQJKAAZAkYAAkCRgASQIGQJKAAZAkYAAkCRgASQIGQJKAAZAkYAAkCRgASQIGQJKAAZAkYAAkCRgASQIGQJKAAZAkYAAkCRgASQIGQJKAAZAkYAAkCRgASQIGQJKAAZAkYAAkCRgASQIGQJKAAZAkYAAkCRgASQIGQJKAAZAkYAAkCRgASQIGQJKAAZAkYAAkCRgASQIGQJKAAZAkYAAkCRgASQIGQJKAAZAkYAAkCRgASQIGQJKAAZAkYAAkCRgASQIGQJKAAZAkYAAkCRgASQIGQJKAAZAkYAAkCRgASQIGQJKAAZAkYAAkCRgASQIGQJKAAZAkYAAkCRgASQIGQJKAAZAkYAAkCRgASQIGQJKAAZAkYAAkfQL5izAOBRELeAAAAABJRU5ErkJggg==\"\n",
              "  frames[6] = \"data:image/png;base64,iVBORw0KGgoAAAANSUhEUgAAAbAAAAEgCAYAAADVKCZpAAAABHNCSVQICAgIfAhkiAAAAAlwSFlzAAALEgAACxIB0t1+/AAAADl0RVh0U29mdHdhcmUAbWF0cGxvdGxpYiB2ZXJzaW9uIDMuMC4zLCBodHRwOi8vbWF0cGxvdGxpYi5vcmcvnQurowAABOBJREFUeJzt3NFNAkEUQFHX0IR10IZ1QE1Qh21Qh2Wsf2qUD0TZ8bLnJCRAQvISIJfJ7DDN8zw/AEDM4+gBAOAaAgZAkoABkCRgACQJGABJAgZAkoABkCRgACQJGABJAgZAkoABkCRgACQJGABJAgZAkoABkCRgACQJGABJAgZAkoABkCRgACQJGABJAgZAkoABkCRgACQJGABJAgZAkoABkCRgACQJGABJAgZAkoABkCRgACQJGABJAgZAkoABkCRgACQJGABJAgZAkoABkCRgACQJGABJAgZAkoABkCRgACQJGABJAgZAkoABkCRgACQJGABJAgZAkoABkCRgACQJGABJAgZAkoABkCRgACQJGABJAgZAkoABkCRgACQJGABJAgZAkoABkCRgACQJGABJAgZAkoABkCRgACQJGABJAgZAkoABkCRgACQJGABJAgZAkoABkCRgACQJGABJAgZAkoABkCRgACQJGABJAgZAkoABkCRgACQJGABJAgZAkoABkCRgACQJGABJAgZAkoABkCRgACQJGABJAgZAkoABkCRgACQJGABJAgZAkoABkCRgACQJGABJAgZAkoABkCRgACQJGABJAgZAkoABkCRgACQJGABJAgZAkoABkCRgACQJGABJAgZAkoABkCRgACQJGABJAgZAkoABkCRgACQJGABJAgZAkoABkCRgACQJGABJAgZAkoABkLQZPQCs0em4//bcdncYMAl0WYEBkCRgACQJGABJAgZAkoABkCRgACQJGABJAgZAkoABkCRgACQJGCzs3N9IAT8nYAAkCRgASQIGQJKAAZAkYAAkCRgASQIGQJKAAZAkYAAkCRgASQIGQJKAAZAkYAAkCRj8A9vdYfQIkCNgACQJGABJAgZAkoABkCRgACQJGABJAgZAkoABkCRgACQJGABJAgZAkoABkCRgACQJGCzodNyPHgHuhoABkCRgACQJGABJAgZAkoABkCRgACQJGABJAgZAkoABkCRgACQJGABJAgZAkoABkCRgACQJGAy23R1GjwBJAgZAkoABkCRgACQJGABJAgZAkoABkCRg8EvTNF18u8XrYa0EDICkzegBYG1eXnfv95+fjgMngTYrMFjQ53idewxcTsAASBIwAJIEDBb0dc/LHhhcb5rneR49BJQteXm7ryt8WM1ViM7QcA98jvlr5R9FqwlY+U3if7MCgzHsgQGQJGAAJAkYAEkCBkCSgAGQJGAAJAkYAEmrOQcGt+JsFoxhBQZAkoABkCRgACQJGABJAgZAkoABkCRgACQJGABJAgZAkoABkCRgACQJGABJAgZAkoABkCRgACQJGABJAgZAkoABkCRgACQJGABJAgZAkoABkCRgACQJGABJAgZAkoABkCRgACQJGABJAgZAkoABkCRgACQJGABJAgZAkoABkCRgACQJGABJAgZAkoABkCRgACQJGABJAgZAkoABkCRgACQJGABJAgZAkoABkCRgACQJGABJAgZAkoABkCRgACQJGABJAgZAkoABkCRgACQJGABJAgZAkoABkCRgACQJGABJAgZAkoABkCRgACQJGABJAgZAkoABkCRgACQJGABJAgZAkoABkCRgACQJGABJAgZAkoABkCRgACQJGABJAgZAkoABkCRgACQJGABJAgZA0hud1yuAzAnihAAAAABJRU5ErkJggg==\"\n",
              "  frames[7] = \"data:image/png;base64,iVBORw0KGgoAAAANSUhEUgAAAbAAAAEgCAYAAADVKCZpAAAABHNCSVQICAgIfAhkiAAAAAlwSFlzAAALEgAACxIB0t1+/AAAADl0RVh0U29mdHdhcmUAbWF0cGxvdGxpYiB2ZXJzaW9uIDMuMC4zLCBodHRwOi8vbWF0cGxvdGxpYi5vcmcvnQurowAABONJREFUeJzt3N1pAkEYQNFssInUYRupY61J60gZsY6UsXlLAuYhvzte9xwQVBA+ULkOs+O0LMtyBwAx96MHAICfEDAAkgQMgCQBAyBJwABIEjAAkgQMgCQBAyBJwABIEjAAkgQMgCQBAyBJwABIEjAAkgQMgCQBAyBJwABIEjAAkgQMgCQBAyBJwABIEjAAkgQMgCQBAyBJwABIEjAAkgQMgCQBAyBJwABIEjAAkgQMgCQBAyBJwABIEjAAkgQMgCQBAyBJwABIEjAAkgQMgCQBAyBJwABIEjAAkgQMgCQBAyBJwABIEjAAkgQMgCQBAyBJwABIEjAAkgQMgCQBAyBJwABIEjAAkgQMgCQBAyBJwABIEjAAkgQMgCQBAyBJwABIEjAAkgQMgCQBAyBJwABIEjAAkgQMgCQBAyBJwABIEjAAkgQMgCQBAyBJwABIEjAAkgQMgCQBAyBJwABIEjAAkgQMgCQBAyBJwABIEjAAkgQMgCQBAyBJwABIEjAAkgQMgCQBAyBJwABIEjAAkgQMgCQBAyBJwABIEjAAkgQMgCQBAyBJwABIEjAAkgQMgCQBAyBJwABIEjAAkgQMgCQBAyBJwABIEjAAkgQMgCQBAyBJwABIEjAAkgQMgCQBAyBJwABIEjAAkgQMgCQBAyBJwABIEjAAkgQMgCQBAyBJwABIEjAAkgQMgCQBAyBJwABIEjAAkgQMgKTd6AFgi86nw8Vz+/k4YBLosgIDIEnAAEgSMACSBAyAJAEDIEnAAEgSMACSBAyAJAEDIEnAAEgSMACSBAyAJAGDlX32R77A9wkYAEkCBkCSgAGQJGAAJAkYAEkCBkCSgAGQJGAAJAkYAEkCBkCSgAGQJGAAJAkYXIH9fBw9AuQIGABJAgZAkoABkCRgACQJGABJAgZAkoABkCRgACQJGABJAgZAkoABkCRgACQJGABJAgYrOp8Oo0eAmyFgACQJGABJAgZAkoABkCRgACQJGABJAgZAkoABkCRgACQJGABJAgZAkoABkCRgACQJGAy2n4+jR4AkAQMgScAASBIwAJIEDIAkAQMgScAASBIw+KVpmr58+4/Xw1YJGABJu9EDwNY8vcxv9x8fTgMngTYrMFjRx3h99hj4OgEDIEnAAEgSMFjJ83G+2POyBwY/Ny3LsoweAsrWvLzd1xXebeYqRGdouAU+x/y18o+izQSs/CZx3azAYAx7YAAkCRgASQIGQJKAAZAkYAAkCRgASQIGQNJmzoHBf3E2C8awAgMgScAASBIwAJIEDIAkAQMgScAASBIwAJIEDIAkAQMgScAASBIwAJIEDIAkAQMgScAASBIwAJIEDIAkAQMgScAASBIwAJIEDIAkAQMgScAASBIwAJIEDIAkAQMgScAASBIwAJIEDIAkAQMgScAASBIwAJIEDIAkAQMgScAASBIwAJIEDIAkAQMgScAASBIwAJIEDIAkAQMgScAASBIwAJIEDIAkAQMgScAASBIwAJIEDIAkAQMgScAASBIwAJIEDIAkAQMgScAASBIwAJIEDIAkAQMgScAASBIwAJIEDIAkAQMgScAASBIwAJIEDIAkAQMgScAASBIwAJIEDIAkAQMgScAASBIwAJIEDIAkAQMgScAASBIwAJIEDIAkAQMgScAASBIwAJIEDIAkAQMg6RVDci1LE/Jl7AAAAABJRU5ErkJggg==\"\n",
              "  frames[8] = \"data:image/png;base64,iVBORw0KGgoAAAANSUhEUgAAAbAAAAEgCAYAAADVKCZpAAAABHNCSVQICAgIfAhkiAAAAAlwSFlzAAALEgAACxIB0t1+/AAAADl0RVh0U29mdHdhcmUAbWF0cGxvdGxpYiB2ZXJzaW9uIDMuMC4zLCBodHRwOi8vbWF0cGxvdGxpYi5vcmcvnQurowAABOBJREFUeJzt3NFNAkEUQFHX0IR10IZ1QE1Qh21Qh2Wsf2qUD0TZ8bLnJCRAQvISIJfJ7DDN8zw/AEDM4+gBAOAaAgZAkoABkCRgACQJGABJAgZAkoABkCRgACQJGABJAgZAkoABkCRgACQJGABJAgZAkoABkCRgACQJGABJAgZAkoABkCRgACQJGABJAgZAkoABkCRgACQJGABJAgZAkoABkCRgACQJGABJAgZAkoABkCRgACQJGABJAgZAkoABkCRgACQJGABJAgZAkoABkCRgACQJGABJAgZAkoABkCRgACQJGABJAgZAkoABkCRgACQJGABJAgZAkoABkCRgACQJGABJAgZAkoABkCRgACQJGABJAgZAkoABkCRgACQJGABJAgZAkoABkCRgACQJGABJAgZAkoABkCRgACQJGABJAgZAkoABkCRgACQJGABJAgZAkoABkCRgACQJGABJAgZAkoABkCRgACQJGABJAgZAkoABkCRgACQJGABJAgZAkoABkCRgACQJGABJAgZAkoABkCRgACQJGABJAgZAkoABkCRgACQJGABJAgZAkoABkCRgACQJGABJAgZAkoABkCRgACQJGABJAgZAkoABkCRgACQJGABJAgZAkoABkCRgACQJGABJAgZAkoABkCRgACQJGABJAgZAkoABkCRgACQJGABJAgZAkoABkCRgACQJGABJAgZAkoABkLQZPQCs0em4//bcdncYMAl0WYEBkCRgACQJGABJAgZAkoABkCRgACQJGABJAgZAkoABkCRgACQJGABJAgZAkoABkCRgsLBz/0QP/JyAAZAkYAAkCRgASQIGQJKAAZAkYAAkCRgASQIGQJKAAZAkYAAkCRgASQIGQJKAAZAkYAAkCRgASQIG/8B2dxg9AuQIGABJAgZAkoABkCRgACQJGABJAgZAkoABkCRgACQJGABJAgZAkoABkCRgACQJGABJAgYLOh33o0eAuyFgACQJGABJAgZAkoABkCRgACQJGABJAgZAkoABkCRgACQJGABJAgZAkoABkCRgACQJGABJAgZAkoDBYNvdYfQIkCRg8EvTNF18u8XrYa0EDICkzegBYG1eXnfv95+fjgMngTYrMFjQ53idewxcTsAASBIwAJIEDBb0dc/LHhhcb5rneR49BJQteXm7ryt8WM1ViM7QcA98jvlr5R9FqwlY+U3if7MCgzHsgQGQJGAAJAkYAEkCBkCSgAGQJGAAJAkYAEmrOQcGt+JsFoxhBQZAkoABkCRgACQJGABJAgZAkoABkCRgACQJGABJAgZAkoABkCRgACQJGABJAgZAkoABkCRgACQJGABJAgZAkoABkCRgACQJGABJAgZAkoABkCRgACQJGABJAgZAkoABkCRgACQJGABJAgZAkoABkCRgACQJGABJAgZAkoABkCRgACQJGABJAgZAkoABkCRgACQJGABJAgZAkoABkCRgACQJGABJAgZAkoABkCRgACQJGABJAgZAkoABkCRgACQJGABJAgZAkoABkCRgACQJGABJAgZAkoABkCRgACQJGABJAgZAkoABkCRgACQJGABJAgZAkoABkCRgACQJGABJAgZAkoABkCRgACQJGABJAgZAkoABkCRgACQJGABJAgZAkoABkCRgACQJGABJAgZA0htC2yuAxdyDcQAAAABJRU5ErkJggg==\"\n",
              "  frames[9] = \"data:image/png;base64,iVBORw0KGgoAAAANSUhEUgAAAbAAAAEgCAYAAADVKCZpAAAABHNCSVQICAgIfAhkiAAAAAlwSFlzAAALEgAACxIB0t1+/AAAADl0RVh0U29mdHdhcmUAbWF0cGxvdGxpYiB2ZXJzaW9uIDMuMC4zLCBodHRwOi8vbWF0cGxvdGxpYi5vcmcvnQurowAABORJREFUeJzt3N1NAkEYQFHX0IR10IZ1LDVBHbZhHZYxvqlRH/zd8brnJCRAQvIlQC6T2WEZY4wrAIi5nj0AAHyFgAGQJGAAJAkYAEkCBkCSgAGQJGAAJAkYAEkCBkCSgAGQJGAAJAkYAEkCBkCSgAGQJGAAJAkYAEkCBkCSgAGQJGAAJAkYAEkCBkCSgAGQJGAAJAkYAEkCBkCSgAGQJGAAJAkYAEkCBkCSgAGQJGAAJAkYAEkCBkCSgAGQJGAAJAkYAEkCBkCSgAGQJGAAJAkYAEkCBkCSgAGQJGAAJAkYAEkCBkCSgAGQJGAAJAkYAEkCBkCSgAGQJGAAJAkYAEkCBkCSgAGQJGAAJAkYAEkCBkCSgAGQJGAAJAkYAEkCBkCSgAGQJGAAJAkYAEkCBkCSgAGQJGAAJAkYAEkCBkCSgAGQJGAAJAkYAEkCBkCSgAGQJGAAJAkYAEkCBkCSgAGQJGAAJAkYAEkCBkCSgAGQJGAAJAkYAEkCBkCSgAGQJGAAJAkYAEkCBkCSgAGQJGAAJAkYAEkCBkCSgAGQJGAAJAkYAEkCBkCSgAGQJGAAJAkYAEkCBkCSgAGQJGAAJAkYAEkCBkCSgAGQJGAAJAkYAEkCBkCSgAGQJGAAJAkYAEkCBkCSgAGQJGAAJAkYAEkCBkCSgAGQJGAAJAkYAEkCBkCSgAGQJGAAJAkYAEkCBkCSgAGQJGAAJB1mDwB7dX85vXnuuJ4nTAJNVmAAJAkYAEkCBkCSgMEE9r/g+wQMgCQBAyBJwABIEjAAkgQMgCQBAyBJwABIEjAAkgQMgCQBAyBJwABIEjAAkgQMNvbeH/kCnydgACQJGABJAgZAkoABkCRgACQJGABJAgZAkoABkCRgACQJGABJAgZAkoABkCRgACQJGPwBx/U8ewTIETAAkgQMgCQBAyBJwABIEjAAkgQMgCQBAyBJwABIEjAAkgQMgCQBAyBJwABIEjAAkgQMgCQBgw3dX06zR4B/Q8AASBIwAJIEDIAkAQMgScAASBIwAJIEDIAkAQMgScAASBIwAJIEDIAkAQMgScAASBIwmOy4nmePAEkCBt+0LMuHb7/xetgrAQMg6TB7ANibu4f16f7tzWXiJNBmBQYbehmv9x4DHydgACQJGABJAgYber3nZQ8Mvm4ZY4zZQ0DZlpe3+7rCs91chegMDf+BzzE/rfyjaDcBK79J/G1WYDCHPTAAkgQMgCQBAyBJwABIEjAAkgQMgCQBAyBpN+fA4Lc4mwVzWIEBkCRgACQJGABJAgZAkoABkCRgACQJGABJAgZAkoABkCRgACQJGABJAgZAkoABkCRgACQJGABJAgZAkoABkCRgACQJGABJAgZAkoABkCRgACQJGABJAgZAkoABkCRgACQJGABJAgZAkoABkCRgACQJGABJAgZAkoABkCRgACQJGABJAgZAkoABkCRgACQJGABJAgZAkoABkCRgACQJGABJAgZAkoABkCRgACQJGABJAgZAkoABkCRgACQJGABJAgZAkoABkCRgACQJGABJAgZAkoABkCRgACQJGABJAgZAkoABkCRgACQJGABJAgZAkoABkCRgACQJGABJAgZAkoABkCRgACQJGABJAgZAkoABkCRgACQJGABJAgZAkoABkCRgACQJGABJAgZAkoABkPQINVEugGANPR8AAAAASUVORK5CYII=\"\n",
              "  frames[10] = \"data:image/png;base64,iVBORw0KGgoAAAANSUhEUgAAAbAAAAEgCAYAAADVKCZpAAAABHNCSVQICAgIfAhkiAAAAAlwSFlzAAALEgAACxIB0t1+/AAAADl0RVh0U29mdHdhcmUAbWF0cGxvdGxpYiB2ZXJzaW9uIDMuMC4zLCBodHRwOi8vbWF0cGxvdGxpYi5vcmcvnQurowAABO5JREFUeJzt3fFJAmEcgOEuWqI5aozm0DVcQ+doDedojOuPIKIkyuy+3u55QFBB+cEprx93H07zPM9XABBzPXoAADiHgAGQJGAAJAkYAEkCBkCSgAGQJGAAJAkYAEkCBkCSgAGQJGAAJAkYAEkCBkCSgAGQJGAAJAkYAEkCBkCSgAGQJGAAJAkYAEkCBkCSgAGQJGAAJAkYAEkCBkCSgAGQJGAAJAkYAEkCBkCSgAGQJGAAJAkYAEkCBkCSgAGQJGAAJAkYAEkCBkCSgAGQJGAAJAkYAEkCBkCSgAGQJGAAJAkYAEkCBkCSgAGQJGAAJAkYAEkCBkCSgAGQJGAAJAkYAEkCBkCSgAGQJGAAJAkYAEkCBkCSgAGQJGAAJAkYAEkCBkCSgAGQJGAAJAkYAEkCBkCSgAGQJGAAJAkYAEkCBkCSgAGQJGAAJAkYAEkCBkCSgAGQJGAAJAkYAEkCBkCSgAGQJGAAJAkYAEkCBkCSgAGQJGAAJAkYAEkCBkCSgAGQJGAAJAkYAEkCBkCSgAGQJGAAJAkYAEkCBkCSgAGQJGAAJAkYAEkCBkCSgAGQJGAAJAkYAEkCBkCSgAGQJGAAJAkYAEkCBkCSgAGQJGAAJAkYAEkCBkCSgAGQJGAAJAkYAEkCBkCSgAGQJGAAJAkYAEkCBkCSgAGQJGAAJAkYAEkCBkCSgAGQJGAAJAkYAEkCBkCSgAGQJGAAJN2MHgDW6njYfnjubrMfMAk0WYEBkCRgACQJGABJAgZAkoDBAC7ggJ8TMACSBAyAJAEDIEnAAEgSMACSBAyAJAEDIEnAAEgSMACSBAyAJAEDIEnAAEgSMACSBAyAJAGDhZ36KxXg+wQMgCQBAyBJwABIEjAAkgQMgCQBAyBJwABIEjAAkgQMgCQBAyBJwABIEjAAkgQMgCQBAyBJwABIEjD4A+42+9EjQI6AAZAkYAAkCRgASQIGQJKAAZAkYAAkCRgASQIGQJKAAZAkYAAkCRgASQIGQJKAAZAkYLCg42E7egT4NwQMgCQBAyBJwABIEjAAkgQMgCQBAyBJwABIEjAAkgQMgCQBAyBJwOACpmn60u2nr//sPWBtBAyApJvRA8DaPD5tXu8/3B4GTgJtVmCwoLfxOvUY+DoBg8FEDM4jYDDYbnc/egRIEjBY0PtzXs6BwfmmeZ7n0UNA3ZKXt/vKwovVXIVo/wz/hc8yl1T+QbSagJUPEn+fFRgszzkwAJIEDIAkAQMgScAASBIwAJIEDIAkAQMgaTX7wOA32ZsFy7MCAyBJwABIEjAAkgQMgCQBAyBJwABIEjAAkgQMgCQBAyBJwABIEjAAkgQMgCQBAyBJwABIEjAAkgQMgCQBAyBJwABIEjAAkgQMgCQBAyBJwABIEjAAkgQMgCQBAyBJwABIEjAAkgQMgCQBAyBJwABIEjAAkgQMgCQBAyBJwABIEjAAkgQMgCQBAyBJwABIEjAAkgQMgCQBAyBJwABIEjAAkgQMgCQBAyBJwABIEjAAkgQMgCQBAyBJwABIEjAAkgQMgCQBAyBJwABIEjAAkgQMgCQBAyBJwABIEjAAkgQMgCQBAyBJwABIEjAAkgQMgCQBAyBJwABIEjAAkgQMgCQBAyBJwABIEjAAkgQMgCQBAyBJwABIEjAAkgQMgCQBAyBJwABIEjAAkgQMgCQBAyDpGcEOMIAvmJETAAAAAElFTkSuQmCC\"\n",
              "  frames[11] = \"data:image/png;base64,iVBORw0KGgoAAAANSUhEUgAAAbAAAAEgCAYAAADVKCZpAAAABHNCSVQICAgIfAhkiAAAAAlwSFlzAAALEgAACxIB0t1+/AAAADl0RVh0U29mdHdhcmUAbWF0cGxvdGxpYiB2ZXJzaW9uIDMuMC4zLCBodHRwOi8vbWF0cGxvdGxpYi5vcmcvnQurowAABORJREFUeJzt3NFNwlAYgFFrWMI5cAzngJlgDtdwDseob2qUBwTt9aPnJCTAA/mTQj4u7WWa53m+A4CY+9EDAMAlBAyAJAEDIEnAAEgSMACSBAyAJAEDIEnAAEgSMACSBAyAJAEDIEnAAEgSMACSBAyAJAEDIEnAAEgSMACSBAyAJAEDIEnAAEgSMACSBAyAJAEDIEnAAEgSMACSBAyAJAEDIEnAAEgSMACSBAyAJAEDIEnAAEgSMACSBAyAJAEDIEnAAEgSMACSBAyAJAEDIEnAAEgSMACSBAyAJAEDIEnAAEgSMACSBAyAJAEDIEnAAEgSMACSBAyAJAEDIEnAAEgSMACSBAyAJAEDIEnAAEgSMACSBAyAJAEDIEnAAEgSMACSBAyAJAEDIEnAAEgSMACSBAyAJAEDIEnAAEgSMACSBAyAJAEDIEnAAEgSMACSBAyAJAEDIEnAAEgSMACSBAyAJAEDIEnAAEgSMACSBAyAJAEDIEnAAEgSMACSBAyAJAEDIEnAAEgSMACSBAyAJAEDIEnAAEgSMACSBAyAJAEDIEnAAEgSMACSBAyAJAEDIEnAAEgSMACSBAyAJAEDIEnAAEgSMACSBAyAJAEDIEnAAEgSMACSBAyAJAEDIEnAAEgSMACSBAyAJAEDIEnAAEgSMACSBAyAJAEDIEnAAEgSMACSBAyAJAEDIEnAAEgSMACSBAyAJAEDIGkzegBYq5fj/ttz291hwCTQZAUGQJKAAZAkYAAkCRgASQIGQJKAAZAkYAAkCRgASQIGA9jEDNcTMACSBAyAJAEDIEnAAEgSMACSBAyAJAEDIEnAAEgSMACSBAyAJAEDIEnAAEgSMACSBAwWduqf6IGfEzAAkgQMgCQBAyBJwABIEjAAkgQMgCQBAyBJwABIEjAAkgQMgCQBAyBJwABIEjAAkgQM/oHt7jB6BMgRMACSBAyAJAEDIEnAAEgSMACSBAyAJAEDIEnAAEgSMACSBAyAJAEDIEnAAEgSMACSBAyAJAGDBb0c96NHgJshYAAkCRgASQIGQJKAAZAkYAAkCRgASQIGQJKAAZAkYHClaZrOvl37GsAHAQMgaTN6AFib59fd+/2nh+PASaDNCgwW9Dlepx4D5xMwAJIEDAZ73PsZES4hYLCgr+e8nAODy03zPM+jh4CyJS9v93GFD6u5CtEeGm6B9zG/rfylaDUBKx8k/jcrMBjDOTAAkgQMgCQBAyBJwABIEjAAkgQMgCQBAyBpNfvA4K/YmwVjWIEBkCRgACQJGABJAgZAkoABkCRgACQJGABJAgZAkoABkCRgACQJGABJAgZAkoABkCRgACQJGABJAgZAkoABkCRgACQJGABJAgZAkoABkCRgACQJGABJAgZAkoABkCRgACQJGABJAgZAkoABkCRgACQJGABJAgZAkoABkCRgACQJGABJAgZAkoABkCRgACQJGABJAgZAkoABkCRgACQJGABJAgZAkoABkCRgACQJGABJAgZAkoABkCRgACQJGABJAgZAkoABkCRgACQJGABJAgZAkoABkCRgACQJGABJAgZAkoABkCRgACQJGABJAgZAkoABkCRgACQJGABJAgZAkoABkCRgACQJGABJAgZAkoABkCRgACQJGABJAgZAkoABkCRgACQJGABJAgZAkoABkPQGSMsugNYRwO4AAAAASUVORK5CYII=\"\n",
              "  frames[12] = \"data:image/png;base64,iVBORw0KGgoAAAANSUhEUgAAAbAAAAEgCAYAAADVKCZpAAAABHNCSVQICAgIfAhkiAAAAAlwSFlzAAALEgAACxIB0t1+/AAAADl0RVh0U29mdHdhcmUAbWF0cGxvdGxpYiB2ZXJzaW9uIDMuMC4zLCBodHRwOi8vbWF0cGxvdGxpYi5vcmcvnQurowAABONJREFUeJzt3d1NAkEYQFHX2IR10IZ1QE1Qh21Qh2WsDz6p+Ae6w3XPSXhgE8iXALlMdgemeZ7nGwCIuR09AACcQ8AASBIwAJIEDIAkAQMgScAASBIwAJIEDIAkAQMgScAASBIwAJIEDIAkAQMgScAASBIwAJIEDIAkAQMgScAASBIwAJIEDIAkAQMgScAASBIwAJIEDIAkAQMgScAASBIwAJIEDIAkAQMgScAASBIwAJIEDIAkAQMgScAASBIwAJIEDIAkAQMgScAASBIwAJIEDIAkAQMgScAASBIwAJIEDIAkAQMgScAASBIwAJIEDIAkAQMgScAASBIwAJIEDIAkAQMgScAASBIwAJIEDIAkAQMgScAASBIwAJIEDIAkAQMgScAASBIwAJIEDIAkAQMgScAASBIwAJIEDIAkAQMgScAASBIwAJIEDIAkAQMgScAASBIwAJIEDIAkAQMgScAASBIwAJIEDIAkAQMgScAASBIwAJIEDIAkAQMgScAASBIwAJIEDIAkAQMgScAASBIwAJIEDIAkAQMgScAASBIwAJIEDIAkAQMgScAASBIwAJIEDIAkAQMgScAASBIwAJIEDIAkAQMgScAASBIwAJIEDIAkAQMgScAASBIwAJIEDIAkAQMgScAASBIwAJIEDIAkAQMgScAASBIwAJIEDIAkAQMgScAASBIwAJIEDIAkAQMgScAASBIwAJLuRg8Aa3U87N4d22z3AyaBJiswAJIEDIAkAQMgScAASBIwAJIEDIAkAQMgScAASBIwAJIEDIAkAQMgScBgAL+DCJcTMACSBAyAJAEDIEnAAEgSMACSBAyAJAEDIEnAAEgSMACSBAyAJAEDIEnAAEgSMACSBAyAJAGDhZ36KxXg5wQMgCQBAyBJwABIEjAAkgQMgCQBAyBJwABIEjAAkgQMgCQBAyBJwABIEjAAkgQMgCQBAyBJwOAKbLb70SNAjoABkCRgACQJGABJAgZAkoABkCRgACQJGABJAgZAkoABkCRgACQJGABJAgZAkoABkCRgACQJGCzoeNiNHgH+DQEDIEnAAEgSMACSBAx+wTRN37pd+vjPngPWRsAASLobPQCszePT9tX9h/vDoEmgzQoMFvQ2Xh8dA74mYAAkCRgASQIGCzp1vss5MDjPNM/zPHoIqFvy8nYfWXixmqsQ7Z/hv/Be5jeVvxCtJmDlF4nrZwUGy3MODIAkAQMgScAASBIwAJIEDIAkAQMgScAASFrNPjD4S/ZmwfKswABIEjAAkgQMgCQBAyBJwABIEjAAkgQMgCQBAyBJwABIEjAAkgQMgCQBAyBJwABIEjAAkgQMgCQBAyBJwABIEjAAkgQMgCQBAyBJwABIEjAAkgQMgCQBAyBJwABIEjAAkgQMgCQBAyBJwABIEjAAkgQMgCQBAyBJwABIEjAAkgQMgCQBAyBJwABIEjAAkgQMgCQBAyBJwABIEjAAkgQMgCQBAyBJwABIEjAAkgQMgCQBAyBJwABIEjAAkgQMgCQBAyBJwABIEjAAkgQMgCQBAyBJwABIEjAAkgQMgCQBAyBJwABIEjAAkgQMgCQBAyBJwABIEjAAkgQMgCQBAyBJwABIEjAAkgQMgCQBAyBJwABIEjAAkgQMgCQBAyBJwABIEjAAkgQMgCQBAyBJwABIegb0by1LJZhxWwAAAABJRU5ErkJggg==\"\n",
              "  frames[13] = \"data:image/png;base64,iVBORw0KGgoAAAANSUhEUgAAAbAAAAEgCAYAAADVKCZpAAAABHNCSVQICAgIfAhkiAAAAAlwSFlzAAALEgAACxIB0t1+/AAAADl0RVh0U29mdHdhcmUAbWF0cGxvdGxpYiB2ZXJzaW9uIDMuMC4zLCBodHRwOi8vbWF0cGxvdGxpYi5vcmcvnQurowAABOpJREFUeJzt3cFNAlEUQFHH0IR10IZ1QE1Qh21Qh2WMC1caYgBxPtc5J2EBCeQlQC4f5g/TPM/zEwDEPI8eAABuIWAAJAkYAEkCBkCSgAGQJGAAJAkYAEkCBkCSgAGQJGAAJAkYAEkCBkCSgAGQJGAAJAkYAEkCBkCSgAGQJGAAJAkYAEkCBkCSgAGQJGAAJAkYAEkCBkCSgAGQJGAAJAkYAEkCBkCSgAGQJGAAJAkYAEkCBkCSgAGQJGAAJAkYAEkCBkCSgAGQJGAAJAkYAEkCBkCSgAGQJGAAJAkYAEkCBkCSgAGQJGAAJAkYAEkCBkCSgAGQJGAAJAkYAEkCBkCSgAGQJGAAJAkYAEkCBkCSgAGQJGAAJAkYAEkCBkCSgAGQJGAAJAkYAEkCBkCSgAGQJGAAJAkYAEkCBkCSgAGQJGAAJAkYAEkCBkCSgAGQJGAAJAkYAEkCBkCSgAGQJGAAJAkYAEkCBkCSgAGQJGAAJAkYAEkCBkCSgAGQJGAAJAkYAEkCBkCSgAGQJGAAJAkYAEkCBkCSgAGQJGAAJAkYAEkCBkCSgAGQJGAAJAkYAEkCBkCSgAGQJGAAJAkYAEkCBkCSgAGQJGAAJAkYAEkCBkCSgAGQJGAAJAkYAEkCBkCSgAGQJGAAJAkYAEkCBkCSgAGQJGAAJAkYAEkCBkCSgAGQJGAAJAkYAEkCBkCSgAGQJGAAJAkYAEmb0QPAWp2O+7O3b3eHhSeBJiswAJIEDB6I1RdcTsAASBIwAJIEDIAkAQMgScAASBIwAJIEDIAkAQMgScAASBIwAJIEDIAkAQMgScAASBIwGODcf4E5Ez1cR8AASBIwAJIEDIAkAQMgScAASBIwAJIEDIAkAQMgScAASBIwAJIEDIAkAQMgScAASBIwWNi5M9ED1xMwAJIEDIAkAQMgScAASBIwAJIEDIAkAQMgScAASBIwAJIEDIAkAQMgScAASBIwAJIEDB7AdncYPQLkCBgASQIGQJKAAZAkYAAkCRgASQIGQJKAAZAkYAAkCRgASQIGQJKAAZAkYAAkCRgASQIGCzod96NHgH9DwABIEjAAkgQM7mCaposuv73/T48BayNgACRtRg8Aa/P2vvty/fXlOGgSaLMCgwV9jxdwOwGDwUQNbiNgMJivEOE2AgYLEiu4n2me53n0EFC35OHt3rLwaTVHIdo/w3/htcw9lT8QrSZg5SeJx2cFBsvzGxgASQIGQJKAAZAkYAAkCRgASQIGQJKAAZC0mn1g8JfszYLlWYEBkCRgACQJGABJAgZAkoABkCRgACQJGABJAgZAkoABkCRgACQJGABJAgZAkoABkCRgACQJGABJAgZAkoABkCRgACQJGABJAgZAkoABkCRgACQJGABJAgZAkoABkCRgACQJGABJAgZAkoABkCRgACQJGABJAgZAkoABkCRgACQJGABJAgZAkoABkCRgACQJGABJAgZAkoABkCRgACQJGABJAgZAkoABkCRgACQJGABJAgZAkoABkCRgACQJGABJAgZAkoABkCRgACQJGABJAgZAkoABkCRgACQJGABJAgZAkoABkCRgACQJGABJAgZAkoABkCRgACQJGABJAgZAkoABkCRgACQJGABJAgZAkoABkCRgACQJGABJAgZAkoABkCRgACQJGABJAgZAkoABkPQBtQwufSA/9pkAAAAASUVORK5CYII=\"\n",
              "  frames[14] = \"data:image/png;base64,iVBORw0KGgoAAAANSUhEUgAAAbAAAAEgCAYAAADVKCZpAAAABHNCSVQICAgIfAhkiAAAAAlwSFlzAAALEgAACxIB0t1+/AAAADl0RVh0U29mdHdhcmUAbWF0cGxvdGxpYiB2ZXJzaW9uIDMuMC4zLCBodHRwOi8vbWF0cGxvdGxpYi5vcmcvnQurowAABOhJREFUeJzt3dFNwlAYgFFrWMI5WMM5ykwwh2PIHI5RH3xSeAACLZ89J+GBJiR/QsnHhVsYpmmaXgAg5nXpAQDgFgIGQJKAAZAkYAAkCRgASQIGQJKAAZAkYAAkCRgASQIGQJKAAZAkYAAkCRgASQIGQJKAAZAkYAAkCRgASQIGQJKAAZAkYAAkCRgASQIGQJKAAZAkYAAkCRgASQIGQJKAAZAkYAAkCRgASQIGQJKAAZAkYAAkCRgASQIGQJKAAZAkYAAkCRgASQIGQJKAAZAkYAAkCRgASQIGQJKAAZAkYAAkCRgASQIGQJKAAZAkYAAkCRgASQIGQJKAAZAkYAAkCRgASQIGQJKAAZAkYAAkCRgASQIGQJKAAZAkYAAkCRgASQIGQJKAAZAkYAAkCRgASQIGQJKAAZAkYAAkCRgASQIGQJKAAZAkYAAkCRgASQIGQJKAAZAkYAAkCRgASQIGQJKAAZAkYAAkCRgASQIGQJKAAZAkYAAkCRgASQIGQJKAAZAkYAAkCRgASQIGQJKAAZAkYAAkCRgASQIGQJKAAZAkYAAkCRgASQIGQJKAAZAkYAAkCRgASQIGQJKAAZAkYAAkCRgASQIGQJKAAZAkYAAkCRgASQIGQJKAAZAkYAAkCRgASQIGQJKAAZAkYAAkCRgASQIGQJKAAZAkYAAkCRgASQIGQJKAAZAkYAAkCRgASQIGQJKAAZC0WXoAWKvjYXf2+HbczzwJNFmBAZAkYAAkCRgASQIGQJKAwROxgQMuJ2AAJAkYAEkCBkCSgAGQJGAAJAkYAEkCBkCSgAGQJGAAJAkYAEkCBkCSgAGQJGAAJAkYAEkCBgs4HnYnx/yVClxHwABIEjAAkgQMgCQBAyBJwABIEjAAkgQMgCQBAyBJwABIEjAAkgQMgCQBAyBJwABIEjCY2blfogeuJ2AAJAkYAEkCBkCSgAGQJGAAJAkYAEkCBkCSgAGQJGAAJAkYAEkCBkCSgAGQJGAAJAkYAEkCBk9gO+6XHgFyBAyAJAEDIEnAAEgSMACSBAyAJAEDIEnAAEgSMACSBAyAJAEDIEnAAEgSMLiDYRguvj3i8bBGAgZA0mbpAWBtPr7GX/ff3w4LTQJtVmAwo8/9eHLsb9CAywgYzEis4H4EDGbk40K4HwGDhYka3GaYpmlaegiom3N7u5cs/FjNLkTXz/BfOJe5p/IbotUErPwk8fyswGB+vgMDIEnAAEgSMACSBAyAJAEDIEnAAEgSMACSVnMdGDySa7NgflZgACQJGABJAgZAkoABkCRgACQJGABJAgZAkoABkCRgACQJGABJAgZAkoABkCRgACQJGABJAgZAkoABkCRgACQJGABJAgZAkoABkCRgACQJGABJAgZAkoABkCRgACQJGABJAgZAkoABkCRgACQJGABJAgZAkoABkCRgACQJGABJAgZAkoABkCRgACQJGABJAgZAkoABkCRgACQJGABJAgZAkoABkCRgACQJGABJAgZAkoABkCRgACQJGABJAgZAkoABkCRgACQJGABJAgZAkoABkCRgACQJGABJAgZAkoABkCRgACQJGABJAgZAkoABkCRgACQJGABJAgZAkoABkCRgACQJGABJAgZAkoABkCRgACQJGABJAgZAkoABkCRgACQJGABJAgZAkoABkCRgACR9A12ULn1xW7uiAAAAAElFTkSuQmCC\"\n",
              "  frames[15] = \"data:image/png;base64,iVBORw0KGgoAAAANSUhEUgAAAbAAAAEgCAYAAADVKCZpAAAABHNCSVQICAgIfAhkiAAAAAlwSFlzAAALEgAACxIB0t1+/AAAADl0RVh0U29mdHdhcmUAbWF0cGxvdGxpYiB2ZXJzaW9uIDMuMC4zLCBodHRwOi8vbWF0cGxvdGxpYi5vcmcvnQurowAABOdJREFUeJzt3NFNwlAYgFFrWMI5WMM5ykwwh2PIHI5RH3xSeAACLZ89J+GBm5D8CSUfF9oO0zRNLwAQ87r0AABwCwEDIEnAAEgSMACSBAyAJAEDIEnAAEgSMACSBAyAJAEDIEnAAEgSMACSBAyAJAEDIEnAAEgSMACSBAyAJAEDIEnAAEgSMACSBAyAJAEDIEnAAEgSMACSBAyAJAEDIEnAAEgSMACSBAyAJAEDIEnAAEgSMACSBAyAJAEDIEnAAEgSMACSBAyAJAEDIEnAAEgSMACSBAyAJAEDIEnAAEgSMACSBAyAJAEDIEnAAEgSMACSBAyAJAEDIEnAAEgSMACSBAyAJAEDIEnAAEgSMACSBAyAJAEDIEnAAEgSMACSBAyAJAEDIEnAAEgSMACSBAyAJAEDIEnAAEgSMACSBAyAJAEDIEnAAEgSMACSBAyAJAEDIEnAAEgSMACSBAyAJAEDIEnAAEgSMACSBAyAJAEDIEnAAEgSMACSBAyAJAEDIEnAAEgSMACSBAyAJAEDIEnAAEgSMACSBAyAJAEDIEnAAEgSMACSBAyAJAEDIEnAAEgSMACSBAyAJAEDIEnAAEgSMACSBAyAJAEDIEnAAEgSMACSBAyAJAEDIEnAAEgSMACSBAyAJAEDIEnAAEgSMACSBAyAJAEDIEnAAEgSMACSBAyAJAEDIEnAAEgSMACSBAyAJAEDIEnAAEjaLD0ArNXxsDu7vh33M08CTXZgACQJGABJAgZAkoABkCRgACQJGABJAgZAkoABkCRgACQJGDwRd+GAywkYAEkCBkCSgAGQJGAAJAkYAEkCBkCSgAGQJGAAJAkYAEkCBkCSgAGQJGAAJAkYAEkCBgs4HnYna+5ED9cRMACSBAyAJAEDIEnAAEgSMACSBAyAJAEDIEnAAEgSMACSBAyAJAEDIEnAAEgSMJjZuRv5AtcTMACSBAyAJAEDIEnAAEgSMACSBAyAJAEDIEnAAEgSMACSBAyAJAEDIEnAAEgSMHgC23G/9AiQI2AAJAkYAEkCBkCSgAGQJGAAJAkYAEkCBkCSgAGQJGAAJAkYAEkCBncwDMPFj0e8HtZIwABI2iw9AKzNx9f46/n722GhSaDNDgxm9LkfT9b+Bg24jIDBjMQK7kfAYEZ+LoT7ETBYmKjBbYZpmqalh4C6OU9v95GFH6s5C9H1M/wXjmXuqfyFaDUBK79JPD87MJif/8AASBIwAJIEDIAkAQMgScAASBIwAJIEDICk1VwHBo/k2iyYnx0YAEkCBkCSgAGQJGAAJAkYAEkCBkCSgAGQJGAAJAkYAEkCBkCSgAGQJGAAJAkYAEkCBkCSgAGQJGAAJAkYAEkCBkCSgAGQJGAAJAkYAEkCBkCSgAGQJGAAJAkYAEkCBkCSgAGQJGAAJAkYAEkCBkCSgAGQJGAAJAkYAEkCBkCSgAGQJGAAJAkYAEkCBkCSgAGQJGAAJAkYAEkCBkCSgAGQJGAAJAkYAEkCBkCSgAGQJGAAJAkYAEkCBkCSgAGQJGAAJAkYAEkCBkCSgAGQJGAAJAkYAEkCBkCSgAGQJGAAJAkYAEkCBkCSgAGQJGAAJAkYAEkCBkCSgAGQJGAAJAkYAEkCBkCSgAGQJGAAJAkYAEkCBkCSgAGQJGAAJAkYAEkCBkCSgAGQJGAAJAkYAEnfRsQufQTF3wcAAAAASUVORK5CYII=\"\n",
              "  frames[16] = \"data:image/png;base64,iVBORw0KGgoAAAANSUhEUgAAAbAAAAEgCAYAAADVKCZpAAAABHNCSVQICAgIfAhkiAAAAAlwSFlzAAALEgAACxIB0t1+/AAAADl0RVh0U29mdHdhcmUAbWF0cGxvdGxpYiB2ZXJzaW9uIDMuMC4zLCBodHRwOi8vbWF0cGxvdGxpYi5vcmcvnQurowAABOJJREFUeJzt3NFpwlAYgNGmuETncI3OoTPpHF2jc3SM24dCKa0PKpr4NeeAoAHhB5XPS3IzjTHGEwDEPC89AABcQ8AASBIwAJIEDIAkAQMgScAASBIwAJIEDIAkAQMgScAASBIwAJIEDIAkAQMgScAASBIwAJIEDIAkAQMgScAASBIwAJIEDIAkAQMgScAASBIwAJIEDIAkAQMgScAASBIwAJIEDIAkAQMgScAASBIwAJIEDIAkAQMgScAASBIwAJIEDIAkAQMgScAASBIwAJIEDIAkAQMgScAASBIwAJIEDIAkAQMgScAASBIwAJIEDIAkAQMgScAASBIwAJIEDIAkAQMgScAASBIwAJIEDIAkAQMgScAASBIwAJIEDIAkAQMgScAASBIwAJIEDIAkAQMgScAASBIwAJIEDIAkAQMgScAASBIwAJIEDIAkAQMgScAASBIwAJIEDIAkAQMgScAASBIwAJIEDIAkAQMgScAASBIwAJIEDIAkAQMgScAASBIwAJIEDIAkAQMgScAASBIwAJIEDIAkAQMgScAASBIwAJIEDIAkAQMgScAASBIwAJIEDIAkAQMgScAASBIwAJIEDIAkAQMgScAASBIwAJIEDIAkAQMgScAASBIwAJIEDIAkAQMgScAASBIwAJIEDIAkAQMgScAASBIwAJIEDIAkAQMgScAASBIwAJIEDIAkAQMgScAASBIwAJI2Sw8Aa/V+3J88vt0dZp4EmqzAAEgSMACSBAyAJAEDIEnAAEgSMACSBAyAJAEDIEnAAEgSMACSBAyAJAEDIEnAAEgSMHgg7kQP5xMwAJIEDIAkAQMgScAASBIwAJIEDIAkAQMgScAASBIwAJIEDIAkAQMgScAASBIwAJIEDBbwftz/OeZO9HAZAQMgScAASBIwAJIEDIAkAQMgScAASBIwAJIEDIAkAQMgScAASBIwAJIEDIAkAQMgScBgZqfuRA9cTsAASBIwAJIEDIAkAQMgScAASBIwAJIEDIAkAQMgScAASBIwAJIEDIAkAQMgScAASBIweADb3WHpESBHwABIEjAAkgQMgCQBAyBJwOAGpmk6+3GP98MaCRgASZulB4A1evvYfT9/fTkuOAl0WYHBzH7G69Rr4DwCBkCSgAGQJGAws9/nvJwDg+tMY4yx9BBQN+fl7X6y8GU1VyHaP8N/4bvMLZX/EK0mYOUPicdnBQbzcw4MgCQBAyBJwABIEjAAkgQMgCQBAyBJwABIWs0+MLgne7NgflZgACQJGABJAgZAkoABkCRgACQJGABJAgZAkoABkCRgACQJGABJAgZAkoABkCRgACQJGABJAgZAkoABkCRgACQJGABJAgZAkoABkCRgACQJGABJAgZAkoABkCRgACQJGABJAgZAkoABkCRgACQJGABJAgZAkoABkCRgACQJGABJAgZAkoABkCRgACQJGABJAgZAkoABkCRgACQJGABJAgZAkoABkCRgACQJGABJAgZAkoABkCRgACQJGABJAgZAkoABkCRgACQJGABJAgZAkoABkCRgACQJGABJAgZAkoABkCRgACQJGABJAgZAkoABkCRgACQJGABJAgZAkoABkCRgACQJGABJAgZAkoABkCRgACQJGABJAgZAkoABkCRgACQJGABJAgZAkoABkCRgACR9AqE1LLKol7+rAAAAAElFTkSuQmCC\"\n",
              "  frames[17] = \"data:image/png;base64,iVBORw0KGgoAAAANSUhEUgAAAbAAAAEgCAYAAADVKCZpAAAABHNCSVQICAgIfAhkiAAAAAlwSFlzAAALEgAACxIB0t1+/AAAADl0RVh0U29mdHdhcmUAbWF0cGxvdGxpYiB2ZXJzaW9uIDMuMC4zLCBodHRwOi8vbWF0cGxvdGxpYi5vcmcvnQurowAABOlJREFUeJzt3NFpwlAYgNGmdInO4RqdI51J5+gaztEx0odCKa0PVjTXrzkHBA0IP6h8XpKbaVmW5QEAYh5HDwAAlxAwAJIEDIAkAQMgScAASBIwAJIEDIAkAQMgScAASBIwAJIEDIAkAQMgScAASBIwAJIEDIAkAQMgScAASBIwAJIEDIAkAQMgScAASBIwAJIEDIAkAQMgScAASBIwAJIEDIAkAQMgScAASBIwAJIEDIAkAQMgScAASBIwAJIEDIAkAQMgScAASBIwAJIEDIAkAQMgScAASBIwAJIEDIAkAQMgScAASBIwAJIEDIAkAQMgScAASBIwAJIEDIAkAQMgScAASBIwAJIEDIAkAQMgScAASBIwAJIEDIAkAQMgScAASBIwAJIEDIAkAQMgScAASBIwAJIEDIAkAQMgScAASBIwAJIEDIAkAQMgScAASBIwAJIEDIAkAQMgScAASBIwAJIEDIAkAQMgScAASBIwAJIEDIAkAQMgScAASBIwAJIEDIAkAQMgScAASBIwAJIEDIAkAQMgScAASBIwAJIEDIAkAQMgScAASBIwAJIEDIAkAQMgScAASBIwAJIEDIAkAQMgScAASBIwAJIEDIAkAQMgScAASBIwAJIEDIAkAQMgScAASBIwAJIEDIAkAQMgScAASBIwAJIEDIAkAQMgScAASBIwAJIEDIAkAQMgScAASBIwAJIEDICkp9EDwJYdD6+/ju3m/YBJoMcKDIAkAQMgScAASBIwAJIEDIAkAYNBTl2BCJxPwABIEjAAkgQMgCQBAyBJwABIEjAAkgQMgCQBAyBJwABIEjAAkgQMgCQBAyBJwOCO7Ob96BEgQ8AASBIwAJIEDIAkAQMgScAASBIwAJIEDIAkAQMgScAASBIwAJIEDIAkAYMBjofXX8fcBxH+RsAASBIwAJIEDIAkAQMgScAASBIwAJIEDIAkAQMgScAASBIwAJIEDIAkAQMgScBgZadu5Av8nYABkCRgACQJGABJAgZAkoABkCRgACQJGABJAgZAkoABkCRgACQJGABJAgZ3YDfvR48AOQIGQJKAAZAkYAAkCRgASQIGVzBN09mPW7wftkjAAEh6Gj0AbNHb+/z1/OX5MHAS6LICg5V9j9ep18B5BAyAJAEDIEnAYGU/z3k5BwaXmZZlWUYPAXVrXt7uJwufNnMVov0z/Be+y1xT+Q/RZgJW/pC4f1ZgsD7nwABIEjAAkgQMgCQBAyBJwABIEjAAkgQMgKTN7AODW7I3C9ZnBQZAkoABkCRgACQJGABJAgZAkoABkCRgACQJGABJAgZAkoABkCRgACQJGABJAgZAkoABkCRgACQJGABJAgZAkoABkCRgACQJGABJAgZAkoABkCRgACQJGABJAgZAkoABkCRgACQJGABJAgZAkoABkCRgACQJGABJAgZAkoABkCRgACQJGABJAgZAkoABkCRgACQJGABJAgZAkoABkCRgACQJGABJAgZAkoABkCRgACQJGABJAgZAkoABkCRgACQJGABJAgZAkoABkCRgACQJGABJAgZAkoABkCRgACQJGABJAgZAkoABkCRgACQJGABJAgZAkoABkCRgACQJGABJAgZAkoABkCRgACQJGABJAgZAkoABkCRgACQJGABJAgZAkoABkCRgACQJGABJAgZA0gc7Iy6AT0whdgAAAABJRU5ErkJggg==\"\n",
              "  frames[18] = \"data:image/png;base64,iVBORw0KGgoAAAANSUhEUgAAAbAAAAEgCAYAAADVKCZpAAAABHNCSVQICAgIfAhkiAAAAAlwSFlzAAALEgAACxIB0t1+/AAAADl0RVh0U29mdHdhcmUAbWF0cGxvdGxpYiB2ZXJzaW9uIDMuMC4zLCBodHRwOi8vbWF0cGxvdGxpYi5vcmcvnQurowAABOlJREFUeJzt3NFNwlAYgFFrWMI5cAzngJlkDtdwDseoDyTGKA+A2stnz0lIoA/kT4B83LS30zzP8x0AxNyPHgAAriFgACQJGABJAgZAkoABkCRgACQJGABJAgZAkoABkCRgACQJGABJAgZAkoABkCRgACQJGABJAgZAkoABkCRgACQJGABJAgZAkoABkCRgACQJGABJAgZAkoABkCRgACQJGABJAgZAkoABkCRgACQJGABJAgZAkoABkCRgACQJGABJAgZAkoABkCRgACQJGABJAgZAkoABkCRgACQJGABJAgZAkoABkCRgACQJGABJAgZAkoABkCRgACQJGABJAgZAkoABkCRgACQJGABJAgZAkoABkCRgACQJGABJAgZAkoABkCRgACQJGABJAgZAkoABkCRgACQJGABJAgZAkoABkCRgACQJGABJAgZAkoABkCRgACQJGABJAgZAkoABkCRgACQJGABJAgZAkoABkCRgACQJGABJAgZAkoABkCRgACQJGABJAgZAkoABkCRgACQJGABJAgZAkoABkCRgACQJGABJAgZAkoABkCRgACQJGABJAgZAkoABkCRgACQJGABJAgZAkoABkCRgACQJGABJAgZAkoABkCRgACQJGABJAgZAkoABkCRgACQJGABJAgZAkoABkCRgACQJGABJAgZAkoABkCRgACQJGABJAgZAkoABkCRgACQJGABJm9EDwJq9Hvbfjm13zwMmgR4rMACSBAyAJAEDIEnAAEgSMACSBAyAJAEDIEnAAEgSMACSBAwGOXUXDuB8AgZAkoABkCRgACQJGABJAgZAkoABkCRgACQJGABJAgZAkoABkCRgACQJGABJAgY3ZLt7Hj0CZAgYAEkCBkCSgAGQJGAAJAkYAEkCBkCSgAGQJGAAJAkYAEkCBkCSgAGQJGAAJAkYDPB62H875ka+cBkBAyBJwABIEjAAkgQMgCQBAyBJwABIEjAAkgQMgCQBAyBJwABIEjAAkgQMgCQBg4WdupEvcDkBAyBJwABIEjAAkgQMgCQBAyBJwABIEjAAkgQMgCQBAyBJwABIEjAAkgQMfsE0TWc/fvoewJGAwQ143B9GjwA5m9EDwBq9vO0+nj89iBdcwwoMFvY5XqdeA+cRMACSBAyAJAGDhX095+UcGFxnmud5Hj0E1C15ebufLByt5ipE+2f4L3yX+U3lP0SrCVj5Q+L2WYHB8pwDAyBJwABIEjAAkgQMgCQBAyBJwABIEjAAklazDwz+kr1ZsDwrMACSBAyAJAEDIEnAAEgSMACSBAyAJAEDIEnAAEgSMACSBAyAJAEDIEnAAEgSMACSBAyAJAEDIEnAAEgSMACSBAyAJAEDIEnAAEgSMACSBAyAJAEDIEnAAEgSMACSBAyAJAEDIEnAAEgSMACSBAyAJAEDIEnAAEgSMACSBAyAJAEDIEnAAEgSMACSBAyAJAEDIEnAAEgSMACSBAyAJAEDIEnAAEgSMACSBAyAJAEDIEnAAEgSMACSBAyAJAEDIEnAAEgSMACSBAyAJAEDIEnAAEgSMACSBAyAJAEDIEnAAEgSMACSBAyAJAEDIEnAAEgSMACSBAyAJAEDIEnAAEgSMACSBAyAJAEDIEnAAEgSMACSBAyAJAEDIEnAAEgSMACSBAyAJAEDIEnAAEgSMACS3gFZEi6ApT247gAAAABJRU5ErkJggg==\"\n",
              "  frames[19] = \"data:image/png;base64,iVBORw0KGgoAAAANSUhEUgAAAbAAAAEgCAYAAADVKCZpAAAABHNCSVQICAgIfAhkiAAAAAlwSFlzAAALEgAACxIB0t1+/AAAADl0RVh0U29mdHdhcmUAbWF0cGxvdGxpYiB2ZXJzaW9uIDMuMC4zLCBodHRwOi8vbWF0cGxvdGxpYi5vcmcvnQurowAABO1JREFUeJzt3dFNwlAYgFFrWMI5cAzngJlgDtdgDseoDyTGKCaA2PLZcxIS6AP5EyAfN7eFYRzH8QEAYh7nHgAAriFgACQJGABJAgZAkoABkCRgACQJGABJAgZAkoABkCRgACQJGABJAgZAkoABkCRgACQJGABJAgZAkoABkCRgACQJGABJAgZAkoABkCRgACQJGABJAgZAkoABkCRgACQJGABJAgZAkoABkCRgACQJGABJAgZAkoABkCRgACQJGABJAgZAkoABkCRgACQJGABJAgZAkoABkCRgACQJGABJAgZAkoABkCRgACQJGABJAgZAkoABkCRgACQJGABJAgZAkoABkCRgACQJGABJAgZAkoABkCRgACQJGABJAgZAkoABkCRgACQJGABJAgZAkoABkCRgACQJGABJAgZAkoABkCRgACQJGABJAgZAkoABkCRgACQJGABJAgZAkoABkCRgACQJGABJAgZAkoABkCRgACQJGABJAgZAkoABkCRgACQJGABJAgZAkoABkCRgACQJGABJAgZAkoABkCRgACQJGABJAgZAkoABkCRgACQJGABJAgZAkoABkCRgACQJGABJAgZAkoABkCRgACQJGABJAgZAkoABkCRgACQJGABJAgZAkoABkCRgACQJGABJAgZAkoABkCRgACQJGABJAgZAkoABkCRgACQJGABJAgZAkoABkCRgACQJGABJq7kHgCU77Lcnj683u4kngR4rMACSBAyAJAEDIEnA4M7Y/4LzCBgASQIGQJKAAZAkYAAkCRgASQIGQJKAAZAkYAAkCRgASQIGQJKAAZAkYDCTn/4LDDiPgAGQJGAAJAkYAEkCBkCSgAGQJGAAJAkYAEkCBkCSgAGQJGAAJAkY3JH1Zjf3CJAhYAAkCRgASQIGQJKAAZAkYAAkCRgASQIGQJKAAZAkYAAkCRgASQIGMzjst9+O+RkpuIyAAZAkYAAkCRgASQIGQJKAAZAkYAAkCRgASQIGQJKAAZAkYAAkCRgASQIGEzv1O4jA5QQMgCQBAyBJwABIEjAAkgQMgCQBAyBJwABIEjAAkgQMgCQBAyBJwOAGhmE4+/bb5wCOBAzuwPN2P/cIkLOaewBYote3zcf9lyfxgmtYgcHEPsfr1GPgPAIGQJKAAZAkYDCxr3te9sDgOsM4juPcQ0DdlKe3+8jC0WLOQnT9DP+F9zK3VP5CtJiAlV8k7p8VGEzPHhgASQIGQJKAAZAkYAAkCRgASQIGQJKAAZC0mOvA4C+5NgumZwUGQJKAAZAkYAAkCRgASQIGQJKAAZAkYAAkCRgASQIGQJKAAZAkYAAkCRgASQIGQJKAAZAkYAAkCRgASQIGQJKAAZAkYAAkCRgASQIGQJKAAZAkYAAkCRgASQIGQJKAAZAkYAAkCRgASQIGQJKAAZAkYAAkCRgASQIGQJKAAZAkYAAkCRgASQIGQJKAAZAkYAAkCRgASQIGQJKAAZAkYAAkCRgASQIGQJKAAZAkYAAkCRgASQIGQJKAAZAkYAAkCRgASQIGQJKAAZAkYAAkCRgASQIGQJKAAZAkYAAkCRgASQIGQJKAAZAkYAAkCRgASQIGQJKAAZAkYAAkCRgASQIGQJKAAZAkYAAkCRgASQIGQJKAAZAkYAAkCRgASQIGQJKAAZAkYAAkCRgASQIGQNI7jG0vstTam18AAAAASUVORK5CYII=\"\n",
              "  frames[20] = \"data:image/png;base64,iVBORw0KGgoAAAANSUhEUgAAAbAAAAEgCAYAAADVKCZpAAAABHNCSVQICAgIfAhkiAAAAAlwSFlzAAALEgAACxIB0t1+/AAAADl0RVh0U29mdHdhcmUAbWF0cGxvdGxpYiB2ZXJzaW9uIDMuMC4zLCBodHRwOi8vbWF0cGxvdGxpYi5vcmcvnQurowAABPJJREFUeJzt3O1Jw1AYgFEjLuEcOoZztDM1c7hG53CM+E8Eixg/cvuYc6BQAi0vpOVp0txMy7IsNwAQczt6AAD4DgEDIEnAAEgSMACSBAyAJAEDIEnAAEgSMACSBAyAJAEDIEnAAEgSMACSBAyAJAEDIEnAAEgSMACSBAyAJAEDIEnAAEgSMACSBAyAJAEDIEnAAEgSMACSBAyAJAEDIEnAAEgSMACSBAyAJAEDIEnAAEgSMACSBAyAJAEDIEnAAEgSMACSBAyAJAEDIEnAAEgSMACSBAyAJAEDIEnAAEgSMACSBAyAJAEDIEnAAEgSMACSBAyAJAEDIEnAAEgSMACSBAyAJAEDIEnAAEgSMACSBAyAJAEDIEnAAEgSMACSBAyAJAEDIEnAAEgSMACSBAyAJAEDIEnAAEgSMACSBAyAJAEDIEnAAEgSMACSBAyAJAEDIEnAAEgSMACSBAyAJAEDIEnAAEgSMACSBAyAJAEDIEnAAEgSMACSBAyAJAEDIEnAAEgSMACSBAyAJAEDIEnAAEgSMACSBAyAJAEDIEnAAEgSMACSBAyAJAEDIEnAAEgSMACSBAyAJAEDIEnAAEgSMACSBAyAJAEDIEnAAEgSMACSBAyAJAEDIEnAAEgSMACSBAyAJAEDIEnAAEgSMACSBAyAJAEDIEnAAEgSMACSBAyAJAEDIEnAAEgSMACSBAyAJAEDIEnAAEi6Gz0A7Nl5Pl7c/nA4bTwJ9DgCAyBJwABIEjAAkgQMgCQBAyBJwABIEjAAkgQMrow1YPA1AgZAkoABkCRgACQJGABJAgZAkoABkCRgACQJGABJAgZAkoABkCRgACQJGAxyno+jR4A0AQMgScAASBIwAJIEDIAkAQMgScAASBIwAJIEDIAkAQMgScAASBIwAJIEDK7Iw+E0egTIEDAAkgQMgCQBAyBJwABIEjAAkgQMgCQBAyBJwABIEjAAkgQMgCQBgwHO8/HDNreRgnUEDIAkAQMgScAASBIwAJIEDIAkAQMgScAASBIwAJIEDIAkAQMgScAASBIw2Nil+yAC6wkYAEkCBkCSgAGQJGAAJAkYAEkCBr9kmqYvPX76+s/eA/ZEwABIuhs9AOzV88vh7fnT/TxwEmgSMNjY+3AB3+cUIlwBUYP1BAyugFOIsJ6Awcae7ucPwXo8ChisNS3LsoweAv6DLS9v97WFHV3EYe0M/4nPM7+l/GNoNwEr7yQaHIHBtvwHBkCSgAGQJGAAJAkYAEkCBkCSgAGQJGAAJO1mHRj8NWuzYFuOwABIEjAAkgQMgCQBAyBJwABIEjAAkgQMgCQBAyBJwABIEjAAkgQMgCQBAyBJwABIEjAAkgQMgCQBAyBJwABIEjAAkgQMgCQBAyBJwABIEjAAkgQMgCQBAyBJwABIEjAAkgQMgCQBAyBJwABIEjAAkgQMgCQBAyBJwABIEjAAkgQMgCQBAyBJwABIEjAAkgQMgCQBAyBJwABIEjAAkgQMgCQBAyBJwABIEjAAkgQMgCQBAyBJwABIEjAAkgQMgCQBAyBJwABIEjAAkgQMgCQBAyBJwABIEjAAkgQMgCQBAyBJwABIEjAAkgQMgCQBAyBJwABIEjAAkgQMgCQBAyBJwABIEjAAkgQMgCQBAyBJwABIEjAAkgQMgCQBAyBJwABIEjAAkgQMgCQBAyBJwABIegVoBTCzEHMbTAAAAABJRU5ErkJggg==\"\n",
              "  frames[21] = \"data:image/png;base64,iVBORw0KGgoAAAANSUhEUgAAAbAAAAEgCAYAAADVKCZpAAAABHNCSVQICAgIfAhkiAAAAAlwSFlzAAALEgAACxIB0t1+/AAAADl0RVh0U29mdHdhcmUAbWF0cGxvdGxpYiB2ZXJzaW9uIDMuMC4zLCBodHRwOi8vbWF0cGxvdGxpYi5vcmcvnQurowAABPhJREFUeJzt3OFJw1AYQFEjLuEcOoZztGu4hpnDNTqHY8R/IihSteblmnOgUAotH7TlNk3em5ZlWa4AIOZ69AAA8BMCBkCSgAGQJGAAJAkYAEkCBkCSgAGQJGAAJAkYAEkCBkCSgAGQJGAAJAkYAEkCBkCSgAGQJGAAJAkYAEkCBkCSgAGQJGAAJAkYAEkCBkCSgAGQJGAAJAkYAEkCBkCSgAGQJGAAJAkYAEkCBkCSgAGQJGAAJAkYAEkCBkCSgAGQJGAAJAkYAEkCBkCSgAGQJGAAJAkYAEkCBkCSgAGQJGAAJAkYAEkCBkCSgAGQJGAAJAkYAEkCBkCSgAGQJGAAJAkYAEkCBkCSgAGQJGAAJAkYAEkCBkCSgAGQJGAAJAkYAEkCBkCSgAGQJGAAJAkYAEkCBkCSgAGQJGAAJAkYAEkCBkCSgAGQJGAAJAkYAEkCBkCSgAGQJGAAJAkYAEkCBkCSgAGQJGAAJAkYAEkCBkCSgAGQJGAAJAkYAEkCBkCSgAGQJGAAJAkYAEkCBkCSgAGQJGAAJAkYAEkCBkCSgAGQJGAAJAkYAEkCBkCSgAGQJGAAJAkYAEkCBkCSgAGQJGAAJAkYAEkCBkCSgAGQJGAAJAkYAEkCBkCSgAGQJGAAJAkYAEkCBkCSgAGQJGAAJAkYAEkCBkCSgAGQJGAAJAkYAEkCBkCSgAGQJGAAJAkYAEkCBkCSgAGQdDN6ANi703z88Njd4WnAJNDiCAyAJAEDIEnAAEgSMBjos/NfwHkEDIAkAQMgScAASBIwAJIEDIAkAQMgScAASBIwAJIEDIAkAYONsRM9nEfAAEgSMACSBAyAJAEDIEnAAEgSMACSBAyAJAEDIEnAAEgSMBjkNB9HjwBpAgZAkoABkCRgACQJGABJAgZAkoABkCRgACQJGABJAgZAkoABkCRgsCF3h6fRI0CGgAGQJGAAJAkYAEkCBkCSgAGQJGAAJAkYAEkCBkCSgAGQJGAwwGk+jh4B8gQMNsI2UvA9AgZAkoABkCRgACQJGABJAgZAkoABkCRgACQJGABJAgZAkoDBymwjBZchYAAkCRgASQIGQJKAAZAkYHAh0zSddfvt8796DdgTAQMg6Wb0ALBXzy+Ht/sPt/PASaBJwGBl78MF/Jy/EGEDRA2+T8BgAx4f70ePADkCBit7uJ2d84ILmJZlWUYPAf/Bmpe3+9rCji7isHaG/8TnmUsp/xjaTcDKbxINjsBgXc6BAZAkYAAkCRgASQIGQJKAAZAkYAAkCRgASbtZBwZ/zdosWJcjMACSBAyAJAEDIEnAAEgSMACSBAyAJAEDIEnAAEgSMACSBAyAJAEDIEnAAEgSMACSBAyAJAEDIEnAAEgSMACSBAyAJAEDIEnAAEgSMACSBAyAJAEDIEnAAEgSMACSBAyAJAEDIEnAAEgSMACSBAyAJAEDIEnAAEgSMACSBAyAJAEDIEnAAEgSMACSBAyAJAEDIEnAAEgSMACSBAyAJAEDIEnAAEgSMACSBAyAJAEDIEnAAEgSMACSBAyAJAEDIEnAAEgSMACSBAyAJAEDIEnAAEgSMACSBAyAJAEDIEnAAEgSMACSBAyAJAEDIEnAAEgSMACSBAyAJAEDIEnAAEgSMACSBAyAJAEDIEnAAEgSMACSBAyAJAEDIEnAAEgSMACSBAyAJAEDIEnAAEgSMACSXgFdeDGBz88TlwAAAABJRU5ErkJggg==\"\n",
              "  frames[22] = \"data:image/png;base64,iVBORw0KGgoAAAANSUhEUgAAAbAAAAEgCAYAAADVKCZpAAAABHNCSVQICAgIfAhkiAAAAAlwSFlzAAALEgAACxIB0t1+/AAAADl0RVh0U29mdHdhcmUAbWF0cGxvdGxpYiB2ZXJzaW9uIDMuMC4zLCBodHRwOi8vbWF0cGxvdGxpYi5vcmcvnQurowAABPNJREFUeJzt3e1pwlAYgNGmuETn6BqdQ2cyc3QN5+gY6b/SohTtR26f5hwQJKC8oPIYkxunZVmWOwCIuR89AAB8hYABkCRgACQJGABJAgZAkoABkCRgACQJGABJAgZAkoABkCRgACQJGABJAgZAkoABkCRgACQJGABJAgZAkoABkCRgACQJGABJAgZAkoABkCRgACQJGABJAgZAkoABkCRgACQJGABJAgZAkoABkCRgACQJGABJAgZAkoABkCRgACQJGABJAgZAkoABkCRgACQJGABJAgZAkoABkCRgACQJGABJAgZAkoABkCRgACQJGABJAgZAkoABkCRgACQJGABJAgZAkoABkCRgACQJGABJAgZAkoABkCRgACQJGABJAgZAkoABkCRgACQJGABJAgZAkoABkCRgACQJGABJAgZAkoABkCRgACQJGABJAgZAkoABkCRgACQJGABJAgZAkoABkCRgACQJGABJAgZAkoABkCRgACQJGABJAgZAkoABkCRgACQJGABJAgZAkoABkCRgACQJGABJAgZAkoABkCRgACQJGABJAgZAkoABkCRgACQJGABJAgZAkoABkCRgACQJGABJAgZAkoABkCRgACQJGABJAgZAkoABkCRgACQJGABJAgZAkoABkCRgACQJGABJAgZAkoABkCRgACQJGABJAgZAkoABkCRgACQJGABJAgZAkoABkCRgACTtRg8AW3eaD2fbHvfHAZNAiz0wAJIEDIAkAQMgScAASBIwAJIEDIAkAQMgScBgoEtrwIDrCBgASQIGQJKAAZAkYAAkCRgASQIGQJKAAZAkYAAkCRgASQIGf4x/Y4brCBgASQIGQJKAAZAkYAAkCRgASQIGQJKAAZAkYAAkCRgASQIGQJKAwSCn+TB6BEgTMACSBAyAJAEDIEnAAEgSMACSBAyAJAEDIEnAAEgSMACSBAyAJAGDP+Rxfxw9AmQIGABJAgZAkoABkCRgACQJGABJAgZAkoABkCRgACQJGABJAgYDnObD2TZX4YDbCBgASQIGQJKAAZAkYAAkCRgASQIGQJKAAZAkYAAkCRgASQIGK7t0FQ7gdgIGP2Sapqtu3338Z88BWyJgACTtRg8AW/X8sn+7//QwD5wEmgQMVvY+XB+3iRjcwk+IACQJGABJAgYre3qYz455OQYGt5uWZVlGDwH/wZqnt/vYwoZO4rB2hv/E+5mfUv4ytJmAlV8kGuyBwbocAwMgScAASBIwAJIEDIAkAQMgScAASBIwAJI2sw4Mfpu1WbAue2AAJAkYAEkCBkCSgAGQJGAAJAkYAEkCBkCSgAGQJGAAJAkYAEkCBkCSgAGQJGAAJAkYAEkCBkCSgAGQJGAAJAkYAEkCBkCSgAGQJGAAJAkYAEkCBkCSgAGQJGAAJAkYAEkCBkCSgAGQJGAAJAkYAEkCBkCSgAGQJGAAJAkYAEkCBkCSgAGQJGAAJAkYAEkCBkCSgAGQJGAAJAkYAEkCBkCSgAGQJGAAJAkYAEkCBkCSgAGQJGAAJAkYAEkCBkCSgAGQJGAAJAkYAEkCBkCSgAGQJGAAJAkYAEkCBkCSgAGQJGAAJAkYAEkCBkCSgAGQJGAAJAkYAEkCBkCSgAGQJGAAJAkYAEkCBkCSgAGQJGAAJAkYAEkCBkCSgAGQJGAAJAkYAEkCBkCSgAGQJGAAJL0CAKwx5nCL5xQAAAAASUVORK5CYII=\"\n",
              "  frames[23] = \"data:image/png;base64,iVBORw0KGgoAAAANSUhEUgAAAbAAAAEgCAYAAADVKCZpAAAABHNCSVQICAgIfAhkiAAAAAlwSFlzAAALEgAACxIB0t1+/AAAADl0RVh0U29mdHdhcmUAbWF0cGxvdGxpYiB2ZXJzaW9uIDMuMC4zLCBodHRwOi8vbWF0cGxvdGxpYi5vcmcvnQurowAABOdJREFUeJzt3OFpwlAYQNGmuETncI3OoTPpHF3DOTpG+q+UKlSL+rzmHBA0IHygcn0kL9M8z/MLAMS8jh4AAP5DwABIEjAAkgQMgCQBAyBJwABIEjAAkgQMgCQBAyBJwABIEjAAkgQMgCQBAyBJwABIEjAAkgQMgCQBAyBJwABIEjAAkgQMgCQBAyBJwABIEjAAkgQMgCQBAyBJwABIEjAAkgQMgCQBAyBJwABIEjAAkgQMgCQBAyBJwABIEjAAkgQMgCQBAyBJwABIEjAAkgQMgCQBAyBJwABIEjAAkgQMgCQBAyBJwABIEjAAkgQMgCQBAyBJwABIEjAAkgQMgCQBAyBJwABIEjAAkgQMgCQBAyBJwABIEjAAkgQMgCQBAyBJwABIEjAAkgQMgCQBAyBJwABIEjAAkgQMgCQBAyBJwABIEjAAkgQMgCQBAyBJwABIEjAAkgQMgCQBAyBJwABIEjAAkgQMgCQBAyBJwABIEjAAkgQMgCQBAyBJwABIEjAAkgQMgCQBAyBJwABIEjAAkgQMgCQBAyBJwABIEjAAkgQMgCQBAyBJwABIEjAAkgQMgCQBAyBJwABIEjAAkgQMgCQBAyBJwABIEjAAkgQMgCQBAyBJwABIEjAAkgQMgCQBAyBJwABIEjAAkgQMgCQBAyBJwABIEjAAkgQMgCQBAyBJwABIEjAAkgQMgCQBAyBJwABIEjAAklajB4ClO+y3R8fWm92ASaDFCgyAJAEDIEnAAEgSMACSBAyAJAEDIEnAAEgSMACSBAyAJAEDIEnAAEgSMBjo1H0QgfMIGABJAgZAkoABkCRgACQJGABJAgZAkoABkCRgACQJGABJAgZAkoABkCRg8GDWm93oESBBwABIEjAAkgQMgCQBAyBJwABIEjAAkgQMgCQBAyBJwABIEjAAkgQMBjnst6NHgDQBAyBJwABIEjAAkgQMgCQBAyBJwABIEjAAkgQMgCQBAyBJwABIEjAAkgQMHsh6sxs9AmQIGABJAgZAkoABkCRgACQJGABJAgZAkoABkCRgACQJGABJAgZAkoABkCRgMMBhvz065j6IcBkBAyBJwOBKpmk6+3GL98PSCBgASavRA8BSfXxuvp+/v+0HTgJNVmAwwM94nXoN/E3AAEgSMACSBAwG+H3OyzkwuNw0z/M8egh4Bve8vN3PFhZ0FaK9MzwT32eupfxnaDEBK39INFiBwX05BwZAkoABkCRgACQJGABJAgZAkoABkCRgACQtZh8Y3Jq9WXBfVmAAJAkYAEkCBkCSgAGQJGAAJAkYAEkCBkCSgAGQJGAAJAkYAEkCBkCSgAGQJGAAJAkYAEkCBkCSgAGQJGAAJAkYAEkCBkCSgAGQJGAAJAkYAEkCBkCSgAGQJGAAJAkYAEkCBkCSgAGQJGAAJAkYAEkCBkCSgAGQJGAAJAkYAEkCBkCSgAGQJGAAJAkYAEkCBkCSgAGQJGAAJAkYAEkCBkCSgAGQJGAAJAkYAEkCBkCSgAGQJGAAJAkYAEkCBkCSgAGQJGAAJAkYAEkCBkCSgAGQJGAAJAkYAEkCBkCSgAGQJGAAJAkYAEkCBkCSgAGQJGAAJAkYAEkCBkCSgAGQJGAAJAkYAEkCBkCSgAGQJGAAJAkYAEkCBkCSgAGQJGAAJAkYAEkCBkCSgAGQJGAAJH0BLJAugNBJ4FgAAAAASUVORK5CYII=\"\n",
              "  frames[24] = \"data:image/png;base64,iVBORw0KGgoAAAANSUhEUgAAAbAAAAEgCAYAAADVKCZpAAAABHNCSVQICAgIfAhkiAAAAAlwSFlzAAALEgAACxIB0t1+/AAAADl0RVh0U29mdHdhcmUAbWF0cGxvdGxpYiB2ZXJzaW9uIDMuMC4zLCBodHRwOi8vbWF0cGxvdGxpYi5vcmcvnQurowAABO5JREFUeJzt3dFNAkEUQFHW2IR1YBnWsdQEdViG1GEZ65/RRGMAZbjuOQkJ8EFeAuQyMBOmZVmWDQDE3I0eAADOIWAAJAkYAEkCBkCSgAGQJGAAJAkYAEkCBkCSgAGQJGAAJAkYAEkCBkCSgAGQJGAAJAkYAEkCBkCSgAGQJGAAJAkYAEkCBkCSgAGQJGAAJAkYAEkCBkCSgAGQJGAAJAkYAEkCBkCSgAGQJGAAJAkYAEkCBkCSgAGQJGAAJAkYAEkCBkCSgAGQJGAAJAkYAEkCBkCSgAGQJGAAJAkYAEkCBkCSgAGQJGAAJAkYAEkCBkCSgAGQJGAAJAkYAEkCBkCSgAGQJGAAJAkYAEkCBkCSgAGQJGAAJAkYAEkCBkCSgAGQJGAAJAkYAEkCBkCSgAGQJGAAJAkYAEkCBkCSgAGQJGAAJAkYAEkCBkCSgAGQJGAAJAkYAEkCBkCSgAGQJGAAJAkYAEkCBkCSgAGQJGAAJAkYAEkCBkCSgAGQJGAAJAkYAEkCBkCSgAGQJGAAJAkYAEkCBkCSgAGQJGAAJAkYAEkCBkCSgAGQJGAAJAkYAEkCBkCSgAGQJGAAJAkYAEkCBkCSgAGQJGAAJAkYAEkCBkCSgAGQJGAAJAkYAEkCBkCSgAGQJGAAJAkYAEkCBkCSgAGQJGAAJAkYAEkCBkCSgAGQJGAAJAkYAEkCBkCSgAGQJGAAJAkYAEn3oweAtTsedl/ev533V54EWqzAAEgSMACSBAyAJAEDIEnAAEgSMLhBdiDCzwQMgCQBAyBJwABIEjAAkgQMgCQBAyBJwABIEjAAkgQMgCQBAyBJwABIEjAY6Lt/YwZ+JmAAJAkYAEkCBkCSgAGQJGAAJAkYAEkCBkCSgAGQJGAAJAkYAEkCBjdmO+9HjwAJAgZAkoABkCRgACQJGABJAgZAkoABkCRgACQJGABJAgZAkoABkCRgACQJGAxyPOxGjwBpAgZAkoABkCRgACQJGABJAgZAkoABkCRgACQJGABJAgZAkoABkCRgACQJGNyQ7bwfPQJkCBgASQIGQJKAAZAkYAAkCRgASQIGQJKAAZAkYPBLpmk66XLJYwACBkDU/egBYK2eX+f3608Ph4GTQJMVGAzwsp8/3X5+nTePOxGDUwgYDPBx9QWcR8BgAF8ZwuUEDG6AoMHppmVZltFDwH9wze3t3rawol2Izs7wn3g981vKH4ZWE7Dyk0SDFRhcl9/AAEgSMACSBAyAJAEDIEnAAEgSMACSBAyApNWcA4O/5mwWXJcVGABJAgZAkoABkCRgACQJGABJAgZAkoABkCRgACQJGABJAgZAkoABkCRgACQJGABJAgZAkoABkCRgACQJGABJAgZAkoABkCRgACQJGABJAgZAkoABkCRgACQJGABJAgZAkoABkCRgACQJGABJAgZAkoABkCRgACQJGABJAgZAkoABkCRgACQJGABJAgZAkoABkCRgACQJGABJAgZAkoABkCRgACQJGABJAgZAkoABkCRgACQJGABJAgZAkoABkCRgACQJGABJAgZAkoABkCRgACQJGABJAgZAkoABkCRgACQJGABJAgZAkoABkCRgACQJGABJAgZAkoABkCRgACQJGABJAgZAkoABkCRgACQJGABJAgZAkoABkCRgACQJGABJAgZAkoABkCRgACQJGABJbx4SL7L9tS5dAAAAAElFTkSuQmCC\"\n",
              "  frames[25] = \"data:image/png;base64,iVBORw0KGgoAAAANSUhEUgAAAbAAAAEgCAYAAADVKCZpAAAABHNCSVQICAgIfAhkiAAAAAlwSFlzAAALEgAACxIB0t1+/AAAADl0RVh0U29mdHdhcmUAbWF0cGxvdGxpYiB2ZXJzaW9uIDMuMC4zLCBodHRwOi8vbWF0cGxvdGxpYi5vcmcvnQurowAABOJJREFUeJzt3NFNwlAYgFFrXII5dAzmoDPROVyDORyjvhkfDBo1vXz0nISE9oH8CTQfN/Qyreu6PgBAzOPoAQDgNwQMgCQBAyBJwABIEjAAkgQMgCQBAyBJwABIEjAAkgQMgCQBAyBJwABIEjAAkgQMgCQBAyBJwABIEjAAkgQMgCQBAyBJwABIEjAAkgQMgCQBAyBJwABIEjAAkgQMgCQBAyBJwABIEjAAkgQMgCQBAyBJwABIEjAAkgQMgCQBAyBJwABIEjAAkgQMgCQBAyBJwABIEjAAkgQMgCQBAyBJwABIEjAAkgQMgCQBAyBJwABIEjAAkgQMgCQBAyBJwABIEjAAkgQMgCQBAyBJwABIEjAAkgQMgCQBAyBJwABIEjAAkgQMgCQBAyBJwABIEjAAkgQMgCQBAyBJwABIEjAAkgQMgCQBAyBJwABIEjAAkgQMgCQBAyBJwABIEjAAkgQMgCQBAyBJwABIEjAAkgQMgCQBAyBJwABIEjAAkgQMgCQBAyBJwABIEjAAkgQMgCQBAyBJwABIEjAAkgQMgCQBAyBJwABIEjAAkgQMgCQBAyBJwABIEjAAkgQMgCQBAyBJwABIEjAAkgQMgCQBAyBJwABIEjAAkgQMgCQBAyBJwABIEjAAkgQMgCQBAyBJwABIEjAAkgQMgCQBAyBJwABIEjAAkgQMgCQBAyBJwABIEjAAkgQMgCQBAyDpafQAsHeXZf7y/PPpvPEk0GIFBkCSgAGQJGAAJAkYAEkCBkCSgAGQJGAAJAkYAEkCBkCSgAGQJGBwg/yNFHxPwABIEjAAkgQMgCQBAyBJwABIEjAAkgQMgCQBAyBJwABIEjAAkgQMgCQBAyBJwGCgyzKPHgGyBAyAJAEDIEnAAEgSMACSBAyAJAEDIEnAAEgSMACSBAyAJAEDIEnAAEgSMACSBAxuzPPpPHoESBAwAJIEDIAkAQMgScAASBIwAJIEDIAkAQMgScAASBIwAJIEDIAkAQMgScAASBIwGOSyzKNHgDQBAyBJwABIEjAAkgQMgCQBAyBJwABIEjAAkgQMgCQBAyBJwABIEjD4R9M0/fjx19eAvRMwAJKeRg8Ae/b6dvp4fjwsDy/zMnAaaLECg0E+x+urY+A6AQMgScAASBIwGOR4WK4eA9dN67quo4eAe7Hl7e0uXfZuN3ch2jfDvfGZ5j+UvwjtJmDlN4kOKzDYjt/AAEgSMACSBAyAJAEDIEnAAEgSMACSBAyApN3sA4Mt2JsF27ECAyBJwABIEjAAkgQMgCQBAyBJwABIEjAAkgQMgCQBAyBJwABIEjAAkgQMgCQBAyBJwABIEjAAkgQMgCQBAyBJwABIEjAAkgQMgCQBAyBJwABIEjAAkgQMgCQBAyBJwABIEjAAkgQMgCQBAyBJwABIEjAAkgQMgCQBAyBJwABIEjAAkgQMgCQBAyBJwABIEjAAkgQMgCQBAyBJwABIEjAAkgQMgCQBAyBJwABIEjAAkgQMgCQBAyBJwABIEjAAkgQMgCQBAyBJwABIEjAAkgQMgCQBAyBJwABIEjAAkgQMgCQBAyBJwABIEjAAkgQMgCQBAyBJwABIEjAAkgQMgCQBAyBJwABIEjAAkgQMgCQBAyBJwABIEjAAkgQMgCQBAyBJwABIEjAAkgQMgCQBAyDpHde4LLJPFaonAAAAAElFTkSuQmCC\"\n",
              "  frames[26] = \"data:image/png;base64,iVBORw0KGgoAAAANSUhEUgAAAbAAAAEgCAYAAADVKCZpAAAABHNCSVQICAgIfAhkiAAAAAlwSFlzAAALEgAACxIB0t1+/AAAADl0RVh0U29mdHdhcmUAbWF0cGxvdGxpYiB2ZXJzaW9uIDMuMC4zLCBodHRwOi8vbWF0cGxvdGxpYi5vcmcvnQurowAABOpJREFUeJzt3dFpAkEUQFE32ETqsI3UoTVpHWnDOlLG5i+ERKJJxPG654CgfsgDlevoDE7zPM8rAIh5Gj0AAPyFgAGQJGAAJAkYAEkCBkCSgAGQJGAAJAkYAEkCBkCSgAGQJGAAJAkYAEkCBkCSgAGQJGAAJAkYAEkCBkCSgAGQJGAAJAkYAEkCBkCSgAGQJGAAJAkYAEkCBkCSgAGQJGAAJAkYAEkCBkCSgAGQJGAAJAkYAEkCBkCSgAGQJGAAJAkYAEkCBkCSgAGQJGAAJAkYAEkCBkCSgAGQJGAAJAkYAEkCBkCSgAGQJGAAJAkYAEkCBkCSgAGQJGAAJAkYAEkCBkCSgAGQJGAAJAkYAEkCBkCSgAGQJGAAJAkYAEkCBkCSgAGQJGAAJAkYAEkCBkCSgAGQJGAAJAkYAEkCBkCSgAGQJGAAJAkYAEkCBkCSgAGQJGAAJAkYAEkCBkCSgAGQJGAAJAkYAEkCBkCSgAGQJGAAJAkYAEkCBkCSgAGQJGAAJAkYAEkCBkCSgAGQJGAAJAkYAEkCBkCSgAGQJGAAJAkYAEkCBkCSgAGQJGAAJAkYAEkCBkCSgAGQJGAAJAkYAEkCBkCSgAGQJGAAJAkYAEkCBkCSgAGQJGAAJAkYAEkCBkCSgAGQJGAAJAkYAEkCBkCSgAGQJGAAJAkYAEkCBkCSgAGQJGAAJAkYAEkCBkCSgAGQJGAAJK1HDwCsVsfD7tt9m+1+wCTQYQUGQJKAAZAkYAAkCRgASQIGg53awAGcJ2AAJAkYAEkCBkCSgAGQJGAAJAkYAEkCBkCSgAGQJGAAJAkYAEkCBkCSgAGQJGBwh/wbM5wnYAAkCRgASQIGQJKAAZAkYAAkCRgASQIGQJKAAZAkYAAkCRgASQIGQJKAwUDHw270CJAlYAAkCRgASQIGQJKAAZAkYAAkCRgASQIGQJKAAZAkYAAkCRgASQIGQJKAAZAkYHBnNtv96BEgQcAASBIwAJIEDIAkAQMgScAASBIwAJIEDIAkAQMgScAASBIwAJIEDIAkAQMgScBgkONhN3oESBMwAJIEDIAkAQMgScAASBIwuKJpmi6+/PcxYOkEDICk9egBYMle37Yf11+eDwMngR4rMBjkc7xO3QZ+JmBwR0QMLidgcEd8jQiXEzAY5GusxAt+Z5rneR49BDyKW25v99Zl6RazC9G5GR6N1zTXUP4gtJiAlZ8kOqzA4Hb8BgZAkoABkCRgACQJGABJAgZAkoABkCRgACQt5hwY3IKzWXA7VmAAJAkYAEkCBkCSgAGQJGAAJAkYAEkCBkCSgAGQJGAAJAkYAEkCBkCSgAGQJGAAJAkYAEkCBkCSgAGQJGAAJAkYAEkCBkCSgAGQJGAAJAkYAEkCBkCSgAGQJGAAJAkYAEkCBkCSgAGQJGAAJAkYAEkCBkCSgAGQJGAAJAkYAEkCBkCSgAGQJGAAJAkYAEkCBkCSgAGQJGAAJAkYAEkCBkCSgAGQJGAAJAkYAEkCBkCSgAGQJGAAJAkYAEkCBkCSgAGQJGAAJAkYAEkCBkCSgAGQJGAAJAkYAEkCBkCSgAGQJGAAJAkYAEkCBkCSgAGQJGAAJAkYAEkCBkCSgAGQJGAAJAkYAEkCBkCSgAGQJGAAJAkYAEkCBkCSgAGQJGAAJAkYAEkCBkCSgAGQJGAAJL0DGIQwS8pFpfkAAAAASUVORK5CYII=\"\n",
              "  frames[27] = \"data:image/png;base64,iVBORw0KGgoAAAANSUhEUgAAAbAAAAEgCAYAAADVKCZpAAAABHNCSVQICAgIfAhkiAAAAAlwSFlzAAALEgAACxIB0t1+/AAAADl0RVh0U29mdHdhcmUAbWF0cGxvdGxpYiB2ZXJzaW9uIDMuMC4zLCBodHRwOi8vbWF0cGxvdGxpYi5vcmcvnQurowAABOFJREFUeJzt3OtpAkEYQFE32ETqsI3UoTVpHWnDOlLG5l8IiSGSx47XPQcEFYQPVK7D7DjN8zxvACDmYfQAAPATAgZAkoABkCRgACQJGABJAgZAkoABkCRgACQJGABJAgZAkoABkCRgACQJGABJAgZAkoABkCRgACQJGABJAgZAkoABkCRgACQJGABJAgZAkoABkCRgACQJGABJAgZAkoABkCRgACQJGABJAgZAkoABkCRgACQJGABJAgZAkoABkCRgACQJGABJAgZAkoABkCRgACQJGABJAgZAkoABkCRgACQJGABJAgZAkoABkCRgACQJGABJAgZAkoABkCRgACQJGABJAgZAkoABkCRgACQJGABJAgZAkoABkCRgACQJGABJAgZAkoABkCRgACQJGABJAgZAkoABkCRgACQJGABJAgZAkoABkCRgACQJGABJAgZAkoABkCRgACQJGABJAgZAkoABkCRgACQJGABJAgZAkoABkCRgACQJGABJAgZAkoABkCRgACQJGABJAgZAkoABkCRgACQJGABJAgZAkoABkCRgACQJGABJAgZAkoABkCRgACQJGABJAgZAkoABkCRgACQJGABJAgZAkoABkCRgACQJGABJAgZAkoABkCRgACQJGABJAgZAkoABkCRgACQJGABJAgZAkoABkCRgACQJGABJAgZAkoABkCRgACQJGABJAgZAkoABkLQdPQCw2ZxPh0/P7fbHAZNAhxUYAEkCBkCSgAGQJGAAJAkYAEkCBkCSgAGQJGAAJAkYAEkCBkCSgMFgl/5GCviegAGQJGAAJAkYAEkCBkCSgAGQJGAAJAkYAEkCBkCSgAGQJGAAJAkYAEkCBkCSgAGQJGBwg3b74+gR4OYJGABJAgZAkoABkCRgACQJGABJAgZAkoABkCRgACQJGABJAgZAkoABkCRgACQJGABJAgZAkoDBQOfTYfQIkCVgACQJGABJAgZAkoABkCRgACQJGABJAgZAkoABkCRgACQJGABJAgZAkoABkCRgACQJGNyY3f44egRIEDAAkgQMgCQBAyBJwABIEjAAkgQMgCQBgz82TdPVt/94PayFgAGQtB09AKzd88v+7f7T42ngJNBiBQYDvY/XpcfA1wQMgCQBAyBJwGCgj3te9sDgetM8z/PoIeCeLHl5u68va7aaqxCdmeEe+VzzW+UfQasJWPlNosUKDJZhDwyAJAEDIEnAAEgSMACSBAyAJAEDIEnAAEhazTkwWIqzWbAMKzAAkgQMgCQBAyBJwABIEjAAkgQMgCQBAyBJwABIEjAAkgQMgCQBAyBJwABIEjAAkgQMgCQBAyBJwABIEjAAkgQMgCQBAyBJwABIEjAAkgQMgCQBAyBJwABIEjAAkgQMgCQBAyBJwABIEjAAkgQMgCQBAyBJwABIEjAAkgQMgCQBAyBJwABIEjAAkgQMgCQBAyBJwABIEjAAkgQMgCQBAyBJwABIEjAAkgQMgCQBAyBJwABIEjAAkgQMgCQBAyBJwABIEjAAkgQMgCQBAyBJwABIEjAAkgQMgCQBAyBJwABIEjAAkgQMgCQBAyBJwABIEjAAkgQMgCQBAyBJwABIEjAAkgQMgCQBAyBJwABIEjAAkgQMgCQBAyBJwABIEjAAkgQMgCQBAyBJwABIEjAAkl4BuJcrgMcgnjkAAAAASUVORK5CYII=\"\n",
              "  frames[28] = \"data:image/png;base64,iVBORw0KGgoAAAANSUhEUgAAAbAAAAEgCAYAAADVKCZpAAAABHNCSVQICAgIfAhkiAAAAAlwSFlzAAALEgAACxIB0t1+/AAAADl0RVh0U29mdHdhcmUAbWF0cGxvdGxpYiB2ZXJzaW9uIDMuMC4zLCBodHRwOi8vbWF0cGxvdGxpYi5vcmcvnQurowAABOVJREFUeJzt2+tpAkEYQFE32ETqsI3UsdakdaQN60gZm38hBBMkjx1v9hwQVBA+WOU6zM60LMuyA4CYh9EDAMB3CBgASQIGQJKAAZAkYAAkCRgASQIGQJKAAZAkYAAkCRgASQIGQJKAAZAkYAAkCRgASQIGQJKAAZAkYAAkCRgASQIGQJKAAZAkYAAkCRgASQIGQJKAAZAkYAAkCRgASQIGQJKAAZAkYAAkCRgASQIGQJKAAZAkYAAkCRgASQIGQJKAAZAkYAAkCRgASQIGQJKAAZAkYAAkCRgASQIGQJKAAZAkYAAkCRgASQIGQJKAAZAkYAAkCRgASQIGQJKAAZAkYAAkCRgASQIGQJKAAZAkYAAkCRgASQIGQJKAAZAkYAAkCRgASQIGQJKAAZAkYAAkCRgASQIGQJKAAZAkYAAkCRgASQIGQJKAAZAkYAAkCRgASQIGQJKAAZAkYAAkCRgASQIGQJKAAZAkYAAkCRgASQIGQJKAAZAkYAAkCRgASQIGQJKAAZAkYAAkCRgASQIGQJKAAZAkYAAkCRgASQIGQJKAAZAkYAAkCRgASQIGQJKAAZAkYAAkCRgASQIGQJKAAZAkYAAkCRgASQIGQJKAAZAkYAAkCRgASQIGQJKAAZAkYAAkCRgASQIGQJKAAZAkYAAkCRgASQIGQJKAAZAkYAAkCRgASQIGQJKAAZAkYAAkCRgASQIGQNJ+9ADAbnc5H6++f5hPK08CHVZgACQJGABJAgZAkoABkCRgACQJGNwpdyDC1wQMgCQBAyBJwABIEjAAkgQMgCQBAyBJwABIEjAAkgQMgCQBAyBJwABIEjAAkgQMBrucj6NHgCQBAyBJwABIEjAAkgQMgCQBAyBJwABIEjAAkgQMgCQBAyBJwABIEjAAkgQMgCQBAyBJwOAOHebT6BHg7gkYAEkCBkCSgAGQJGAAJAkYAEkCBkCSgAGQJGAAJAkYAEkCBkCSgAGQJGAAJAkYAEkCBgNdzsfRI0CWgAGQJGAAJAkYAEkCBkCSgAGQJGAAJAkYAEkCBkCSgAGQJGAAJAkYAEkCBkCSgMGdOcyn0SNAgoDBL5um6ebHX3wetkLAAEjajx4Atu75ZX57/vR4HjgJtFiBwUDv43XtNfA5AQMgScAASBIwGOjjnpc9MLjdtCzLMnoI+E/WvL3dz5ct28xdiM7M8B/5XvNT5T9BmwlY+SLRYgUG67AHBkCSgAGQJGAAJAkYAEkCBkCSgAGQJGAAJG3mHBisxdksWIcVGABJAgZAkoABkCRgACQJGABJAgZAkoABkCRgACQJGABJAgZAkoABkCRgACQJGABJAgZAkoABkCRgACQJGABJAgZAkoABkCRgACQJGABJAgZAkoABkCRgACQJGABJAgZAkoABkCRgACQJGABJAgZAkoABkCRgACQJGABJAgZAkoABkCRgACQJGABJAgZAkoABkCRgACQJGABJAgZAkoABkCRgACQJGABJAgZAkoABkCRgACQJGABJAgZAkoABkCRgACQJGABJAgZAkoABkCRgACQJGABJAgZAkoABkCRgACQJGABJAgZAkoABkCRgACQJGABJAgZAkoABkCRgACQJGABJAgZAkoABkCRgACQJGABJAgZAkoABkCRgACQJGABJAgZAkoABkCRgACQJGABJr/yULLJUw6ZpAAAAAElFTkSuQmCC\"\n",
              "  frames[29] = \"data:image/png;base64,iVBORw0KGgoAAAANSUhEUgAAAbAAAAEgCAYAAADVKCZpAAAABHNCSVQICAgIfAhkiAAAAAlwSFlzAAALEgAACxIB0t1+/AAAADl0RVh0U29mdHdhcmUAbWF0cGxvdGxpYiB2ZXJzaW9uIDMuMC4zLCBodHRwOi8vbWF0cGxvdGxpYi5vcmcvnQurowAABOtJREFUeJzt3etpAkEYQNFssInUYRupQ2vSOtKGdaSMzY9ACImRkIez1z0HBBWED1Suw+zgNM/zfAcAMfejBwCAnxAwAJIEDIAkAQMgScAASBIwAJIEDIAkAQMgScAASBIwAJIEDIAkAQMgScAASBIwAJIEDIAkAQMgScAASBIwAJIEDIAkAQMgScAASBIwAJIEDIAkAQMgScAASBIwAJIEDIAkAQMgScAASBIwAJIEDIAkAQMgScAASBIwAJIEDIAkAQMgScAASBIwAJIEDIAkAQMgScAASBIwAJIEDIAkAQMgScAASBIwAJIEDIAkAQMgScAASBIwAJIEDIAkAQMgScAASBIwAJIEDIAkAQMgScAASBIwAJIEDIAkAQMgScAASBIwAJIEDIAkAQMgScAASBIwAJIEDIAkAQMgScAASBIwAJIEDIAkAQMgScAASBIwAJIEDIAkAQMgScAASBIwAJIEDIAkAQMgScAASBIwAJIEDIAkAQMgScAASBIwAJIEDIAkAQMgScAASBIwAJIEDIAkAQMgScAASBIwAJIEDIAkAQMgScAASBIwAJIEDIAkAQMgScAASBIwAJIEDIAkAQMgScAASBIwAJIEDIAkAQMgScAASBIwAJIEDIAkAQMgScAASBIwAJIEDIAkAQMgScAASBIwAJIEDIAkAQMgScAASBIwAJIEDIAkAQMgScAASBIwAJIEDICkzegBgFen4/7Tc9vdYcAk0GAFBkCSgAGQJGAAJAkYLMC5/S/gMgEDIEnAAEgSMACSBAyAJAEDIEnAAEgSMACSBAyAJAEDIEnAAEgSMFgof6UClwkYAEkCBkCSgAGQJGAAJAkYAEkCBkCSgAGQJGAAJAkYAEkCBkCSgMFgp+N+9AiQJGAAJAkYAEkCBkCSgAGQJGAAJAkYAEkCBkCSgAGQJGAAJAkYAEkCBkCSgMECbXeH0SPA4gkYAEkCBkCSgAGQJGAAJAkYAEkCBkCSgAGQJGAAJAkYAEkCBkCSgMFAp+N+9AiQJWAAJAkYAEkCBkCSgAGQJGAAJAkYAEkCBkCSgAGQJGAAJAkYAEkCBguz3R1GjwAJAgZ/bJqmb9/+4/WwFgIGQNJm9ACwdk/Pu7f7jw/HgZNAixUYDPQ+XuceA18TMACSBAyAJAGDgT7uedkDg++b5nmeRw8Bt+Sal7f7+rJmq7kK0ZkZbpHPNb9V/hG0moCV3yRarMDgOuyBAZAkYAAkCRgASQIGQJKAAZAkYAAkCRgASas5BwbX4mwWXIcVGABJAgZAkoABkCRgACQJGABJAgZAkoABkCRgACQJGABJAgZAkoABkCRgACQJGABJAgZAkoABkCRgACQJGABJAgZAkoABkCRgACQJGABJAgZAkoABkCRgACQJGABJAgZAkoABkCRgACQJGABJAgZAkoABkCRgACQJGABJAgZAkoABkCRgACQJGABJAgZAkoABkCRgACQJGABJAgZAkoABkCRgACQJGABJAgZAkoABkCRgACQJGABJAgZAkoABkCRgACQJGABJAgZAkoABkCRgACQJGABJAgZAkoABkCRgACQJGABJAgZAkoABkCRgACQJGABJAgZAkoABkCRgACQJGABJAgZAkoABkCRgACQJGABJAgZAkoABkCRgACQJGABJAgZAkoABkCRgACQJGABJL6vLLoAMzdqyAAAAAElFTkSuQmCC\"\n",
              "  frames[30] = \"data:image/png;base64,iVBORw0KGgoAAAANSUhEUgAAAbAAAAEgCAYAAADVKCZpAAAABHNCSVQICAgIfAhkiAAAAAlwSFlzAAALEgAACxIB0t1+/AAAADl0RVh0U29mdHdhcmUAbWF0cGxvdGxpYiB2ZXJzaW9uIDMuMC4zLCBodHRwOi8vbWF0cGxvdGxpYi5vcmcvnQurowAABO5JREFUeJzt3FFKAlEYgNEm3ETrsGW0Dl2TrqNtuI6WMT0EEWUhFd75nHNAUB/kB5XPy53rNM/zfAcAMfejBwCA3xAwAJIEDIAkAQMgScAASBIwAJIEDIAkAQMgScAASBIwAJIEDIAkAQMgScAASBIwAJIEDIAkAQMgScAASBIwAJIEDIAkAQMgScAASBIwAJIEDIAkAQMgScAASBIwAJIEDIAkAQMgScAASBIwAJIEDIAkAQMgScAASBIwAJIEDIAkAQMgScAASBIwAJIEDIAkAQMgScAASBIwAJIEDIAkAQMgScAASBIwAJIEDIAkAQMgScAASBIwAJIEDIAkAQMgScAASBIwAJIEDIAkAQMgScAASBIwAJIEDIAkAQMgScAASBIwAJIEDIAkAQMgScAASBIwAJIEDIAkAQMgScAASBIwAJIEDIAkAQMgScAASBIwAJIEDIAkAQMgScAASBIwAJIEDIAkAQMgScAASBIwAJIEDIAkAQMgScAASBIwAJIEDIAkAQMgScAASBIwAJIEDIAkAQMgScAASBIwAJIEDIAkAQMgScAASBIwAJIEDIAkAQMgScAASBIwAJIEDIAkAQMgScAASBIwAJIEDIAkAQMgScAASBIwAJIEDIAkAQMgScAASBIwAJIEDIAkAQMgScAASBIwAJIEDIAkAQMgScAASBIwAJIEDIAkAQMgScAASBIwAJIEDICkzegBgDen4/7Lc9vdYcAk0GAFBkCSgAGQJGAAJAkYAEkCBkCSgAGQJGAAJAkYAEkCBkCSgAGQJGCwAOf+Rgr4mYABkCRgACQJGABJAgZAkoABkCRgACQJGABJAgZAkoABkCRgACQJGCzUdncYPQIsmoABkCRgACQJGABJAgZAkoABkCRgACQJGABJAgZAkoABkCRgMNjpuB89AiQJGABJAgZAkoABkCRgACQJGABJAgZAkoABkCRgACQJGABJAgZAkoDBAm13h9EjwOIJGABJAgZAkoABkCRgACQJGABJAgZAkoABkCRgACQJGABJAgZAkoDBQKfjfvQIkCVgACQJGABJAgZAkoABkCRgACQJGABJAgb/bJqmi29/fQ1YMwEDIGkzegBYu+eX3fv9p4fjwEmgxQoMBvoYr3OPge8JGCzM494qDC4hYAAkCRgM9HnPyx4YXG6a53kePQTckmte3u7ry5qt5ipEZ2a4RT7X/FX5R9BqAlZ+k2ixAoPrsAcGQJKAAZAkYAAkCRgASQIGQJKAAZAkYAAkreYcGFyLs1lwHVZgACQJGABJAgZAkoABkCRgACQJGABJAgZAkoABkCRgACQJGABJAgZAkoABkCRgACQJGABJAgZAkoABkCRgACQJGABJAgZAkoABkCRgACQJGABJAgZAkoABkCRgACQJGABJAgZAkoABkCRgACQJGABJAgZAkoABkCRgACQJGABJAgZAkoABkCRgACQJGABJAgZAkoABkCRgACQJGABJAgZAkoABkCRgACQJGABJAgZAkoABkCRgACQJGABJAgZAkoABkCRgACQJGABJAgZAkoABkCRgACQJGABJAgZAkoABkCRgACQJGABJAgZAkoABkCRgACQJGABJAgZAkoABkCRgACQJGABJAgZAkoABkCRgACQJGABJAgZAkoABkCRgACQJGABJAgZAkoABkCRgACS9AqKGLoBLO/J9AAAAAElFTkSuQmCC\"\n",
              "  frames[31] = \"data:image/png;base64,iVBORw0KGgoAAAANSUhEUgAAAbAAAAEgCAYAAADVKCZpAAAABHNCSVQICAgIfAhkiAAAAAlwSFlzAAALEgAACxIB0t1+/AAAADl0RVh0U29mdHdhcmUAbWF0cGxvdGxpYiB2ZXJzaW9uIDMuMC4zLCBodHRwOi8vbWF0cGxvdGxpYi5vcmcvnQurowAABOxJREFUeJzt3d1NAkEYQFHX2IR10IZ1rDVBHZahdVjG+uCTPySKZmcve07CA/tAvgTIZWAmTMuyLDcAEHM7egAAuISAAZAkYAAkCRgASQIGQJKAAZAkYAAkCRgASQIGQJKAAZAkYAAkCRgASQIGQJKAAZAkYAAkCRgASQIGQJKAAZAkYAAkCRgASQIGQJKAAZAkYAAkCRgASQIGQJKAAZAkYAAkCRgASQIGQJKAAZAkYAAkCRgASQIGQJKAAZAkYAAkCRgASQIGQJKAAZAkYAAkCRgASQIGQJKAAZAkYAAkCRgASQIGQJKAAZAkYAAkCRgASQIGQJKAAZAkYAAkCRgASQIGQJKAAZAkYAAkCRgASQIGQJKAAZAkYAAkCRgASQIGQJKAAZAkYAAkCRgASQIGQJKAAZAkYAAkCRgASQIGQJKAAZAkYAAkCRgASQIGQJKAAZAkYAAkCRgASQIGQJKAAZAkYAAkCRgASQIGQJKAAZAkYAAkCRgASQIGQJKAAZAkYAAkCRgASQIGQJKAAZAkYAAkCRgASQIGQJKAAZAkYAAkCRgASQIGQJKAAZAkYAAkCRgASQIGQJKAAZAkYAAkCRgASQIGQJKAAZAkYAAkCRgASQIGQJKAAZAkYAAkCRgASQIGQJKAAZAkYAAkCRgASQIGQJKAAZAkYAAkCRgASQIGQJKAAZAkYAAkCRgASQIGQJKAAZAkYAAk3Y0eAHj3cnr89vphPq48CTRYgQGQJGAAJAkYAEkCBkCSgAGQJGCwYXYgwnkCBkCSgAGQJGAAJAkYAEkCBkCSgAGQJGAAJAkYAEkCBkCSgAGQJGAAJAkYbMC5f2MGzhMwAJIEDIAkAQMgScAASBIwAJIEDIAkAQMgScAASBIwAJIEDIAkAYONOszH0SPApgkYAEkCBkCSgAGQJGAAJAkYAEkCBkCSgAGQJGAAJAkYAEkCBkCSgAGQJGAw2MvpcfQIkCRgACQJGABJAgZAkoABkCRgACQJGABJAgZAkoABkCRgACQJGABJAgZAkoDBBh3m4+gRYPMEDIAkAQMgScAASBIwAJIEDIAkAQMgScAASBIw+GfTNP3q9tfHgL0SMACS7kYPAHv39Dp/uP9wfxo0CbRYgcFAz8f5y7XPQQO+J2AwkFjB5QQMBvJ1IVxOwGBjRA1+ZlqWZRk9BFyTtbe2ewuzV7vZhei8DNfKa5u/KH8A2k3Ayk8SLVZgsA6/gQGQJGAAJAkYAEkCBkCSgAGQJGAAJAkYAEm7OQcGa3EuC9ZhBQZAkoABkCRgACQJGABJAgZAkoABkCRgACQJGABJAgZAkoABkCRgACQJGABJAgZAkoABkCRgACQJGABJAgZAkoABkCRgACQJGABJAgZAkoABkCRgACQJGABJAgZAkoABkCRgACQJGABJAgZAkoABkCRgACQJGABJAgZAkoABkCRgACQJGABJAgZAkoABkCRgACQJGABJAgZAkoABkCRgACQJGABJAgZAkoABkCRgACQJGABJAgZAkoABkCRgACQJGABJAgZAkoABkCRgACQJGABJAgZAkoABkCRgACQJGABJAgZAkoABkCRgACQJGABJAgZAkoABkCRgACQJGABJAgZAkoABkCRgACQJGABJAgZAkoABkCRgACQJGABJAgZAkoABkCRgACQJGABJAgZA0htQfS6AS8dzOAAAAABJRU5ErkJggg==\"\n",
              "  frames[32] = \"data:image/png;base64,iVBORw0KGgoAAAANSUhEUgAAAbAAAAEgCAYAAADVKCZpAAAABHNCSVQICAgIfAhkiAAAAAlwSFlzAAALEgAACxIB0t1+/AAAADl0RVh0U29mdHdhcmUAbWF0cGxvdGxpYiB2ZXJzaW9uIDMuMC4zLCBodHRwOi8vbWF0cGxvdGxpYi5vcmcvnQurowAABOxJREFUeJzt3OFpwlAYQFFTXKJzuEbn0Jl0jq7hHB0j/deWVkFa9OU254CggvBBlOszeU7zPM8bAIh5Gj0AAPyGgAGQJGAAJAkYAEkCBkCSgAGQJGAAJAkYAEkCBkCSgAGQJGAAJAkYAEkCBkCSgAGQJGAAJAkYAEkCBkCSgAGQJGAAJAkYAEkCBkCSgAGQJGAAJAkYAEkCBkCSgAGQJGAAJAkYAEkCBkCSgAGQJGAAJAkYAEkCBkCSgAGQJGAAJAkYAEkCBkCSgAGQJGAAJAkYAEkCBkCSgAGQJGAAJAkYAEkCBkCSgAGQJGAAJAkYAEkCBkCSgAGQJGAAJAkYAEkCBkCSgAGQJGAAJAkYAEkCBkCSgAGQJGAAJAkYAEkCBkCSgAGQJGAAJAkYAEkCBkCSgAGQJGAAJAkYAEkCBkCSgAGQJGAAJAkYAEkCBkCSgAGQJGAAJAkYAEkCBkCSgAGQJGAAJAkYAEkCBkCSgAGQJGAAJAkYAEkCBkCSgAGQJGAAJAkYAEkCBkCSgAGQJGAAJAkYAEkCBkCSgAGQJGAAJAkYAEkCBkCSgAGQJGAAJAkYAEkCBkCSgAGQJGAAJAkYAEkCBkCSgAGQJGAAJAkYAEkCBkCSgAGQJGAAJAkYAEkCBkCSgAGQJGAAJAkYAEkCBkCSgAGQJGAAJAkYAEkCBkCSgAGQJGAAJAkYAEkCBkCSgAGQJGAAJG1HDwB8Op8OP57b7Y8DJoHlswIDIEnAAEgSMFiISz8fAtcJGABJAgZAkoABkCRgACQJGABJAgZAkoABkCRgACQJGABJAgZAkoDBgvknerhOwABIEjAAkgQMgCQBAyBJwABIEjAAkgQMgCQBAyBJwABIEjAAkgQMFuB8OoweAXIEDIAkAQMgScAASBIwAJIEDIAkAQMgScAASBIwAJIEDIAkAQMgScBgoXb74+gRYNEEDIAkAQMgScAASBIwAJIEDIAkAQMgScAASBIwAJIEDIAkAQMgScBgsPPpMHoESBIwAJIEDIAkAQMgScAASBIwAJIEDIAkAQMgScAASBIwAJIEDIAkAYMF2u2Po0eAxRMwAJIEDIAkAYM7mKbp5ts9Xg9rIGAAJG1HDwBsNq9v+4/7L8+ngZNAhxUYDPY1XpceA5cJGABJAgZAkoDBYN/PeTkHBreZ5nmeRw8B/80jL2/3EWatVnMVov0y/Ffe2/xF+QvQagJWPkj0WIHB/TkHBkCSgAGQJGAAJAkYAEkCBkCSgAGQJGAAJK1mHxg8kr1ZcH9WYAAkCRgASQIGQJKAAZAkYAAkCRgASQIGQJKAAZAkYAAkCRgASQIGQJKAAZAkYAAkCRgASQIGQJKAAZAkYAAkCRgASQIGQJKAAZAkYAAkCRgASQIGQJKAAZAkYAAkCRgASQIGQJKAAZAkYAAkCRgASQIGQJKAAZAkYAAkCRgASQIGQJKAAZAkYAAkCRgASQIGQJKAAZAkYAAkCRgASQIGQJKAAZAkYAAkCRgASQIGQJKAAZAkYAAkCRgASQIGQJKAAZAkYAAkCRgASQIGQJKAAZAkYAAkCRgASQIGQJKAAZAkYAAkCRgASQIGQJKAAZAkYAAkCRgASQIGQJKAAZAkYAAkCRgASQIGQJKAAZAkYAAkCRgASQIGQJKAAZAkYAAkCRgASQIGQJKAAZAkYAAkvQNWrC6AE+UcLgAAAABJRU5ErkJggg==\"\n",
              "  frames[33] = \"data:image/png;base64,iVBORw0KGgoAAAANSUhEUgAAAbAAAAEgCAYAAADVKCZpAAAABHNCSVQICAgIfAhkiAAAAAlwSFlzAAALEgAACxIB0t1+/AAAADl0RVh0U29mdHdhcmUAbWF0cGxvdGxpYiB2ZXJzaW9uIDMuMC4zLCBodHRwOi8vbWF0cGxvdGxpYi5vcmcvnQurowAABOlJREFUeJzt3N1pAkEYQFE3pInUYRupQ2vSOtKGdaSMzWPIHxFBZ66eAz7ow/KBK3dHd1zWdV03ABDzNHoAALiEgAGQJGAAJAkYAEkCBkCSgAGQJGAAJAkYAEkCBkCSgAGQJGAAJAkYAEkCBkCSgAGQJGAAJAkYAEkCBkCSgAGQJGAAJAkYAEkCBkCSgAGQJGAAJAkYAEkCBkCSgAGQJGAAJAkYAEkCBkCSgAGQJGAAJAkYAEkCBkCSgAGQJGAAJAkYAEkCBkCSgAGQJGAAJAkYAEkCBkCSgAGQJGAAJAkYAEkCBkCSgAGQJGAAJAkYAEkCBkCSgAGQJGAAJAkYAEkCBkCSgAGQJGAAJAkYAEkCBkCSgAGQJGAAJAkYAEkCBkCSgAGQJGAAJAkYAEkCBkCSgAGQJGAAJAkYAEkCBkCSgAGQJGAAJAkYAEkCBkCSgAGQJGAAJAkYAEkCBkCSgAGQJGAAJAkYAEkCBkCSgAGQJGAAJAkYAEkCBkCSgAGQJGAAJAkYAEkCBkCSgAGQJGAAJAkYAEkCBkCSgAGQJGAAJAkYAEkCBkCSgAGQJGAAJAkYAEkCBkCSgAGQJGAAJAkYAEkCBkCSgAGQJGAAJAkYAEkCBkCSgAGQJGAAJAkYAEkCBkCSgAGQJGAAJAkYAEkCBkCSgAGQJGAAJAkYAEkCBkCSgAGQJGAAJAkYAEkCBkCSgAGQJGAAJD2PHgD4dDruf7y23R0GTALzswIDIEnAAEgSMACSBAyAJAEDIEnAAEgSMACSBAyAJAEDIEnAYBK//QsH8DcBAyBJwABIEjAAkgQMgCQBAyBJwABIEjAAkgQMgCQBAyBJwABIEjAAkgQMJrbdHUaPANMSMACSBAyAJAEDIEnAAEgSMACSBAyAJAEDIEnAAEgSMACSBAyAJAGDCZyO+9EjQI6AAZAkYAAkCRgASQIGQJKAAZAkYAAkCRgASQIGQJKAAZAkYAAkCRgASQIGk9ruDqNHgKkJGABJAgZAkoABkCRgACQJGABJAgZAkoABkCRgACQJGABJAgZAkoDBYKfjfvQIkCRgACQJGABJAgZAkoABkCRgcAXLspz9uOYx4J4JGABJz6MHADabt/fdl+evL8dBk0CHFRgM9j1ewHkEDCYkavA/AYMJ+QoR/idgMJhYwWWWdV3X0UPAvbn1re0+xjyih7kL0V4Z7pnzm0uVL34eJmDlN4keKzC4Pr+BAZAkYAAkCRgASQIGQJKAAZAkYAAkCRgASQ+zDwxuyb4suD4rMACSBAyAJAEDIEnAAEgSMACSBAyAJAEDIEnAAEgSMACSBAyAJAEDIEnAAEgSMACSBAyAJAEDIEnAAEgSMACSBAyAJAEDIEnAAEgSMACSBAyAJAEDIEnAAEgSMACSBAyAJAEDIEnAAEgSMACSBAyAJAEDIEnAAEgSMACSBAyAJAEDIEnAAEgSMACSBAyAJAEDIEnAAEgSMACSBAyAJAEDIEnAAEgSMACSBAyAJAEDIEnAAEgSMACSBAyAJAEDIEnAAEgSMACSBAyAJAEDIEnAAEgSMACSBAyAJAEDIEnAAEgSMACSBAyAJAEDIEnAAEgSMACSBAyAJAEDIEnAAEgSMACSBAyAJAEDIEnAAEgSMACSBAyAJAEDIEnAAEgSMACSBAyAJAEDIEnAAEgSMACSPgAsii1O1t1myQAAAABJRU5ErkJggg==\"\n",
              "  frames[34] = \"data:image/png;base64,iVBORw0KGgoAAAANSUhEUgAAAbAAAAEgCAYAAADVKCZpAAAABHNCSVQICAgIfAhkiAAAAAlwSFlzAAALEgAACxIB0t1+/AAAADl0RVh0U29mdHdhcmUAbWF0cGxvdGxpYiB2ZXJzaW9uIDMuMC4zLCBodHRwOi8vbWF0cGxvdGxpYi5vcmcvnQurowAABO5JREFUeJzt3NtNAlEUQFHH0IR10IZ1QE1Qh2VoHZYxfvuKiMq9W9b6JBNyEh6bAzMs67quNwAQczt6AAA4h4ABkCRgACQJGABJAgZAkoABkCRgACQJGABJAgZAkoABkCRgACQJGABJAgZAkoABkCRgACQJGABJAgZAkoABkCRgACQJGABJAgZAkoABkCRgACQJGABJAgZAkoABkCRgACQJGABJAgZAkoABkCRgACQJGABJAgZAkoABkCRgACQJGABJAgZAkoABkCRgACQJGABJAgZAkoABkCRgACQJGABJAgZAkoABkCRgACQJGABJAgZAkoABkCRgACQJGABJAgZAkoABkCRgACQJGABJAgZAkoABkCRgACQJGABJAgZAkoABkCRgACQJGABJAgZAkoABkCRgACQJGABJAgZAkoABkCRgACQJGABJAgZAkoABkCRgACQJGABJAgZAkoABkCRgACQJGABJAgZAkoABkCRgACQJGABJAgZAkoABkCRgACQJGABJAgZAkoABkCRgACQJGABJAgZAkoABkCRgACQJGABJAgZAkoABkCRgACQJGABJAgZAkoABkCRgACQJGABJAgZAkoABkCRgACQJGABJAgZAkoABkCRgACQJGABJAgZAkoABkCRgACQJGABJAgZAkoABkCRgACQJGABJAgZAkoABkCRgACQJGABJAgZAkoABkCRgACRtRg8AvPZ03L+7bbs7DJgE5mYDAyBJwABIEjAAkgQMgCQBAyBJwABIEjCYiFPo4XQCBkCSgAGQJGAAJAkYAEkCBkCSgAGQJGAAJAkYAEkCBkCSgAGQJGAwiY/+Rgr4nIABkCRgACQJGABJAgZAkoABkCRgACQJGABJAgZAkoABkCRgACQJGExsuzuMHgGmJWAAJAkYAEkCBkCSgAGQJGAAJAkYAEkCBkCSgAGQJGAAJAkYAEkCBhN4Ou5HjwA5AgZAkoABkCRgACQJGABJAgZAkoABkCRgACQJGABJAgZAkoABkCRgMKnt7jB6BJiagAGQJGAAJAkYAEkCBkCSgAGQJGAAJAkYAEkCBkCSgAGQtBk9APxHy7KcfOzjYffj+1jX9eRj4b+wgQGQZAODCTw8v97C7u+OgyaBDhsYTOht0ID3BAwGEys4j4DBYL4uhPMIGExI1OBry+r8W/h13zkF/jd4GXONruYsxEu/ocAleX5zrvKHn6sJWPlBoscGBn/Pb2AAJAkYAEkCBkCSgAGQJGAAJAkYAEkCBkDS1VwHBpfkuiz4ezYwAJIEDIAkAQMgScAASBIwAJIEDIAkAQMgScAASBIwAJIEDIAkAQMgScAASBIwAJIEDIAkAQMgScAASBIwAJIEDIAkAQMgScAASBIwAJIEDIAkAQMgScAASBIwAJIEDIAkAQMgScAASBIwAJIEDIAkAQMgScAASBIwAJIEDIAkAQMgScAASBIwAJIEDIAkAQMgScAASBIwAJIEDIAkAQMgScAASBIwAJIEDIAkAQMgScAASBIwAJIEDIAkAQMgScAASBIwAJIEDIAkAQMgScAASBIwAJIEDIAkAQMgScAASBIwAJIEDIAkAQMgScAASBIwAJIEDIAkAQMgScAASBIwAJIEDIAkAQMgScAASBIwAJIEDIAkAQMgScAASBIwAJIEDIAkAQMgScAASBIwAJJeAP6fMw4cYDQfAAAAAElFTkSuQmCC\"\n",
              "  frames[35] = \"data:image/png;base64,iVBORw0KGgoAAAANSUhEUgAAAbAAAAEgCAYAAADVKCZpAAAABHNCSVQICAgIfAhkiAAAAAlwSFlzAAALEgAACxIB0t1+/AAAADl0RVh0U29mdHdhcmUAbWF0cGxvdGxpYiB2ZXJzaW9uIDMuMC4zLCBodHRwOi8vbWF0cGxvdGxpYi5vcmcvnQurowAABO5JREFUeJzt3eFpwlAYQNGmuETncI3OoTPpHF3DOTpG+qNQ2prSUtC8q+eAoILwgcr18ZI4zfM8PwBAzOPaAwDAfwgYAEkCBkCSgAGQJGAAJAkYAEkCBkCSgAGQJGAAJAkYAEkCBkCSgAGQJGAAJAkYAEkCBkCSgAGQJGAAJAkYAEkCBkCSgAGQJGAAJAkYAEkCBkCSgAGQJGAAJAkYAEkCBkCSgAGQJGAAJAkYAEkCBkCSgAGQJGAAJAkYAEkCBkCSgAGQJGAAJAkYAEkCBkCSgAGQJGAAJAkYAEkCBkCSgAGQJGAAJAkYAEkCBkCSgAGQJGAAJAkYAEkCBkCSgAGQJGAAJAkYAEkCBkCSgAGQJGAAJAkYAEkCBkCSgAGQJGAAJAkYAEkCBkCSgAGQJGAAJAkYAEkCBkCSgAGQJGAAJAkYAEkCBkCSgAGQJGAAJAkYAEkCBkCSgAGQJGAAJAkYAEkCBkCSgAGQJGAAJAkYAEkCBkCSgAGQJGAAJAkYAEkCBkCSgAGQJGAAJAkYAEkCBkCSgAGQJGAAJAkYAEkCBkCSgAGQJGAAJAkYAEkCBkCSgAGQJGAAJAkYAEkCBkCSgAGQJGAAJAkYAEkCBkCSgAGQJGAAJAkYAEkCBkCSgAGQJGAAJAkYAEkCBkCSgAGQJGAAJAkYAEkCBkCSgAGQJGAAJAkYAEkCBkCSgAGQJGAAJAkYAEkCBkDSZu0BgK9Ox/3i89vd4cqTwNiswABIEjAAkgQMgCQBgwD7X3BOwABIEjAAkgQMgCQBAyBJwABIEjAAkgQMgCQBAyBJwABIEjAAkgQMBrL0VyouIwXLBAyAJAEDIEnAAEgSMACSBAyAJAEDIEnAAEgSMACSBAyAJAEDIEnAYBBLl5ECfiZgACQJGABJAgZAkoABkCRgACQJGABJAgZAkoABkCRgACQJGABJAgZAkoDBwLa7w9ojwLAEDIAkAQMgScAASBIwAJIEDIAkAQMgScAASBIwAJIEDIAkAQMgScBgAKfjfu0RIEfAAEgSMACSBAyAJAEDIEnAAEgSMACSBAyAJAEDIEnAAEgSMACSBAwGtd0d1h4BhiZgcCHTNP35donXw60TMACSNmsPALx7ed193H9+Oq44CTRYgcEAPsdr6TFwTsAASBIwAJIEDAbwfc/LHhj8bprneV57CLhF1zy83deYe3Q3RyE6V4Zb5vPNf5V//NxNwMpvEk1WYHBZ9sAASBIwAJIEDIAkAQMgScAASBIwAJIEDICkuzkPDK7NuVlwWVZgACQJGABJAgZAkoABkCRgACQJGABJAgZAkoABkCRgACQJGABJAgZAkoABkCRgACQJGABJAgZAkoABkCRgACQJGABJAgZAkoABkCRgACQJGABJAgZAkoABkCRgACQJGABJAgZAkoABkCRgACQJGABJAgZAkoABkCRgACQJGABJAgZAkoABkCRgACQJGABJAgZAkoABkCRgACQJGABJAgZAkoABkCRgACQJGABJAgZAkoABkCRgACQJGABJAgZAkoABkCRgACQJGABJAgZAkoABkCRgACQJGABJAgZAkoABkCRgACQJGABJAgZAkoABkCRgACQJGABJAgZAkoABkCRgACQJGABJAgZAkoABkCRgACQJGABJAgZAkoABkCRgACQJGABJAgZAkoABkCRgACS9AeYXL7L1IyNjAAAAAElFTkSuQmCC\"\n",
              "  frames[36] = \"data:image/png;base64,iVBORw0KGgoAAAANSUhEUgAAAbAAAAEgCAYAAADVKCZpAAAABHNCSVQICAgIfAhkiAAAAAlwSFlzAAALEgAACxIB0t1+/AAAADl0RVh0U29mdHdhcmUAbWF0cGxvdGxpYiB2ZXJzaW9uIDMuMC4zLCBodHRwOi8vbWF0cGxvdGxpYi5vcmcvnQurowAABPZJREFUeJzt3NFp21AYgNEoeInOkYzROeyZ4jm6hufIGMpDIYTKtEmKc+8XnQMG2w/mB9l8vlxJy7qu6x0AxNyPHgAAPkPAAEgSMACSBAyAJAEDIEnAAEgSMACSBAyAJAEDIEnAAEgSMACSBAyAJAEDIEnAAEgSMACSBAyAJAEDIEnAAEgSMACSBAyAJAEDIEnAAEgSMACSBAyAJAEDIEnAAEgSMACSBAyAJAEDIEnAAEgSMACSBAyAJAEDIEnAAEgSMACSBAyAJAEDIEnAAEgSMACSBAyAJAEDIEnAAEgSMACSBAyAJAEDIEnAAEgSMACSBAyAJAEDIEnAAEgSMACSBAyAJAEDIEnAAEgSMACSBAyAJAEDIEnAAEgSMACSBAyAJAEDIEnAAEgSMACSBAyAJAEDIEnAAEgSMACSBAyAJAEDIEnAAEgSMACSBAyAJAEDIEnAAEgSMACSBAyAJAEDIEnAAEgSMACSBAyAJAEDIEnAAEgSMACSBAyAJAEDIEnAAEgSMACSBAyAJAEDIEnAAEgSMACSBAyAJAEDIEnAAEgSMACSBAyAJAEDIEnAAEgSMACSBAyAJAEDIEnAAEgSMACSBAyAJAEDIEnAAEgSMACSBAyAJAEDIEnAAEgSMACSBAyAJAEDIEnAAEgSMACSBAyAJAEDIEnAAEgSMACSBAyAJAEDIEnAAEgSMACSBAyAJAEDIEnAAEgSMACSDqMHALYu59PmvYfj04BJYF5WYAAkCRhM5trqC9gSMACSBAyAJAEDIEnAAEgSMACSBAyAJAEDIEnAAEgSMACSBAyAJAGDADfyhS0BAyBJwABIEjAAkgQMgCQBAyBJwABIEjAAkgQMgCQBAyBJwGAil/Np9AiQIWAwObeRgusEDIAkAQMgScAASBIwAJIEDIAkAQMgScAASBIwAJIEDIAkAYNJuI0UfIyAAZAkYAAkCRgASQIGQJKAAZAkYAAkCRgASQIGQJKAAZAkYDCxh+PT6BFgWgIGQJKAAZAkYAAkCRgASQIGQJKAAZAkYAAkCRgASQIGQJKAAZAkYDCBy/k0egTIETAAkgQMgCQBAyBJwABIEjAAkgQMbmRZlnc//vczYI8EDICkw+gBgN9+PR9fn//8cR44CTRYgcEE3sbr2mtgS8BgUo8nqzD4GwEDIEnAYAJ/7nnZA4N/W9Z1XUcPAd/RV57e7mfMHu3mLETXyvCd+X7zWeU/P7sJWPkg0WQFBrdlDwyAJAEDIEnAAEgSMACSBAyAJAEDIEnAAEjazXVg8NVcmwW3ZQUGQJKAAZAkYAAkCRgASQIGQJKAAZAkYAAkCRgASQIGQJKAAZAkYAAkCRgASQIGQJKAAZAkYAAkCRgASQIGQJKAAZAkYAAkCRgASQIGQJKAAZAkYAAkCRgASQIGQJKAAZAkYAAkCRgASQIGQJKAAZAkYAAkCRgASQIGQJKAAZAkYAAkCRgASQIGQJKAAZAkYAAkCRgASQIGQJKAAZAkYAAkCRgASQIGQJKAAZAkYAAkCRgASQIGQJKAAZAkYAAkCRgASQIGQJKAAZAkYAAkCRgASQIGQJKAAZAkYAAkCRgASQIGQJKAAZAkYAAkCRgASQIGQJKAAZAkYAAkCRgASQIGQJKAAZAkYAAkCRgASQIGQJKAAZAkYAAkCRgASQIGQJKAAZAkYAAkCRgASQIGQNIL89IxgIJa4yAAAAAASUVORK5CYII=\"\n",
              "  frames[37] = \"data:image/png;base64,iVBORw0KGgoAAAANSUhEUgAAAbAAAAEgCAYAAADVKCZpAAAABHNCSVQICAgIfAhkiAAAAAlwSFlzAAALEgAACxIB0t1+/AAAADl0RVh0U29mdHdhcmUAbWF0cGxvdGxpYiB2ZXJzaW9uIDMuMC4zLCBodHRwOi8vbWF0cGxvdGxpYi5vcmcvnQurowAABPFJREFUeJzt3NFN40AUQNH1iiaoI21Qh6kpqYMyoA7K8H7sFzggQAozNzlHykdGivSkOLqZxPaybdv2BwBi/o4eAAB+QsAASBIwAJIEDIAkAQMgScAASBIwAJIEDIAkAQMgScAASBIwAJIEDIAkAQMgScAASBIwAJIEDIAkAQMgScAASBIwAJIEDIAkAQMgScAASBIwAJIEDIAkAQMgScAASBIwAJIEDIAkAQMgScAASBIwAJIEDIAkAQMgScAASBIwAJIEDIAkAQMgScAASBIwAJIEDIAkAQMgScAASBIwAJIEDIAkAQMgScAASBIwAJIEDIAkAQMgScAASBIwAJIEDIAkAQMgScAASBIwAJIEDIAkAQMgScAASBIwAJIEDIAkAQMgScAASBIwAJIEDIAkAQMgScAASBIwAJIEDIAkAQMgScAASBIwAJIEDIAkAQMgScAASBIwAJIEDIAkAQMgScAASBIwAJIEDIAkAQMgScAASBIwAJIEDIAkAQMgScAASBIwAJIEDIAkAQMgScAASBIwAJIEDIAkAQMgScAASBIwAJIEDIAkAQMgScAASBIwAJIEDIAkAQMgScAASBIwAJIEDIAkAQMgScAASBIwAJIEDIAkAQMgScAASBIwAJIEDIAkAQMgScAASBIwAJIEDIAkAQMgScAASBIwAJIEDIAkAQMgScAASBIwAJIEDIAkAQMgScAASBIwAJLuRg8A7L2cHndrh/U4YBKYlx0YAEkCBkCSgAGQJGAAJAkYAEkCBkCSgAGQJGAAJAkYAEkCBpM5dxcOYE/AAEgSMACSBAyAJAEDIEnAAEgSMACSBAyAJAEDIEnAAEgSMACSBAwCDutx9AgwHQEDIEnAAEgSMACSBAyAJAEDIEnAAEgSMACSBAyAJAEDIEnAAEgSMJjIy+lxt+Y2UnCegAGQJGAAJAkYAEkCBkCSgAGQJGAAJAkYAEkCBkCSgAGQJGAAJAkYTOLcbaSAjwkYAEkCBkCSgAGQJGAAJAkYAEkCBkCSgAGQJGAAJAkYAEkCBkCSgMHEDutx9AgwLQEDIEnAAEgSMACSBAyAJAEDIEnAAEgSMLigZVm+/LjE6+GaCRgASXejBwD+e3pd3zx/uD8NmgQa7MBgAs/Hdbf2PmjAWwIGExAr+D4Bgwn4uRC+T8BgUqIGn1u2bdtGDwHX6jdPb/dR5tbczFmIrpPh2jnG+YnyF5+bCVj5TaLLDgwux39gACQJGABJAgZAkoABkCRgACQJGABJAgZA0s1cBwYjuDYLLscODIAkAQMgScAASBIwAJIEDIAkAQMgScAASBIwAJIEDIAkAQMgScAASBIwAJIEDIAkAQMgScAASBIwAJIEDIAkAQMgScAASBIwAJIEDIAkAQMgScAASBIwAJIEDIAkAQMgScAASBIwAJIEDIAkAQMgScAASBIwAJIEDIAkAQMgScAASBIwAJIEDIAkAQMgScAASBIwAJIEDIAkAQMgScAASBIwAJIEDIAkAQMgScAASBIwAJIEDIAkAQMgScAASBIwAJIEDIAkAQMgScAASBIwAJIEDIAkAQMgScAASBIwAJIEDIAkAQMgScAASBIwAJIEDIAkAQMgScAASBIwAJIEDIAkAQMgScAASBIwAJIEDIAkAQMgScAASBIwAJIEDIAkAQMgScAASBIwAJIEDICkf0KBMEs1n0HUAAAAAElFTkSuQmCC\"\n",
              "  frames[38] = \"data:image/png;base64,iVBORw0KGgoAAAANSUhEUgAAAbAAAAEgCAYAAADVKCZpAAAABHNCSVQICAgIfAhkiAAAAAlwSFlzAAALEgAACxIB0t1+/AAAADl0RVh0U29mdHdhcmUAbWF0cGxvdGxpYiB2ZXJzaW9uIDMuMC4zLCBodHRwOi8vbWF0cGxvdGxpYi5vcmcvnQurowAABO5JREFUeJzt3OtpAkEYQNFssInUYRupQ2vSOtKGdaSMzb88TQgBM3P1HBB0QfhA5Trszi7ruq53ABBzP3oAAPgLAQMgScAASBIwAJIEDIAkAQMgScAASBIwAJIEDIAkAQMgScAASBIwAJIEDIAkAQMgScAASBIwAJIEDIAkAQMgScAASBIwAJIEDIAkAQMgScAASBIwAJIEDIAkAQMgScAASBIwAJIEDIAkAQMgScAASBIwAJIEDIAkAQMgScAASBIwAJIEDIAkAQMgScAASBIwAJIEDIAkAQMgScAASBIwAJIEDIAkAQMgScAASBIwAJIEDIAkAQMgScAASBIwAJIEDIAkAQMgScAASBIwAJIEDIAkAQMgScAASBIwAJIEDIAkAQMgScAASBIwAJIEDIAkAQMgScAASBIwAJIEDIAkAQMgScAASBIwAJIEDIAkAQMgScAASBIwAJIEDIAkAQMgScAASBIwAJIEDIAkAQMgScAASBIwAJIEDIAkAQMgScAASBIwAJIEDIAkAQMgScAASBIwAJIEDIAkAQMgScAASBIwAJIEDIAkAQMgScAASBIwAJIEDIAkAQMgScAASBIwAJIEDIAkAQMgScAASBIwAJIEDIAkAQMgScAASBIwAJIEDIAkAQMgScAASBIwAJIEDIAkAQMgScAASBIwAJIEDIAkAQMgScAASBIwAJIEDIAkAQMgScAASNqMHgD46nTcnz2+3R3+eRKYlxUYAEkCBkCSgAGQJGAAJAkYAEkCBkCSgAGQJGAAJAkYAEkCBhHuwgEfCRgASQIGQJKAAZAkYAAkCRgASQIGQJKAAZAkYAAkCRhM5nTcjx4BEgQMgCQBAyBJwABIEjAAkgQMgCQBAyBJwABIEjAAkgQMgCQBg4Dt7jB6BJiOgAGQJGAAJAkYAEkCBkCSgAGQJGAAJAkYAEkCBkCSgAGQJGAwkdNx/+WYu3DAeQIGQJKAAZAkYAAkCRgASQIGQJKAAZAkYAAkCRgASQIGQJKAwSTO3YUD+J6AAZAkYAAkCRgASQIGQJKAAZAkYAAkCRgASQIGQJKAAZAkYDCx7e4wegSYloABkCRgcEHLsvz6cYn3wzUTMACSNqMHAN48Pe9enz8+HAdOAvOzAoNJvI/XudfARwIGQJKAAZAkYDCJz+e8nAODny3ruq6jh4Br9Z+Xt/spc2tu5ipE+2S4dr7j/EX5j8/NBKz8IdFlBQaX4xwYAEkCBkCSgAGQJGAAJAkYAEkCBkCSgAGQdDP7wGAEe7PgcqzAAEgSMACSBAyAJAEDIEnAAEgSMACSBAyAJAEDIEnAAEgSMACSBAyAJAEDIEnAAEgSMACSBAyAJAEDIEnAAEgSMACSBAyAJAEDIEnAAEgSMACSBAyAJAEDIEnAAEgSMACSBAyAJAEDIEnAAEgSMACSBAyAJAEDIEnAAEgSMACSBAyAJAEDIEnAAEgSMACSBAyAJAEDIEnAAEgSMACSBAyAJAEDIEnAAEgSMACSBAyAJAEDIEnAAEgSMACSBAyAJAEDIEnAAEgSMACSBAyAJAEDIEnAAEgSMACSBAyAJAEDIEnAAEgSMACSBAyAJAEDIEnAAEgSMACSBAyAJAEDIEnAAEgSMACSBAyAJAEDIEnAAEgSMACSBAyAJAEDIEnAAEgSMACSBAyAJAEDIEnAAEh6AaeSL7IpZTlqAAAAAElFTkSuQmCC\"\n",
              "  frames[39] = \"data:image/png;base64,iVBORw0KGgoAAAANSUhEUgAAAbAAAAEgCAYAAADVKCZpAAAABHNCSVQICAgIfAhkiAAAAAlwSFlzAAALEgAACxIB0t1+/AAAADl0RVh0U29mdHdhcmUAbWF0cGxvdGxpYiB2ZXJzaW9uIDMuMC4zLCBodHRwOi8vbWF0cGxvdGxpYi5vcmcvnQurowAABPtJREFUeJzt3eFt2lAYQNG6yhKZIx0jc8BM8RxZgzk6hvuvCgqkTSLy3o3PkZAQEuiTDLrYPJtl27btBwDE/Bw9AAB8hIABkCRgACQJGABJAgZAkoABkCRgACQJGABJAgZAkoABkCRgACQJGABJAgZAkoABkCRgACQJGABJAgZAkoABkCRgACQJGABJAgZAkoABkCRgACQJGABJAgZAkoABkCRgACQJGABJAgZAkoABkCRgACQJGABJAgZAkoABkCRgACQJGABJAgZAkoABkCRgACQJGABJAgZAkoABkCRgACQJGABJAgZAkoABkCRgACQJGABJAgZAkoABkCRgACQJGABJAgZAkoABkCRgACQJGABJAgZAkoABkCRgACQJGABJAgZAkoABkCRgACQJGABJAgZAkoABkCRgACQJGABJAgZAkoABkCRgACQJGABJAgZAkoABkCRgACQJGABJAgZAkoABkCRgACQJGABJAgZAkoABkCRgACQJGABJAgZAkoABkCRgACQJGABJAgZAkoABkCRgACQJGABJAgZAkoABkCRgACQJGABJAgZAkoABkCRgACQJGABJAgZAkoABkCRgACQJGABJAgZAkoABkCRgACQJGABJAgZAkoABkCRgACQJGABJAgZAkoABkCRgACQJGABJAgZAkoABkCRgACQJGABJAgZAkoABkCRgACQJGABJAgZAkoABkCRgACTdjR4AuOy0Hl899nB4GjAJzMkeGABJAgZAkoABkCRgACQJGABJAgZAkoDBhC4toQfOCRgASQIGQJKAAZAkYAAkCRgASQIGQJKAAZAkYAAkCRgASQIGQJKAQYR/Y4ZzAgZAkoABkCRgACQJGABJAgZAkoABkCRgACQJGABJAgZAkoDBZE7rcfQIkCBgACQJGABJAgZAkoABkCRgACQJGABJAgZAkoABkCRgEPBweBo9AkxHwABIEjAAkgQMgCQBAyBJwABIEjAAkgQMgCQBAyBJwABIEjCYyGk9jh4BMgQMJucyUnCZgAGQJGAAJAkYAEkCBkCSgAGQJGAAJAkYAEkCBkCSgAGQJGAwCZeRgvcRMACSBAyAJAGDG1uW5b9un33+W68B35GAAZB0N3oA4Nzz78Pf+4/368BJYG4CBpN4GS7g3xxChImJGlwnYDAxhxDhOgGDSTzer6+C9esoYHDNsm3bNnoI+M6+cnm7jzN7sptFHM6RYQ+8z3mv8pee3QSsvJFoswcGt+E3MACSBAyAJAEDIEnAAEgSMACSBAyAJAEDIGk354HBKM7NgtuwBwZAkoABkCRgACQJGABJAgZAkoABkCRgACQJGABJAgZAkoABkCRgACQJGABJAgZAkoABkCRgACQJGABJAgZAkoABkCRgACQJGABJAgZAkoABkCRgACQJGABJAgZAkoABkCRgACQJGABJAgZAkoABkCRgACQJGABJAgZAkoABkCRgACQJGABJAgZAkoABkCRgACQJGABJAgZAkoABkCRgACQJGABJAgZAkoABkCRgACQJGABJAgZAkoABkCRgACQJGABJAgZAkoABkCRgACQJGABJAgZAkoABkCRgACQJGABJAgZAkoABkCRgACQJGABJAgZAkoABkCRgACQJGABJAgZAkoABkCRgACQJGABJAgZAkoABkCRgACQJGABJAgZAkoABkCRgACQJGABJAgZA0h/DLDKBnWbN3QAAAABJRU5ErkJggg==\"\n",
              "  frames[40] = \"data:image/png;base64,iVBORw0KGgoAAAANSUhEUgAAAbAAAAEgCAYAAADVKCZpAAAABHNCSVQICAgIfAhkiAAAAAlwSFlzAAALEgAACxIB0t1+/AAAADl0RVh0U29mdHdhcmUAbWF0cGxvdGxpYiB2ZXJzaW9uIDMuMC4zLCBodHRwOi8vbWF0cGxvdGxpYi5vcmcvnQurowAABPRJREFUeJzt3dFJA0EUQFFXbMI6bMM6Yk1JHZahdVjG+hmVFYwQZ657DuQjgcCDJNxMMsMu67quNwAQczt6AAD4DQEDIEnAAEgSMACSBAyAJAEDIEnAAEgSMACSBAyAJAEDIEnAAEgSMACSBAyAJAEDIEnAAEgSMACSBAyAJAEDIEnAAEgSMACSBAyAJAEDIEnAAEgSMACSBAyAJAEDIEnAAEgSMACSBAyAJAEDIEnAAEgSMACSBAyAJAEDIEnAAEgSMACSBAyAJAEDIEnAAEgSMACSBAyAJAEDIEnAAEgSMACSBAyAJAEDIEnAAEgSMACSBAyAJAEDIEnAAEgSMACSBAyAJAEDIEnAAEgSMACSBAyAJAEDIEnAAEgSMACSBAyAJAEDIEnAAEgSMACSBAyAJAEDIEnAAEgSMACSBAyAJAEDIEnAAEgSMACSBAyAJAEDIEnAAEgSMACSBAyAJAEDIEnAAEgSMACSBAyAJAEDIEnAAEgSMACSBAyAJAEDIEnAAEgSMACSBAyAJAEDIEnAAEgSMACSBAyAJAEDIEnAAEgSMACSBAyAJAEDIEnAAEgSMACSBAyAJAEDIEnAAEgSMACSBAyAJAEDIEnAAEgSMACSBAyAJAEDIEnAAEgSMACSBAyAJAEDIEnAAEgSMACSBAyAJAEDIEnAAEgSMACSBAyAJAEDIEnAAEgSMACSBAyAJAEDIEnAAEi6Gz0AsO319LT5+MPh+MeTwJyswABIEjAAkgQMgCQBAyBJwABIEjAAkgQMQmyhhzMBAyBJwABIEjAAkgQMgCQBAyBJwABIEjAAkgQMgCQBgwl9dy0w4EzAAEgSMACSBAyAJAEDIEnAAEgSMACSBAyAJAEDIEnAIMLVmOEzAQMgScAASBIwAJIEDIAkAQMgScAASBIwAJIEDIAkAQMgScBgMq+np9EjQIKAAZAkYAAkCRgASQIGQJKAAZAkYAAkCRgASQIGQJKAQcDD4Th6BJiOgAGQJGAAJAkYAEkCBkCSgAGQJGAAJAkYAEkCBkCSgMFEtq7G7BAzbBMwAJIEDIAkAQMgScAASBIwAJIEDIAkAQMgScDgypZl+fHtGs+H/0rAYBIvx8PoESDlbvQAwGfPb+eQPd6fBk4Cc7MCg4l8jNfWfeBMwGASYgWXETCYhJ8L4TICBhP5GjFRg+8t67quo4eA/+wvt7f7OLMnu9mF6IwMe+B9zqXKX3p2E7Dyi0SbFRhch//AAEgSMACSBAyAJAEDIEnAAEgSMACSBAyApN2cA4NRnM2C67ACAyBJwABIEjAAkgQMgCQBAyBJwABIEjAAkgQMgCQBAyBJwABIEjAAkgQMgCQBAyBJwABIEjAAkgQMgCQBAyBJwABIEjAAkgQMgCQBAyBJwABIEjAAkgQMgCQBAyBJwABIEjAAkgQMgCQBAyBJwABIEjAAkgQMgCQBAyBJwABIEjAAkgQMgCQBAyBJwABIEjAAkgQMgCQBAyBJwABIEjAAkgQMgCQBAyBJwABIEjAAkgQMgCQBAyBJwABIEjAAkgQMgCQBAyBJwABIEjAAkgQMgCQBAyBJwABIEjAAkgQMgCQBAyBJwABIEjAAkgQMgCQBAyBJwABIEjAAkgQMgCQBAyBJwABIEjAAkgQMgCQBAyBJwABIEjAAkgQMgCQBAyBJwABIEjAAkgQMgCQBAyDpHeDaNH39XL0sAAAAAElFTkSuQmCC\"\n",
              "  frames[41] = \"data:image/png;base64,iVBORw0KGgoAAAANSUhEUgAAAbAAAAEgCAYAAADVKCZpAAAABHNCSVQICAgIfAhkiAAAAAlwSFlzAAALEgAACxIB0t1+/AAAADl0RVh0U29mdHdhcmUAbWF0cGxvdGxpYiB2ZXJzaW9uIDMuMC4zLCBodHRwOi8vbWF0cGxvdGxpYi5vcmcvnQurowAABO9JREFUeJzt3dFNwlAAQFFrWMI5dAzngJlgDsfQORyjfiICETTYXnvOHw0kL6Hl8tLXvGEcx/EOAGLupx4AAPyEgAGQJGAAJAkYAEkCBkCSgAGQJGAAJAkYAEkCBkCSgAGQJGAAJAkYAEkCBkCSgAGQJGAAJAkYAEkCBkCSgAGQJGAAJAkYAEkCBkCSgAGQJGAAJAkYAEkCBkCSgAGQJGAAJAkYAEkCBkCSgAGQJGAAJAkYAEkCBkCSgAGQJGAAJAkYAEkCBkCSgAGQJGAAJAkYAEkCBkCSgAGQJGAAJAkYAEkCBkCSgAGQJGAAJAkYAEkCBkCSgAGQJGAAJAkYAEkCBkCSgAGQJGAAJAkYAEkCBkCSgAGQJGAAJAkYAEkCBkCSgAGQJGAAJAkYAEkCBkCSgAGQJGAAJAkYAEkCBkCSgAGQJGAAJAkYAEkCBkCSgAGQJGAAJAkYAEkCBkCSgAGQJGAAJAkYAEkCBkCSgAGQJGAAJAkYAEkCBkCSgAGQJGAAJAkYAEkCBkCSgAGQJGAAJAkYAEkCBkCSgAGQJGAAJAkYAEkCBkCSgAGQJGAAJAkYAEkCBkCSgAGQJGAAJAkYAEkCBkCSgAGQJGAAJAkYAEkCBkCSgAGQJGAAJAkYAEkCBkCSgAGQJGAAJAkYAEkCBkCSgAGQJGAAJAkYAEkCBkCSgAGQJGAAJAkYAEkCBkCSgAGQJGAAJK2mHgBw3ttuc3Tscb2dYCQwP2ZgACQJGABJAgZAkoABkCRgACQJGMzUqRWIwJ6AAZAkYAAkCRgASQIGQJKAAZAkYAAkCRgASQIGQJKAAZAkYBBiLzDYEzAAkgQMgCQBAyBJwABIEjAAkgQMgCQBAyBJwGCG7MYM3xMwAJIEDIAkAQMgScAASBIwAJIEDIAkAQMgScAASBIwAJIEDCLsxgyHBAyAJAEDIEnAAEgSMACSBAyAJAEDIEnAAEgSMACSBAxm5m23mXoIkCBgACQJGABJAgZAkoABkCRgACQJGABJAgZAkoABkCRgEGA3ZjgmYAAkCRgASQIGQJKAAZAkYAAkCRgASQIGQJKAAZA0jOM4Tj0I+M+GYbj4va/b9dGxp83u4s+7nFkSMzAAklZTDwA49PK+n4U9P1w++4KlMQODGfkcr1OvgT0BAyBJwABIEjCYka/3vNwDg/Mso4cbu2YZ/W+5nFmSxaxC/MsfEZiK85xrlf/0LCZg5S+JNjMwuA33wABIEjAAkgQMgCQBAyBJwABIEjAAkgQMgKTFPAcGU/FsFtyGGRgASQIGQJKAAZAkYAAkCRgASQIGQJKAAZAkYAAkCRgASQIGQJKAAZAkYAAkCRgASQIGQJKAAZAkYAAkCRgASQIGQJKAAZAkYAAkCRgASQIGQJKAAZAkYAAkCRgASQIGQJKAAZAkYAAkCRgASQIGQJKAAZAkYAAkCRgASQIGQJKAAZAkYAAkCRgASQIGQJKAAZAkYAAkCRgASQIGQJKAAZAkYAAkCRgASQIGQJKAAZAkYAAkCRgASQIGQJKAAZAkYAAkCRgASQIGQJKAAZAkYAAkCRgASQIGQJKAAZAkYAAkCRgASQIGQJKAAZAkYAAkCRgASQIGQJKAAZAkYAAkCRgASQIGQJKAAZAkYAAkCRgASQIGQJKAAZAkYAAkCRgASQIGQJKAAZAkYAAkCRgASR+Z7Tg5qOJUeQAAAABJRU5ErkJggg==\"\n",
              "  frames[42] = \"data:image/png;base64,iVBORw0KGgoAAAANSUhEUgAAAbAAAAEgCAYAAADVKCZpAAAABHNCSVQICAgIfAhkiAAAAAlwSFlzAAALEgAACxIB0t1+/AAAADl0RVh0U29mdHdhcmUAbWF0cGxvdGxpYiB2ZXJzaW9uIDMuMC4zLCBodHRwOi8vbWF0cGxvdGxpYi5vcmcvnQurowAABPBJREFUeJzt3dtJA0EAQFFXbMI6tAzrMG2kDa3DMrQOy1g/AmqIwRdx57rnQCDsRxjIhptJZphpnuf5DABizpceAAD8hIABkCRgACQJGABJAgZAkoABkCRgACQJGABJAgZAkoABkCRgACQJGABJAgZAkoABkCRgACQJGABJAgZAkoABkCRgACQJGABJAgZAkoABkCRgACQJGABJAgZAkoABkCRgACQJGABJAgZAkoABkCRgACQJGABJAgZAkoABkCRgACQJGABJAgZAkoABkCRgACQJGABJAgZAkoABkCRgACQJGABJAgZAkoABkCRgACQJGABJAgZAkoABkCRgACQJGABJAgZAkoABkCRgACQJGABJAgZAkoABkCRgACQJGABJAgZAkoABkCRgACQJGABJAgZAkoABkCRgACQJGABJAgZAkoABkCRgACQJGABJAgZAkoABkCRgACQJGABJAgZAkoABkCRgACQJGABJAgZAkoABkCRgACQJGABJAgZAkoABkCRgACQJGABJAgZAkoABkCRgACQJGABJAgZAkoABkCRgACQJGABJAgZAkoABkCRgACQJGABJAgZAkoABkCRgACQJGABJAgZAkoABkCRgACQJGABJAgZAkoABkCRgACQJGABJAgZAkoABkCRgACQJGABJAgZAkoABkCRgACQJGABJAgZAkoABkCRgACQJGABJAgZAkoABkCRgACRdLD0A4Lin+82H169u7/54JDAeMzAAkgQMgCQBAyBJwABIEjAAkgQMgCQBgxhL6GFHwABIEjAAkgQMgCQBAyBJwABIEjAAkgQMgCQBg0EdO0oF2BEwAJIEDIAkAQMgScAASBIwAJIEDIAkAQMgScAgxFlg8EbAAEgSMACSBAyAJAEDIEnAAEgSMACSBAyAJAGDATkLDD4nYAAkCRgASQIGQJKAAZAkYAAkCRgASQIGQJKAAZAkYBDhMEvYJ2AAJAkYAEkCBkCSgAGQJGAAJAkYAEkCBkCSgMFgHGYJXyNgACQJGABJAgZAkoABkCRgACQJGABJAgZAkoBBgLPA4JCAAZAkYAAkCRgASQIGQJKAwYlN0/Stx29eA9ZEwABIulh6AMC+h+fb1+c3l/cLjgTGZgYGA3sfM2CfgMFAttvHg2vXG7Mw+IiAwUD8ZAhfJ2AwMEGD46Z5nuelBwH/2V8ub/dxZk1WswrRHhnWwH3Od5W/9KwmYOU3iTYzMDgN/4EBkCRgACQJGABJAgZAkoABkCRgACQJGABJq9kHBkuxNwtOwwwMgCQBAyBJwABIEjAAkgQMgCQBAyBJwABIEjAAkgQMgCQBAyBJwABIEjAAkgQMgCQBAyBJwABIEjAAkgQMgCQBAyBJwABIEjAAkgQMgCQBAyBJwABIEjAAkgQMgCQBAyBJwABIEjAAkgQMgCQBAyBJwABIEjAAkgQMgCQBAyBJwABIEjAAkgQMgCQBAyBJwABIEjAAkgQMgCQBAyBJwABIEjAAkgQMgCQBAyBJwABIEjAAkgQMgCQBAyBJwABIEjAAkgQMgCQBAyBJwABIEjAAkgQMgCQBAyBJwABIEjAAkgQMgCQBAyBJwABIEjAAkgQMgCQBAyBJwABIEjAAkgQMgCQBAyBJwABIEjAAkgQMgCQBAyBJwABIEjAAkgQMgCQBAyBJwABIEjAAkgQMgKQXj54wsqx9CpcAAAAASUVORK5CYII=\"\n",
              "  frames[43] = \"data:image/png;base64,iVBORw0KGgoAAAANSUhEUgAAAbAAAAEgCAYAAADVKCZpAAAABHNCSVQICAgIfAhkiAAAAAlwSFlzAAALEgAACxIB0t1+/AAAADl0RVh0U29mdHdhcmUAbWF0cGxvdGxpYiB2ZXJzaW9uIDMuMC4zLCBodHRwOi8vbWF0cGxvdGxpYi5vcmcvnQurowAABPNJREFUeJzt3dFNwlAAQFFrWMI5dAzn0DVYQ+ZwDJ3DMeoHiUYhCEporz0nISFNIC+B5tK+ljeM4zheAUDM9dQDAIDfEDAAkgQMgCQBAyBJwABIEjAAkgQMgCQBAyBJwABIEjAAkgQMgCQBAyBJwABIEjAAkgQMgCQBAyBJwABIEjAAkgQMgCQBAyBJwABIEjAAkgQMgCQBAyBJwABIEjAAkgQMgCQBAyBJwABIEjAAkgQMgCQBAyBJwABIEjAAkgQMgCQBAyBJwABIEjAAkgQMgCQBAyBJwABIEjAAkgQMgCQBAyBJwABIEjAAkgQMgCQBAyBJwABIEjAAkgQMgCQBAyBJwABIEjAAkgQMgCQBAyBJwABIEjAAkgQMgCQBAyBJwABIEjAAkgQMgCQBAyBJwABIEjAAkgQMgCQBAyBJwABIEjAAkgQMgCQBAyBJwABIEjAAkgQMgCQBAyBJwABIEjAAkgQMgCQBAyBJwABIEjAAkgQMgCQBAyBJwABIEjAAkgQMgCQBAyBJwABIEjAAkgQMgCQBAyBJwABIEjAAkgQMgCQBAyBJwABIEjAAkgQMgCQBAyBJwABIEjAAkgQMgCQBAyBJwABIEjAAkgQMgCQBAyBJwABIEjAAkgQMgCQBAyBJwABIEjAAkgQMgCQBAyBJwABIEjAAkgQMgCQBAyBJwABIEjAAkgQMgCQBAyBJwABIEjAAkgQMgKTV1AMADnvdPO5su314mmAkMC+OwABIEjAAkgQMgCQBAyBJwABIEjCYsX1XIAJbAgZAkoABkCRgACQJGABJAgZAkoABkCRgACQJGMT4J3rYEjAAkgQMgCQBAyBJwABIEjAAkgQMgCQBAyBJwABIEjCYKYtZwmECBkCSgAGQJGAAJAkYAEkCBkCSgAGQJGAAJAkYhFjMEj4JGABJAgZAkoABkCRgACQJGABJAgZAkoABkCRgMEPWAoOfCRgASQIGQJKAAZAkYAAkCRgASQIGQJKAAZAkYAAkCRhEWMwSvhIwAJIEDIAkAQMgScAASBIwAJIEDIAkAYOZsRYYHEfAAEgSMACSBAyAJAEDIEnAAEgSMLiAYRiOfvz1PWApBAyApNXUAwB2Pb89fDy/v9lMOBKYr2Ecx3HqQcB/d8qpvfX6Zc+2u6Nfb5dmKZxCBCBJwABIEjCYme9zXubAYD9zYHABl7y83S7NUizmKkT3x7AUvuucovyDZzEBK39I9DkCg/MzBwZAkoABkCRgACQJGABJAgZAkoABkCRgACQt5j4wmJJ7s+D8HIEBkCRgACQJGABJAgZAkoABkCRgACQJGABJAgZAkoABkCRgACQJGABJAgZAkoABkCRgACQJGABJAgZAkoABkCRgACQJGABJAgZAkoABkCRgACQJGABJAgZAkoABkCRgACQJGABJAgZAkoABkCRgACQJGABJAgZAkoABkCRgACQJGABJAgZAkoABkCRgACQJGABJAgZAkoABkCRgACQJGABJAgZAkoABkCRgACQJGABJAgZAkoABkCRgACQJGABJAgZAkoABkCRgACQJGABJAgZAkoABkCRgACQJGABJAgZAkoABkCRgACQJGABJAgZAkoABkCRgACQJGABJAgZAkoABkCRgACQJGABJAgZAkoABkCRgACQJGABJAgZAkoABkCRgACQJGABJAgZAkoABkPQOEcc2RO13nVgAAAAASUVORK5CYII=\"\n",
              "  frames[44] = \"data:image/png;base64,iVBORw0KGgoAAAANSUhEUgAAAbAAAAEgCAYAAADVKCZpAAAABHNCSVQICAgIfAhkiAAAAAlwSFlzAAALEgAACxIB0t1+/AAAADl0RVh0U29mdHdhcmUAbWF0cGxvdGxpYiB2ZXJzaW9uIDMuMC4zLCBodHRwOi8vbWF0cGxvdGxpYi5vcmcvnQurowAABPJJREFUeJzt3d1NwlAAgFFqXMI5dAzmwJlkDtdwDseoDyb+ACIqof3sOQkJ8EBuUsjHhdveYRzHcQUAMVdTDwAAfkPAAEgSMACSBAyAJAEDIEnAAEgSMACSBAyAJAEDIEnAAEgSMACSBAyAJAEDIEnAAEgSMACSBAyAJAEDIEnAAEgSMACSBAyAJAEDIEnAAEgSMACSBAyAJAEDIEnAAEgSMACSBAyAJAEDIEnAAEgSMACSBAyAJAEDIEnAAEgSMACSBAyAJAEDIEnAAEgSMACSBAyAJAEDIEnAAEgSMACSBAyAJAEDIEnAAEgSMACSBAyAJAEDIEnAAEgSMACSBAyAJAEDIEnAAEgSMACSBAyAJAEDIEnAAEgSMACSBAyAJAEDIEnAAEgSMACSBAyAJAEDIEnAAEgSMACSBAyAJAEDIEnAAEgSMACSBAyAJAEDIEnAAEgSMACSBAyAJAEDIEnAAEgSMACSBAyAJAEDIEnAAEgSMACSBAyAJAEDIEnAAEgSMACSBAyAJAEDIEnAAEgSMACSBAyAJAEDIEnAAEgSMACSBAyAJAEDIEnAAEgSMACSBAyAJAEDIEnAAEgSMACSBAyAJAEDIEnAAEgSMACSBAyAJAEDIEnAAEgSMACSBAyAJAEDIEnAAEgSMACSBAyAJAEDIEnAAEgSMACSBAyAJAEDIEnAAEgSMACSBAyAJAEDIEnAAEgSMACSrqceAHDc0/b+4PO3m4cLjwTmxQwMgCQBAyBJwABIEjAAkgQMgCQBAyBJwCDIEnoQMACiBAyAJAEDIEnAAEgSMACSBAyAJAGDGfvqSvSAgAEQJWAAJAkYAEkCBkCSgAGQJGAAJAkYAEkCBkCSgEGMvcDglYABkCRgACQJGABJAgZAkoABkCRgACQJGMyUvcDgOAEDIEnAAEgSMACSBAyAJAEDIEnAAEgSMAhxJXp4J2AAJAkYAEkCBkCSgAGQJGAAJAkYAEkCBjPkSvTwPQEDIEnAAEgSMACSBAyAJAEDIEnAAEgSMACSBAwibKUCnwkYAEkCBkCSgAGQJGAAJAkYAEkCBkCSgAGQJGAwM/YCg9MIGFzAMAwn3/76GrAUAgZA0vXUAwD2PT5v3u6vb7YTjgTmywwMZuZjvA49Bl4JGASIGOwTMAjwMyLsEzCYmd1YrW+2q7t7AYNdwziO49SDgP/uksvbfaRZisWsQnR+DEvhvc5PlL/wLCZg5YNEnxkYnJ//wABIEjAAkgQMgCQBAyBJwABIEjAAkgQMgKTFnAcGU3JuFpyfGRgASQIGQJKAAZAkYAAkCRgASQIGQJKAAZAkYAAkCRgASQIGQJKAAZAkYAAkCRgASQIGQJKAAZAkYAAkCRgASQIGQJKAAZAkYAAkCRgASQIGQJKAAZAkYAAkCRgASQIGQJKAAZAkYAAkCRgASQIGQJKAAZAkYAAkCRgASQIGQJKAAZAkYAAkCRgASQIGQJKAAZAkYAAkCRgASQIGQJKAAZAkYAAkCRgASQIGQJKAAZAkYAAkCRgASQIGQJKAAZAkYAAkCRgASQIGQJKAAZAkYAAkCRgASQIGQJKAAZAkYAAkCRgASQIGQJKAAZAkYAAkCRgASQIGQJKAAZAkYAAkCRgASQIGQJKAAZAkYAAkCRgASQIGQJKAAZAkYAAkCRgASQIGQJKAAZAkYAAkCRgASS/QbzWyhM8exgAAAABJRU5ErkJggg==\"\n",
              "  frames[45] = \"data:image/png;base64,iVBORw0KGgoAAAANSUhEUgAAAbAAAAEgCAYAAADVKCZpAAAABHNCSVQICAgIfAhkiAAAAAlwSFlzAAALEgAACxIB0t1+/AAAADl0RVh0U29mdHdhcmUAbWF0cGxvdGxpYiB2ZXJzaW9uIDMuMC4zLCBodHRwOi8vbWF0cGxvdGxpYi5vcmcvnQurowAABOxJREFUeJzt3W1KAkEAgOE2ukTn6Bqdo86k5+gYdY6Osf0I+tJSotx53ecBQQVhQOV1mB1nmud5vgCAmMulBwAAvyFgACQJGABJAgZAkoABkCRgACQJGABJAgZAkoABkCRgACQJGABJAgZAkoABkCRgACQJGABJAgZAkoABkCRgACQJGABJAgZAkoABkCRgACQJGABJAgZAkoABkCRgACQJGABJAgZAkoABkCRgACQJGABJAgZAkoABkCRgACQJGABJAgZAkoABkCRgACQJGABJAgZAkoABkCRgACQJGABJAgZAkoABkCRgACQJGABJAgZAkoABkCRgACQJGABJAgZAkoABkCRgACQJGABJAgZAkoABkCRgACQJGABJAgZAkoABkCRgACQJGABJAgZAkoABkCRgACQJGABJAgZAkoABkCRgACQJGABJAgZAkoABkCRgACQJGABJAgZAkoABkCRgACQJGABJAgZAkoABkCRgACQJGABJAgZAkoABkCRgACQJGABJAgZAkoABkCRgACQJGABJAgZAkoABkCRgACQJGABJAgZAkoABkCRgACQJGABJAgZAkoABkCRgACQJGABJAgZAkoABkCRgACQJGABJAgZAkoABkCRgACQJGABJAgZAkoABkCRgACQJGABJAgZAkoABkCRgACQJGABJAgZAkoABkCRgACQJGABJAgZAkoABkCRgACQJGABJV0sPADjsaXu/89zN3WaBkcA4zMAASBIwAJIEDIAkAQMgScAASBIwAJIEDAa37xJ6QMAAiBIwAJIEDIAkAQMgScAASBIwAJIEDIAkAYMgR6mAgAEQJWAAJAkYAEkCBkCSgAGQJGAAJAkYDMxRKvA9AQMgScAASBIwAJIEDIAkAQMgScAASBIwAJIEDGIcpQKvBAyAJAEDIEnAAEgSMACSBAyAJAEDIEnAYFCOUoGfCRgASQIGQJKAAZAkYAAkCRgASQIGQJKAQYh/ood3AgZAkoABkCRgACQJGABJAgZAkoABkCRgACQJGAzIUSpwmIABkCRgACQJGABJAgZAkoABkCRgACQJGEQ4SgU+EzAAkgQMTmSapqNv//F6ODcCBkDS1dIDAPZ7eL57u397vV1wJDAmMzAY0Md47XsMCBgAUQIGg3ncmG3BMQQMBvR1zcsaGOya5nmelx4ErMEpL2/3tWYNVnMVor0xrInPO8cq/9hZTcDKbxLnwQwM/pY1MACSBAyAJAEDIEnAAEgSMACSBAyAJAEDIGk1+8BgafZmwd8yAwMgScAASBIwAJIEDIAkAQMgScAASBIwAJIEDIAkAQMgScAASBIwAJIEDIAkAQMgScAASBIwAJIEDIAkAQMgScAASBIwAJIEDIAkAQMgScAASBIwAJIEDIAkAQMgScAASBIwAJIEDIAkAQMgScAASBIwAJIEDIAkAQMgScAASBIwAJIEDIAkAQMgScAASBIwAJIEDIAkAQMgScAASBIwAJIEDIAkAQMgScAASBIwAJIEDIAkAQMgScAASBIwAJIEDIAkAQMgScAASBIwAJIEDIAkAQMgScAASBIwAJIEDIAkAQMgScAASBIwAJIEDIAkAQMgScAASBIwAJIEDIAkAQMgScAASBIwAJIEDIAkAQMgScAASBIwAJIEDIAkAQMgScAASBIwAJIEDIAkAQMg6QVnFjNLd4bQMwAAAABJRU5ErkJggg==\"\n",
              "  frames[46] = \"data:image/png;base64,iVBORw0KGgoAAAANSUhEUgAAAbAAAAEgCAYAAADVKCZpAAAABHNCSVQICAgIfAhkiAAAAAlwSFlzAAALEgAACxIB0t1+/AAAADl0RVh0U29mdHdhcmUAbWF0cGxvdGxpYiB2ZXJzaW9uIDMuMC4zLCBodHRwOi8vbWF0cGxvdGxpYi5vcmcvnQurowAABOtJREFUeJzt3d1NwlAAgFFrWMI5XMM5cCaYwzF0DseoDz4YBExVQvvRcx6bhtyEn4+be5s7jOM43gFAzP3cAwCAvxAwAJIEDIAkAQMgScAASBIwAJIEDIAkAQMgScAASBIwAJIEDIAkAQMgScAASBIwAJIEDIAkAQMgScAASBIwAJIEDIAkAQMgScAASBIwAJIEDIAkAQMgScAASBIwAJIEDIAkAQMgScAASBIwAJIEDIAkAQMgScAASBIwAJIEDIAkAQMgScAASBIwAJIEDIAkAQMgScAASBIwAJIEDIAkAQMgScAASBIwAJIEDIAkAQMgScAASBIwAJIEDIAkAQMgScAASBIwAJIEDIAkAQMgScAASBIwAJIEDIAkAQMgScAASBIwAJIEDIAkAQMgScAASBIwAJIEDIAkAQMgScAASBIwAJIEDIAkAQMgScAASBIwAJIEDIAkAQMgScAASBIwAJIEDIAkAQMgScAASBIwAJIEDIAkAQMgScAASBIwAJIEDIAkAQMgScAASBIwAJIEDIAkAQMgScAASBIwAJIEDIAkAQMgScAASBIwAJIEDIAkAQMgScAASBIwAJIEDIAkAQMgScAASBIwAJIEDIAkAQMgScAASBIwAJIEDIAkAQMgScAASBIwAJIEDIAkAQMgScAASBIwAJIEDIAkAQMgScAASBIwAJIEDIAkAQMgScAASBIwAJIEDICkzdwDAKZ52z8fXXvc7mYYCSyDGRgASQIGQJKAAZAkYAAkCRgASQIGQJKAQYAt9HBMwABIEjAAkgQMgCQBAyBJwABIEjAAkgQMgCQBg4U79QwYIGAARAkYAEkCBkCSgAGQJGAAJAkYAEkCBkCSgEGQs8BAwACIEjAAkgQMgCQBAyBJwABIEjAAkgQMFsxRKnCegAGQJGAAJAkYAEkCBkCSgAGQJGAAJAkYAEkCBjGOUoFPAgZAkoABkCRgACQJGABJAgZAkoABkCRgACQJGCyUs8DgZwIGQJKAAZAkYAAkCRgASQIGQJKAAZAkYAAkCRiEOAsMvggYAEkCBkCSgAGQJGAAJAkYAEkCBkDSZu4BwFoMwzD53tfd9t+vMY7j5HuhyAwMgCQzMFiol/fDWdjTw36mkcAymYHBAn2P17lrsGYCBkCSgAGQJGCwQKfWu6yBwaFhtNcWruI3W+AvwVebW7eaXYjX/vGAufnMM0X5j85qAlZ+k7gNZmBwWdbAAEgSMACSBAyAJAEDIEnAAEgSMACSBAyApNU8BwZz81wWXJYZGABJAgZAkoABkCRgACQJGABJAgZAkoABkCRgACQJGABJAgZAkoABkCRgACQJGABJAgZAkoABkCRgACQJGABJAgZAkoABkCRgACQJGABJAgZAkoABkCRgACQJGABJAgZAkoABkCRgACQJGABJAgZAkoABkCRgACQJGABJAgZAkoABkCRgACQJGABJAgZAkoABkCRgACQJGABJAgZAkoABkCRgACQJGABJAgZAkoABkCRgACQJGABJAgZAkoABkCRgACQJGABJAgZAkoABkCRgACQJGABJAgZAkoABkCRgACQJGABJAgZAkoABkCRgACQJGABJAgZAkoABkCRgACQJGABJAgZAkoABkCRgACQJGABJAgZAkoABkCRgACQJGABJAgZAkoABkCRgACQJGABJH6A2Ng4kc55wAAAAAElFTkSuQmCC\"\n",
              "  frames[47] = \"data:image/png;base64,iVBORw0KGgoAAAANSUhEUgAAAbAAAAEgCAYAAADVKCZpAAAABHNCSVQICAgIfAhkiAAAAAlwSFlzAAALEgAACxIB0t1+/AAAADl0RVh0U29mdHdhcmUAbWF0cGxvdGxpYiB2ZXJzaW9uIDMuMC4zLCBodHRwOi8vbWF0cGxvdGxpYi5vcmcvnQurowAABOtJREFUeJzt3WFKAkEAgNE2vETnqGN0Dj1TnqNrdI6OMf0IolJDStr93PdAUEEYWOVzmB1mGmOMGwCIuZ17AADwGwIGQJKAAZAkYAAkCRgASQIGQJKAAZAkYAAkCRgASQIGQJKAAZAkYAAkCRgASQIGQJKAAZAkYAAkCRgASQIGQJKAAZAkYAAkCRgASQIGQJKAAZAkYAAkCRgASQIGQJKAAZAkYAAkCRgASQIGQJKAAZAkYAAkCRgASQIGQJKAAZAkYAAkCRgASQIGQJKAAZAkYAAkCRgASQIGQJKAAZAkYAAkCRgASQIGQJKAAZAkYAAkCRgASQIGQJKAAZAkYAAkCRgASQIGQJKAAZAkYAAkCRgASQIGQJKAAZAkYAAkCRgASQIGQJKAAZAkYAAkCRgASQIGQJKAAZAkYAAkCRgASQIGQJKAAZAkYAAkCRgASQIGQJKAAZAkYAAkCRgASQIGQJKAAZAkYAAkCRgASQIGQJKAAZAkYAAkCRgASQIGQJKAAZAkYAAkCRgASQIGQJKAAZAkYAAkCRgASQIGQJKAAZAkYAAkCRgASQIGQJKAAZAkYAAkCRgASQIGQJKAAZAkYAAkCRgASQIGQJKAAZAkYAAkCRgASQIGQJKAAZAkYAAkCRgASQIGQJKAAZAkYAAkCRgASQIGQJKAAZAkYAAkCRgASQIGQJKAAZAkYAAkCRgASQIGQJKAAZC0mXsAwPle9ruD9+63TzOMBOZnBgYRx+IFayZgACQJGABJAgZAkoABkCRgACQJGABJAgZh9oCxZgIGQJKAAZAkYAAkCRgASQIGQJKAAZAkYAAkCRgEOAcMDgkYAEkCBkCSgAGQJGAAJAkYAEkCBkCSgMHCHbuFHhAwAKIEDIAkAQMgScAASBIwAJIEDIAkAQMgScAgyFEqIGAARAkYAEkCBkCSgAGQJGAAJAkYAEkCBgvmKBU4TcAASBIwAJIEDIAkAQMgScAASBIwAJIEDIAkAYMYR6nAOwEDIEnAAEgSMACSBAyAJAEDIEnAAEgSMFgoR6nAzwQMgCQBAyBJwABIEjAAkgQMgCQBAyBJwABIEjD4R9M0nf045mG3/9Pn4ZoIGABJm7kHAJz2/Lr9eP54t59xJLA8ZmCwUJ/jdew1rJ2AAZAkYAAkCRgs1Pc1L2tg8NU0xhhzDwLW4j9vb/fT5tqt5i5E+2JYG995zlH+o7OagJUvEtfDDAwuxxoYAEkCBkCSgAGQJGAAJAkYAEkCBkCSgAGQtJp9YLAE9mbB5ZiBAZAkYAAkCRgASQIGQJKAAZAkYAAkCRgASQIGQJKAAZAkYAAkCRgASQIGQJKAAZAkYAAkCRgASQIGQJKAAZAkYAAkCRgASQIGQJKAAZAkYAAkCRgASQIGQJKAAZAkYAAkCRgASQIGQJKAAZAkYAAkCRgASQIGQJKAAZAkYAAkCRgASQIGQJKAAZAkYAAkCRgASQIGQJKAAZAkYAAkCRgASQIGQJKAAZAkYAAkCRgASQIGQJKAAZAkYAAkCRgASQIGQJKAAZAkYAAkCRgASQIGQJKAAZAkYAAkCRgASQIGQJKAAZAkYAAkCRgASQIGQJKAAZAkYAAkCRgASQIGQJKAAZAkYAAkCRgASQIGQJKAAZAkYAAkCRgASQIGQJKAAZAkYAAkCRgASQIGQJKAAZD0BqcDNIAS35rRAAAAAElFTkSuQmCC\"\n",
              "  frames[48] = \"data:image/png;base64,iVBORw0KGgoAAAANSUhEUgAAAbAAAAEgCAYAAADVKCZpAAAABHNCSVQICAgIfAhkiAAAAAlwSFlzAAALEgAACxIB0t1+/AAAADl0RVh0U29mdHdhcmUAbWF0cGxvdGxpYiB2ZXJzaW9uIDMuMC4zLCBodHRwOi8vbWF0cGxvdGxpYi5vcmcvnQurowAABO1JREFUeJzt3d1NAkEYQFHX0IR12IZ1YE1Qh2VoHZaxPvhgNIB/hN3LnJPwsg/kS4BcBnYy0zzP8w0AxNwuPQAA/IWAAZAkYAAkCRgASQIGQJKAAZAkYAAkCRgASQIGQJKAAZAkYAAkCRgASQIGQJKAAZAkYAAkCRgASQIGQJKAAZAkYAAkCRgASQIGQJKAAZAkYAAkCRgASQIGQJKAAZAkYAAkCRgASQIGQJKAAZAkYAAkCRgASQIGQJKAAZAkYAAkCRgASQIGQJKAAZAkYAAkCRgASQIGQJKAAZAkYAAkCRgASQIGQJKAAZAkYAAkCRgASQIGQJKAAZAkYAAkCRgASQIGQJKAAZAkYAAkCRgASQIGQJKAAZAkYAAkCRgASQIGQJKAAZAkYAAkCRgASQIGQJKAAZAkYAAkCRgASQIGQJKAAZAkYAAkCRgASQIGQJKAAZAkYAAkCRgASQIGQJKAAZAkYAAkCRgASQIGQJKAAZAkYAAkCRgASQIGQJKAAZAkYAAkCRgASQIGQJKAAZAkYAAkCRgASQIGQJKAAZAkYAAkCRgASQIGQJKAAZAkYAAkCRgASQIGQJKAAZAkYAAkCRgASQIGQJKAAZAkYAAkCRgASQIGQJKAAZAkYAAkCRgASQIGQJKAAZAkYAAkCRgASQIGQJKAAZAkYAAkCRgASQIGQJKAAZAkYAAkCRgASQIGQJKAAZAkYAAkbZYeAPi5l/3jwev3292FJ4HlWYFBnHgxKgEDIEnAAEgSMACSBAyAJAEDIEnAAEgSMIg4tgcMRiVgACQJGABJAgZAkoABkCRgACQJGABJAgZAkoABkCRgEOYsMEYmYAAkCRgASQIGQJKAAZAkYAAkCRgASQIGAYfOAnMLPaMTMACSBAyAJAEDIEnAAEgSMACSBAyAJAEDIEnAYOUO7QEDBAyAKAEDIEnAAEgSMACSBAyAJAEDIEnAAEgSMAhyFhgIGABRAgZAkoABkCRgACQJGABJAgZAkoABkCRgsGLOAoPjBAyAJAEDIEnAAEgSMACSBAyAJAEDIEnAIMZRKvBOwABIEjAAkgQMgCQBAyBJwABIEjC4oGmafvX473PANRMwAJI2Sw8AHPa82948vW4/XXu42y80DayPFRiEfA0ajEzAYKXECk4TMFgpPxfCaQIGIaIGH6Z5nuelh4BRXPrWdh9vrtkwdyHaE8OIvO/5TvlLzjABK79IXA8rMDgf/4EBkCRgACQJGABJAgZAkoABkCRgACQJGABJw+wDgzWwLwvOxwoMgCQBAyBJwABIEjAAkgQMgCQBAyBJwABIEjAAkgQMgCQBAyBJwABIEjAAkgQMgCQBAyBJwABIEjAAkgQMgCQBAyBJwABIEjAAkgQMgCQBAyBJwABIEjAAkgQMgCQBAyBJwABIEjAAkgQMgCQBAyBJwABIEjAAkgQMgCQBAyBJwABIEjAAkgQMgCQBAyBJwABIEjAAkgQMgCQBAyBJwABIEjAAkgQMgCQBAyBJwABIEjAAkgQMgCQBAyBJwABIEjAAkgQMgCQBAyBJwABIEjAAkgQMgCQBAyBJwABIEjAAkgQMgCQBAyBJwABIEjAAkgQMgCQBAyBJwABIEjAAkgQMgCQBAyBJwABIEjAAkgQMgCQBAyBJwABIEjAAkgQMgCQBAyBJwABIEjAAkgQMgKQ3LeI0gGXpitgAAAAASUVORK5CYII=\"\n",
              "  frames[49] = \"data:image/png;base64,iVBORw0KGgoAAAANSUhEUgAAAbAAAAEgCAYAAADVKCZpAAAABHNCSVQICAgIfAhkiAAAAAlwSFlzAAALEgAACxIB0t1+/AAAADl0RVh0U29mdHdhcmUAbWF0cGxvdGxpYiB2ZXJzaW9uIDMuMC4zLCBodHRwOi8vbWF0cGxvdGxpYi5vcmcvnQurowAABO5JREFUeJzt3dtNAkEAQFHX0IR1aBnWATVJHbZhHZaxfvnGN3H3MuckJMAHmWQhl8nu7EzzPM9nABBzvvQAAOA3BAyAJAEDIEnAAEgSMACSBAyAJAEDIEnAAEgSMACSBAyAJAEDIEnAAEgSMACSBAyAJAEDIEnAAEgSMACSBAyAJAEDIEnAAEgSMACSBAyAJAEDIEnAAEgSMACSBAyAJAEDIEnAAEgSMACSBAyAJAEDIEnAAEgSMACSBAyAJAEDIEnAAEgSMACSBAyAJAEDIEnAAEgSMACSBAyAJAEDIEnAAEgSMACSBAyAJAEDIEnAAEgSMACSBAyAJAEDIEnAAEgSMACSBAyAJAEDIEnAAEgSMACSBAyAJAEDIEnAAEgSMACSBAyAJAEDIEnAAEgSMACSBAyAJAEDIEnAAEgSMACSBAyAJAEDIEnAAEgSMACSBAyAJAEDIEnAAEgSMACSBAyAJAEDIEnAAEgSMACSBAyAJAEDIEnAAEgSMACSBAyAJAEDIEnAAEgSMACSBAyAJAEDIEnAAEgSMACSBAyAJAEDIEnAAEgSMACSBAyAJAEDIEnAAEgSMACSBAyAJAEDIEnAAEgSMACSBAyAJAEDIEnAAEgSMACSBAyAJAEDIEnAAEgSMACSBAyAJAEDIEnAAEgSMACSBAyAJAEDIEnAAEgSMACSBAyAJAEDIEnAAEgSMACSBAyAJAEDIGmz9ACAn7nb7969d7m9WWAksCwzMACSBAxCDs2+YFQCBkCSgAGQJGAAJAkYAEkCBkCSgAGQJGAAJAkYxLkLB6MSMACSBAyAJAEDIEnAAEgSMACSBAyAJAEDIEnAIMJeYPCagAGQJGAAJAkYAEkCBkCSgAGQJGAAJAkYhNlKhZEJGABJAgZAkoABkCRgACQJGABJAgZAkoBBwKE70buEntEJGABJAgZAkoABkCRgACQJGABJAgZAkoABkCRgsHKH1oABAgZAlIABkCRgACQJGABJAgZAkoABkCRgACQJGATZCwwEDIAoAQMgScAASBIwAJIEDIAkAQMgScBgxWylAh8TMACSBAyAJAEDIEnAAEgSMACSBAz+2TRN33789TPglAkYxFzt9ksPAVZhs/QAgM/d3m+fnl9fiBc8MgODFXsZr0OvYWQCBkCSgAGQJGCwYm/PeTkHBs+meZ7npQcBI/nPy9v9vDllw1yFaE0MI/K95yvlPznDBKx8kDgtZmBwHM6BAZAkYAAkCRgASQIGQJKAAZAkYAAkCRgAScOsA4O1sDYLjsMMDIAkAQMgScAASBIwAJIEDIAkAQMgScAASBIwAJIEDIAkAQMgScAASBIwAJIEDIAkAQMgScAASBIwAJIEDIAkAQMgScAASBIwAJIEDIAkAQMgScAASBIwAJIEDIAkAQMgScAASBIwAJIEDIAkAQMgScAASBIwAJIEDIAkAQMgScAASBIwAJIEDIAkAQMgScAASBIwAJIEDIAkAQMgScAASBIwAJIEDIAkAQMgScAASBIwAJIEDIAkAQMgScAASBIwAJIEDIAkAQMgScAASBIwAJIEDIAkAQMgScAASBIwAJIEDIAkAQMgScAASBIwAJIEDIAkAQMgScAASBIwAJIEDIAkAQMgScAASBIwAJIEDIAkAQMgScAASBIwAJIEDIAkAQMgScAASBIwAJIEDICkB9HXNIAKRxtvAAAAAElFTkSuQmCC\"\n",
              "  frames[50] = \"data:image/png;base64,iVBORw0KGgoAAAANSUhEUgAAAbAAAAEgCAYAAADVKCZpAAAABHNCSVQICAgIfAhkiAAAAAlwSFlzAAALEgAACxIB0t1+/AAAADl0RVh0U29mdHdhcmUAbWF0cGxvdGxpYiB2ZXJzaW9uIDMuMC4zLCBodHRwOi8vbWF0cGxvdGxpYi5vcmcvnQurowAABPJJREFUeJzt3cFNAkEAQFHX0IR12IZ1YBu0IXVYhtZhGevBEwRIUMPuZ95LOMCBTALkM+wMM83zPD8AQMzj0gMAgN8QMACSBAyAJAEDIEnAAEgSMACSBAyAJAEDIEnAAEgSMACSBAyAJAEDIEnAAEgSMACSBAyAJAEDIEnAAEgSMACSBAyAJAEDIEnAAEgSMACSBAyAJAEDIEnAAEgSMACSBAyAJAEDIEnAAEgSMACSBAyAJAEDIEnAAEgSMACSBAyAJAEDIEnAAEgSMACSBAyAJAEDIEnAAEgSMACSBAyAJAEDIEnAAEgSMACSBAyAJAEDIEnAAEgSMACSBAyAJAEDIEnAAEgSMACSBAyAJAEDIEnAAEgSMACSBAyAJAEDIEnAAEgSMACSBAyAJAEDIEnAAEgSMACSBAyAJAEDIEnAAEgSMACSBAyAJAEDIEnAAEgSMACSBAyAJAEDIEnAAEgSMACSBAyAJAEDIEnAAEgSMACSBAyAJAEDIEnAAEgSMACSBAyAJAEDIEnAAEgSMACSBAyAJAEDIEnAAEgSMACSBAyAJAEDIEnAAEgSMACSBAyAJAEDIEnAAEgSMACSBAyAJAEDIEnAAEgSMACSBAyAJAEDIEnAAEgSMACSBAyAJAEDIEnAAEgSMACSBAyAJAEDIEnAAEgSMACSBAyAJAEDIEnAAEgSMACSBAyAJAEDIEnAAEgSMACSBAyApM3SAwCu87l/Pfn48/btxiOBZZmBAZAkYAAkCRgASQIGd8D1L0YkYAAkCRgASQIGQJKAAZAkYAAkCRgASQIGIef+RgpGJGAAJAkYAEkCBkCSgAGQJGAAJAkYAEkCBkCSgEGco1QYlYABkCRgACQJGABJAgZAkoABkCRgACQJGEQ4SgUOCRgASQIGQJKAAZAkYAAkCRgASQIGQJKAAZAkYAAkCRiEOQuMkQkYAEkCBkCSgAGQJGAAJAkYAEkCBkCSgEHAqbPALKFndAIGQJKAAZAkYAAkCRgASQIGQJKAAZAkYAAkCRis3Kk9YICAARAlYAAkCRgASQIGQJKAAZAkYAAkCRgASQIGQc4CAwEDIErAAEgSMLixaZquuv31OeBeCRgASZulBwBc9v61Pbj/8rRfaCSwLmZgEHMcNBiVgMGK7XYfSw8BVkvAYMX8XAjnCRis3HHERA1+TPM8z0sPAkZy66XtPuLcq2FWIdoPw6i897mk/AVnmICVXyTuixkY/A/XwABIEjAAkgQMgCQBAyBJwABIEjAAkgQMgKRh9oHBWtiXBf/DDAyAJAEDIEnAAEgSMACSBAyAJAEDIEnAAEgSMACSBAyAJAEDIEnAAEgSMACSBAyAJAEDIEnAAEgSMACSBAyAJAEDIEnAAEgSMACSBAyAJAEDIEnAAEgSMACSBAyAJAEDIEnAAEgSMACSBAyAJAEDIEnAAEgSMACSBAyAJAEDIEnAAEgSMACSBAyAJAEDIEnAAEgSMACSBAyAJAEDIEnAAEgSMACSBAyAJAEDIEnAAEgSMACSBAyAJAEDIEnAAEgSMACSBAyAJAEDIEnAAEgSMACSBAyAJAEDIEnAAEgSMACSBAyAJAEDIEnAAEgSMACSBAyAJAEDIEnAAEgSMACSBAyAJAEDIEnAAEgSMACSBAyAJAEDIEnAAEgSMACSBAyAJAEDIEnAAEgSMACSBAyApG90VzN/0cDdqgAAAABJRU5ErkJggg==\"\n",
              "  frames[51] = \"data:image/png;base64,iVBORw0KGgoAAAANSUhEUgAAAbAAAAEgCAYAAADVKCZpAAAABHNCSVQICAgIfAhkiAAAAAlwSFlzAAALEgAACxIB0t1+/AAAADl0RVh0U29mdHdhcmUAbWF0cGxvdGxpYiB2ZXJzaW9uIDMuMC4zLCBodHRwOi8vbWF0cGxvdGxpYi5vcmcvnQurowAABPBJREFUeJzt3e1Jw0AAgGEjXcI5dAznaGeyc7iGczhG/CH4WfwqmLy554FC2x/lIC1vj1xy0zzP8wUAxFwuPQAA+AsBAyBJwABIEjAAkgQMgCQBAyBJwABIEjAAkgQMgCQBAyBJwABIEjAAkgQMgCQBAyBJwABIEjAAkgQMgCQBAyBJwABIEjAAkgQMgCQBAyBJwABIEjAAkgQMgCQBAyBJwABIEjAAkgQMgCQBAyBJwABIEjAAkgQMgCQBAyBJwABIEjAAkgQMgCQBAyBJwABIEjAAkgQMgCQBAyBJwABIEjAAkgQMgCQBAyBJwABIEjAAkgQMgCQBAyBJwABIEjAAkgQMgCQBAyBJwABIEjAAkgQMgCQBAyBJwABIEjAAkgQMgCQBAyBJwABIEjAAkgQMgCQBAyBJwABIEjAAkgQMgCQBAyBJwABIEjAAkgQMgCQBAyBJwABIEjAAkgQMgCQBAyBJwABIEjAAkgQMgCQBAyBJwABIEjAAkgQMgCQBAyBJwABIEjAAkgQMgCQBAyBJwABIEjAAkgQMgCQBAyBJwABIEjAAkgQMgCQBAyBJwABIEjAAkgQMgCQBAyBJwABIEjAAkgQMgCQBAyBJwABIEjAAkgQMgCQBAyBJwABIEjAAkgQMgCQBAyBJwABIEjAAkgQMgCQBAyBJwABIEjAAkgQMgCQBAyBJwABIEjAAkgQMgCQBAyBJwABI2i09AOD3Ho6HT+9d7+8WGAksxwwMgCQBAyBJwABIEjAAkgQMgCQBg5hTKxBhRAIGQJKAAZAkYAAkCRgASQIGQJKAAZAkYLABbuTLiAQMgCQBAyBJwABIEjAAkgQMgCQBAyBJwCDEnejhlYABkCRgACQJGABJAgZAkoABkCRgACQJGABJAgZxtlJhVAIGQJKAAZAkYAAkCRgASQIGQJKAAZAkYBBhKxV4T8AASBIwAJIEDIAkAQMgScAASBIwAJIEDIAkAYMwW6kwMgEDIEnAAEgSMACSBAyAJAEDIEnAAEgSMAg4tZWKJfSMTsAASBIwAJIEDIAkAQMgScAASBIwAJIEDFbu1BJ6QMAAiBIwAJIEDIAkAYMFTNP048e5nwFbJWAAJO2WHgDwvfvH/cvz26vjgiOB9TADg5V7G69Tr2FUAgZBNwezMBAwAJIEDFbu4zkv58Dg2TTP87z0IGA0/7m83U+crRpmFaLrYRiV7z5fKf/BGSZg5YPE9piBwfmcAwMgScAASBIwAJIEDIAkAQMgScAASBIwAJKGuQ4M1sS1WXA+MzAAkgQMgCQBAyBJwABIEjAAkgQMgCQBAyBJwABIEjAAkgQMgCQBAyBJwABIEjAAkgQMgCQBAyBJwABIEjAAkgQMgCQBAyBJwABIEjAAkgQMgCQBAyBJwABIEjAAkgQMgCQBAyBJwABIEjAAkgQMgCQBAyBJwABIEjAAkgQMgCQBAyBJwABIEjAAkgQMgCQBAyBJwABIEjAAkgQMgCQBAyBJwABIEjAAkgQMgCQBAyBJwABIEjAAkgQMgCQBAyBJwABIEjAAkgQMgCQBAyBJwABIEjAAkgQMgCQBAyBJwABIEjAAkgQMgCQBAyBJwABIEjAAkgQMgCQBAyBJwABIEjAAkgQMgCQBAyBJwABIEjAAkgQMgCQBAyBJwABIEjAAkgQMgCQBAyBJwABIEjAAkp4AWOY0gP0COokAAAAASUVORK5CYII=\"\n",
              "  frames[52] = \"data:image/png;base64,iVBORw0KGgoAAAANSUhEUgAAAbAAAAEgCAYAAADVKCZpAAAABHNCSVQICAgIfAhkiAAAAAlwSFlzAAALEgAACxIB0t1+/AAAADl0RVh0U29mdHdhcmUAbWF0cGxvdGxpYiB2ZXJzaW9uIDMuMC4zLCBodHRwOi8vbWF0cGxvdGxpYi5vcmcvnQurowAABO5JREFUeJzt3e1pwkAAgGFTXKJzdI3OYWfSOTpGO0fHSP/1gyrYSo1v7nlAUEE4iPJ6JJeb5nmeNwAQc7f0AADgLwQMgCQBAyBJwABIEjAAkgQMgCQBAyBJwABIEjAAkgQMgCQBAyBJwABIEjAAkgQMgCQBAyBJwABIEjAAkgQMgCQBAyBJwABIEjAAkgQMgCQBAyBJwABIEjAAkgQMgCQBAyBJwABIEjAAkgQMgCQBAyBJwABIEjAAkgQMgCQBAyBJwABIEjAAkgQMgCQBAyBJwABIEjAAkgQMgCQBAyBJwABIEjAAkgQMgCQBAyBJwABIEjAAkgQMgCQBAyBJwABIEjAAkgQMgCQBAyBJwABIEjAAkgQMgCQBAyBJwABIEjAAkgQMgCQBAyBJwABIEjAAkgQMgCQBAyBJwABIEjAAkgQMgCQBAyBJwABIEjAAkgQMgCQBAyBJwABIEjAAkgQMgCQBAyBJwABIEjAAkgQMgCQBAyBJwABIEjAAkgQMgCQBAyBJwABIEjAAkgQMgCQBAyBJwABIEjAAkgQMgCQBAyBJwABIEjAAkgQMgCQBAyBJwABIEjAAkgQMgCQBAyBJwABIEjAAkgQMgCQBAyBJwABIEjAAkgQMgCQBAyBJwABIEjAAkgQMgCQBAyBJwABIEjAAkgQMgCQBAyBJwABIEjAAkgQMgCQBAyBJwABIEjAAkgQMgCQBAyBpu/QAgN97PTwdff9ht7/ySGA5ZmAAJAkYAEkCBkCSgAGQJGAAJAkYAEkCBkCSgMFKWAPGaAQMgCQBAyBJwABIEjAAkgQMgCQBAyBJwCDm1FYqMBoBAyBJwABIEjAAkgQMgCQBAyBJwABIEjAAkgQMVsBWKoxIwABIEjAAkgQMgCQBAyBJwABIEjAAkgQMQmylAp8EDIAkAQMgScAASBIwAJIEDIAkAQMgScAgzp3oGZWAAZAkYAAkCRgASQIGQJKAAZAkYAAkCRhEuBM9fCdgACQJGABJAgZAkoABkCRgACQJGABJAgZAkoBBmK1UGJmAAZAkYAAkCRgASQIGQJKAAZAkYAAkCRgASQIGAcf2ArMGjNEJGCxkmqazH//xeagTMACStksPADjP89vu4/nj/WHBkcBtMAODgK/xOvYaRiRgACQJGABJAgY37mW/+3HOyzkw2GymeZ7npQcBI7rm5e1+5qzRMFchWgvDyHz/OaX852aYgJUPEutkBgaXcQ4MgCQBAyBJwABIEjAAkgQMgCQBAyBJwABIGmYdGNwaa7PgMmZgACQJGABJAgZAkoABkCRgACQJGABJAgZAkoABkCRgACQJGABJAgZAkoABkCRgACQJGABJAgZAkoABkCRgACQJGABJAgZAkoABkCRgACQJGABJAgZAkoABkCRgACQJGABJAgZAkoABkCRgACQJGABJAgZAkoABkCRgACQJGABJAgZAkoABkCRgACQJGABJAgZAkoABkCRgACQJGABJAgZAkoABkCRgACQJGABJAgZAkoABkCRgACQJGABJAgZAkoABkCRgACQJGABJAgZAkoABkCRgACQJGABJAgZAkoABkCRgACQJGABJAgZAkoABkCRgACQJGABJAgZAkoABkCRgACQJGABJAgZAkoABkCRgACQJGABJAgZAkoABkCRgACQJGABJAgZAkoABkCRgACS9Ay2yNH2NKqiIAAAAAElFTkSuQmCC\"\n",
              "  frames[53] = \"data:image/png;base64,iVBORw0KGgoAAAANSUhEUgAAAbAAAAEgCAYAAADVKCZpAAAABHNCSVQICAgIfAhkiAAAAAlwSFlzAAALEgAACxIB0t1+/AAAADl0RVh0U29mdHdhcmUAbWF0cGxvdGxpYiB2ZXJzaW9uIDMuMC4zLCBodHRwOi8vbWF0cGxvdGxpYi5vcmcvnQurowAABPJJREFUeJzt3OtJA0EYQFFXbMI6tAzriG3YRlKHZWgdlrH+EHxghBDQ8e6cA4EQCAyE5WaY3W9Z13W9AICYy9ELAIBzCBgASQIGQJKAAZAkYAAkCRgASQIGQJKAAZAkYAAkCRgASQIGQJKAAZAkYAAkCRgASQIGQJKAAZAkYAAkCRgASQIGQJKAAZAkYAAkCRgASQIGQJKAAZAkYAAkCRgASQIGQJKAAZAkYAAkCRgASQIGQJKAAZAkYAAkCRgASQIGQJKAAZAkYAAkCRgASQIGQJKAAZAkYAAkCRgASQIGQJKAAZAkYAAkCRgASQIGQJKAAZAkYAAkCRgASQIGQJKAAZAkYAAkCRgASQIGQJKAAZAkYAAkCRgASQIGQJKAAZAkYAAkCRgASQIGQJKAAZAkYAAkCRgASQIGQJKAAZAkYAAkCRgASQIGQJKAAZAkYAAkCRgASQIGQJKAAZAkYAAkCRgASQIGQJKAAZAkYAAkCRgASQIGQJKAAZAkYAAkCRgASQIGQJKAAZAkYAAkCRgASQIGQJKAAZAkYAAkCRgASQIGQJKAAZAkYAAkCRgASQIGQJKAAZAkYAAkCRgASQIGQJKAAZAkYAAkCRgASQIGQJKAAZAkYAAkCRgASQIGQJKAAZAkYAAkCRgASQIGQJKAAZAkYAAkCRgASQIGQJKAAZAkYAAkCRgASQIGQJKAAZAkYAAkCRgASQIGQNLV6AUA53k+3B/9/Ga3/+OVwBh2YAAkCRgASQIGQJKAwYY4/2ImAgZAkoABkCRgACQJGABJAgZAkoBB0E9TOGAmAgZAkoABkCRgACQJGABJAgZAkoABkCRgACQJGGyESfTMRsAASBIwAJIEDIAkAQMgScAASBIwiDGJHt4IGABJAgZAkoABkCRgACQJGABJAgZAkoDBBhjky4wEDIAkAQMgScAASBIwAJIEDIAkAQMgScAgxCR6+CBgACQJGABJAgZAkoABkCRgACQJGABJAgZxJtEzKwEDIEnAAEgSMACSBAyAJAEDIEnAAEgSMIgwiR6+EjAAkgQMgCQBAyBJwABIEjAAkgQMgCQBgzCT6JmZgAGQJGAw0LIsJ79+4/tQJmAAJF2NXgBwuseX3fv7u+vDwJXAeHZgEPE5XoCAQZagMTsBg4Cn/fdYPTzcDlgJ/B8CBhHOvOCrZV3XdfQiYFZ/eXu7S52tmeYuRM/BMDvXAMeU/9hME7Dyj8R22YHB+ZyBAZAkYAAkCRgASQIGQJKAAZAkYAAkCRgASdM8Bwb/kWez4Hx2YAAkCRgASQIGQJKAAZAkYAAkCRgASQIGQJKAAZAkYAAkCRgASQIGQJKAAZAkYAAkCRgASQIGQJKAAZAkYAAkCRgASQIGQJKAAZAkYAAkCRgASQIGQJKAAZAkYAAkCRgASQIGQJKAAZAkYAAkCRgASQIGQJKAAZAkYAAkCRgASQIGQJKAAZAkYAAkCRgASQIGQJKAAZAkYAAkCRgASQIGQJKAAZAkYAAkCRgASQIGQJKAAZAkYAAkCRgASQIGQJKAAZAkYAAkCRgASQIGQJKAAZAkYAAkCRgASQIGQJKAAZAkYAAkCRgASQIGQJKAAZAkYAAkCRgASQIGQJKAAZAkYAAkCRgASQIGQJKAAZAkYAAkCRgASQIGQJKAAZAkYAAkCRgASQIGQJKAAZAkYAAkvQIewzSyVkXDwgAAAABJRU5ErkJggg==\"\n",
              "  frames[54] = \"data:image/png;base64,iVBORw0KGgoAAAANSUhEUgAAAbAAAAEgCAYAAADVKCZpAAAABHNCSVQICAgIfAhkiAAAAAlwSFlzAAALEgAACxIB0t1+/AAAADl0RVh0U29mdHdhcmUAbWF0cGxvdGxpYiB2ZXJzaW9uIDMuMC4zLCBodHRwOi8vbWF0cGxvdGxpYi5vcmcvnQurowAABPFJREFUeJzt3cFNAkEAQFHX0IR12IZ1YE1Qh2VoHZaxHjxglAMuCcvfee8GITDJZvkMzA7TPM/zAwDEPK49AABYQsAASBIwAJIEDIAkAQMgScAASBIwAJIEDIAkAQMgScAASBIwAJIEDIAkAQMgScAASBIwAJIEDIAkAQMgScAASBIwAJIEDIAkAQMgScAASBIwAJIEDIAkAQMgScAASBIwAJIEDIAkAQMgScAASBIwAJIEDIAkAQMgScAASBIwAJIEDIAkAQMgScAASBIwAJIEDIAkAQMgScAASBIwAJIEDIAkAQMgScAASBIwAJIEDIAkAQMgScAASBIwAJIEDIAkAQMgScAASBIwAJIEDIAkAQMgScAASBIwAJIEDIAkAQMgScAASBIwAJIEDIAkAQMgScAASBIwAJIEDIAkAQMgScAASBIwAJIEDIAkAQMgScAASBIwAJIEDIAkAQMgScAASBIwAJIEDIAkAQMgScAASBIwAJIEDIAkAQMgScAASBIwAJIEDIAkAQMgScAASBIwAJIEDIAkAQMgScAASBIwAJIEDIAkAQMgScAASBIwAJIEDIAkAQMgScAASBIwAJIEDIAkAQMgScAASBIwAJIEDIAkAQMgScAASBIwAJIEDIAkAQMgScAASBIwAJIEDIAkAQMgScAASBIwAJIEDIAkAQMgScAASBIwAJIEDIAkAQMgScAASBIwAJJ2aw8AWO7j+Prnvuf9YYWRwO2ZgQGQJGAAJAkYAEkCBkCSgAGQJGAQdW4FIoxEwABIEjAAkgQMgCQBAyBJwABIEjAAkgQMNsRGvoxEwABIEjAAkgQMgCQBAyBJwABIEjAIspEvCBgAUQIGQJKAAZAkYAAkCRgASQIGQJKAAZAkYLARdqJnNAIGQJKAAZAkYAAkCRgASQIGQJKAAZAkYBDjr1Tgm4ABkCRgACQJGABJAgZAkoABkCRgACQJGGyAnegZkYABkCRgACQJGABJAgZAkoABkCRgEGIjXzgRMACSBAyAJAEDIEnAAEgSMACSBAyAJAEDIEnAIM5O9IxKwABIEjAAkgQMgCQBAyBJwABI2q09ABjZNE0XP/b9sL/qOeZ5vvi1oMAMDIAkMzAIefs8zcJeno4rjgTWZwYGET/jde42jEbAIEzEGJmAQZivERmZgEHE71iJF6ObZmtrYTX/WUZ/Lac6WzPMKsRbvlHAPXIOcE75g80wASsfJLbLDAyW8xsYAEkCBkCSgAGQJGAAJAkYAEkCBkCSgAGQNMx1YHCPXJsFy5mBAZAkYAAkCRgASQIGQJKAAZAkYAAkCRgASQIGQJKAAZAkYAAkCRgASQIGQJKAAZAkYAAkCRgASQIGQJKAAZAkYAAkCRgASQIGQJKAAZAkYAAkCRgASQIGQJKAAZAkYAAkCRgASQIGQJKAAZAkYAAkCRgASQIGQJKAAZAkYAAkCRgASQIGQJKAAZAkYAAkCRgASQIGQJKAAZAkYAAkCRgASQIGQJKAAZAkYAAkCRgASQIGQJKAAZAkYAAkCRgASQIGQJKAAZAkYAAkCRgASQIGQJKAAZAkYAAkCRgASQIGQJKAAZAkYAAkCRgASQIGQJKAAZAkYAAkCRgASQIGQJKAAZAkYAAkCRgASQIGQJKAAZAkYAAkCRgASQIGQJKAAZAkYAAkCRgASQIGQJKAAZD0BZfZOQ61FlQQAAAAAElFTkSuQmCC\"\n",
              "  frames[55] = \"data:image/png;base64,iVBORw0KGgoAAAANSUhEUgAAAbAAAAEgCAYAAADVKCZpAAAABHNCSVQICAgIfAhkiAAAAAlwSFlzAAALEgAACxIB0t1+/AAAADl0RVh0U29mdHdhcmUAbWF0cGxvdGxpYiB2ZXJzaW9uIDMuMC4zLCBodHRwOi8vbWF0cGxvdGxpYi5vcmcvnQurowAABPJJREFUeJzt3eFJw0AAgFEjXcI5dAznaGdq53AMncMx4g9BhUbQCo1f7j0otIXCQQhfr8ldp3me5xsAiLldewAAcAkBAyBJwABIEjAAkgQMgCQBAyBJwABIEjAAkgQMgCQBAyBJwABIEjAAkgQMgCQBAyBJwABIEjAAkgQMgCQBAyBJwABIEjAAkgQMgCQBAyBJwABIEjAAkgQMgCQBAyBJwABIEjAAkgQMgCQBAyBJwABIEjAAkgQMgCQBAyBJwABIEjAAkgQMgCQBAyBJwABIEjAAkgQMgCQBAyBJwABIEjAAkgQMgCQBAyBJwABIEjAAkgQMgCQBAyBJwABIEjAAkgQMgCQBAyBJwABIEjAAkgQMgCQBAyBJwABIEjAAkgQMgCQBAyBJwABIEjAAkgQMgCQBAyBJwABIEjAAkgQMgCQBAyBJwABIEjAAkgQMgCQBAyBJwABIEjAAkgQMgCQBAyBJwABIEjAAkgQMgCQBAyBJwABIEjAAkgQMgCQBAyBJwABIEjAAkgQMgCQBAyBJwABIEjAAkgQMgCQBAyBJwABIEjAAkgQMgCQBAyBJwABIEjAAkgQMgCQBAyBJwABIEjAAkgQMgCQBAyBJwABIEjAAkgQMgCQBAyBJwABIEjAAkgQMgCQBAyBJwABIEjAAkgQMgCQBAyBJwABIEjAAkgQMgCQBAyBJwABIEjAAkgQMgCQBAyBJwABI2q09AOBvXk6Hxffv98crjwSuywwMgCQBAyBJwGCD/HzICAQMgCQBAyBJwABIEjAAkgQMgCQBg7ClRczuQGQUAgZAkoABkCRgACQJGABJAgZAkoABkCRgEPXd/4DBKAQMgCQBAyBJwABIEjAAkgQMgCQBgw2xkS8jETAAkgQMgCQBAyBJwABIEjAAkgQMgCQBgyAb+YKAARAlYAAkCRgASQIGQJKAAZAkYLARNvJlNAIGQJKAAZAkYAAkCRgASQIGQJKAQYx9EOGdgAGQJGAAJAkYAEkCBkCSgAGQJGAAJAkYbICNfBmRgAGQJGAAJAkYAEkCBkCSgAGQJGAQYiNf+CRgACQJGABJAgZAkoABkCRgACQJGABJAgYrm6bpx48lD4fTnz4PVQIGQNJu7QEAv/P0uv94/nh3WnEksC4zMAj5Gq+l1zASAQMgScAASBIwiHg+7s+uebkGxsimeZ7ntQcBI7vm7e1Od7ZkmLsQrYEB5wHnyl9qhglY+SCxbWZgcBnXwABIEjAAkgQMgCQBAyBJwABIEjAAkgQMgKRh1oHBf2VtFlzGDAyAJAEDIEnAAEgSMACSBAyAJAEDIEnAAEgSMACSBAyAJAEDIEnAAEgSMACSBAyAJAEDIEnAAEgSMACSBAyAJAEDIEnAAEgSMACSBAyAJAEDIEnAAEgSMACSBAyAJAEDIEnAAEgSMACSBAyAJAEDIEnAAEgSMACSBAyAJAEDIEnAAEgSMACSBAyAJAEDIEnAAEgSMACSBAyAJAEDIEnAAEgSMACSBAyAJAEDIEnAAEgSMACSBAyAJAEDIEnAAEgSMACSBAyAJAEDIEnAAEgSMACSBAyAJAEDIEnAAEgSMACSBAyAJAEDIEnAAEgSMACSBAyAJAEDIEnAAEgSMACSBAyAJAEDIEnAAEgSMACSBAyAJAEDIEnAAEgSMACSBAyAJAEDIEnAAEgSMACSBAyApDdgoDd9RWN0VgAAAABJRU5ErkJggg==\"\n",
              "  frames[56] = \"data:image/png;base64,iVBORw0KGgoAAAANSUhEUgAAAbAAAAEgCAYAAADVKCZpAAAABHNCSVQICAgIfAhkiAAAAAlwSFlzAAALEgAACxIB0t1+/AAAADl0RVh0U29mdHdhcmUAbWF0cGxvdGxpYiB2ZXJzaW9uIDMuMC4zLCBodHRwOi8vbWF0cGxvdGxpYi5vcmcvnQurowAABO1JREFUeJzt3c1NAkEAgFHX0IR12IZ1YE1Qh2VoHZYxHjz4x0EhYf123ku47IFMQjYfAzOzyxhj3ABAzO3aAwCAcwgYAEkCBkCSgAGQJGAAJAkYAEkCBkCSgAGQJGAAJAkYAEkCBkCSgAGQJGAAJAkYAEkCBkCSgAGQJGAAJAkYAEkCBkCSgAGQJGAAJAkYAEkCBkCSgAGQJGAAJAkYAEkCBkCSgAGQJGAAJAkYAEkCBkCSgAGQJGAAJAkYAEkCBkCSgAGQJGAAJAkYAEkCBkCSgAGQJGAAJAkYAEkCBkCSgAGQJGAAJAkYAEkCBkCSgAGQJGAAJAkYAEkCBkCSgAGQJGAAJAkYAEkCBkCSgAGQJGAAJAkYAEkCBkCSgAGQJGAAJAkYAEkCBkCSgAGQJGAAJAkYAEkCBkCSgAGQJGAAJAkYAEkCBkCSgAGQJGAAJAkYAEkCBkCSgAGQJGAAJAkYAEkCBkCSgAGQJGAAJAkYAEkCBkCSgAGQJGAAJAkYAEkCBkCSgAGQJGAAJAkYAEkCBkCSgAGQJGAAJAkYAEkCBkCSgAGQJGAAJAkYAEkCBkCSgAGQJGAAJAkYAEkCBkCSgAGQJGAAJAkYAEkCBkCSgAGQJGAAJAkYAEkCBkCSgAGQJGAAJAkYAEkCBkCSgAGQJGAAJAkYAEkCBkCSgAGQJGAAJAkYAEkCBkCSgAGQJGAAJAkYAEkCBkDSbu0BAJd7OT7+uHa/P6wwErgeMzAAkgQMgCQBAyBJwABIEjCIO7WAA2YgYAAkCRgASQIGQJKAAZAkYAAkCRgASQIGG+QcRGYgYAAkCRgASQIGQJKAAZAkYAAkCRiEeRIzMxMwAJIEDIAkAQMgScAASBIwAJIEDKJOrUCEmQgYAEkCBkCSgAGQJGAAJAkYAEkCBkCSgMGGOMiXmQgYAEkCBkCSgAGQJGAAJAkYAEkCBkEO8gUBAyBKwABIEjAAkgQMgCQBAyBJwABIEjDYCAf5MhsBAyBJwABIEjAAkgQMgCQBAyBJwCDGQb7wTsAASBIwAJIEDIAkAQMgScAASBIwAJIEDDbAQb7MSMAASBIwAJIEDIAkAYOVLcvyp9el7wFbIWAAJO3WHgDwe8+H/c3T6/7LtYe740qjgXWZgUHc96DBLAQMQsQKPggYhPi5ED4IGMSJGrNaxhhj7UHAzK69tN0tz1ZMswrR/hd4517gs/IXmmkCVv6Q2DYzMDiP/8AASBIwAJIEDIAkAQMgScAASBIwAJIEDICkafaBwX9lXxacxwwMgCQBAyBJwABIEjAAkgQMgCQBAyBJwABIEjAAkgQMgCQBAyBJwABIEjAAkgQMgCQBAyBJwABIEjAAkgQMgCQBAyBJwABIEjAAkgQMgCQBAyBJwABIEjAAkgQMgCQBAyBJwABIEjAAkgQMgCQBAyBJwABIEjAAkgQMgCQBAyBJwABIEjAAkgQMgCQBAyBJwABIEjAAkgQMgCQBAyBJwABIEjAAkgQMgCQBAyBJwABIEjAAkgQMgCQBAyBJwABIEjAAkgQMgCQBAyBJwABIEjAAkgQMgCQBAyBJwABIEjAAkgQMgCQBAyBJwABIEjAAkgQMgCQBAyBJwABIEjAAkgQMgCQBAyBJwABIEjAAkgQMgCQBAyBJwABIEjAAkgQMgCQBAyBJwABIEjAAkgQMgKQ3D282To8iF88AAAAASUVORK5CYII=\"\n",
              "  frames[57] = \"data:image/png;base64,iVBORw0KGgoAAAANSUhEUgAAAbAAAAEgCAYAAADVKCZpAAAABHNCSVQICAgIfAhkiAAAAAlwSFlzAAALEgAACxIB0t1+/AAAADl0RVh0U29mdHdhcmUAbWF0cGxvdGxpYiB2ZXJzaW9uIDMuMC4zLCBodHRwOi8vbWF0cGxvdGxpYi5vcmcvnQurowAABPZJREFUeJzt3cFNAkEAQFHX2IR1aBnWITVJHbZhHZaxHkgMUQ6ihuXPvJeQAAcyyWbzGXZnWNZ1XW8AIOZ26wEAwG8IGABJAgZAkoABkCRgACQJGABJAgZAkoABkCRgACQJGABJAgZAkoABkCRgACQJGABJAgZAkoABkCRgACQJGABJAgZAkoABkCRgACQJGABJAgZAkoABkCRgACQJGABJAgZAkoABkCRgACQJGABJAgZAkoABkCRgACQJGABJAgZAkoABkCRgACQJGABJAgZAkoABkCRgACQJGABJAgZAkoABkCRgACQJGABJAgZAkoABkCRgACQJGABJAgZAkoABkCRgACQJGABJAgZAkoABkCRgACQJGABJAgZAkoABkCRgACQJGABJAgZAkoABkCRgACQJGABJAgZAkoABkCRgACQJGABJAgZAkoABkCRgACQJGABJAgZAkoABkCRgACQJGABJAgZAkoABkCRgACQJGABJAgZAkoABkCRgACQJGABJAgZAkoABkCRgACQJGABJAgZAkoABkCRgACQJGABJAgZAkoABkCRgACQJGABJAgZAkoABkCRgACQJGABJAgZAkoABkCRgACQJGABJAgZAkoABkCRgACQJGABJAgZAkoABkCRgACQJGABJAgZAkoABkCRgACQJGABJAgZAkoABkCRgACQJGABJAgZAkoABkCRgACQJGABJAgZA0t3WAwD+x9t+9+29h+eXDUYCl2EGBkCSgAGQJGAwgFM/H8LoBAyAJAEDIEnAAEgSMACSBAyAJAGDQVnEzOgEDIAkAQMgScAASBIwAJIEDIAkAYM4+yAyKwEDIEnAAEgSMACSBAyAJAEDIEnAYED2QWQGAgZAkoABkCRgACQJGABJAgZAkoBB2Kl9EN2ByCwEDIAkAQMgScAASBIwAJIEDKL8kSWzEzAAkgQMgCQBAyBJwABIEjAAkgQMgCQBg4HYB5GZCBgASQIGQJKAAZAkYAAkCRgE2QcRBAyAKAEDIEnAAEgSMACSBAyAJAEDIEnAYBD2QWQ2AgZAkoABkCRgACQJGABJAgYx9kGEAwEDIEnAAEgSMACSBAyAJAGDK7Asy48ff/0MGIWAwQAed/uthwAXd7f1AIDzvb4/fz5/uhcv5mQGBjHH8Tr1GmYhYAAkCRgASQIGMV+vebkGxqyWdV3XrQcBs7vk7e1OeUYxzV2I1r/AgXOBY+UvNNMErHyQGJ8ZGJzPNTAAkgQMgCQBAyBJwABIEjAAkgQMgCQBAyBpmnVgcM2szYLzmYEBkCRgACQJGABJAgZAkoABkCRgACQJGABJAgZAkoABkCRgACQJGABJAgZAkoABkCRgACQJGABJAgZAkoABkCRgACQJGABJAgZAkoABkCRgACQJGABJAgZAkoABkCRgACQJGABJAgZAkoABkCRgACQJGABJAgZAkoABkCRgACQJGABJAgZAkoABkCRgACQJGABJAgZAkoABkCRgACQJGABJAgZAkoABkCRgACQJGABJAgZAkoABkCRgACQJGABJAgZAkoABkCRgACQJGABJAgZAkoABkCRgACQJGABJAgZAkoABkCRgACQJGABJAgZAkoABkCRgACQJGABJAgZAkoABkCRgACQJGABJAgZAkoABkCRgACQJGABJAgZAkoABkCRgACQJGABJAgZAkoABkPQB8/c3gMcauqsAAAAASUVORK5CYII=\"\n",
              "  frames[58] = \"data:image/png;base64,iVBORw0KGgoAAAANSUhEUgAAAbAAAAEgCAYAAADVKCZpAAAABHNCSVQICAgIfAhkiAAAAAlwSFlzAAALEgAACxIB0t1+/AAAADl0RVh0U29mdHdhcmUAbWF0cGxvdGxpYiB2ZXJzaW9uIDMuMC4zLCBodHRwOi8vbWF0cGxvdGxpYi5vcmcvnQurowAABPdJREFUeJzt3MFNAkEYgFHX0IR12IZ1YBu0IXVYhtZhGevBGKPRA2pYvpn3Eg5wIJOQzcfA7L+s67peAUDM9dYLAIDfEDAAkgQMgCQBAyBJwABIEjAAkgQMgCQBAyBJwABIEjAAkgQMgCQBAyBJwABIEjAAkgQMgCQBAyBJwABIEjAAkgQMgCQBAyBJwABIEjAAkgQMgCQBAyBJwABIEjAAkgQMgCQBAyBJwABIEjAAkgQMgCQBAyBJwABIEjAAkgQMgCQBAyBJwABIEjAAkgQMgCQBAyBJwABIEjAAkgQMgCQBAyBJwABIEjAAkgQMgCQBAyBJwABIEjAAkgQMgCQBAyBJwABIEjAAkgQMgCQBAyBJwABIEjAAkgQMgCQBAyBJwABIEjAAkgQMgCQBAyBJwABIEjAAkgQMgCQBAyBJwABIEjAAkgQMgCQBAyBJwABIEjAAkgQMgCQBAyBJwABIEjAAkgQMgCQBAyBJwABIEjAAkgQMgCQBAyBJwABIEjAAkgQMgCQBAyBJwABIEjAAkgQMgCQBAyBJwABIEjAAkgQMgCQBAyBJwABIEjAAkgQMgCQBAyBJwABIEjAAkgQMgCQBAyBJwABIEjAAkgQMgCQBAyBJwABIEjAAkgQMgCQBAyBJwABIEjAAkgQMgCQBAyBJwABIEjAAkgQMgCQBAyBJwABIEjAAkgQMgCQBAyBJwABIEjAAkgQMgKTd1gsA/sfz8f7b12/3D2deCZyHHRgASQIGQJKAAZAkYAAkCRgASQIGA3MCkZEJGABJAgZAkoABkCRgACQJGABJAgYD+GkOIoxMwABIEjAAkgQMgCQBAyBJwABIEjAYlDmIjE7AAEgSMACSBAyAJAEDIEnAAEgSMIgzB5FZCRgASQIGQJKAAZAkYAAkCRgASQIGAzIHkRkIGABJAgZAkoABkCRgACQJGIQZI8XMBAwG4wQisxAwAJIEDIAkAQMgScAASBIwiHICkdkJGABJAgZAkoABkCRgACQJGABJAgYDMUaKmQgYAEkCBkCSgAGQJGAAJAkYAEkCBkHmIIKAARAlYAAkCRgASQIGQJKAAZAkYDAIcxCZjYABkCRgcAGWZTnp8df3gBEIGABJu60XAJzu8WX/6fndzXGjlcB27MBgAF+DBjMQMIg5HJ62XgJcBAGDGD8XwhsBgwGIGjNa1nVdt14EzO7cR9td9oxgmlOI7n2BD64H3pW/zEwTsPKHxPjswOB0/gMDIEnAAEgSMACSBAyAJAEDIEnAAEgSMACSprkPDC6Z+7LgdHZgACQJGABJAgZAkoABkCRgACQJGABJAgZAkoABkCRgACQJGABJAgZAkoABkCRgACQJGABJAgZAkoABkCRgACQJGABJAgZAkoABkCRgACQJGABJAgZAkoABkCRgACQJGABJAgZAkoABkCRgACQJGABJAgZAkoABkCRgACQJGABJAgZAkoABkCRgACQJGABJAgZAkoABkCRgACQJGABJAgZAkoABkCRgACQJGABJAgZAkoABkCRgACQJGABJAgZAkoABkCRgACQJGABJAgZAkoABkCRgACQJGABJAgZAkoABkCRgACQJGABJAgZAkoABkCRgACQJGABJAgZAkoABkCRgACQJGABJAgZAkoABkCRgACQJGABJAgZAkoABkCRgACQJGABJAgZAkoABkCRgACS9AvXcNYDEJGUAAAAAAElFTkSuQmCC\"\n",
              "  frames[59] = \"data:image/png;base64,iVBORw0KGgoAAAANSUhEUgAAAbAAAAEgCAYAAADVKCZpAAAABHNCSVQICAgIfAhkiAAAAAlwSFlzAAALEgAACxIB0t1+/AAAADl0RVh0U29mdHdhcmUAbWF0cGxvdGxpYiB2ZXJzaW9uIDMuMC4zLCBodHRwOi8vbWF0cGxvdGxpYi5vcmcvnQurowAABPNJREFUeJzt3M1NAkEAgFHW0IR12IZ1YE1Qh2VoHZaxnvHnACrrN/NewoE9kEnI5mOWmVnWdV13ABBzt/UAAOAaAgZAkoABkCRgACQJGABJAgZAkoABkCRgACQJGABJAgZAkoABkCRgACQJGABJAgZAkoABkCRgACQJGABJAgZAkoABkCRgACQJGABJAgZAkoABkCRgACQJGABJAgZAkoABkCRgACQJGABJAgZAkoABkCRgACQJGABJAgZAkoABkCRgACQJGABJAgZAkoABkCRgACQJGABJAgZAkoABkCRgACQJGABJAgZAkoABkCRgACQJGABJAgZAkoABkCRgACQJGABJAgZAkoABkCRgACQJGABJAgZAkoABkCRgACQJGABJAgZAkoABkCRgACQJGABJAgZAkoABkCRgACQJGABJAgZAkoABkCRgACQJGABJAgZAkoABkCRgACQJGABJAgZAkoABkCRgACQJGABJAgZAkoABkCRgACQJGABJAgZAkoABkCRgACQJGABJAgZAkoABkCRgACQJGABJAgZAkoABkCRgACQJGABJAgZAkoABkCRgACQJGABJAgZAkoABkCRgACQJGABJAgZAkoABkCRgACQJGABJAgZAkoABkCRgACQJGABJAgZAkoABkCRgACQJGABJAgZAkoABkCRgACQJGABJAgZAkoABkCRgACQJGABJAgZAkoABkLTfegDA73k9PX15/eFwvPFI4O+ZgQGQJGAAJAkYDM7jQ0YlYAAkCRgASQIGQJKAAZAkYAAkCRgM4rtNzDAqAQMgScAASBIwAJIEDIAkAQMgScBgYM5BZGQCBkCSgAGQJGAAJAkYAEkCBkCSgMEAnIPIjAQMgCQBAyBJwABIEjAAkgQMgCQBg0E5B5HRCRgASQIGQJKAAZAkYAAkCRgASQIGcc5BZFYCBkCSgAGQJGAAJAkYAEkCBkCSgAGQJGAwIAf5MgMBAyBJwABIEjAAkgQMgCQBgzDnIDIzAYPBWIHILAQMgCQBAyBJwABIEjAAkgQMoqxAZHYCBkCSgAGQJGAAJAkYAEkCBkCSgAGQJGAwEOcgMhMBAyBJwABIEjD4J5Zluej108+AOgEDIGm/9QCA6zy/Hc7eP96fNhoJbMMMDIJejodP1z4GDUYnYBAkViBgkORxIQgYDEPUmM2yruu69SCA3c2Xtrv1qZtmFaJ9L3DOPcFu1/4hM03Ayl8SczADg8v4DwyAJAEDIEnAAEgSMACSBAyAJAEDIEnAAEiaZh8Y/Hf2ZcFlzMAASBIwAJIEDIAkAQMgScAASBIwAJIEDIAkAQMgScAASBIwAJIEDIAkAQMgScAASBIwAJIEDIAkAQMgScAASBIwAJIEDIAkAQMgScAASBIwAJIEDIAkAQMgScAASBIwAJIEDIAkAQMgScAASBIwAJIEDIAkAQMgScAASBIwAJIEDIAkAQMgScAASBIwAJIEDIAkAQMgScAASBIwAJIEDIAkAQMgScAASBIwAJIEDIAkAQMgScAASBIwAJIEDIAkAQMgScAASBIwAJIEDIAkAQMgScAASBIwAJIEDIAkAQMgScAASBIwAJIEDIAkAQMgScAASBIwAJIEDIAkAQMgScAASBIwAJIEDIAkAQMgScAASBIwAJIEDIAkAQMgScAASBIwAJIEDIAkAQMgScAASHoHP6c3gDe2mvYAAAAASUVORK5CYII=\"\n",
              "  frames[60] = \"data:image/png;base64,iVBORw0KGgoAAAANSUhEUgAAAbAAAAEgCAYAAADVKCZpAAAABHNCSVQICAgIfAhkiAAAAAlwSFlzAAALEgAACxIB0t1+/AAAADl0RVh0U29mdHdhcmUAbWF0cGxvdGxpYiB2ZXJzaW9uIDMuMC4zLCBodHRwOi8vbWF0cGxvdGxpYi5vcmcvnQurowAABPtJREFUeJzt3ctNw1AQQFEb0QR1QBnUEWoiddAGdVCGWbACgRTxsbnvnSNlkSyikSLrxoo9Wbdt2xYAiLk6egAA+A4BAyBJwABIEjAAkgQMgCQBAyBJwABIEjAAkgQMgCQBAyBJwABIEjAAkgQMgCQBAyBJwABIEjAAkgQMgCQBAyBJwABIEjAAkgQMgCQBAyBJwABIEjAAkgQMgCQBAyBJwABIEjAAkgQMgCQBAyBJwABIEjAAkgQMgCQBAyBJwABIEjAAkgQMgCQBAyBJwABIEjAAkgQMgCQBAyBJwABIEjAAkgQMgCQBAyBJwABIEjAAkgQMgCQBAyBJwABIEjAAkgQMgCQBAyBJwABIEjAAkgQMgCQBAyBJwABIEjAAkgQMgCQBAyBJwABIEjAAkgQMgCQBAyBJwABIEjAAkgQMgCQBAyBJwABIEjAAkgQMgCQBAyBJwABIEjAAkgQMgCQBAyBJwABIEjAAkgQMgCQBAyBJwABIEjAAkgQMgCQBAyBJwABIEjAAkgQMgCQBAyBJwABIEjAAkgQMgCQBAyBJwABIEjAAkgQMgCQBAyBJwABIEjAAkgQMgCQBAyBJwABIEjAAkgQMgCQBAyBJwABIEjAAkgQMgCQBAyBJwABIEjAAkgQMgCQBAyBJwABIEjAAkgQMgCQBAyBJwABIEjAAkgQMgCQBAyBJwABIEjAAkgQMgCQBAyBJwABIuj56AOB3PZ8fPn399vS48yTwt5yBwQTEixEJGABJAgZAkoABkCRgACQJGABJAgYD+eoSehiRgAGQJGAAJAkYAEkCBkCSgAGQJGAwOHsQGZWAAZAkYAAkCRgASQIGQJKAwSCskWI2AgZAkoABkCRgACQJGABJAgZAkoDBwKyRYmQCBkCSgAGQJGAAJAkYAEkCBkCSgMEA7EFkRgIGQJKAAZAkYAAkCRgASQIGQJKAwaDsQWR0AgZAkoABkCRgACQJGABJAgZAkoBBnD2IzErAAEgSMACSBAyAJAEDIEnAAEgSMBiQPYjMQMAASBIwAJIEDIAkAQMgScAASBIwCPtsD6IrEJmFgAGQJGAAJAkYAEkCBkCSgEGUP7JkdgIGQJKAwT+yruvFj5++B9QJGABJAgZxTy+n5enldPQYsDsBg6iP4RIxZiNgACQJGAzk7uF89AiwGwGDqPub83J/c373HGaybtu2HT0E8GbPy9sd+tRdHz3AXtz3Au85JliW9heZaQJW/pCYhzMwuJzfwABIEjAAkgQMgCQBAyBJwABIEjAAkgQMgKRp7gODAvdmweWcgQGQJGAAJAkYAEkCBkCSgAGQJGAAJAkYAEkCBkCSgAGQJGAAJAkYAEkCBkCSgAGQJGAAJAkYAEkCBkCSgAGQJGAAJAkYAEkCBkCSgAGQJGAAJAkYAEkCBkCSgAGQJGAAJAkYAEkCBkCSgAGQJGAAJAkYAEkCBkCSgAGQJGAAJAkYAEkCBkCSgAGQJGAAJAkYAEkCBkCSgAGQJGAAJAkYAEkCBkCSgAGQJGAAJAkYAEkCBkCSgAGQJGAAJAkYAEkCBkCSgAGQJGAAJAkYAEkCBkCSgAGQJGAAJAkYAEkCBkCSgAGQJGAAJAkYAEkCBkCSgAGQJGAAJAkYAEkCBkCSgAGQJGAAJAkYAEkCBkCSgAGQJGAAJAkYAEkCBkCSgAGQJGAAJAkYAEkCBkCSgAGQ9Apz/Tyy6R8tjQAAAABJRU5ErkJggg==\"\n",
              "  frames[61] = \"data:image/png;base64,iVBORw0KGgoAAAANSUhEUgAAAbAAAAEgCAYAAADVKCZpAAAABHNCSVQICAgIfAhkiAAAAAlwSFlzAAALEgAACxIB0t1+/AAAADl0RVh0U29mdHdhcmUAbWF0cGxvdGxpYiB2ZXJzaW9uIDMuMC4zLCBodHRwOi8vbWF0cGxvdGxpYi5vcmcvnQurowAABPdJREFUeJzt3NtNAkEYgFHX0IR1aBnWgTVJHZahdVjG+uYl8IDX9Zs5JyEBHsgkZPMx7O6/rOu6XgBAzOXWCwCArxAwAJIEDIAkAQMgScAASBIwAJIEDIAkAQMgScAASBIwAJIEDIAkAQMgScAASBIwAJIEDIAkAQMgScAASBIwAJIEDIAkAQMgScAASBIwAJIEDIAkAQMgScAASBIwAJIEDIAkAQMgScAASBIwAJIEDIAkAQMgScAASBIwAJIEDIAkAQMgScAASBIwAJIEDIAkAQMgScAASBIwAJIEDIAkAQMgScAASBIwAJIEDIAkAQMgScAASBIwAJIEDIAkAQMgScAASBIwAJIEDIAkAQMgScAASBIwAJIEDIAkAQMgScAASBIwAJIEDIAkAQMgScAASBIwAJIEDIAkAQMgScAASBIwAJIEDIAkAQMgScAASBIwAJIEDIAkAQMgScAASBIwAJIEDIAkAQMgScAASBIwAJIEDIAkAQMgScAASBIwAJIEDIAkAQMgScAASBIwAJIEDIAkAQMgScAASBIwAJIEDIAkAQMgScAASBIwAJIEDIAkAQMgScAASBIwAJIEDIAkAQMgScAASBIwAJIEDIAkAQMgScAASBIwAJIEDIAkAQMgScAASBIwAJIEDIAkAQMgScAASBIwAJIEDIAkAQMgScAASBIwAJIEDIAkAQMgScAASBIwAJIEDICk3dYLAH7e0+Hu6L3r/f0GK4HfYwcGQJKAAZAkYAAkCRgM5tT5LxiRgAGQJGAAJAkYAEkCBkCSgAGQJGAwAVM4GJGAAZAkYAAkCRgASQIGQJKAAZAkYDAQcxCZiYABkCRgACQJGABJAgZAkoABkCRgMDhzEBmVgAGQJGAAJAkYAEkCBkCSgAGQJGAwCHMQmY2AAZAkYAAkCRgASQIGQJKAAZAkYAAkCRgMzCBfRiZgACQJGABJAgZAkoABkCRgMABzEJmRgAGQJGAAJAkYAEkCBkCSgAGQJGAAJAkYDMocREYnYAAkCRgASQIGQJKAAZAkYBBnDiKzEjAAkgQMgCQBAyBJwABIEjAAkgQMgCQBgwGZg8gMBAyAJAGDf2ZZlk89vvMZUCZgACTttl4A8D0Pz/vX57dXhw1XAn/LDgzCHu/3H16/jxmMTsAg7FSwbu7swpiDgEGYvwyZmYDBQASNmSzruq5bLwJ485eXtzv8KZvmKkT3vMAxxwXlHzHTBKz8JTEXOzA4j3NgACQJGABJAgZAkoABkCRgACQJGABJAgZA0jT3gUGFe7PgPHZgACQJGABJAgZAkoABkCRgACQJGABJAgZAkoABkCRgACQJGABJAgZAkoABkCRgACQJGABJAgZAkoABkCRgACQJGABJAgZAkoABkCRgACQJGABJAgZAkoABkCRgACQJGABJAgZAkoABkCRgACQJGABJAgZAkoABkCRgACQJGABJAgZAkoABkCRgACQJGABJAgZAkoABkCRgACQJGABJAgZAkoABkCRgACQJGABJAgZAkoABkCRgACQJGABJAgZAkoABkCRgACQJGABJAgZAkoABkCRgACQJGABJAgZAkoABkCRgACQJGABJAgZAkoABkCRgACQJGABJAgZAkoABkCRgACQJGABJAgZAkoABkCRgACQJGABJAgZAkoABkCRgACQJGABJAgZAkoABkCRgACS9APZ1N4DkXqTDAAAAAElFTkSuQmCC\"\n",
              "  frames[62] = \"data:image/png;base64,iVBORw0KGgoAAAANSUhEUgAAAbAAAAEgCAYAAADVKCZpAAAABHNCSVQICAgIfAhkiAAAAAlwSFlzAAALEgAACxIB0t1+/AAAADl0RVh0U29mdHdhcmUAbWF0cGxvdGxpYiB2ZXJzaW9uIDMuMC4zLCBodHRwOi8vbWF0cGxvdGxpYi5vcmcvnQurowAABQNJREFUeJzt3NFNG0EUQFEW0QR1kDKoA9qgDaiDNlIHZWz+ogQZEQXZy31zjmTJ9oc1kmVfj3dmtn3f9ysAiLk+egAA8D8EDIAkAQMgScAASBIwAJIEDIAkAQMgScAASBIwAJIEDIAkAQMgScAASBIwAJIEDIAkAQMgScAASBIwAJIEDIAkAQMgScAASBIwAJIEDIAkAQMgScAASBIwAJIEDIAkAQMgScAASBIwAJIEDIAkAQMgScAASBIwAJIEDIAkAQMgScAASBIwAJIEDIAkAQMgScAASBIwAJIEDIAkAQMgScAASBIwAJIEDIAkAQMgScAASBIwAJIEDIAkAQMgScAASBIwAJIEDIAkAQMgScAASBIwAJIEDIAkAQMgScAASBIwAJIEDIAkAQMgScAASBIwAJIEDIAkAQMgScAASBIwAJIEDIAkAQMgScAASBIwAJIEDIAkAQMgScAASBIwAJIEDIAkAQMgScAASBIwAJIEDIAkAQMgScAASBIwAJIEDIAkAQMgScAASBIwAJIEDIAkAQMgScAASBIwAJIEDIAkAQMgScAASBIwAJIEDIAkAQMgScAASBIwAJIEDIAkAQMgScAASBIwAJIEDIAkAQMgScAASBIwAJIEDIAkAQMgScAASBIwAJIEDIAkAQMgScAASBIwAJIEDIAkAQMgScAASBIwAJIEDIAkAQMgScAASBIwAJIEDIAkAQMg6eboAQDn8fPl8eTzdw/PFx4JnIcZGABJAgZAkoDBQvx9yCQCBkCSgAGQJGAAJAkYAEkCBgN9tAcMJhEwWIQViEwjYAAkCRgASQIGQJKAAZAkYDCMFYisQsAASBIwAJIEDIAkAQMgScAASBIwWIBjpJhIwABIEjAAkgQMgCQBAyBJwABIEjAYxDmIrETAAEgSMACSBAyAJAEDIEnAAEgSMBjOOYhMJWAAJAkYAEkCBkCSgAGQJGAwhGOkWI2AAZAkYAAkCRgASQIGQJKAAZAkYDCYY6SYTMAASBIwAJIEDIAkAQMgScAASBIwGMA5iKxIwABIEjAAkgQMgCQBAyBJwABIEjAYyjmITCdgACQJGABJAgZAkoABkCRgEOcYKVYlYPANbdv2z7evvgZUCRgASTdHDwD4ute3h9/3729fDhwJXI4ZGMT9Ga9Tj2EqAYOBRIwVCBgM9PT04+ghwNkJGMS9v+blGhir2PZ9348eBPC3Sy5v9xVA1TKrEO13gdN8NtZW/gGzTMDKbxLrMQODz7kGBkCSgAGQJGAAJAkYAEkCBkCSgAGQJGAAJC2zDwxK7M2Cz5mBAZAkYAAkCRgASQIGQJKAAZAkYAAkCRgASQIGQJKAAZAkYAAkCRgASQIGQJKAAZAkYAAkCRgASQIGQJKAAZAkYAAkCRgASQIGQJKAAZAkYAAkCRgASQIGQJKAAZAkYAAkCRgASQIGQJKAAZAkYAAkCRgASQIGQJKAAZAkYAAkCRgASQIGQJKAAZAkYAAkCRgASQIGQJKAAZAkYAAkCRgASQIGQJKAAZAkYAAkCRgASQIGQJKAAZAkYAAkCRgASQIGQJKAAZAkYAAkCRgASQIGQJKAAZAkYAAkCRgASQIGQJKAAZAkYAAkCRgASQIGQJKAAZAkYAAkCRgASQIGQJKAAZAkYAAkCRgASQIGQJKAAZAkYAAkCRgASQIGQJKAAZAkYAAkCRgASQIGQJKAAZD0C5veOrKtW6GhAAAAAElFTkSuQmCC\"\n",
              "  frames[63] = \"data:image/png;base64,iVBORw0KGgoAAAANSUhEUgAAAbAAAAEgCAYAAADVKCZpAAAABHNCSVQICAgIfAhkiAAAAAlwSFlzAAALEgAACxIB0t1+/AAAADl0RVh0U29mdHdhcmUAbWF0cGxvdGxpYiB2ZXJzaW9uIDMuMC4zLCBodHRwOi8vbWF0cGxvdGxpYi5vcmcvnQurowAABP1JREFUeJzt3NFtE0EUQNFslCaoA8qgjrgmXAdtUAdlLH8oCraFwHi5b86RLMX+iEay7OvRzr5t3/f9CQBino9eAAD8CQEDIEnAAEgSMACSBAyAJAEDIEnAAEgSMACSBAyAJAEDIEnAAEgSMACSBAyAJAEDIEnAAEgSMACSBAyAJAEDIEnAAEgSMACSBAyAJAEDIEnAAEgSMACSBAyAJAEDIEnAAEgSMACSBAyAJAEDIEnAAEgSMACSBAyAJAEDIEnAAEgSMACSBAyAJAEDIEnAAEgSMACSBAyAJAEDIEnAAEgSMACSBAyAJAEDIEnAAEgSMACSBAyAJAEDIEnAAEgSMACSBAyAJAEDIEnAAEgSMACSBAyAJAEDIEnAAEgSMACSBAyAJAEDIEnAAEgSMACSBAyAJAEDIEnAAEgSMACSBAyAJAEDIEnAAEgSMACSBAyAJAEDIEnAAEgSMACSBAyAJAEDIEnAAEgSMACSBAyAJAEDIEnAAEgSMACSBAyAJAEDIEnAAEgSMACSBAyAJAEDIEnAAEgSMACSBAyAJAEDIEnAAEgSMACSBAyAJAEDIEnAAEgSMACSBAyAJAEDIEnAAEgSMACSBAyAJAEDIEnAAEgSMACSBAyAJAEDIEnAAEgSMACSBAyAJAEDIEnAAEgSMACSBAyAJAEDIEnAAEgSMACSBAyAJAEDIEnAAEgSMACSBAyAJAEDIEnAAEh6OXoBwL/z7Xy6+PrH1y8PXgncnx0YLEa8mELAAEgSMACSBAyAJAEDIEnAAEgSMBjq2hF6mELAAEgSMACSBAyAJAEDIEnAAEgSMFiIOYhMImAAJAkYAEkCBkCSgAGQJGAwkDFSrEDAYBFOIDKNgAGQJGAAJAkYAEkCBkCSgMEwTiCyCgEDIEnAAEgSMACSBAyAJAEDIEnAYAHGSDGRgAGQJGAAJAkYAEkCBkCSgAGQJGAwiDmIrETAAEgSMACSBAyAJAEDIEnAAEgSMBjOHESmEjAAkgQMgCQBAyBJwABIEjAAkgQMhjAHkdUIGABJAgZAkoABkCRgACQJGABJAgaDmYPIZAIGQJKAAZAkYAAkCRgASQIGAxgjxYoEDIAkAYP/1LZtv/342/8BRQIGQNLL0QsA7uPr99eff3/+cD5wJfAYdmAwwNt4XXoOEwkYDPXpZBfGbAIGQJKAwQDvr3m5BsYKtn3f96MXAfzqkcfbfQ1QtMwpRPe6wHU+H+sq/3hZJmDlN4k12YHBba6BAZAkYAAkCRgASQIGQJKAAZAkYAAkCRgAScvcBwY17s2C2+zAAEgSMACSBAyAJAEDIEnAAEgSMACSBAyAJAEDIEnAAEgSMACSBAyAJAEDIEnAAEgSMACSBAyAJAEDIEnAAEgSMACSBAyAJAEDIEnAAEgSMACSBAyAJAEDIEnAAEgSMACSBAyAJAEDIEnAAEgSMACSBAyAJAEDIEnAAEgSMACSBAyAJAEDIEnAAEgSMACSBAyAJAEDIEnAAEgSMACSBAyAJAEDIEnAAEgSMACSBAyAJAEDIEnAAEgSMACSBAyAJAEDIEnAAEgSMACSBAyAJAEDIEnAAEgSMACSBAyAJAEDIEnAAEgSMACSBAyAJAEDIEnAAEgSMACSBAyAJAEDIEnAAEgSMACSBAyAJAEDIEnAAEgSMACSBAyAJAEDIEnAAEgSMACSBAyAJAEDIEnAAEj6AeB4OLKtyZ5jAAAAAElFTkSuQmCC\"\n",
              "  frames[64] = \"data:image/png;base64,iVBORw0KGgoAAAANSUhEUgAAAbAAAAEgCAYAAADVKCZpAAAABHNCSVQICAgIfAhkiAAAAAlwSFlzAAALEgAACxIB0t1+/AAAADl0RVh0U29mdHdhcmUAbWF0cGxvdGxpYiB2ZXJzaW9uIDMuMC4zLCBodHRwOi8vbWF0cGxvdGxpYi5vcmcvnQurowAABPxJREFUeJzt3OFJI1EUgFFHbMI61jKsI9Zk6tgytA7LmP23CMZl2VXH775zIGACwoOQfHnMm7vt+75fAUDM9dELAIB/IWAAJAkYAEkCBkCSgAGQJGAAJAkYAEkCBkCSgAGQJGAAJAkYAEkCBkCSgAGQJGAAJAkYAEkCBkCSgAGQJGAAJAkYAEkCBkCSgAGQJGAAJAkYAEkCBkCSgAGQJGAAJAkYAEkCBkCSgAGQJGAAJAkYAEkCBkCSgAGQJGAAJAkYAEkCBkCSgAGQJGAAJAkYAEkCBkCSgAGQJGAAJAkYAEkCBkCSgAGQJGAAJAkYAEkCBkCSgAGQJGAAJAkYAEkCBkCSgAGQJGAAJAkYAEkCBkCSgAGQJGAAJAkYAEkCBkCSgAGQJGAAJAkYAEkCBkCSgAGQJGAAJAkYAEkCBkCSgAGQJGAAJAkYAEkCBkCSgAGQJGAAJAkYAEkCBkCSgAGQJGAAJAkYAEkCBkCSgAGQJGAAJAkYAEkCBkCSgAGQJGAAJAkYAEkCBkCSgAGQJGAAJAkYAEkCBkCSgAGQJGAAJAkYAEkCBkCSgAGQJGAAJAkYAEkCBkCSgAGQJGAAJAkYAEkCBkCSgAGQJGAAJAkYAEkCBkCSgAGQJGAAJAkYAEkCBkCSgAGQJGAAJAkYAEkCBkCSgAGQJGAAJAkYAEkCBkCSgAGQJGAAJAkYAEkCBkCSgAGQJGAAJAkYAEk3Ry8A+FzP54c3r/04PR6wEvhYdmAAJAkYAEkCBkCSgAGQJGAAJAkYDHbpBCJMIWAAJAkYAEkCBkCSgAGQJGAAJAkYLMYcRKYQMACSBAyAJAEDIEnAAEgSMBjKGCmmEzAAkgQMgCQBAyBJwABIEjAAkgQMFmKMFJMIGABJAgZAkoABkCRgACQJGAxkjBQrEDBYhBOITCNgACQJGABJAgZAkoABkCRgMIwTiKxCwABIEjAAkgQMgCQBAyBJwABIEjBYgDFSTCRgACQJGABJAgZAkoABkCRgMIgxUqxEwABIEjAAkgQMgCQBAyBJwGA4UziYSsAASBIwAJIEDIAkAQMgScAASBIwGMIYKVYjYAAkCRgASQIGQJKAAZAkYPCNbdv2149L7h7O//X/8J0JGABJN0cvAPg4P19Ov/++vz0fuBL4fHZgMMTreF16DtMIGABJAgZAkoDBAE+PpzfXvFwDY7pt3/f96EUAl33l8XZfBdQscwrRfS7wZz4jayr/cFkmYOU3iXXZgcH7XAMDIEnAAEgSMACSBAyAJAEDIEnAAEgSMACSlrkPDIrcmwXvswMDIEnAAEgSMACSBAyAJAEDIEnAAEgSMACSBAyAJAEDIEnAAEgSMACSBAyAJAEDIEnAAEgSMACSBAyAJAEDIEnAAEgSMACSBAyAJAEDIEnAAEgSMACSBAyAJAEDIEnAAEgSMACSBAyAJAEDIEnAAEgSMACSBAyAJAEDIEnAAEgSMACSBAyAJAEDIEnAAEgSMACSBAyAJAEDIEnAAEgSMACSBAyAJAEDIEnAAEgSMACSBAyAJAEDIEnAAEgSMACSBAyAJAEDIEnAAEgSMACSBAyAJAEDIEnAAEgSMACSBAyAJAEDIEnAAEgSMACSBAyAJAEDIEnAAEgSMACSBAyAJAEDIEnAAEgSMACSBAyAJAEDIEnAAEgSMACSBAyAJAEDIEnAAEgSMACSBAyAJAEDIOkX1Hk5S68LA3sAAAAASUVORK5CYII=\"\n",
              "  frames[65] = \"data:image/png;base64,iVBORw0KGgoAAAANSUhEUgAAAbAAAAEgCAYAAADVKCZpAAAABHNCSVQICAgIfAhkiAAAAAlwSFlzAAALEgAACxIB0t1+/AAAADl0RVh0U29mdHdhcmUAbWF0cGxvdGxpYiB2ZXJzaW9uIDMuMC4zLCBodHRwOi8vbWF0cGxvdGxpYi5vcmcvnQurowAABQBJREFUeJzt3eFp21AUgNEoZInO0YzROZKZ4jk6RjJHxlD/hdCqtLRJlO++c8BgGwwPjP35Iel62/d9vwKAmOuzFwAA/0LAAEgSMACSBAyAJAEDIEnAAEgSMACSBAyAJAEDIEnAAEgSMACSBAyAJAEDIEnAAEgSMACSBAyAJAEDIEnAAEgSMACSBAyAJAEDIEnAAEgSMACSBAyAJAEDIEnAAEgSMACSBAyAJAEDIEnAAEgSMACSBAyAJAEDIEnAAEgSMACSBAyAJAEDIEnAAEgSMACSBAyAJAEDIEnAAEgSMACSBAyAJAEDIEnAAEgSMACSBAyAJAEDIEnAAEgSMACSBAyAJAEDIEnAAEgSMACSBAyAJAEDIEnAAEgSMACSBAyAJAEDIEnAAEgSMACSBAyAJAEDIEnAAEgSMACSBAyAJAEDIEnAAEgSMACSBAyAJAEDIEnAAEgSMACSBAyAJAEDIEnAAEgSMACSBAyAJAEDIEnAAEgSMACSBAyAJAEDIEnAAEgSMACSBAyAJAEDIEnAAEgSMACSBAyAJAEDIEnAAEgSMACSBAyAJAEDIEnAAEgSMACSBAyAJAEDIEnAAEgSMACSBAyAJAEDIEnAAEgSMACSBAyAJAEDIEnAAEgSMACSBAyAJAEDIEnAAEgSMACSBAyAJAEDIEnAAEgSMACSBAyAJAEDIEnAAEgSMACSBAyAJAEDIEnAAEgSMACSbs5eAPD+ni73vzz39e7hhJXA27EDAyBJwABIEjAAkgQMgCQBg+GOTuCACQQMgCQBAyBJwABIEjAAkgQMgCQBgwUZI8UEAgZAkoABkCRgACQJGABJAgaDGSPFZAIGQJKAAZAkYAAkCRgASQIGQJKAwWKMkWIKAQMgScAASBIwAJIEDIAkAYOhjJFiOgEDIEnAAEgSMACSBAyAJAEDIEnAYCHGSDGJgAGQJGAAJAkYAEkCBkCSgMFAR2OknMDBNAIGQJKAAZAkYAAkCRgASQIGQJKAwTD+yJJVCBgASQIGQJKAAZAkYAAkCRgswBgpJhIwAJIEDIAkAQMgScAASBIwAJIEDAYxRoqVCBgASQIGQJKAAZAkYAAkCRgASQIGn9y2bX99O3J7f/mv18NnJWAAJN2cvQDgbX1/vnu5/+3L5cSVwPuyA4NBXsfr6DFMImAAJAkYDPH4YLfFWgQMBvn5mJdjYEy27fu+n70I4Pc+8vR2XweULHMWomtc4M98TtZT/tGyTMDKbxJrswODY46BAZAkYAAkCRgASQIGQJKAAZAkYAAkCRgASctcBwZVrs2CY3ZgACQJGABJAgZAkoABkCRgACQJGABJAgZAkoABkCRgACQJGABJAgZAkoABkCRgACQJGABJAgZAkoABkCRgACQJGABJAgZAkoABkCRgACQJGABJAgZAkoABkCRgACQJGABJAgZAkoABkCRgACQJGABJAgZAkoABkCRgACQJGABJAgZAkoABkCRgACQJGABJAgZAkoABkCRgACQJGABJAgZAkoABkCRgACQJGABJAgZAkoABkCRgACQJGABJAgZAkoABkCRgACQJGABJAgZAkoABkCRgACQJGABJAgZAkoABkCRgACQJGABJAgZAkoABkCRgACQJGABJAgZAkoABkCRgACQJGABJAgZAkoABkCRgACQJGABJAgZAkoABkCRgACQJGABJAgZAkoABkCRgACT9AJEwOUuG0JeDAAAAAElFTkSuQmCC\"\n",
              "  frames[66] = \"data:image/png;base64,iVBORw0KGgoAAAANSUhEUgAAAbAAAAEgCAYAAADVKCZpAAAABHNCSVQICAgIfAhkiAAAAAlwSFlzAAALEgAACxIB0t1+/AAAADl0RVh0U29mdHdhcmUAbWF0cGxvdGxpYiB2ZXJzaW9uIDMuMC4zLCBodHRwOi8vbWF0cGxvdGxpYi5vcmcvnQurowAABP1JREFUeJzt3dFtGkEUQNFsRBOuI22kDlKTXUfKsOtIGetvOxspjh3W9805Ej98oJEQXAZmH9u+7/sXAIj5evYCAOBfCBgASQIGQJKAAZAkYAAkCRgASQIGQJKAAZAkYAAkCRgASQIGQJKAAZAkYAAkCRgASQIGQJKAAZAkYAAkCRgASQIGQJKAAZAkYAAkCRgASQIGQJKAAZAkYAAkCRgASQIGQJKAAZAkYAAkCRgASQIGQJKAAZAkYAAkCRgASQIGQJKAAZAkYAAkCRgASQIGQJKAAZAkYAAkCRgASQIGQJKAAZAkYAAkCRgASQIGQJKAAZAkYAAkCRgASQIGQJKAAZAkYAAkCRgASQIGQJKAAZAkYAAkCRgASQIGQJKAAZAkYAAkCRgASQIGQJKAAZAkYAAkCRgASQIGQJKAAZAkYAAkCRgASQIGQJKAAZAkYAAkCRgASQIGQJKAAZAkYAAkCRgASQIGQJKAAZAkYAAkCRgASQIGQJKAAZAkYAAkCRgASQIGQJKAAZAkYAAkCRgASQIGQJKAAZAkYAAkCRgASQIGQJKAAZAkYAAkCRgASQIGQJKAAZAkYAAkCRgASQIGQJKAAZAkYAAkCRgASQIGQJKAAZAkYAAkCRgASQIGQJKAAZAkYAAkCRgASQIGQJKAAZAkYAAkCRgASQIGQJKAAZAkYAAkCRgASQIGQJKAAZAkYAAkCRgASQIGQNLl7AUAt/H08OO3+75d709YCXwMOzAAkgQMgCQBAyBJwABIEjBYwNEBDqgTMACSBAyAJAEDIEnAAEgSMACSBAwWZYwUdQIGQJKAAZAkYAAkCRgASQIGwxkjxVQCBkCSgAGQJGAAJAkYAEkCBgsyhYMJBAyAJAEDIEnAAEgSMACSBAwGM4WDyQQMgCQBAyBJwABIEjAAkgQMFmMKB1MIGABJAgZAkoABkCRgACQJGAxlCgfTCRgASQIGQJKAAZAkYAAkCRgASQIGCzFGikkEDIAkAQMgScAASBIwAJIEDAY6GiPlAAfTCBgASQIGQJKAAZAkYAAkCRgM43/AWIWAAZAkYAAkCRgASQIGQJKAAZAkYLAAY6SYSMAASBIwAJIEDD65bdvedHvvY0CFgMEgj/fXs5cAN3M5ewHAx/r562XEvt89nLQS+L/swGCQ1/GCyQQMhhM1phIwGM5XiEwlYDCIWLGSbd/3/exFAH9266Pt3hKoWOYUoutb4O94rayl/IFlmYCVnyTWZgcGx/wGBkCSgAGQJGAAJAkYAEkCBkCSgAGQJGAAJC1zHRhUuS4LjtmBAZAkYAAkCRgASQIGQJKAAZAkYAAkCRgASQIGQJKAAZAkYAAkCRgASQIGQJKAAZAkYAAkCRgASQIGQJKAAZAkYAAkCRgASQIGQJKAAZAkYAAkCRgASQIGQJKAAZAkYAAkCRgASQIGQJKAAZAkYAAkCRgASQIGQJKAAZAkYAAkCRgASQIGQJKAAZAkYAAkCRgASQIGQJKAAZAkYAAkCRgASQIGQJKAAZAkYAAkCRgASQIGQJKAAZAkYAAkCRgASQIGQJKAAZAkYAAkCRgASQIGQJKAAZAkYAAkCRgASQIGQJKAAZAkYAAkCRgASQIGQJKAAZAkYAAkCRgASQIGQJKAAZAkYAAkCRgASQIGQJKAAZAkYAAkCRgASQIGQJKAAZAkYAAkCRgASQIGQJKAAZD0DFxJOU40Eh1TAAAAAElFTkSuQmCC\"\n",
              "  frames[67] = \"data:image/png;base64,iVBORw0KGgoAAAANSUhEUgAAAbAAAAEgCAYAAADVKCZpAAAABHNCSVQICAgIfAhkiAAAAAlwSFlzAAALEgAACxIB0t1+/AAAADl0RVh0U29mdHdhcmUAbWF0cGxvdGxpYiB2ZXJzaW9uIDMuMC4zLCBodHRwOi8vbWF0cGxvdGxpYi5vcmcvnQurowAABQtJREFUeJzt3Mtt20AUQFEycBOuIynDddg1WXWkjKQOl8Es408WSoSYuG/O2QmggAEE6Wr4eftxHMcGADFfzl4AAPwLAQMgScAASBIwAJIEDIAkAQMgScAASBIwAJIEDIAkAQMgScAASBIwAJIEDIAkAQMgScAASBIwAJIEDIAkAQMgScAASBIwAJIEDIAkAQMgScAASBIwAJIEDIAkAQMgScAASBIwAJIEDIAkAQMgScAASBIwAJIEDIAkAQMgScAASBIwAJIEDIAkAQMgScAASBIwAJIEDIAkAQMgScAASBIwAJIEDIAkAQMgScAASBIwAJIEDIAkAQMgScAASBIwAJIEDIAkAQMgScAASBIwAJIEDIAkAQMgScAASBIwAJIEDIAkAQMgScAASBIwAJIEDIAkAQMgScAASBIwAJIEDIAkAQMgScAASBIwAJIEDIAkAQMgScAASBIwAJIEDIAkAQMgScAASBIwAJIEDIAkAQMgScAASBIwAJIEDIAkAQMgScAASBIwAJIEDIAkAQMgScAASBIwAJIEDIAkAQMgScAASBIwAJIEDIAkAQMgScAASBIwAJIEDIAkAQMgScAASBIwAJIEDIAkAQMgScAASBIwAJIEDIAkAQMgScAASBIwAJIEDIAkAQMgScAASBIwAJIEDIAkAQMgScAASBIwAJIEDIAkAQMgScAASBIwAJIEDIAkAQMgScAASLo7ewHA5/l5eXrz+uvj80krgdvZgcHC3gcNSgQMgCQBAyBJwABIEjBYhOtdTCNgACQJGABJAgZAkoABkCRgsDCTOCgTMACSBAyAJAEDIEnAAEgSMFiAKRxMJGAAJAkYAEkCBkCSgAGQJGCwKFM4qBMwAJIEDIAkAQMgScAASBIwGM4UDqYSMACSBAyAJAEDIEnAAEgSMACSBAwWZIwUEwgYAEkCBkCSgAGQJGAAJAkYDGaMFJMJGABJAgZAkoABkCRgACQJGCzGFA6mEDAAkgQMgCQBAyBJwABIEjAYyhQOphMwAJIEDIAkAQMgScAASBIwWIgpHEwiYAAkCRgASQIGQJKAAZAkYDDQn6ZwuIGDaQQMgCQBAyBJwABIEjAAku7OXgBwnX3frzrux/PjTe/ftm07juPqY+EsdmAAJNmBwVDfX37vxB7uLyeuBP4PAYNhXocLJnMKERYgakwkYLAApxCZSMBgmIf7y4dgfXsSMObZD/fLQsLf3AZ/Kz8LFCxzE8dnfvmhzvdlHeU/K8sErPwhwbbZgcF7roEBkCRgACQJGABJAgZAkoABkCRgACQJGABJyzwHBnWezYK37MAASBIwAJIEDIAkAQMgScAASBIwAJIEDIAkAQMgScAASBIwAJIEDIAkAQMgScAASBIwAJIEDIAkAQMgScAASBIwAJIEDIAkAQMgScAASBIwAJIEDIAkAQMgScAASBIwAJIEDIAkAQMgScAASBIwAJIEDIAkAQMgScAASBIwAJIEDIAkAQMgScAASBIwAJIEDIAkAQMgScAASBIwAJIEDIAkAQMgScAASBIwAJIEDIAkAQMgScAASBIwAJIEDIAkAQMgScAASBIwAJIEDIAkAQMgScAASBIwAJIEDIAkAQMgScAASBIwAJIEDIAkAQMgScAASBIwAJIEDIAkAQMgScAASBIwAJIEDIAkAQMgScAASBIwAJIEDIAkAQMgScAASBIwAJIEDIAkAQMgScAASPoFXVVAEsgNXQEAAAAASUVORK5CYII=\"\n",
              "  frames[68] = \"data:image/png;base64,iVBORw0KGgoAAAANSUhEUgAAAbAAAAEgCAYAAADVKCZpAAAABHNCSVQICAgIfAhkiAAAAAlwSFlzAAALEgAACxIB0t1+/AAAADl0RVh0U29mdHdhcmUAbWF0cGxvdGxpYiB2ZXJzaW9uIDMuMC4zLCBodHRwOi8vbWF0cGxvdGxpYi5vcmcvnQurowAABQtJREFUeJzt3NFNG0EUQNHdiCaoIymDOkxNuI6UkdRBGcMfMghIQpBXd+YcyRL7Y42E7Ou1580+xhgbAMR8O3oBAPAZAgZAkoABkCRgACQJGABJAgZAkoABkCRgACQJGABJAgZAkoABkCRgACQJGABJAgZAkoABkCRgACQJGABJAgZAkoABkCRgACQJGABJAgZAkoABkCRgACQJGABJAgZAkoABkCRgACQJGABJAgZAkoABkCRgACQJGABJAgZAkoABkCRgACQJGABJAgZAkoABkCRgACQJGABJAgZAkoABkCRgACQJGABJAgZAkoABkCRgACQJGABJAgZAkoABkCRgACQJGABJAgZAkoABkCRgACQJGABJAgZAkoABkCRgACQJGABJAgZAkoABkCRgACQJGABJAgZAkoABkCRgACQJGABJAgZAkoABkCRgACQJGABJAgZAkoABkCRgACQJGABJAgZAkoABkCRgACQJGABJAgZAkoABkCRgACQJGABJAgZAkoABkCRgACQJGABJAgZAkoABkCRgACQJGABJAgZAkoABkCRgACQJGABJAgZAkoABkCRgACQJGABJAgZAkoABkCRgACQJGABJAgZAkoABkCRgACQJGABJAgZAkoABkCRgACQJGABJAgZAkoABkCRgACQJGABJAgZAkoABkCRgACQJGABJAgZAkoABkCRgACQJGABJAgZAkoABkHRz9AKA6/t9vn/++/vp4cCVwOftY4xx9CKA67mM1yUho8ZXiAAkCRgASQIGQJKAAZAkYIANHCQJGABJAgZAkoABkCRgsJD3hpihSMBgcTZwUCVgACQJGABJAgZAkoDBImzgYDYCBkCSgAGQJGAAJAkYAEkCBgszxEyZgAGQJGAAJAkYAEkCBkCSgMECnMLBjAQMgCQBAyBJwABIEjAAkgQMFuUUDuoEDIAkAQMgScAASBIwmJwhZmYlYAAkCRgASQIGQJKAAZAkYAAkCRgsyCkczEDAAEgSMACSBAyAJAGDiTmFg5kJGABJAgZAkoABkCRgACQJGCzGEDOzEDAAkgQMgCQBAyBJwGBShpiZnYABkCRgACQJGABJAgZAkoABkCRgsBCncDATAQMgScAgYt/3f3r8z3NAgYABkHRz9AKAr/fr4bT9fDw9X9/dnrcf9+cDVwRfzx0YTOgyXm9dwwwEDIAkAQMgScBgQne35w+vYQb7GGMcvQjgz665vd3bAgXL7EI02wJ/z+tlHeUPK8sErPxPgm1zBwav+Q0MgCQBAyBJwABIEjAAkgQMgCQBAyBJwABIWmYODOrMZsFL7sAASBIwAJIEDIAkAQMgScAASBIwAJIEDIAkAQMgScAASBIwAJIEDIAkAQMgScAASBIwAJIEDIAkAQMgScAASBIwAJIEDIAkAQMgScAASBIwAJIEDIAkAQMgScAASBIwAJIEDIAkAQMgScAASBIwAJIEDIAkAQMgScAASBIwAJIEDIAkAQMgScAASBIwAJIEDIAkAQMgScAASBIwAJIEDIAkAQMgScAASBIwAJIEDIAkAQMgScAASBIwAJIEDIAkAQMgScAASBIwAJIEDIAkAQMgScAASBIwAJIEDIAkAQMgScAASBIwAJIEDIAkAQMgScAASBIwAJIEDIAkAQMgScAASBIwAJIEDIAkAQMgScAASBIwAJIEDIAkAQMgScAASBIwAJIEDIAkAQMgScAASHoCGKpCrauUIssAAAAASUVORK5CYII=\"\n",
              "  frames[69] = \"data:image/png;base64,iVBORw0KGgoAAAANSUhEUgAAAbAAAAEgCAYAAADVKCZpAAAABHNCSVQICAgIfAhkiAAAAAlwSFlzAAALEgAACxIB0t1+/AAAADl0RVh0U29mdHdhcmUAbWF0cGxvdGxpYiB2ZXJzaW9uIDMuMC4zLCBodHRwOi8vbWF0cGxvdGxpYi5vcmcvnQurowAABRdJREFUeJzt3N1NG0EYQNHdiCaoIymDOqAmXEfKIHVQxvBEbEVEChBY7sw5kiX7xRrJsq/355t9jDE2AIj5dvQCAOAtBAyAJAEDIEnAAEgSMACSBAyAJAEDIEnAAEgSMACSBAyAJAEDIEnAAEgSMACSBAyAJAEDIEnAAEgSMACSBAyAJAEDIEnAAEgSMACSBAyAJAEDIEnAAEgSMACSBAyAJAEDIEnAAEgSMACSBAyAJAEDIEnAAEgSMACSBAyAJAEDIEnAAEgSMACSBAyAJAEDIEnAAEgSMACSBAyAJAEDIEnAAEgSMACSBAyAJAEDIEnAAEgSMACSBAyAJAEDIEnAAEgSMACSBAyAJAEDIEnAAEgSMACSBAyAJAEDIEnAAEgSMACSBAyAJAEDIEnAAEgSMACSBAyAJAEDIEnAAEgSMACSBAyAJAEDIEnAAEgSMACSBAyAJAEDIEnAAEgSMACSBAyAJAEDIEnAAEgSMACSBAyAJAEDIEnAAEgSMACSBAyAJAEDIEnAAEgSMACSBAyAJAEDIEnAAEgSMACSBAyAJAEDIEnAAEgSMACSBAyAJAEDIEnAAEgSMACSBAyAJAEDIEnAAEgSMACSBAyAJAEDIEnAAEgSMACSBAyAJAEDIEnAAEgSMACSBAyAJAEDIEnAAEgSMACSBAyAJAEDIEnAAEgSMACSBAyAJAEDIEnAAEgSMACSBAyAJAEDIOnq6AUAx/h1uvv9/Pvt/YErgbfZxxjj6EUAn+syXpeEjBKnEAFIEjAAkgQMgCQBAyBJwIBt29zAQY+AAZAkYAAkCRgASQIGQJKAwWL+tgsH1AgYAEkCBkCSgAGQJGAAJAkYYBcOkgQMgCQBAyBJwABIEjBYyEtDzK5/USVgACQJGABJAgZAkoABkCRgsAi70DMbAQMgScAASBIwAJIEDIAkAYOF2YWDMgEDIEnAAEgSMACSBAwWYIiZGQkYAEkCBkCSgAGQJGAAJAkYLMoQM3UCBkCSgAGQJGAAJAkYTM4QM7MSMACSBAyAJAEDIEnAAEgSMFiQIWZmIGAAJAkYAEkCBkCSgAGQJGAwMbtwMDMBAyBJwABIEjAAkgQMgCQBg8XYhYNZCBgASQIGQJKAQci+7696vOc94KsTMJjUw/3t0UuAD3V19AKAj/Pz8Ryxm+vTgSuB/88RGEzqMl4vvYY6AYOFiBgzETBYiNOIzETAYFJ/xurm+rT9uBMw5rGPMcbRiwD+zWfe3u6nga9umbsQzbXA6/jOrKH8R2WZgJU/JHjmCAzOXAMDIEnAAEgSMACSBAyAJAEDIEnAAEgSMACSlpkDgxmYzYIzR2AAJAkYAEkCBkCSgAGQJGAAJAkYAEkCBkCSgAGQJGAAJAkYAEkCBkCSgAGQJGAAJAkYAEkCBkCSgAGQJGAAJAkYAEkCBkCSgAGQJGAAJAkYAEkCBkCSgAGQJGAAJAkYAEkCBkCSgAGQJGAAJAkYAEkCBkCSgAGQJGAAJAkYAEkCBkCSgAGQJGAAJAkYAEkCBkCSgAGQJGAAJAkYAEkCBkCSgAGQJGAAJAkYAEkCBkCSgAGQJGAAJAkYAEkCBkCSgAGQJGAAJAkYAEkCBkCSgAGQJGAAJAkYAEkCBkCSgAGQJGAAJAkYAEkCBkCSgAGQJGAAJAkYAEkCBkCSgAGQJGAAJAkYAEkCBkCSgAGQJGAAJAkYAEkCBkCSgAGQJGAAJAkYAEkCBkCSgAGQJGAAJD0BfthFrTSyiIoAAAAASUVORK5CYII=\"\n",
              "  frames[70] = \"data:image/png;base64,iVBORw0KGgoAAAANSUhEUgAAAbAAAAEgCAYAAADVKCZpAAAABHNCSVQICAgIfAhkiAAAAAlwSFlzAAALEgAACxIB0t1+/AAAADl0RVh0U29mdHdhcmUAbWF0cGxvdGxpYiB2ZXJzaW9uIDMuMC4zLCBodHRwOi8vbWF0cGxvdGxpYi5vcmcvnQurowAABRNJREFUeJzt3N1JK1EYQNEZsQnr0DKsQ9uwDa3DMu6t45YxPgSCiA+JP3eyz1kLAiGQcCBkdiZnvqzbtm0LAMRc7b0AAPgKAQMgScAASBIwAJIEDIAkAQMgScAASBIwAJIEDIAkAQMgScAASBIwAJIEDIAkAQMgScAASBIwAJIEDIAkAQMgScAASBIwAJIEDIAkAQMgScAASBIwAJIEDIAkAQMgScAASBIwAJIEDIAkAQMgScAASBIwAJIEDIAkAQMgScAASBIwAJIEDIAkAQMgScAASBIwAJIEDIAkAQMgScAASBIwAJIEDIAkAQMgScAASBIwAJIEDIAkAQMgScAASBIwAJIEDIAkAQMgScAASBIwAJIEDIAkAQMgScAASBIwAJIEDIAkAQMgScAASBIwAJIEDIAkAQMgScAASBIwAJIEDIAkAQMgScAASBIwAJIEDIAkAQMgScAASBIwAJIEDIAkAQMgScAASBIwAJIEDIAkAQMgScAASBIwAJIEDIAkAQMgScAASBIwAJIEDIAkAQMgScAASBIwAJIEDIAkAQMgScAASBIwAJIEDIAkAQMgScAASBIwAJIEDIAkAQMgScAASBIwAJIEDIAkAQMgScAASBIwAJIEDIAkAQMgScAASBIwAJIEDIAkAQMgScAASBIwAJIEDIAkAQMgScAASBIwAJIEDIAkAQMgScAASBIwAJIEDIAkAQMgScAASLreewHAfv6+PB7v3z4877gSOJ8zMGBZlkPM3gcNLp2AAZAkYDApZ1vUCRgASQIGQJKAAZAkYMCRS+kpETAAkgQMgCQBAyBJwABIEjCYkCFmRiBgACQJGABJAgZAkoABy7IYYqZHwABIEjAAkgQMgCQBg8mYAWMUAgZAkoABkCRgACQJGABJAgYYYiZJwABIEjAAkgQMgCQBg4l8NsRs/4sqAQMgScAASBIwAJIEDCbhT3wZjYABkCRgACQJGABJAgZAkoDBxAwxUyZgACQJGABJAgZAkoDBBAwxMyIBAyBJwABIEjAAkgQMgCQBg0kZYqZOwABIEjAAkgQMBmcGjFEJGABJAgZAkoABkCRgACQJGEzIDBgjEDAAkgQMgCQBAyBJwGBghpgZmYABkCRgELOu68m3774GXDIBAyDpeu8FAL/r9d/D8f79zcuOK4GftW7btu29COB05/y09/T055PH7k5+vsMDl8xPiAAkCRgASQIGA/u452UPjJHYA4OY/3l5u8MDl2yaqxDNtMD5fG7GV/6SMk3Aym8SvOcMDA7sgQGQJGAAJAkYAEkCBkCSgAGQJGAAJAkYAEnTzIHBKMxmwYEzMACSBAyAJAEDIEnAAEgSMACSBAyAJAEDIEnAAEgSMACSBAyAJAEDIEnAAEgSMACSBAyAJAEDIEnAAEgSMACSBAyAJAEDIEnAAEgSMACSBAyAJAEDIEnAAEgSMACSBAyAJAEDIEnAAEgSMACSBAyAJAEDIEnAAEgSMACSBAyAJAEDIEnAAEgSMACSBAyAJAEDIEnAAEgSMACSBAyAJAEDIEnAAEgSMACSBAyAJAEDIEnAAEgSMACSBAyAJAEDIEnAAEgSMACSBAyAJAEDIEnAAEgSMACSBAyAJAEDIEnAAEgSMACSBAyAJAEDIEnAAEgSMACSBAyAJAEDIEnAAEgSMACSBAyAJAEDIEnAAEgSMACSBAyAJAEDIEnAAEgSMACSBAyAJAEDIEnAAEgSMACS3gBG/EXgxDCtRwAAAABJRU5ErkJggg==\"\n",
              "  frames[71] = \"data:image/png;base64,iVBORw0KGgoAAAANSUhEUgAAAbAAAAEgCAYAAADVKCZpAAAABHNCSVQICAgIfAhkiAAAAAlwSFlzAAALEgAACxIB0t1+/AAAADl0RVh0U29mdHdhcmUAbWF0cGxvdGxpYiB2ZXJzaW9uIDMuMC4zLCBodHRwOi8vbWF0cGxvdGxpYi5vcmcvnQurowAABQlJREFUeJzt291N40AYQFEb0QR1LGVQR1ITqWPLgDoow7xFBPHAzy7OnTlHimS/RCNFzs3E/tZt27YFAGJu9l4AAHyHgAGQJGAAJAkYAEkCBkCSgAGQJGAAJAkYAEkCBkCSgAGQJGAAJAkYAEkCBkCSgAGQJGAAJAkYAEkCBkCSgAGQJGAAJAkYAEkCBkCSgAGQJGAAJAkYAEkCBkCSgAGQJGAAJAkYAEkCBkCSgAGQJGAAJAkYAEkCBkCSgAGQJGAAJAkYAEkCBkCSgAGQJGAAJAkYAEkCBkCSgAGQJGAAJAkYAEkCBkCSgAGQJGAAJAkYAEkCBkCSgAGQJGAAJAkYAEkCBkCSgAGQJGAAJAkYAEkCBkCSgAGQJGAAJAkYAEkCBkCSgAGQJGAAJAkYAEkCBkCSgAGQJGAAJAkYAEkCBkCSgAGQJGAAJAkYAEkCBkCSgAGQJGAAJAkYAEkCBkCSgAGQJGAAJAkYAEkCBkCSgAGQJGAAJAkYAEkCBkCSgAGQJGAAJAkYAEkCBkCSgAGQJGAAJAkYAEkCBkCSgAGQJGAAJAkYAEkCBkCSgAGQJGAAJAkYAEkCBkCSgAGQJGAAJAkYAEkCBkCSgAGQJGAAJAkYAEkCBkCSgAGQJGAAJAkYAEkCBkCSgAGQJGAAJAkYAEkCBkCSgAGQJGAAJAkYAEkCBkCSgAGQJGAAJAkYAEkCBkCSgAGQJGAAJN3uvQBgX8+n4/n4z+Fxx5XA19iBAWfPp+NF0OCaCRgASQIGQJKAwcT8XUiZgAGQJGAAJAkYAEkCBlwwC0aFgAGQJGAAJAkYAEkCBpMyA0adgAGQJGAAJAkYAEkCBkCSgAFnhpgpETAAkgQMgCQBgwmZAWMEAgZAkoABkCRgACQJGABJAgYsy2IGjB4BAyBJwABIEjAAkgQMJmOImVEIGABJAgZAkoABkCRgACQJGGCImSQBAyBJwABIEjCYiBkwRiJgMDn3v6gSMACSBAyAJAEDIEnAYBIe4GA0AgZAkoABkCRgACQJGEzMDBhlAgZAkoABkCRgACQJGEzADBgjEjAAkgQMgCQBAyBJwABIEjCYlCFm6gQMgCQBAyBJwABIEjAYnCFmRiVgACQJGASt6/rp10/fA66VgAGQdLv3AoD/7+/L4Xz8cHda7o+nHVcD/4YdGAzubbw+OocqAQMgScAASBIwGNjT42F5uLu83/X+HKrWbdu2vRcBfM1vPt7uK4JrNc1TiOZZ4HtcO2Mr/0CZJmDlDwneswMD98AAiBIwAJIEDIAkAQMgScAASBIwAJIEDICkaebAYCRms8AODIAoAQMgScAASBIwAJIEDIAkAQMgScAASBIwAJIEDIAkAQMgScAASBIwAJIEDIAkAQMgScAASBIwAJIEDIAkAQMgScAASBIwAJIEDIAkAQMgScAASBIwAJIEDIAkAQMgScAASBIwAJIEDIAkAQMgScAASBIwAJIEDIAkAQMgScAASBIwAJIEDIAkAQMgScAASBIwAJIEDIAkAQMgScAASBIwAJIEDIAkAQMgScAASBIwAJIEDIAkAQMgScAASBIwAJIEDIAkAQMgScAASBIwAJIEDIAkAQMgScAASBIwAJIEDIAkAQMgScAASBIwAJIEDIAkAQMgScAASBIwAJIEDIAkAQMgScAASBIwAJIEDIAkAQMgScAASBIwAJIEDIAkAQMgScAASBIwAJIEDICkV9ViQue+2eKBAAAAAElFTkSuQmCC\"\n",
              "  frames[72] = \"data:image/png;base64,iVBORw0KGgoAAAANSUhEUgAAAbAAAAEgCAYAAADVKCZpAAAABHNCSVQICAgIfAhkiAAAAAlwSFlzAAALEgAACxIB0t1+/AAAADl0RVh0U29mdHdhcmUAbWF0cGxvdGxpYiB2ZXJzaW9uIDMuMC4zLCBodHRwOi8vbWF0cGxvdGxpYi5vcmcvnQurowAABQ1JREFUeJzt3NFNwlAYgFFqXMI5dAznwDVcQ+ZwDJnDMeobCcoDoqF8veckJA0J5CYEPtrLzzTP87wBgJi7pRcAAJcQMACSBAyAJAEDIEnAAEgSMACSBAyAJAEDIEnAAEgSMACSBAyAJAEDIEnAAEgSMACSBAyAJAEDIEnAAEgSMACSBAyAJAEDIEnAAEgSMACSBAyAJAEDIEnAAEgSMACSBAyAJAEDIEnAAEgSMACSBAyAJAEDIEnAAEgSMACSBAyAJAEDIEnAAEgSMACSBAyAJAEDIEnAAEgSMACSBAyAJAEDIEnAAEgSMACSBAyAJAEDIEnAAEgSMACSBAyAJAEDIEnAAEgSMACSBAyAJAEDIEnAAEgSMACSBAyAJAEDIEnAAEgSMACSBAyAJAEDIEnAAEgSMACSBAyAJAEDIEnAAEgSMACSBAyAJAEDIEnAAEgSMACSBAyAJAEDIEnAAEgSMACSBAyAJAEDIEnAAEgSMACSBAyAJAEDIEnAAEgSMACSBAyAJAEDIEnAAEgSMACSBAyAJAEDIEnAAEgSMACSBAyAJAEDIEnAAEgSMACSBAyAJAEDIEnAAEgSMACSBAyAJAEDIEnAAEgSMACSBAyAJAEDIEnAAEgSMACSBAyAJAEDIEnAAEgSMACSBAyAJAEDIEnAAEgSMACSBAyAJAEDIEnAAEgSMACSBAyAJAEDIEnAAEgSMACSBAyApPulFwAsb797ORw/bt8WXAmczxkYcGS/ezkKGtwqAQMgScAASBIwAJIEDAZnv4sqAQMgScAASBIwAJIEDPjBMDMFAgZAkoABkCRgACQJGAzMDBhlAgZAkoABkCRgACQJGABJAgYcMcRMhYABkCRgACQJGABJAgaDMsRMnYABkCRgACQJGABJAgYcmAGjRMAASBIwAJIEDIAkAYMBmQFjDQQMgCQBAyBJwABIEjAAkgQM2Gw2hpjpETAAkgQMgCQBg8GYAWMtBAyAJAEDIEnAAEgSMACSBAwwA0aSgAGQJGAAJAkYAEkCBgM5NcRs/4sqAQMgScAASBIwAJIEDAbhT3xZGwEDIEnAAEgSMACSBAyAJAGDgRlipkzAAEgSMACSBAyAJAGDARhiZo0EDKKmaTr79tfngFskYAAk3S+9AOA63j+3h+Pnh92CK4H/Mc3zPC+9COD3fnNp7/X148R9T2c/3scEt8glRACSBAyAJAGDAXzf87IHxhrYA4Ooa/683ccEt2iYXyGaZYHLef+sV/nLyTABK79IcIozMEZnDwyAJAEDIEnAAEgSMACSBAyAJAEDIEnAAEgaZg4M1sZsFqNzBgZAkoABkCRgACQJGABJAgZAkoABkCRgACQJGABJAgZAkoABkCRgACQJGABJAgZAkoABkCRgACQJGABJAgZAkoABkCRgACQJGABJAgZAkoABkCRgACQJGABJAgZAkoABkCRgACQJGABJAgZAkoABkCRgACQJGABJAgZAkoABkCRgACQJGABJAgZAkoABkCRgACQJGABJAgZAkoABkCRgACQJGABJAgZAkoABkCRgACQJGABJAgZAkoABkCRgACQJGABJAgZAkoABkCRgACQJGABJAgZAkoABkCRgACQJGABJAgZAkoABkCRgACQJGABJAgZAkoABkCRgACQJGABJAgZAkoABkCRgACQJGABJAgZAkoABkCRgACQJGABJAgZAkoABkCRgACQJGABJAgZA0hcBfEXg6lN2CAAAAABJRU5ErkJggg==\"\n",
              "  frames[73] = \"data:image/png;base64,iVBORw0KGgoAAAANSUhEUgAAAbAAAAEgCAYAAADVKCZpAAAABHNCSVQICAgIfAhkiAAAAAlwSFlzAAALEgAACxIB0t1+/AAAADl0RVh0U29mdHdhcmUAbWF0cGxvdGxpYiB2ZXJzaW9uIDMuMC4zLCBodHRwOi8vbWF0cGxvdGxpYi5vcmcvnQurowAABRtJREFUeJzt3OFp6lAYgOGkdIk7RzvGncOu0TXqHB2jnaNj5P6Tlip4KzR5c54HBBGUA2Je48nnvCzLMgFAzN3aCwCAnxAwAJIEDIAkAQMgScAASBIwAJIEDIAkAQMgScAASBIwAJIEDIAkAQMgScAASBIwAJIEDIAkAQMgScAASBIwAJIEDIAkAQMgScAASBIwAJIEDIAkAQMgScAASBIwAJIEDIAkAQMgScAASBIwAJIEDIAkAQMgScAASBIwAJIEDIAkAQMgScAASBIwAJIEDIAkAQMgScAASBIwAJIEDIAkAQMgScAASBIwAJIEDIAkAQMgScAASBIwAJIEDIAkAQMgScAASBIwAJIEDIAkAQMgScAASBIwAJIEDIAkAQMgScAASBIwAJIEDIAkAQMgScAASBIwAJIEDIAkAQMgScAASBIwAJIEDIAkAQMgScAASBIwAJIEDIAkAQMgScAASBIwAJIEDIAkAQMgScAASBIwAJIEDIAkAQMgScAASBIwAJIEDIAkAQMgScAASBIwAJIEDIAkAQMgScAASBIwAJIEDIAkAQMgScAASBIwAJIEDIAkAQMgScAASBIwAJIEDIAkAQMgScAASBIwAJIEDIAkAQMgScAASBIwAJIEDIAkAQMgScAASBIwAJIEDIAkAQMgScAASBIwAJIEDIAkAQMgScAASBIwAJIEDIAkAQMgScAASBIwAJIEDIAkAQNO3o9P0/vxae1lwFXu114AsD2fI/ZweFlxJXCZMzBgmqbJmRc5AgZAkoABkCRgACQJGHCRCzjYMgEDIEnAAEgSMACSBAwwA0aSgAFnuYCDrRMwAJIEDIAkAYPB2f+iSsAASBIwAJIEDIAkAQMgScCAb8yAUSBgACQJGABJAgYDMwNGmYABkCRgACQJGABJAgZAkoABX5gBo0LAAEgSMACSBAwGZQaMOgEDIEnAAEgSMACSBAyAJAEDTsyAUSJgACQJGABJAgYDMgPGHggYAEkCBkCSgAGQJGAAJAkYME2TGTB6BAyAJAEDIEnAAEgSMBiMIWb2QsAASBIwAJIEDIAkAQPMgJEkYAAkCRgASQIGQJKAwUDOzYDZ/6JKwABIEjAAkgQMgCQBg0H4D0T2RsAASBIwCJvn+erbra8BWyNgACTdr70A4Pe8fhxO9//+Oa64ErjdvCzLsvYigJ/5n5/2np/fzjz2ePXzHSrYGj8hApAkYAAkCRgM4O3l8G3Pyx4YdfbAIOw3L293qGBrhrkK0RwL3MZnaJ/KX0yGCVj5TYJLnIExMntgACQJGABJAgZAkoABkCRgACQJGABJAgZA0jBzYLBHZrMYmTMwAJIEDIAkAQMgScAASBIwAJIEDIAkAQMgScAASBIwAJIEDIAkAQMgScAASBIwAJIEDIAkAQMgScAASBIwAJIEDIAkAQMgScAASBIwAJIEDIAkAQMgScAASBIwAJIEDIAkAQMgScAASBIwAJIEDIAkAQMgScAASBIwAJIEDIAkAQMgScAASBIwAJIEDIAkAQMgScAASBIwAJIEDIAkAQMgScAASBIwAJIEDIAkAQMgScAASBIwAJIEDIAkAQMgScAASBIwAJIEDIAkAQMgScAASBIwAJIEDIAkAQMgScAASBIwAJIEDIAkAQMgScAASBIwAJIEDIAkAQMgScAASBIwAJIEDIAkAQMgScAASBIwAJIEDIAkAQMgScAASBIwAJIEDIAkAQMgScAASBIwAJL+AfhkSquTUXpVAAAAAElFTkSuQmCC\"\n",
              "  frames[74] = \"data:image/png;base64,iVBORw0KGgoAAAANSUhEUgAAAbAAAAEgCAYAAADVKCZpAAAABHNCSVQICAgIfAhkiAAAAAlwSFlzAAALEgAACxIB0t1+/AAAADl0RVh0U29mdHdhcmUAbWF0cGxvdGxpYiB2ZXJzaW9uIDMuMC4zLCBodHRwOi8vbWF0cGxvdGxpYi5vcmcvnQurowAABRFJREFUeJzt29FN40AUQFF7RRPUsVsGdSQ1kTooY6mDMsxfREQAQSTs6zlHipT8RCNFzs3E8+ZlWZYJAGL+rL0AAPgJAQMgScAASBIwAJIEDIAkAQMgScAASBIwAJIEDIAkAQMgScAASBIwAJIEDIAkAQMgScAASBIwAJIEDIAkAQMgScAASBIwAJIEDIAkAQMgScAASBIwAJIEDIAkAQMgScAASBIwAJIEDIAkAQMgScAASBIwAJIEDIAkAQMgScAASBIwAJIEDIAkAQMgScAASBIwAJIEDIAkAQMgScAASBIwAJIEDIAkAQMgScAASBIwAJIEDIAkAQMgScAASBIwAJIEDIAkAQMgScAASBIwAJIEDIAkAQMgScAASBIwAJIEDIAkAQMgScAASBIwAJIEDIAkAQMgScAASBIwAJIEDIAkAQMgScAASBIwAJIEDIAkAQMgScAASBIwAJIEDIAkAQMgScAASBIwAJIEDIAkAQMgScAASBIwAJIEDIAkAQMgScAASBIwAJIEDIAkAQMgScAASBIwAJIEDIAkAQMgScAASBIwAJIEDIAkAQMgScAASBIwAJIEDIAkAQMgScAASBIwAJIEDIAkAQMgScAASBIwAJIEDIAkAQMgScAASBIwAJIEDIAkAQMgScAASBIwAJIEDIAkAQMgScAASBIwAJIEDIAkAQMgScAASBIwAJIEDIAkAQMgScAASBIw4MLz6Tg9n45rLwO+dLf2AoBtehuxv4fHFVcC19mBAZAkYAAkCRhw5t4XJQIGQJKAAZAkYAAkCRjwKUfo2SoBAyBJwABIEjBgmiZH6OkRMACSBAyAJAEDIEnAAEgSMOBDZsDYMgEDIEnAAEgSMMAMGEkCBlzl/hdbJ2AAJAkYAEkCBkCSgMHgHOCgSsAASBIwAJIEDIAkAQPeMQNGgYABkCRgACQJGAzMEXrKBAyAJAEDIEnAAEgSMACSBAy4YAaMCgEDIEnAAEgSMACSBAwGZYiZOgEDIEnAAEgSMACSBAw4MwNGiYABkCRgACQJGABJAgYDMgPGHggYAEkCBkCSgAGQJGDANE1mwOgRMACSBAyAJAEDIEnAYDBmwNgLAQMgScAASBIwAJIEDDADRpKAQdw8z9963PIesCUCBkDS3doLAH7X08vh/Pzh/rTiSuA2dmAwkP+Ph4vXb2MGNQIGA7kWrH9HuzCaBAwG4i9D9kTAYGCCRtm8LMuy9iKAn/vN4+2+LtiSYU4hmmGB27mO9qf8o2SYgJU/JPiMHRijcg8MgCQBAyBJwABIEjAAkgQMgCQBAyBJwABIGmYODPbKbBajsgMDIEnAAEgSMACSBAyAJAEDIEnAAEgSMACSBAyAJAEDIEnAAEgSMACSBAyAJAEDIEnAAEgSMACSBAyAJAEDIEnAAEgSMACSBAyAJAEDIEnAAEgSMACSBAyAJAEDIEnAAEgSMACSBAyAJAEDIEnAAEgSMACSBAyAJAEDIEnAAEgSMACSBAyAJAEDIEnAAEgSMACSBAyAJAEDIEnAAEgSMACSBAyAJAEDIEnAAEgSMACSBAyAJAEDIEnAAEgSMACSBAyAJAEDIEnAAEgSMACSBAyAJAEDIEnAAEgSMACSBAyAJAEDIEnAAEgSMACSBAyAJAEDIEnAAEgSMACSBAyAJAEDIEnAAEgSMACSBAyAJAEDIEnAAEgSMACSBAyAJAEDIEnAAEgSMACSBAyAJAEDIOkVB/lEHA5+oeIAAAAASUVORK5CYII=\"\n",
              "  frames[75] = \"data:image/png;base64,iVBORw0KGgoAAAANSUhEUgAAAbAAAAEgCAYAAADVKCZpAAAABHNCSVQICAgIfAhkiAAAAAlwSFlzAAALEgAACxIB0t1+/AAAADl0RVh0U29mdHdhcmUAbWF0cGxvdGxpYiB2ZXJzaW9uIDMuMC4zLCBodHRwOi8vbWF0cGxvdGxpYi5vcmcvnQurowAABRxJREFUeJzt3MFNG1EUQNHviCaoIymDOkwbtIHrSBmhDsoYdlaME0gMYub6nyN54Q16kmWux/Ofd8uyLAMAYr6tPQAAXELAAEgSMACSBAyAJAEDIEnAAEgSMACSBAyAJAEDIEnAAEgSMACSBAyAJAEDIEnAAEgSMACSBAyAJAEDIEnAAEgSMACSBAyAJAEDIEnAAEgSMACSBAyAJAEDIEnAAEgSMACSBAyAJAEDIEnAAEgSMACSBAyAJAEDIEnAAEgSMACSBAyAJAEDIEnAAEgSMACSBAyAJAEDIEnAAEgSMACSBAyAJAEDIEnAAEgSMACSBAyAJAEDIEnAAEgSMACSBAyAJAEDIEnAAEgSMACSBAyAJAEDIEnAAEgSMACSBAyAJAEDIEnAAEgSMACSBAyAJAEDIEnAAEgSMACSBAyAJAEDIEnAAEgSMACSBAyAJAEDIEnAAEgSMACSBAyAJAEDIEnAAEgSMACSBAyAJAEDIEnAAEgSMACSBAyAJAEDIEnAAEgSMACSBAyAJAEDIEnAAEgSMACSBAyAJAEDIEnAAEgSMACSBAyAJAEDIEnAAEgSMACSBAyAJAEDIEnAAEgSMACSBAyAJAEDIEnAAEgSMACSBAyAJAEDIEnAAEgSMACSBAyAJAEDIEnAAEgSMACSBAyAJAEDIEnAAEgSMACSBAyAJAEDIEnAAEgSMACSBAyAJAEDIEnAAEgSMACSBAw483S4H0+H+7XHgDfdrD0AsF2vI/Z9/7jSJHDOFRjwT8SLrREwAJIEDIAkAQMgScCAE04fUiFgACQJGABJAgZAkoAB77IDxhYJGABJAgZAkoABR47QUyJgACQJGABJAgZAkoABkCRgwJvsgLFVAgZAkoABkCRgwBjDDhg9AgZAkoABkCRgACQJGPBXjtCzZQIGQJKAAZAkYAAkCRjwxx0w97/YOgEDIEnAAEgSMJicn5CiSsAASBIwAJIEDIAkAQMgScCAM3bAKBAwAJIEDIAkAYOJ2QGjTMAASBIwAJIEDIAkAQNOOEJPhYABkCRgACQJGABJAgaTsgNGnYABkCRgACQJGABJAgYc2QGjRMAASBIwAJIEDCbkCD3XQMAASBIwAJIEDIAkAQMgScCAMYYdMHoEDK7Abrf7r8dH/gZshYABkHSz9gDA1/r1uB8/n/fH53e3hxWngcsJGEzm93idPhcyWnyFCECSgAGQJGAwmdf3vO5uD+Ph4cdK08DldsuyLGsPAXzMVx5v9y+DrZjmEIf9Ffgc3kvXpfyBZJqAlV8keI8rMGbkHhgASQIGQJKAAZAkYAAkCRgASQIGQJKAAZA0zR4YXDO7WczIFRgASQIGQJKAAZAkYAAkCRgASQIGQJKAAZAkYAAkCRgASQIGQJKAAZAkYAAkCRgASQIGQJKAAZAkYAAkCRgASQIGQJKAAZAkYAAkCRgASQIGQJKAAZAkYAAkCRgASQIGQJKAAZAkYAAkCRgASQIGQJKAAZAkYAAkCRgASQIGQJKAAZAkYAAkCRgASQIGQJKAAZAkYAAkCRgASQIGQJKAAZAkYAAkCRgASQIGQJKAAZAkYAAkCRgASQIGQJKAAZAkYAAkCRgASQIGQJKAAZAkYAAkCRgASQIGQJKAAZAkYAAkCRgASQIGQJKAAZAkYAAkCRgASQIGQJKAAZAkYAAkCRgASQIGQJKAAZAkYAAkCRgASQIGQJKAAZAkYAAkCRgASQIGQJKAAZAkYAAkCRgASS8IT0XpUvC+1QAAAABJRU5ErkJggg==\"\n",
              "  frames[76] = \"data:image/png;base64,iVBORw0KGgoAAAANSUhEUgAAAbAAAAEgCAYAAADVKCZpAAAABHNCSVQICAgIfAhkiAAAAAlwSFlzAAALEgAACxIB0t1+/AAAADl0RVh0U29mdHdhcmUAbWF0cGxvdGxpYiB2ZXJzaW9uIDMuMC4zLCBodHRwOi8vbWF0cGxvdGxpYi5vcmcvnQurowAABRVJREFUeJzt3OFt01AUgFEbdQnmgDGYI52pmYMxYA7GMP8qQgINLarf53eOVCmtFOlJVfvFzr1Zt23bFgCI+bD3AQDgNQQMgCQBAyBJwABIEjAAkgQMgCQBAyBJwABIEjAAkgQMgCQBAyBJwABIEjAAkgQMgCQBAyBJwABIEjAAkgQMgCQBAyBJwABIEjAAkgQMgCQBAyBJwABIEjAAkgQMgCQBAyBJwABIEjAAkgQMgCQBAyBJwABIEjAAkgQMgCQBAyBJwABIEjAAkgQMgCQBAyBJwABIEjAAkgQMgCQBAyBJwABIEjAAkgQMgCQBAyBJwABIEjAAkgQMgCQBAyBJwABIEjAAkgQMgCQBAyBJwABIEjAAkgQMgCQBAyBJwABIEjAAkgQMgCQBAyBJwABIEjAAkgQMgCQBAyBJwABIEjAAkgQMgCQBAyBJwABIEjAAkgQMgCQBAyBJwABIEjAAkgQMgCQBAyBJwABIEjAAkgQMgCQBAyBJwABIEjAAkgQMgCQBAyBJwABIEjAAkgQMgCQBAyBJwABIEjAAkgQMgCQBAyBJwABIEjAAkgQMgCQBAyBJwABIEjAAkgQMgCQBAyBJwABIEjAAkgQMgCQBAyBJwABIEjAAkgQMgCQBAyBJwABIEjAAkgQMgCQBAyBJwABIEjAAkgQMgCQBAyBJwABIEjAAkgQMgCQBAyBJwABIEjAAkgQMgCQBAyDpYe8DAGP6fn58fvzp9LTjSeA2AQNeJGaMyC1EAJIEDIAkAQPu5vYhIxEwAJIEDIAkAQOu/Dp1CKMSMACSBAyAJAEDIEnAAEgSMOAudsAYjYABkCRgACQJGHDBDhgVAgZAkoABkCRgACQJGPAiI/SMSMAASBIwAJIEDIAkAQOe2QGjRMAASBIwAJIEDIAkAQP+yg4YoxIwAJIEDIAkAQOWZTFCT4+AAZAkYAAkCRgASQIG/JERekYmYAAkCRgASQIGQJKAATd3wLz/xegEDIAkAQMgScAASBIwmJzPQKRKwABIEjAAkgQMgCQBA67YAaNAwABIEjAAkgQMJmaEnjIBAyBJwABIEjAAkgQMuGCEngoBAyBJwABIEjCYlBF66gQMgCQBAyBJwABIEjAAkgQMDmJd13/6uuXz4/lNz4f3JGAAJD3sfQBgH19/nC6+//LxvNNJ4HVcgcGEvj2drn72e9BgdAIGExIrjkDAYEJuF3IEAgYsyyJq9Kzbtm17HwJ4u/cebfevg71NM4VobwX+L39Tx1B+ITJNwMq/JLiHKzBm4z0wAJIEDIAkAQMgScAASBIwAJIEDIAkAQMgaZo9MDg6e1nMxhUYAEkCBkCSgAGQJGAAJAkYAEkCBkCSgAGQJGAAJAkYAEkCBkCSgAGQJGAAJAkYAEkCBkCSgAGQJGAAJAkYAEkCBkCSgAGQJGAAJAkYAEkCBkCSgAGQJGAAJAkYAEkCBkCSgAGQJGAAJAkYAEkCBkCSgAGQJGAAJAkYAEkCBkCSgAGQJGAAJAkYAEkCBkCSgAGQJGAAJAkYAEkCBkCSgAGQJGAAJAkYAEkCBkCSgAGQJGAAJAkYAEkCBkCSgAGQJGAAJAkYAEkCBkCSgAGQJGAAJAkYAEkCBkCSgAGQJGAAJAkYAEkCBkCSgAGQJGAAJAkYAEkCBkCSgAGQJGAAJAkYAEkCBkCSgAGQJGAAJAkYAEkCBkCSgAGQJGAAJAkYAEkCBkCSgAGQJGAAJAkYAEk/ARIJQ4LgyJlqAAAAAElFTkSuQmCC\"\n",
              "  frames[77] = \"data:image/png;base64,iVBORw0KGgoAAAANSUhEUgAAAbAAAAEgCAYAAADVKCZpAAAABHNCSVQICAgIfAhkiAAAAAlwSFlzAAALEgAACxIB0t1+/AAAADl0RVh0U29mdHdhcmUAbWF0cGxvdGxpYiB2ZXJzaW9uIDMuMC4zLCBodHRwOi8vbWF0cGxvdGxpYi5vcmcvnQurowAABSBJREFUeJzt3NFtGkEUQNHdyE2kjqSM1GG3QRuhjpQR15EyNh+WLGGwA46VmZs9R+IDPtBICC7DvmHdtm1bACDm0+gFAMB7CBgASQIGQJKAAZAkYAAkCRgASQIGQJKAAZAkYAAkCRgASQIGQJKAAZAkYAAkCRgASQIGQJKAAZAkYAAkCRgASQIGQJKAAZAkYAAkCRgASQIGQJKAAZAkYAAkCRgASQIGQJKAAZAkYAAkCRgASQIGQJKAAZAkYAAkCRgASQIGQJKAAZAkYAAkCRgASQIGQJKAAZAkYAAkCRgASQIGQJKAAZAkYAAkCRgASQIGQJKAAZAkYAAkCRgASQIGQJKAAZAkYAAkCRgASQIGQJKAAZAkYAAkCRgASQIGQJKAAZAkYAAkCRgASQIGQJKAAZAkYAAkCRgASQIGQJKAAZAkYAAkCRgASQIGQJKAAZAkYAAkCRgASQIGQJKAAZAkYAAkCRgASQIGQJKAAZAkYAAkCRgASQIGQJKAAZAkYAAkCRgASQIGQJKAAZAkYAAkCRgASQIGQJKAAZAkYAAkCRgASQIGQJKAAZAkYAAkCRgASQIGQJKAAZAkYAAkCRgASQIGQJKAAZAkYAAkCRgASQIGQJKAAZAkYAAkCRgASQIGQJKAAZAkYAAkCRgASQIGQJKAAZAkYAAkCRgASQIGQJKAAZAkYAAkCRgASQIGQJKAAZAkYAAkCRgASQIGQJKAAW96PD4sj8eH0cuAM3ejFwA0vIzYl/vvg1YCT+zAAEgSMACSBAy4mZ8PmYGAAZAkYMCrTB8yMwEDbuLnQ2YhYAAkCRgASQIGXOT6F7MTMACSBAyAJAEDIEnAgKsZoWcmAgZAkoABkCRgwBkj9BQIGABJAgZAkoABkCRgwFWM0DMbAQMgScAASBIw4IQReioEDIAkAQMgScAASBIw4I+M0DMjAQMgScAASBIw4JkRekoEDIAkAQMgScAASBIw4E1G6JmVgAGQJGAAJAkYsCyLEXp6BAyAJAEDIEnAAEgSMOBVRuiZmYABkCRgACQJGABJAgZcPAPm+hezEzAAkgQMgCQBg53zF1JUCRgASQIGQJKAAZAkYMAZI/QUCBgASQIGQJKAwY4ZoadMwABIEjAAkgQMgCQBA04YoadCwOA/sq7rTbe/fQ4YScAASLobvQBgnB+/7k/uf/t8HLQSuJ0dGOzU4fDz7LGXQYOZCRgASQIGQJKAwU5dut51OHwdsBJ4n3Xbtm30IoCP8a9H2318MNJuphCdWYGP533VV/4SspuAlV8kuJYdGHviGhgASQIGQJKAAZAkYAAkCRgASQIGQJKAAZC0m3NgsAfOZbEndmAAJAkYAEkCBkCSgAGQJGAAJAkYAEkCBkCSgAGQJGAAJAkYAEkCBkCSgAGQJGAAJAkYAEkCBkCSgAGQJGAAJAkYAEkCBkCSgAGQJGAAJAkYAEkCBkCSgAGQJGAAJAkYAEkCBkCSgAGQJGAAJAkYAEkCBkCSgAGQJGAAJAkYAEkCBkCSgAGQJGAAJAkYAEkCBkCSgAGQJGAAJAkYAEkCBkCSgAGQJGAAJAkYAEkCBkCSgAGQJGAAJAkYAEkCBkCSgAGQJGAAJAkYAEkCBkCSgAGQJGAAJAkYAEkCBkCSgAGQJGAAJAkYAEkCBkCSgAGQJGAAJAkYAEkCBkCSgAGQJGAAJAkYAEkCBkCSgAGQJGAAJAkYAEkCBkCSgAGQJGAAJAkYAEkCBkCSgAGQJGAAJP0Gin9FUfvbus8AAAAASUVORK5CYII=\"\n",
              "  frames[78] = \"data:image/png;base64,iVBORw0KGgoAAAANSUhEUgAAAbAAAAEgCAYAAADVKCZpAAAABHNCSVQICAgIfAhkiAAAAAlwSFlzAAALEgAACxIB0t1+/AAAADl0RVh0U29mdHdhcmUAbWF0cGxvdGxpYiB2ZXJzaW9uIDMuMC4zLCBodHRwOi8vbWF0cGxvdGxpYi5vcmcvnQurowAABRxJREFUeJzt3NFtGkEUQFE2chOpIykjdeCaTB0pI6kjZaz/LGFjB5zEMzdzjsQHSEgjoeUyy9vd9n3fDwAQ82n0AgDgPQQMgCQBAyBJwABIEjAAkgQMgCQBAyBJwABIEjAAkgQMgCQBAyBJwABIEjAAkgQMgCQBAyBJwABIEjAAkgQMgCQBAyBJwABIEjAAkgQMgCQBAyBJwABIEjAAkgQMgCQBAyBJwABIEjAAkgQMgCQBAyBJwABIEjAAkgQMgCQBAyBJwABIEjAAkgQMgCQBAyBJwABIEjAAkgQMgCQBAyBJwABIEjAAkgQMgCQBAyBJwABIEjAAkgQMgCQBAyBJwABIEjAAkgQMgCQBAyBJwABIEjAAkgQMgCQBAyBJwABIEjAAkgQMgCQBAyBJwABIEjAAkgQMgCQBAyBJwABIEjAAkgQMgCQBAyBJwABIEjAAkgQMgCQBAyBJwABIEjAAkgQMgCQBAyBJwABIEjAAkgQMgCQBAyBJwABIEjAAkgQMgCQBAyBJwABIEjAAkgQMgCQBAyBJwABIEjAAkgQMgCQBAyBJwABIEjAAkgQMgCQBAyBJwABIEjAAkgQMgCQBAyBJwABIEjAAkgQMgCQBAyBJwABIEjAAkgQMgCQBAyBJwABIEjAAkgQMgCQBAyBJwABIEjAAkgQMgCQBAyBJwABIEjAAkgQMgCQBAyBJwABIEjAAkgQMgCQBAyBJwICr/Dzdj14CnLkbvQCg43nEvhwfBq0E7MCAK9h9MSMBAyBJwABIEjAAkgQMeBcDHIwmYAAkCRgASQIGvMkIPbMSMACSBAyAJAEDIEnAgJsZoWcGAgZAkoABkCRgwKsujdA7fcgsBAyAJAEDIEnAgIvcgYPZCRgASQIGQJKAAZAkYMDVjNAzEwEDIEnAAEgSMOAFI/QUCBgASQIGQJKAAZAkYMBVjNAzGwEDIEnAAEgSMOCMEXoqBAyAJAEDIEnAAEgSMOC3jNAzIwEDIEnAAEgSMOCJEXpKBAyAJAEDIEnAAEgSMOBNRuiZlYABkCRgACQJGHA4HIzQ0yNgACQJGABJAgZAkoABrzJCz8wEDIAkAQMgScCAiyP0Th8yOwEDIEnAAEgSMFicO3BQJWAAJAkYAEkCBkCSgMF/Ztu2mx6XfL0//dH74SMIGABJd6MXAIz1/dfx7Pm3z6dBK4Hb2IHBwn48HF+89jxoMCsBg4WJFWUCBgtzupAyAQPOiBoV277v++hFAH/PR4+2+wphlGWmEF2vAv+GY6ut/ANkmYCVPyS4hR0Yq/AfGABJAgZAkoABkCRgACQJGABJAgZAkoABkLTMdWCwCtdlsQo7MACSBAyAJAEDIEnAAEgSMACSBAyAJAEDIEnAAEgSMACSBAyAJAEDIEnAAEgSMACSBAyAJAEDIEnAAEgSMACSBAyAJAEDIEnAAEgSMACSBAyAJAEDIEnAAEgSMACSBAyAJAEDIEnAAEgSMACSBAyAJAEDIEnAAEgSMACSBAyAJAEDIEnAAEgSMACSBAyAJAEDIEnAAEgSMACSBAyAJAEDIEnAAEgSMACSBAyAJAEDIEnAAEgSMACSBAyAJAEDIEnAAEgSMACSBAyAJAEDIEnAAEgSMACSBAyAJAEDIEnAAEgSMACSBAyAJAEDIEnAAEgSMACSBAyAJAEDIEnAAEgSMACSBAyAJAEDIEnAAEgSMACSBAyAJAEDIEnAAEgSMACSBAyAJAEDIEnAAEgSMACSHgHcbUccUWoy2QAAAABJRU5ErkJggg==\"\n",
              "  frames[79] = \"data:image/png;base64,iVBORw0KGgoAAAANSUhEUgAAAbAAAAEgCAYAAADVKCZpAAAABHNCSVQICAgIfAhkiAAAAAlwSFlzAAALEgAACxIB0t1+/AAAADl0RVh0U29mdHdhcmUAbWF0cGxvdGxpYiB2ZXJzaW9uIDMuMC4zLCBodHRwOi8vbWF0cGxvdGxpYi5vcmcvnQurowAABSVJREFUeJzt3N1tGkEYQFGI3ETqSMpwHaQNt4HrSBmkDpexeUNKjO2F/Mxc9hyJB5BAIyG47M637JdlWXYAEPNp9AIA4BYCBkCSgAGQJGAAJAkYAEkCBkCSgAGQJGAAJAkYAEkCBkCSgAGQJGAAJAkYAEkCBkCSgAGQJGAAJAkYAEkCBkCSgAGQJGAAJAkYAEkCBkCSgAGQJGAAJAkYAEkCBkCSgAGQJGAAJAkYAEkCBkCSgAGQJGAAJAkYAEkCBkCSgAGQJGAAJAkYAEkCBkCSgAGQJGAAJAkYAEkCBkCSgAGQJGAAJAkYAEkCBkCSgAGQJGAAJAkYAEkCBkCSgAGQJGAAJAkYAEkCBkCSgAGQJGAAJAkYAEkCBkCSgAGQJGAAJAkYAEkCBkCSgAGQJGAAJAkYAEkCBkCSgAGQJGAAJAkYAEkCBkCSgAGQJGAAJAkYAEkCBkCSgAGQJGAAJAkYAEkCBkCSgAGQJGAAJAkYAEkCBkCSgAGQJGAAJAkYAEkCBkCSgAGQJGAAJAkYAEkCBkCSgAGQJGAAJAkYAEkCBkCSgAGQJGAAJAkYAEkCBkCSgAGQJGAAJAkYAEkCBkCSgAGQJGAAJAkYAEkCBkCSgAGQJGAAJAkYAEkCBkCSgAGQJGAAJAkYAEkCBkCSgAGQJGAAJAkYAEkCBkCSgAGQJGAAJAkYAEkCBkCSgAGQJGAAJAkYAEkCBkCSgAGQJGDAaj+ev41eApw9jF4A0PJ7xL4cjoNWwtY5AgMgScAASBIwYBX7X8xGwABIEjAAkgQMgCQBA25mhJ6RBAyAJAEDIEnAgA8ZoWdGAgZAkoABkCRgACQJGHATI/SMJmAAJAkYAEkCBrzLCD2zEjAAkgQMgCQBAyBJwICrGaFnBgIGQJKAAZAkYMCbLo3QO33ILAQMgCQBAyBJwABIEjDgIn8hxewEDIAkAQMgScCA1YzQMxMBAyBJwABIEjDgFROIFAgYAEkCBkCSgAGQJGAAJAkYsIprwJiNgAGQJGDAL4zQUyFgACQJGABJAgZAkoABHzKByIwEDIAkAQMgScCAMyP0lAgYAEkCBkCSgAGQJGDAu4zQMysBAyBJwABIEjBgt9sZoadHwABIEjAAkgQMgCQBA95khJ6ZCRjcqf1+f9XtT14DRhAwAJIeRi8AGO90POy+vxzO9x8/Pw9cDayzX5ZlGb0I4O+75tTe09PpwmNfVz/f1wgjOIUIQJKAAZAkYLBxp+Ph1Z6XPTAK7IHBnfqf4+2+RhhhM1OIrlWBf8fnq6v842MzASu/SXALR2DcO3tgACQJGABJAgZAkoABkCRgACQJGABJAgZA0mauA4OtcW0W984RGABJAgZAkoABkCRgACQJGABJAgZAkoABkCRgACQJGABJAgZAkoABkCRgACQJGABJAgZAkoABkCRgACQJGABJAgZAkoABkCRgACQJGABJAgZAkoABkCRgACQJGABJAgZAkoABkCRgACQJGABJAgZAkoABkCRgACQJGABJAgZAkoABkCRgACQJGABJAgZAkoABkCRgACQJGABJAgZAkoABkCRgACQJGABJAgZAkoABkCRgACQJGABJAgZAkoABkCRgACQJGABJAgZAkoABkCRgACQJGABJAgZAkoABkCRgACQJGABJAgZAkoABkCRgACQJGABJAgZAkoABkCRgACQJGABJAgZAkoABkCRgACQJGABJAgZAkoABkCRgACQJGABJAgZAkoABkCRgACQJGABJPwF3k0vdlSJ15AAAAABJRU5ErkJggg==\"\n",
              "  frames[80] = \"data:image/png;base64,iVBORw0KGgoAAAANSUhEUgAAAbAAAAEgCAYAAADVKCZpAAAABHNCSVQICAgIfAhkiAAAAAlwSFlzAAALEgAACxIB0t1+/AAAADl0RVh0U29mdHdhcmUAbWF0cGxvdGxpYiB2ZXJzaW9uIDMuMC4zLCBodHRwOi8vbWF0cGxvdGxpYi5vcmcvnQurowAABS1JREFUeJzt3NFtGkEUQNEhchOpIykjdUAbacPU4TLiOlzG5iuWSHDAWHj2wjkSEnwgjYTgMssbNsuyLAMAYr7MXgAAXELAAEgSMACSBAyAJAEDIEnAAEgSMACSBAyAJAEDIEnAAEgSMACSBAyAJAEDIEnAAEgSMACSBAyAJAEDIEnAAEgSMACSBAyAJAEDIEnAAEgSMACSBAyAJAEDIEnAAEgSMACSBAyAJAEDIEnAAEgSMACSBAyAJAEDIEnAAEgSMACSBAyAJAEDIEnAAEgSMACSBAyAJAEDIEnAAEgSMACSBAyAJAEDIEnAAEgSMACSBAyAJAEDIEnAAEgSMACSBAyAJAEDIEnAAEgSMACSBAyAJAEDIEnAAEgSMACSBAyAJAEDIEnAAEgSMACSBAyAJAEDIEnAAEgSMACSBAyAJAEDIEnAAEgSMACSBAyAJAEDIEnAAEgSMACSBAyAJAEDIEnAAEgSMACSBAyAJAEDIEnAAEgSMACSBAyAJAEDIEnAAEgSMACSBAyAJAEDIEnAAEgSMACSBAyAJAEDIEnAAEgSMACSBAyAJAEDIEnAAEgSMACSBAyAJAEDIEnAAEgSMACSBAyAJAEDIEnAAEgSMACSBAyAJAEDIEnAAEgSMACSBAyAJAEDIEnAAEgSMACSBAyAJAEDIEnAAEgSMACSBAyAJAEDIEnAAEgSMACSBAyAJAEDIEnAAEgSMACSBAx4l+f9bjzvd7OXAeNh9gKApr8j9m37OGkl3Cs7MACSBAyAJAEDPszlQ2YQMACSBAyAJAEDzmZ8njURMACSBAyAJAEDIEnAgA8xQs8sAgZAkoABkCRgwFmM0LM2AgZAkoABkCRgACQJGHAxI/TMJGAAJAkYcJIJRNZIwABIEjAAkgQMgCQBAy5iApHZBAyAJAEDIEnAgP8yQs9aCRgASQIGQJKAAZAkYMC7GaFnDQQMgCQBAyBJwIA3HRuhd/mQtRAwAJIEDIAkAQOO8g8crJ2AAZAkYAAkCRgASQIGnM0IPWsiYAAkCRgASQIG/MMIPQUCBkCSgAGQJGAAJAkYcBYj9KyNgAGQJGDAAROIVAgYAEkCBkCSgAGQJGDASSYQWSMBAyBJwABIEjAAkgQMeOUMGCUCBkCSgAGQJGBwwzabzbtux3zf7S9+LlyTgAGQ9DB7AcB6PL1sX+//+LqfuBI4zQ4MGGOM8etxe/D46WV7EDRYGwEDxhhDrMgRMGCM4ZIhPX4DA476E7Sfc5cBb9osy7LMXgRwHZ853u6jhM92Nzsw51TgurzHmspfPO4mYOUXCS5lB8YtM8QBQJKAAZAkYAAkCRgASQIGQJKAAZAkYAAk3c05MLhHzmZxy+zAAEgSMACSBAyAJAEDIEnAAEgSMACSBAyAJAEDIEnAAEgSMACSBAyAJAEDIEnAAEgSMACSBAyAJAEDIEnAAEgSMACSBAyAJAEDIEnAAEgSMACSBAyAJAEDIEnAAEgSMACSBAyAJAEDIEnAAEgSMACSBAyAJAEDIEnAAEgSMACSBAyAJAEDIEnAAEgSMACSBAyAJAEDIEnAAEgSMACSBAyAJAEDIEnAAEgSMACSBAyAJAEDIEnAAEgSMACSBAyAJAEDIEnAAEgSMACSBAyAJAEDIEnAAEgSMACSBAyAJAEDIEnAAEgSMACSBAyAJAEDIEnAAEgSMACSBAyAJAEDIEnAAEgSMACSBAyAJAEDIEnAAEgSMACSBAyAJAEDIEnAAEgSMACSBAyAJAEDIEnAAEj6DeQdSZxQmxJNAAAAAElFTkSuQmCC\"\n",
              "  frames[81] = \"data:image/png;base64,iVBORw0KGgoAAAANSUhEUgAAAbAAAAEgCAYAAADVKCZpAAAABHNCSVQICAgIfAhkiAAAAAlwSFlzAAALEgAACxIB0t1+/AAAADl0RVh0U29mdHdhcmUAbWF0cGxvdGxpYiB2ZXJzaW9uIDMuMC4zLCBodHRwOi8vbWF0cGxvdGxpYi5vcmcvnQurowAABStJREFUeJzt3OFt01AYQFGMugRzwBjMEdboGu0cjFHmYAzzr1IhpU4Cfu/W50iRoiiJnhTFN7Y/Z1nXdf0AADEfRy8AAK4hYAAkCRgASQIGQJKAAZAkYAAkCRgASQIGQJKAAZAkYAAkCRgASQIGQJKAAZAkYAAkCRgASQIGQJKAAZAkYAAkCRgASQIGQJKAAZAkYAAkCRgASQIGQJKAAZAkYAAkCRgASQIGQJKAAZAkYAAkCRgASQIGQJKAAZAkYAAkCRgASQIGQJKAAZAkYAAkCRgASQIGQJKAAZAkYAAkCRgASQIGQJKAAZAkYAAkCRgASQIGQJKAAZAkYAAkCRgASQIGQJKAAZAkYAAkCRgASQIGQJKAAZAkYAAkCRgASQIGQJKAAZAkYAAkCRgASQIGQJKAAZAkYAAkCRgASQIGQJKAAZAkYAAkCRgASQIGQJKAAZAkYAAkCRgASQIGQJKAAZAkYAAkCRgASQIGQJKAAZAkYAAkCRgASQIGQJKAAZAkYAAkCRgASQIGQJKAAZAkYAAkCRgASQIGQJKAAZAkYAAkCRgASQIGQJKAAZAkYAAkCRgASQIGQJKAAZAkYAAkCRgASQIGQJKAAZAkYAAkCRgASQIGQJKAAZAkYAAkCRgASQIGQJKAAZAkYAAkCRgASQIGQJKAAZAkYAAkCRgASQIGQJKAAZAkYAAkCRgASQIGQJKAAZAkYAAkCRgASQIGXOXH47fRS+Dg7kYvAOg6F7HPp4cBK+GI7IEBkCRgACQJGPDPOHzIngQMgCQBAyBJwICLmT5kBgIGQJKAAZAkYMBF/AMHsxAwAJIEDIAkAQMgScCAmxmhZwQBAyBJwABIEjBgMyP0zETAAEgSMACSBAy4iQlERhEwAJIEDIAkAQM2MYHIbAQMgCQBAyBJwABIEjDgakboGUnAAEgSMACSBAx4kxF6ZiRgACQJGABJAgZAkoABVzFCz2gCBkCSgAF/ZQKRWQkYAEkCBkCSgAGQJGDAxUwgMgMBAyBJwABIEjDgVedG6B0+ZBYCBkCSgAGQJGAAJAkYcJa/kGJ2AgZAkoABkCRgwGZG6JmJgAGQJGAAJAkY8AcTiBQIGABJAgZAkoABkCRgwCZG6JmNgAGQJGAAJAkY8IIReioEDA5gWZbNt1vfA/YiYAAk3Y1eADCf7z9Pz/e/fnocuBJ43bKu6zp6EcD/dcmhvfv7pzOPfdn8epsU9uIQIgBJAgY8e3o4vf0kmISAAS/8fs7LOTBm5RwYHMCe4+02KezlMFOIrk+BffiutZR/cBwmYOUPCW5lD4z3yDkwAJIEDIAkAQMgScAASBIwAJIEDIAkAQMg6TDXgcGRuTaL98geGABJAgZAkoABkCRgACQJGABJAgZAkoABkCRgACQJGABJAgZAkoABkCRgACQJGABJAgZAkoABkCRgACQJGABJAgZAkoABkCRgACQJGABJAgZAkoABkCRgACQJGABJAgZAkoABkCRgACQJGABJAgZAkoABkCRgACQJGABJAgZAkoABkCRgACQJGABJAgZAkoABkCRgACQJGABJAgZAkoABkCRgACQJGABJAgZAkoABkCRgACQJGABJAgZAkoABkCRgACQJGABJAgZAkoABkCRgACQJGABJAgZAkoABkCRgACQJGABJAgZAkoABkCRgACQJGABJAgZAkoABkCRgACQJGABJAgZAkoABkCRgACQJGABJAgZAkoABkCRgACQJGABJAgZAkoABkCRgACQJGABJvwAhYk0Ps5ZslAAAAABJRU5ErkJggg==\"\n",
              "  frames[82] = \"data:image/png;base64,iVBORw0KGgoAAAANSUhEUgAAAbAAAAEgCAYAAADVKCZpAAAABHNCSVQICAgIfAhkiAAAAAlwSFlzAAALEgAACxIB0t1+/AAAADl0RVh0U29mdHdhcmUAbWF0cGxvdGxpYiB2ZXJzaW9uIDMuMC4zLCBodHRwOi8vbWF0cGxvdGxpYi5vcmcvnQurowAABS1JREFUeJzt29FtE0EUQFGM0gR1QBnUYdpIG04dlGHqoIzlM4piYHdt7c7NnvNpJc5IkX09M8+naZqmTwAQ83nvBQDAGgIGQJKAAZAkYAAkCRgASQIGQJKAAZAkYAAkCRgASQIGQJKAAZAkYAAkCRgASQIGQJKAAZAkYAAkCRgASQIGQJKAAZAkYAAkCRgASQIGQJKAAZAkYAAkCRgASQIGQJKAAZAkYAAkCRgASQIGQJKAAZAkYAAkCRgASQIGQJKAAZAkYAAkCRgASQIGQJKAAZAkYAAkCRgASQIGQJKAAZAkYAAkCRgASQIGQJKAAZAkYAAkCRgASQIGQJKAAZAkYAAkCRgASQIGQJKAAZAkYAAkCRgASQIGQJKAAZAkYAAkCRgASQIGQJKAAZAkYAAkCRgASQIGQJKAAZAkYAAkCRgASQIGQJKAAZAkYAAkCRgASQIGQJKAAZAkYAAkCRgASQIGQJKAAZAkYAAkCRgASQIGQJKAAZAkYAAkCRgASQIGQJKAAZAkYAAkCRgASQIGQJKAAZAkYAAkCRgASQIGQJKAAZAkYAAkCRgASQIGQJKAAZAkYAAkCRgASQIGQJKAAZAkYAAkCRgASQIGQJKAAZAkYAAkCRgASQIGQJKAAZAkYAAkCRgASQIGQJKAAZAkYAAkCRgASQIGQJKAAZAkYAAkCRgASQIGQJKAAZAkYAAkCRgASQIGQJKAAZAkYAAkPe29AKDt18uPd499PV92WAlHYwcGQJKAAZAkYMBqt44PYSsCBkCSgAGQJGDAQ5lAZCsCBkCSgAGQJGDAKiYQ2ZuAAZAkYAAkCRjwMCYQ2ZKAAZAkYAAkCRiwmAlERiBgwEO4/2JrAgZAkoABizg+ZBQCBkCSgAGQJGAAJAkYcDcTiOxBwABIEjAAkgQMmM0IPSMRMACSBAyAJAEDIEnAgLsYoWcvAgZAkoABs5hAZDQCBkCSgAGQJGAAJAkYsJoJRPYkYAAkCRjwXyYQGZGAAZAkYAAkCRgASQIGrGICkb0JGABJAgZAkoAB/2SEnlEJGABJAgZAkoABi5lAZAQCBkCSgAGQJGDAX5lAZGQCBizi/otRCBgASQIG3OT4kNEJGABJAgZAkoABkCRgwGwmEBmJgAGQJGAAJD3tvQBgG6fTafbPXi/nu55jmqbZfwvWsgMDIMkODLjp5+/XXdj3Ly87rgRuO032+nAIS44Qn5+vNx77Nvv3va2wBUeIACQJGABJAga8cb2c3915uQNjRO7A4CCW3IHdy9sKWzjMFOKWL144Oq+3jvKHjcMErPxPgkewA+OjcQcGQJKAAZAkYAAkCRgASQIGQJKAAZAkYAAkHeZ7YHB0vpvFR2MHBkCSgAGQJGAAJAkYAEkCBkCSgAGQJGAAJAkYAEkCBkCSgAGQJGAAJAkYAEkCBkCSgAGQJGAAJAkYAEkCBkCSgAGQJGAAJAkYAEkCBkCSgAGQJGAAJAkYAEkCBkCSgAGQJGAAJAkYAEkCBkCSgAGQJGAAJAkYAEkCBkCSgAGQJGAAJAkYAEkCBkCSgAGQJGAAJAkYAEkCBkCSgAGQJGAAJAkYAEkCBkCSgAGQJGAAJAkYAEkCBkCSgAGQJGAAJAkYAEkCBkCSgAGQJGAAJAkYAEkCBkCSgAGQJGAAJAkYAEkCBkCSgAGQJGAAJAkYAEkCBkCSgAGQJGAAJAkYAEkCBkCSgAGQJGAAJAkYAEkCBkCSgAGQJGAAJAkYAEkCBkCSgAGQJGAAJAkYAEkCBkDSHxyAT9IPIRyaAAAAAElFTkSuQmCC\"\n",
              "  frames[83] = \"data:image/png;base64,iVBORw0KGgoAAAANSUhEUgAAAbAAAAEgCAYAAADVKCZpAAAABHNCSVQICAgIfAhkiAAAAAlwSFlzAAALEgAACxIB0t1+/AAAADl0RVh0U29mdHdhcmUAbWF0cGxvdGxpYiB2ZXJzaW9uIDMuMC4zLCBodHRwOi8vbWF0cGxvdGxpYi5vcmcvnQurowAABS5JREFUeJzt29FN21AAhlGnYgnmaMdgjnQN1iBzdIx2jo7hPlRClRraJCS+9yPnSLxEQroSgg/bv3fruq4LAMR8Gn0AALiEgAGQJGAAJAkYAEkCBkCSgAGQJGAAJAkYAEkCBkCSgAGQJGAAJAkYAEkCBkCSgAGQJGAAJAkYAEkCBkCSgAGQJGAAJAkYAEkCBkCSgAGQJGAAJAkYAEkCBkCSgAGQJGAAJAkYAEkCBkCSgAGQJGAAJAkYAEkCBkCSgAGQJGAAJAkYAEkCBkCSgAGQJGAAJAkYAEkCBkCSgAGQJGAAJAkYAEkCBkCSgAGQJGAAJAkYAEkCBkCSgAGQJGAAJAkYAEkCBkCSgAGQJGAAJAkYAEkCBkCSgAGQJGAAJAkYAEkCBkCSgAGQJGAAJAkYAEkCBkCSgAGQJGAAJAkYAEkCBkCSgAGQJGAAJAkYAEkCBkCSgAGQJGAAJAkYAEkCBkCSgAGQJGAAJAkYAEkCBkCSgAGQJGAAJAkYAEkCBkCSgAGQJGAAJAkYAEkCBkCSgAGQJGAAJAkYAEkCBkCSgAGQJGAAJAkYAEkCBkCSgAGQJGAAJAkYAEkCBkCSgAGQJGAAJAkYAEkCBkCSgAGQJGAAJAkYAEkCBkCSgAGQJGAAJAkYAEkCBkCSgAGQJGAAJAkYAEkCBkCSgAGQJGAAJAkYAEkCBkCSgAGQJGAAJAkYAEkCBkCSgAGQJGAAJAkYAEkPow8A9P04fD36+ef9y8Yn4Z64AgMgScAASBIw4CbcPuTWBAyAJAEDIEnAgHd5a4EItyZgACQJGABJAgZAkoABV2dCzxYEDIAkAQMuZoHISAIGQJKAAZAkYAAkCRhwVRaIbEXAAEgSMOAiFoiMJmAAJAkYAEkCBkCSgAFXY4HIlgQMgCQBA85mgcgMBAy4CrcP2ZqAAZAkYAAkCRhwFs+/mIWAAZAkYAAkCRjwbhaIjCBgACQJGABJAgaczAKRmQgYAEkCBkCSgAHvYoHIKAIGQJKAAZAkYMBJLBCZjYABkCRgACQJGABJAgZczISekQQMgCQBA/7LApEZCRgASQIGQJKAAZAkYMBFLBAZTcAASBIwAJIEDPgnE3pmJWAAJAkYAEkCBpzNApEZCBgASQIGQJKAAW86tkB0+5BZCBjcmd1ud/LXLb4frkXAAEh6GH0AYE7fX/bLsizLt5/718+eHg+jjgN/ETDgqD/DBTNyCxE4magxEwEDTvb8/GX0EeCVgAFHPT0ePPNiart1XdfRhwC2s+W83Z8XbuluRhzeSYHt+b2bX/mfjLsJWPmHBNfkCoyPwjMwAJIEDIAkAQMgScAASBIwAJIEDIAkAQMg6W7eAwN+824WH4UrMACSBAyAJAEDIEnAAEgSMACSBAyAJAEDIEnAAEgSMACSBAyAJAEDIEnAAEgSMACSBAyAJAEDIEnAAEgSMACSBAyAJAEDIEnAAEgSMACSBAyAJAEDIEnAAEgSMACSBAyAJAEDIEnAAEgSMACSBAyAJAEDIEnAAEgSMACSBAyAJAEDIEnAAEgSMACSBAyAJAEDIEnAAEgSMACSBAyAJAEDIEnAAEgSMACSBAyAJAEDIEnAAEgSMACSBAyAJAEDIEnAAEgSMACSBAyAJAEDIEnAAEgSMACSBAyAJAEDIEnAAEgSMACSBAyAJAEDIEnAAEgSMACSBAyAJAEDIEnAAEgSMACSBAyAJAEDIEnAAEgSMACSBAyAJAEDIEnAAEgSMACSBAyAJAEDIEnAAEgSMACSfgH7ekezQm+ZxAAAAABJRU5ErkJggg==\"\n",
              "  frames[84] = \"data:image/png;base64,iVBORw0KGgoAAAANSUhEUgAAAbAAAAEgCAYAAADVKCZpAAAABHNCSVQICAgIfAhkiAAAAAlwSFlzAAALEgAACxIB0t1+/AAAADl0RVh0U29mdHdhcmUAbWF0cGxvdGxpYiB2ZXJzaW9uIDMuMC4zLCBodHRwOi8vbWF0cGxvdGxpYi5vcmcvnQurowAABTJJREFUeJzt291x2kAYQNGQcROpIykjdZA23AauI2WQOlKG8siDnTECSasL5zwy/OwMA5ddfRymaZq+AEDM19ELAIBbCBgASQIGQJKAAZAkYAAkCRgASQIGQJKAAZAkYAAkCRgASQIGQJKAAZAkYAAkCRgASQIGQJKAAZAkYAAkCRgASQIGQJKAAZAkYAAkCRgASQIGQJKAAZAkYAAkCRgASQIGQJKAAZAkYAAkCRgASQIGQJKAAZAkYAAkCRgASQIGQJKAAZAkYAAkCRgASQIGQJKAAZAkYAAkCRgASQIGQJKAAZAkYAAkCRgASQIGQJKAAZAkYAAkCRgASQIGQJKAAZAkYAAkCRgASQIGQJKAAZAkYAAkCRgASQIGQJKAAZAkYAAkCRgASQIGQJKAAZAkYAAkCRgASQIGQJKAAZAkYAAkCRgASQIGQJKAAZAkYAAkCRgASQIGQJKAAZAkYAAkCRgASQIGQJKAAZAkYAAkCRgASQIGQJKAAZAkYAAkCRgASQIGQJKAAZAkYAAkCRgASQIGQJKAAZAkYAAkCRgASQIGQJKAAZAkYAAkCRgASQIGQJKAAZAkYAAkCRgASQIGQJKAAZAkYAAkCRgASQIGQJKAAZAkYAAkCRgASQIGQJKAAZAkYAAkCRgASQIGQJKAAZAkYAAkCRgASQIGQJKAAZAkYAAkCRgASQIGQJKAAZAkYAAkCRgASQIGQJKAAZD0MnoBwGP58/br3W3fj6cBK+HR2YEBixEvtiRgACQJGABJAgYs4qPjQ1iTgAGQJGAAJAkYsBoTiKxJwABIEjAAkgQMuJsJREYQMACSBAyAJAEDVmECkbUJGABJAgZAkoABdzGByCgCBkCSgAGQJGDA4kwgsgUBAyBJwABIEjDgZiYQGUnAAEgSMACSBAxYlAlEtiJgACQJGABJAgbcxAQiowkYAEkCBkCSgAGLMYHIlgQMgCQBA2YzwMEeCBiwCMeHbE3AAEgSMGAWx4fshYABkCRgACQJGABJAgbczQQiIwgYAEkCBlzNBCJ7ImAAJAkYAEkCBkCSgAF3MYHIKAIGQJKAAVcxgcjeCBgASQIGQJKAAZAkYMDNTCAykoABkCRgwKdMILJHAgZAkoABkCRgwE0McDCagAGQJGAAJL2MXgCwvcPhcPV9z6fjXc8xTdPVrwVz2IEBkGQHBnzq99/LLuznt7eBK4GLw2R/D09nzhHi6+v5g9t+XP14XzGsxREiAEkCBkCSgAH/dT4d313zmnN8CGtyDQye0JxrYPfyFcNanmYKccsPLHDhs7dv5R8YTxOw8psES7MD4xG4BgZAkoABkCRgACQJGABJAgZAkoABkCRgACQ9zf/AgAv/zeIR2IEBkCRgACQJGABJAgZAkoABkCRgACQJGABJAgZAkoABkCRgACQJGABJAgZAkoABkCRgACQJGABJAgZAkoABkCRgACQJGABJAgZAkoABkCRgACQJGABJAgZAkoABkCRgACQJGABJAgZAkoABkCRgACQJGABJAgZAkoABkCRgACQJGABJAgZAkoABkCRgACQJGABJAgZAkoABkCRgACQJGABJAgZAkoABkCRgACQJGABJAgZAkoABkCRgACQJGABJAgZAkoABkCRgACQJGABJAgZAkoABkCRgACQJGABJAgZAkoABkCRgACQJGABJAgZAkoABkCRgACQJGABJAgZAkoABkCRgACQJGABJAgZAkoABkCRgACQJGABJAgZAkoABkCRgACQJGABJAgZAkoABkPQPXbBTBw/6VgkAAAAASUVORK5CYII=\"\n",
              "  frames[85] = \"data:image/png;base64,iVBORw0KGgoAAAANSUhEUgAAAbAAAAEgCAYAAADVKCZpAAAABHNCSVQICAgIfAhkiAAAAAlwSFlzAAALEgAACxIB0t1+/AAAADl0RVh0U29mdHdhcmUAbWF0cGxvdGxpYiB2ZXJzaW9uIDMuMC4zLCBodHRwOi8vbWF0cGxvdGxpYi5vcmcvnQurowAABStJREFUeJzt28FN3FAARVEc0UTqSMpIHZM2aAPqSBlJHSnDWWRFNBGMx/b3xedIbGaBvoTg8meep3me5wcAiPk0+gAAsISAAZAkYAAkCRgASQIGQJKAAZAkYAAkCRgASQIGQJKAAZAkYAAkCRgASQIGQJKAAZAkYAAkCRgASQIGQJKAAZAkYAAkCRgASQIGQJKAAZAkYAAkCRgASQIGQJKAAZAkYAAkCRgASQIGQJKAAZAkYAAkCRgASQIGQJKAAZAkYAAkCRgASQIGQJKAAZAkYAAkCRgASQIGQJKAAZAkYAAkCRgASQIGQJKAAZAkYAAkCRgASQIGQJKAAZAkYAAkCRgASQIGQJKAAZAkYAAkCRgASQIGQJKAAZAkYAAkCRgASQIGQJKAAZAkYAAkCRgASQIGQJKAAZAkYAAkCRgASQIGQJKAAZAkYAAkCRgASQIGQJKAAZAkYAAkCRgASQIGQJKAAZAkYAAkCRgASQIGQJKAAZAkYAAkCRgASQIGQJKAAZAkYAAkCRgASQIGQJKAAZAkYAAkCRgASQIGQJKAAZAkYAAkCRgASQIGQJKAAZAkYAAkCRgASQIGQJKAAZAkYAAkCRgASQIGQJKAAZAkYAAkCRgASQIGQJKAAZAkYAAkCRgASQIGQJKAAZAkYAAkCRgASQIGQJKAAZAkYAAkCRgASQIGQJKAAZAkYAAkCRgASQIGQJKAAZAkYAAkCRgASY+jDwB8PL9evl99/cvleeeT8JG5gQGQJGAAJAkYsAtvH7I2AQMgScCAVf1vwAFrEzAAkgQMgCQBAzZnwMEWBAyAJAEDIEnAgNVcWyB6+5CtCBgASQIGrMLzX+xNwABIEjAAkgQMgCQBAzZjgciWBAyAJAED7maByAgCBkCSgAGQJGDAJgw42JqAAZAkYAAkCRhwFwtERhEwAJIEDIAkAQNWZ4HIHgQMgCQBAxYz4GAkAQMgScAASBIwAJIEDFiVBSJ7ETAAkgQMWMQCkdEEDIAkAQMgScAASBIwYDUWiOxJwABIEjDgZtcWiG5f7E3AAEgSMACSBAy4iQeYOQoBAyBJwABIEjDgbhaIjCBgACQJGABJAga8mwUiRyJgACQJGABJAgbcxQKRUQQMgCQBA97FgIOjETAAkgQMgCQBAxYz4GAkAYOTmqbppq97vwesTcAASHocfQDg+H4+Xx5+/L68eu3b55dBp4G/3MCAN/0bLzgCAQMWETVGEzBgkaenr6OPwMkJGPAmn3dxRNM8z/PoQwD723va7k8NazvNCtFzKDCW38FjKv9jcZqAlX9IsAU3MOp8BgZAkoABkCRgACQJGABJAgZAkoABkCRgACSd5jkw4DXPZVHnBgZAkoABkCRgACQJGABJAgZAkoABkCRgACQJGABJAgZAkoABkCRgACQJGABJAgZAkoABkCRgACQJGABJAgZAkoABkCRgACQJGABJAgZAkoABkCRgACQJGABJAgZAkoABkCRgACQJGABJAgZAkoABkCRgACQJGABJAgZAkoABkCRgACQJGABJAgZAkoABkCRgACQJGABJAgZAkoABkCRgACQJGABJAgZAkoABkCRgACQJGABJAgZAkoABkCRgACQJGABJAgZAkoABkCRgACQJGABJAgZAkoABkCRgACQJGABJAgZAkoABkCRgACQJGABJAgZAkoABkCRgACQJGABJAgZAkoABkCRgACQJGABJAgZAkoABkCRgACQJGABJAgZAkoABkCRgACQJGABJAgZA0h9EHUm1xMRX1QAAAABJRU5ErkJggg==\"\n",
              "  frames[86] = \"data:image/png;base64,iVBORw0KGgoAAAANSUhEUgAAAbAAAAEgCAYAAADVKCZpAAAABHNCSVQICAgIfAhkiAAAAAlwSFlzAAALEgAACxIB0t1+/AAAADl0RVh0U29mdHdhcmUAbWF0cGxvdGxpYiB2ZXJzaW9uIDMuMC4zLCBodHRwOi8vbWF0cGxvdGxpYi5vcmcvnQurowAABTVJREFUeJzt291tE0EYQFGM0gR1QBnUYdpIG0kdlJHUQRnLGw9gCf/MzvjG50iRLCu2Rori65359rBt2/YJAGI+r14AAFxDwABIEjAAkgQMgCQBAyBJwABIEjAAkgQMgCQBAyBJwABIEjAAkgQMgCQBAyBJwABIEjAAkgQMgCQBAyBJwABIEjAAkgQMgCQBAyBJwABIEjAAkgQMgCQBAyBJwABIEjAAkgQMgCQBAyBJwABIEjAAkgQMgCQBAyBJwABIEjAAkgQMgCQBAyBJwABIEjAAkgQMgCQBAyBJwABIEjAAkgQMgCQBAyBJwABIEjAAkgQMgCQBAyBJwABIEjAAkgQMgCQBAyBJwABIEjAAkgQMgCQBAyBJwABIEjAAkgQMgCQBAyBJwABIEjAAkgQMgCQBAyBJwABIEjAAkgQMgCQBAyBJwABIEjAAkgQMgCQBAyBJwABIEjAAkgQMgCQBAyBJwABIEjAAkgQMgCQBAyBJwABIEjAAkgQMgCQBAyBJwABIEjAAkgQMgCQBAyBJwABIEjAAkgQMgCQBAyBJwABIEjAAkgQMgCQBAyBJwABIEjAAkgQMgCQBAyBJwABIEjAAkgQMgCQBAyBJwABIEjAAkgQMgCQBAyBJwABIEjAAkgQMgCQBAyBJwABIEjAAkgQMgCQBAyBJwABIEjAAkgQMgCQBAyBJwABIEjAAkgQMgCQBAyBJwABIEjAAkgQMgKSn1QsAPq731x//PPf1+LJgJXxErsAASBIwAJIEDNjFqe1DGEnAAEgSMACSBAyYxgQiIwkYAEkCBkCSgAHDmUBkBgEDIEnAAEgSMGAKE4iMJmAAJAkYMJQBDmYRMACSBAyAJAEDdmeAgz0IGABJAgYMY4CDmQQM2JXtQ/YiYAAkCRgASQIGDOH8i9kEDIAkAQMgScCA3ZhAZE8CBkCSgAE3M8DBCgIGQJKAAZAkYMAuDHCwNwEDIEnAAEgSMOAmJhBZRcAASBIwAJIEDBjOBCIzCBgASQIGQJKAAVczgchKAgZAkoABkCRgwFAmEJlFwABIEjDgKgY4WE3AAEgSMACSBAwYxgAHMwkYAEkCBkCSgAEXM4HIPRAwYAjnX8wmYAAkCRhwEduH3AsBAyBJwABIEjDgZgY4WEHAAEgSMOBsBji4JwIGD+5wOJz9c+t7wEgCBkDS0+oFAC0/fx3/PP7+5XXhSnh0h23bttWLANa5ZGvv+fntxHPfzn69jxtGsoUIQJKAAWd5ezn+/5dgIgEDzvb3mZczMFZyBgYPbuZ4u48bRnqYKUT3oMB6/g/vT/lLxcMErPxHgj25AqPKGRgASQIGQJKAAZAkYAAkCRgASQIGQJKAAZD0MPeBAae5N4sqV2AAJAkYAEkCBkCSgAGQJGAAJAkYAEkCBkCSgAGQJGAAJAkYAEkCBkCSgAGQJGAAJAkYAEkCBkCSgAGQJGAAJAkYAEkCBkCSgAGQJGAAJAkYAEkCBkCSgAGQJGAAJAkYAEkCBkCSgAGQJGAAJAkYAEkCBkCSgAGQJGAAJAkYAEkCBkCSgAGQJGAAJAkYAEkCBkCSgAGQJGAAJAkYAEkCBkCSgAGQJGAAJAkYAEkCBkCSgAGQJGAAJAkYAEkCBkCSgAGQJGAAJAkYAEkCBkCSgAGQJGAAJAkYAEkCBkCSgAGQJGAAJAkYAEkCBkCSgAGQJGAAJAkYAEkCBkCSgAGQJGAAJAkYAEkCBkCSgAGQJGAAJAkYAEkCBkCSgAGQJGAAJAkYAEkCBkCSgAGQJGAAJP0GC+pQD6QIzt8AAAAASUVORK5CYII=\"\n",
              "  frames[87] = \"data:image/png;base64,iVBORw0KGgoAAAANSUhEUgAAAbAAAAEgCAYAAADVKCZpAAAABHNCSVQICAgIfAhkiAAAAAlwSFlzAAALEgAACxIB0t1+/AAAADl0RVh0U29mdHdhcmUAbWF0cGxvdGxpYiB2ZXJzaW9uIDMuMC4zLCBodHRwOi8vbWF0cGxvdGxpYi5vcmcvnQurowAABS5JREFUeJzt28FNG0EAhtF1RBPUkZRBHVATroMykjooY3MGwcH2zA4fvCf5YA7WSAg+Rvx72vd93wAg5tfqAwDANQQMgCQBAyBJwABIEjAAkgQMgCQBAyBJwABIEjAAkgQMgCQBAyBJwABIEjAAkgQMgCQBAyBJwABIEjAAkgQMgCQBAyBJwABIEjAAkgQMgCQBAyBJwABIEjAAkgQMgCQBAyBJwABIEjAAkgQMgCQBAyBJwABIEjAAkgQMgCQBAyBJwABIEjAAkgQMgCQBAyBJwABIEjAAkgQMgCQBAyBJwABIEjAAkgQMgCQBAyBJwABIEjAAkgQMgCQBAyBJwABIEjAAkgQMgCQBAyBJwABIEjAAkgQMgCQBAyBJwABIEjAAkgQMgCQBAyBJwABIEjAAkgQMgCQBAyBJwABIEjAAkgQMgCQBAyBJwABIEjAAkgQMgCQBAyBJwABIEjAAkgQMgCQBAyBJwABIEjAAkgQMgCQBAyBJwABIEjAAkgQMgCQBAyBJwABIEjAAkgQMgCQBAyBJwABIEjAAkgQMgCQBAyBJwABIEjAAkgQMgCQBAyBJwABIEjAAkgQMgCQBAyBJwABIEjAAkgQMgCQBAyBJwABIEjAAkgQMgCQBAyBJwABIEjAAkgQMgCQBAyBJwABIEjAAkgQMgCQBAyBJwABIEjAAkgQMgCQBAyBJwABIEjAAkgQMgCQBAyBJwABIult9AOD7+3d+evP+9+PzopPwnbiBAVO9j9dnX4NLCRgASQIGQJKAAZAkYMDhjDgYQcAASBIwYBprQ2YSMACSBAyAJAEDDmXAwSgCBkCSgAFTGHAwm4ABkCRgACQJGABJAgYcxgKRkQQMgCQBA4azQOQIAgZAkoABkCRgwCEMOBhNwABIEjBgKAMOjiJgACQJGABJAgZAkoAB01kgMoOAAZAkYMAwHy0Q3b6YRcAASBIwYAjPf3E0AQMgScAASBIwAJIEDJjGApGZBAyAJAEDbmaByAoCBkCSgAGQJGDAFAYczCZgACQJGHATAw5WETAAkgQMgCQBAyBJwIDhLBA5goABkCRgwNUsEFlJwABIEjAAkgQMGMqAg6MIGABJAgZcxYCD1QQMgCQBAyBJwABIEjBgGAtEjiRgACQJGHCxjxaIbl8cTcCA7XQ6XfS65TNgFAEDLvL3+XH1EWDbNgEDrvTy+ri9vIoZ6wgYcJH34RIxVhEwAJIEDLjZn6fz6iPwAwkYcJGH+/P2cH9+8x5WOO37vq8+BLDWkfN2v3IY5W71AY7i+RP4Gvwsfi3lPyh+TMDK3ySYzQ2MIv8DAyBJwABIEjAAkgQMgCQBAyBJwABIEjAAkn7Mc2DA5zybRZEbGABJAgZAkoABkCRgACQJGABJAgZAkoABkCRgACQJGABJAgZAkoABkCRgACQJGABJAgZAkoABkCRgACQJGABJAgZAkoABkCRgACQJGABJAgZAkoABkCRgACQJGABJAgZAkoABkCRgACQJGABJAgZAkoABkCRgACQJGABJAgZAkoABkCRgACQJGABJAgZAkoABkCRgACQJGABJAgZAkoABkCRgACQJGABJAgZAkoABkCRgACQJGABJAgZAkoABkCRgACQJGABJAgZAkoABkCRgACQJGABJAgZAkoABkCRgACQJGABJAgZAkoABkCRgACQJGABJAgZAkoABkCRgACQJGABJAgZAkoABkCRgACQJGABJAgZAkoABkCRgACQJGABJAgZAkoABkCRgACQJGABJ/wGDHlJOWYVYlQAAAABJRU5ErkJggg==\"\n",
              "  frames[88] = \"data:image/png;base64,iVBORw0KGgoAAAANSUhEUgAAAbAAAAEgCAYAAADVKCZpAAAABHNCSVQICAgIfAhkiAAAAAlwSFlzAAALEgAACxIB0t1+/AAAADl0RVh0U29mdHdhcmUAbWF0cGxvdGxpYiB2ZXJzaW9uIDMuMC4zLCBodHRwOi8vbWF0cGxvdGxpYi5vcmcvnQurowAABTZJREFUeJzt29FtGkEUQFETuYnUEZeROnAbbsPUkTLiOlLG5s9KLEsRsDPDDedIfOwH0kgILrPz9rBt2/YAADFfVi8AAC4hYAAkCRgASQIGQJKAAZAkYAAkCRgASQIGQJKAAZAkYAAkCRgASQIGQJKAAZAkYAAkCRgASQIGQJKAAZAkYAAkCRgASQIGQJKAAZAkYAAkCRgASQIGQJKAAZAkYAAkCRgASQIGQJKAAZAkYAAkCRgASQIGQJKAAZAkYAAkCRgASQIGQJKAAZAkYAAkCRgASQIGQJKAAZAkYAAkCRgASQIGQJKAAZAkYAAkCRgASQIGQJKAAZAkYAAkCRgASQIGQJKAAZAkYAAkCRgASQIGQJKAAZAkYAAkCRgASQIGQJKAAZAkYAAkCRgASQIGQJKAAZAkYAAkCRgASQIGQJKAAZAkYAAkCRgASQIGQJKAAZAkYAAkCRgASQIGQJKAAZAkYAAkCRgASQIGQJKAAZAkYAAkCRgASQIGQJKAAZAkYAAkCRgASQIGQJKAAZAkYAAkCRgASQIGQJKAAZAkYAAkCRgASQIGQJKAAZAkYAAkCRgASQIGQJKAAZAkYAAkCRgASQIGQJKAAZAkYAAkCRgASQIGQJKAAZAkYAAkCRgASQIGQJKAAZAkYAAkCRgASQIGQJKAAZAkYAAkCRgASQIGQJKAAZAkYAAkCRgASQIGQJKAAZAkYAAkCRgASQIGQNLj6gUA9+Pt9PzX9bfj66KV8D+wAwOW+Rg0OIeAAZAkYMAUdlvsTcAASBIwAJIEDFjGFCLXEDAAkgQMGM4AByMIGLCE24dcS8AASBIwYCi3DxlFwABIEjAAkgQMmM4AB3sQMACSBAwYxgAHIwkYAEkCBkCSgAFTGeBgLwIGQJKAAZAkYMAQJhAZTcAASBIwAJIEDJjGBCJ7EjAAkgQM2J0BDmYQMACSBAyAJAEDpjDAwd4EDIAkAQMgScCAXZlAZBYBAyBJwABIEjBgOBOIjCBgACQJGLAbAxzMJGDAUG4fMoqAAbuw+2I2AQMgScAASBIwYBjnX4wkYAAkCRgASQIGXM0EIisIGABJAgZAkoABQ5hAZDQBAyBJwICrGOBgFQEDIEnAAEgSMGB3BjiYQcAASBIwAJIEDLiYCURWEjAAkgQMgCQBA94dDoezXp95ej5d/F44h4ABkPS4egFA08/X48OPX8f36+9fTwtXwz2yAwMu8me8PruG0QQM2I2IMZOAAbt5eXlavQTuiIABF/l45uUMjNkO27ZtqxcB3IaZ4+1+erjW3Uwheu4Ebovv5G0o/5G4m4CVPySYxQ6MEmdgACQJGABJAgZAkoABkCRgACQJGABJAgZA0t08Bwb8m2ezKLEDAyBJwABIEjAAkgQMgCQBAyBJwABIEjAAkgQMgCQBAyBJwABIEjAAkgQMgCQBAyBJwABIEjAAkgQMgCQBAyBJwABIEjAAkgQMgCQBAyBJwABIEjAAkgQMgCQBAyBJwABIEjAAkgQMgCQBAyBJwABIEjAAkgQMgCQBAyBJwABIEjAAkgQMgCQBAyBJwABIEjAAkgQMgCQBAyBJwABIEjAAkgQMgCQBAyBJwABIEjAAkgQMgCQBAyBJwABIEjAAkgQMgCQBAyBJwABIEjAAkgQMgCQBAyBJwABIEjAAkgQMgCQBAyBJwABIEjAAkgQMgCQBAyBJwABIEjAAkgQMgCQBAyBJwABIEjAAkgQMgCQBAyBJwABIEjAAkgQMgCQBAyBJwABIEjAAkgQMgCQBAyDpNyPdUE6fKacmAAAAAElFTkSuQmCC\"\n",
              "\n",
              "\n",
              "    /* set a timeout to make sure all the above elements are created before\n",
              "       the object is initialized. */\n",
              "    setTimeout(function() {\n",
              "        animUKAUEOAEYWMHCCQR = new Animation(frames, img_id, slider_id, 50, loop_select_id);\n",
              "    }, 0);\n",
              "  })()\n",
              "</script>\n"
            ],
            "text/plain": [
              "<IPython.core.display.HTML object>"
            ]
          },
          "metadata": {
            "tags": []
          }
        }
      ]
    },
    {
      "cell_type": "code",
      "metadata": {
        "id": "FAThrbjCHHzB",
        "colab_type": "code",
        "colab": {}
      },
      "source": [
        "# record sessions - didn't work for me in colab\n",
        "# import gym.wrappers\n",
        "# env = gym.wrappers.Monitor(gym.make(\"CartPole-v0\"),directory=\"videos\",force=True, write_upon_reset=True)\n",
        "# sessions = [generate_session(epsilon=0, train=False) for _ in range(1)]\n",
        "# print(np.mean(sessions))\n",
        "# env.close()\n",
        "# sessions\n",
        "#show video\n",
        "# from IPython.display import HTML\n",
        "# import os\n",
        "\n",
        "# video_names = list(filter(lambda s:s.endswith(\".mp4\"),os.listdir(\"./videos/\")))\n",
        "\n",
        "# HTML(\"\"\"\n",
        "# <video width=\"640\" height=\"480\" controls>\n",
        "#   <source src=\"{}\" type=\"video/mp4\">\n",
        "# </video>\n",
        "# \"\"\".format(\"./videos/\"+video_names[-1])) #this may or may not be _last_ video. Try other indices"
      ],
      "execution_count": 0,
      "outputs": []
    }
  ]
}