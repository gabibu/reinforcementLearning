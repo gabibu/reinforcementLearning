{
  "nbformat": 4,
  "nbformat_minor": 0,
  "metadata": {
    "colab": {
      "name": "exercise_4_continous_action_space.ipynb",
      "version": "0.3.2",
      "provenance": [],
      "collapsed_sections": []
    },
    "language_info": {
      "codemirror_mode": {
        "name": "ipython",
        "version": 3
      },
      "file_extension": ".py",
      "mimetype": "text/x-python",
      "name": "python",
      "nbconvert_exporter": "python",
      "pygments_lexer": "ipython3",
      "version": "3.6.3"
    },
    "kernelspec": {
      "name": "python3",
      "display_name": "Python 3"
    },
    "accelerator": "GPU"
  },
  "cells": [
    {
      "cell_type": "markdown",
      "metadata": {
        "id": "OimD9qiN4Vh4",
        "colab_type": "text"
      },
      "source": [
        "# Continous Observation Space\n",
        "## Part 1:  Q-learning with Binarized state spaces\n",
        "\n",
        "This notebook will guide you through implementation of vanilla Q-learning algorithm... not again! just kidding this will be given.\n",
        "You will get `QlearningAgent` class and `play_and_train` fundtion. see below"
      ]
    },
    {
      "cell_type": "code",
      "metadata": {
        "id": "oiRqMCag4Vh6",
        "colab_type": "code",
        "colab": {}
      },
      "source": [
        "import os\n",
        "import numpy as np\n",
        "import matplotlib.pyplot as plt\n",
        "from collections import defaultdict\n",
        "import random, math\n",
        "import numpy as np\n",
        "import gym\n",
        "import numpy as np\n",
        "import matplotlib.pyplot as plt\n",
        "import pandas as pd\n",
        "import matplotlib.pyplot as plt\n",
        "%matplotlib inline\n",
        "%load_ext autoreload\n",
        "%autoreload 2"
      ],
      "execution_count": 0,
      "outputs": []
    },
    {
      "cell_type": "code",
      "metadata": {
        "id": "Ytm9C8Wh4ViB",
        "colab_type": "code",
        "colab": {}
      },
      "source": [
        "\n",
        "\n",
        "class QLearningAgent:\n",
        "    def __init__(self, alpha, epsilon, discount, get_legal_actions):\n",
        "        \"\"\"\n",
        "        Q-Learning Agent\n",
        "        based on http://inst.eecs.berkeley.edu/~cs188/sp09/pacman.html\n",
        "        Instance variables you have access to\n",
        "          - self.epsilon (exploration prob)\n",
        "          - self.alpha (learning rate)\n",
        "          - self.discount (discount rate aka gamma)\n",
        "\n",
        "        Functions you should use\n",
        "          - self.get_legal_actions(state) {state, hashable -> list of actions, each is hashable}\n",
        "            which returns legal actions for a state\n",
        "          - self.get_qvalue(state,action)\n",
        "            which returns Q(state,action)\n",
        "          - self.set_qvalue(state,action,value)\n",
        "            which sets Q(state,action) := value\n",
        "\n",
        "        !!!Important!!!\n",
        "        Note: please avoid using self._qValues directly. \n",
        "            There's a special self.get_qvalue/set_qvalue for that.\n",
        "        \"\"\"\n",
        "\n",
        "        self.get_legal_actions = get_legal_actions\n",
        "        self._qvalues = defaultdict(lambda: defaultdict(lambda: 0))\n",
        "        self.alpha = alpha\n",
        "        self.epsilon = epsilon\n",
        "        self.discount = discount\n",
        "\n",
        "    def get_qvalue(self, state, action):\n",
        "        \"\"\" Returns Q(state,action) \"\"\"\n",
        "        return self._qvalues[state][action]\n",
        "\n",
        "    def set_qvalue(self,state,action,value):\n",
        "        \"\"\" Sets the Qvalue for [state,action] to the given value \"\"\"\n",
        "        self._qvalues[state][action] = value\n",
        "\n",
        "    #---------------------START OF YOUR CODE---------------------#\n",
        "\n",
        "    def get_value(self, state):\n",
        "        \"\"\"\n",
        "        Compute your agent's estimate of V(s) using current q-values\n",
        "        V(s) = max_over_action Q(state,action) over possible actions.\n",
        "        Note: please take into account that q-values can be negative.\n",
        "        \"\"\"\n",
        "        possible_actions = self.get_legal_actions(state)\n",
        "\n",
        "        #If there are no legal actions, return 0.0\n",
        "        if len(possible_actions) == 0:\n",
        "            return 0.0\n",
        "\n",
        "        #<YOUR CODE HERE>\n",
        "        value = max(self.get_qvalue(state,action) for action in possible_actions)\n",
        "        \n",
        "        return value\n",
        "\n",
        "    def update(self, state, action, reward, next_state):\n",
        "        \"\"\"\n",
        "        You should do your Q-Value update here:\n",
        "           Q(s,a) := (1 - alpha) * Q(s,a) + alpha * (r + gamma * V(s'))\n",
        "        \"\"\"\n",
        "\n",
        "        #agent parameters\n",
        "        gamma = self.discount\n",
        "        learning_rate = self.alpha\n",
        "\n",
        "        #<YOUR CODE HERE>\n",
        "        value = (1-learning_rate) * self.get_qvalue(state,action) + learning_rate * (reward + gamma * self.get_value(next_state))\n",
        "        \n",
        "        self.set_qvalue(state, action, value)\n",
        "\n",
        "    \n",
        "    def get_best_action(self, state):\n",
        "        \"\"\"\n",
        "        Compute the best action to take in a state (using current q-values). \n",
        "        \"\"\"\n",
        "        possible_actions = self.get_legal_actions(state)\n",
        "\n",
        "        #If there are no legal actions, return None\n",
        "        if len(possible_actions) == 0:\n",
        "            return None\n",
        "\n",
        "        #<YOUR CODE HERE>\n",
        "        best_acton = None\n",
        "        best_q = float(\"-inf\")\n",
        "        for action in possible_actions:\n",
        "            cur_q = self.get_qvalue(state,action)\n",
        "            if cur_q > best_q:\n",
        "                best_q = cur_q\n",
        "                best_action  = action\n",
        "\n",
        "        return best_action\n",
        "\n",
        "    def get_action(self, state):\n",
        "        \"\"\"\n",
        "        Compute the action to take in the current state, including exploration.  \n",
        "        With probability self.epsilon, we should take a random action.\n",
        "            otherwise - the best policy action (self.getPolicy).\n",
        "        \n",
        "        Note: To pick randomly from a list, use random.choice(list). \n",
        "              To pick True or False with a given probablity, generate uniform number in [0, 1]\n",
        "              and compare it with your probability\n",
        "        \"\"\"\n",
        "\n",
        "        # Pick Action\n",
        "        possible_actions = self.get_legal_actions(state)\n",
        "        action = random.choice(possible_actions)\n",
        "\n",
        "        #If there are no legal actions, return None\n",
        "        if len(possible_actions) == 0:\n",
        "            return None\n",
        "\n",
        "        #agent parameters:\n",
        "        epsilon = self.epsilon\n",
        "\n",
        "        #<YOUR CODE HERE>\n",
        "        if random.random() > epsilon:\n",
        "            chosen_action = self.get_best_action(state)\n",
        "        else:\n",
        "            chosen_action = action\n",
        "        \n",
        "        return chosen_action"
      ],
      "execution_count": 0,
      "outputs": []
    },
    {
      "cell_type": "code",
      "metadata": {
        "id": "BdoSJaOD4ViK",
        "colab_type": "code",
        "colab": {}
      },
      "source": [
        "def play_and_train(env,agent,t_max=10**4):\n",
        "    \"\"\"\n",
        "    This function should \n",
        "    - run a full game, actions given by agent's e-greedy policy\n",
        "    - train agent using agent.update(...) whenever it is possible\n",
        "    - return total reward\n",
        "    \"\"\"\n",
        "    total_reward = 0.0\n",
        "    s = env.reset()\n",
        "    \n",
        "    for t in range(t_max):\n",
        "        # get agent to pick action given state s.\n",
        "        a = agent.get_action(s)#<YOUR CODE>\n",
        "        \n",
        "        next_s, r, done, _ = env.step(a)\n",
        "        \n",
        "        # train (update) agent for state s\n",
        "        #<YOUR CODE HERE>\n",
        "        agent.update(s, a, r, next_s)\n",
        "        \n",
        "        s = next_s\n",
        "        total_reward +=r\n",
        "        if done: break\n",
        "        \n",
        "    return total_reward\n",
        "    \n",
        "        \n",
        "    "
      ],
      "execution_count": 0,
      "outputs": []
    },
    {
      "cell_type": "code",
      "metadata": {
        "id": "w1o-4PoC9far",
        "colab_type": "code",
        "outputId": "e540cfbe-3ac6-4110-e0a4-bbc2305742fc",
        "colab": {
          "base_uri": "https://localhost:8080/",
          "height": 407
        }
      },
      "source": [
        "# fix no screen problem in collab (https://stackoverflow.com/questions/50107530/how-to-render-openai-gym-in-google-colab?rq=1)\n",
        "!apt-get install -y xvfb python-opengl\n",
        "!pip install gym pyvirtualdisplay "
      ],
      "execution_count": 2,
      "outputs": [
        {
          "output_type": "stream",
          "text": [
            "Reading package lists... Done\n",
            "Building dependency tree       \n",
            "Reading state information... Done\n",
            "python-opengl is already the newest version (3.1.0+dfsg-1).\n",
            "xvfb is already the newest version (2:1.19.6-1ubuntu4.2).\n",
            "The following package was automatically installed and is no longer required:\n",
            "  libnvidia-common-410\n",
            "Use 'apt autoremove' to remove it.\n",
            "0 upgraded, 0 newly installed, 0 to remove and 16 not upgraded.\n",
            "Requirement already satisfied: gym in /usr/local/lib/python3.6/dist-packages (0.10.11)\n",
            "Requirement already satisfied: pyvirtualdisplay in /usr/local/lib/python3.6/dist-packages (0.2.4)\n",
            "Requirement already satisfied: requests>=2.0 in /usr/local/lib/python3.6/dist-packages (from gym) (2.21.0)\n",
            "Requirement already satisfied: pyglet>=1.2.0 in /usr/local/lib/python3.6/dist-packages (from gym) (1.3.2)\n",
            "Requirement already satisfied: scipy in /usr/local/lib/python3.6/dist-packages (from gym) (1.3.0)\n",
            "Requirement already satisfied: six in /usr/local/lib/python3.6/dist-packages (from gym) (1.12.0)\n",
            "Requirement already satisfied: numpy>=1.10.4 in /usr/local/lib/python3.6/dist-packages (from gym) (1.16.4)\n",
            "Requirement already satisfied: EasyProcess in /usr/local/lib/python3.6/dist-packages (from pyvirtualdisplay) (0.2.7)\n",
            "Requirement already satisfied: certifi>=2017.4.17 in /usr/local/lib/python3.6/dist-packages (from requests>=2.0->gym) (2019.6.16)\n",
            "Requirement already satisfied: urllib3<1.25,>=1.21.1 in /usr/local/lib/python3.6/dist-packages (from requests>=2.0->gym) (1.24.3)\n",
            "Requirement already satisfied: chardet<3.1.0,>=3.0.2 in /usr/local/lib/python3.6/dist-packages (from requests>=2.0->gym) (3.0.4)\n",
            "Requirement already satisfied: idna<2.9,>=2.5 in /usr/local/lib/python3.6/dist-packages (from requests>=2.0->gym) (2.8)\n",
            "Requirement already satisfied: future in /usr/local/lib/python3.6/dist-packages (from pyglet>=1.2.0->gym) (0.16.0)\n"
          ],
          "name": "stdout"
        }
      ]
    },
    {
      "cell_type": "code",
      "metadata": {
        "id": "wBH68GwOgMZl",
        "colab_type": "code",
        "colab": {}
      },
      "source": [
        "from IPython import display as ipythondisplay\n",
        "from pyvirtualdisplay import Display"
      ],
      "execution_count": 0,
      "outputs": []
    },
    {
      "cell_type": "code",
      "metadata": {
        "id": "ASfX8_Oe-fUa",
        "colab_type": "code",
        "outputId": "4f3e451c-4fbe-47bc-d0bc-0c7a01659bb8",
        "colab": {
          "base_uri": "https://localhost:8080/",
          "height": 72
        }
      },
      "source": [
        "\n",
        "display = Display(visible=0, size=(400, 300))\n",
        "display.start()"
      ],
      "execution_count": 4,
      "outputs": [
        {
          "output_type": "stream",
          "text": [
            "xdpyinfo was not found, X start can not be checked! Please install xdpyinfo!\n"
          ],
          "name": "stderr"
        },
        {
          "output_type": "execute_result",
          "data": {
            "text/plain": [
              "<Display cmd_param=['Xvfb', '-br', '-nolisten', 'tcp', '-screen', '0', '400x300x24', ':1001'] cmd=['Xvfb', '-br', '-nolisten', 'tcp', '-screen', '0', '400x300x24', ':1001'] oserror=None return_code=None stdout=\"None\" stderr=\"None\" timeout_happened=False>"
            ]
          },
          "metadata": {
            "tags": []
          },
          "execution_count": 4
        }
      ]
    },
    {
      "cell_type": "markdown",
      "metadata": {
        "collapsed": true,
        "id": "PcUGDMTR4ViT",
        "colab_type": "text"
      },
      "source": [
        "## Cartpole\n",
        "Use agent to train efficiently on ***CartPole-v0***.\n",
        "\n",
        "This environment has a continuous set of possible states, so you will have to group them into bins somehow.\n",
        "\n",
        "The simplest way is to use `round(x,n_digits)` (or numpy round) to round real number to a given amount of digits.\n",
        "\n",
        "The tricky part is to get the n_digits right for each state to train effectively.\n",
        "\n",
        "Note that you don't need to convert state to integers, but to __tuples__ of any kind of values.\n",
        "\n",
        "let's first have a look at the environment..."
      ]
    },
    {
      "cell_type": "code",
      "metadata": {
        "id": "iSWBaecr4ViT",
        "colab_type": "code",
        "outputId": "e574ef5e-fdc8-4d56-960a-a1d84adaf0e2",
        "colab": {
          "base_uri": "https://localhost:8080/",
          "height": 304
        }
      },
      "source": [
        "\n",
        "\n",
        "env = gym.make(\"CartPole-v0\")\n",
        "n_actions = env.action_space.n\n",
        "env.reset()\n",
        "print(\"first state:%s\" % (env.reset()))\n",
        "m = env.render(mode='rgb_array')\n",
        "plt.imshow(m)"
      ],
      "execution_count": 0,
      "outputs": [
        {
          "output_type": "stream",
          "text": [
            "first state:[-0.01336203  0.00592878 -0.0072919   0.03372623]\n"
          ],
          "name": "stdout"
        },
        {
          "output_type": "execute_result",
          "data": {
            "text/plain": [
              "<matplotlib.image.AxesImage at 0x7f73e2e37400>"
            ]
          },
          "metadata": {
            "tags": []
          },
          "execution_count": 7
        },
        {
          "output_type": "display_data",
          "data": {
            "image/png": "[encoded data removed]",
            "text/plain": [
              "<Figure size 432x288 with 1 Axes>"
            ]
          },
          "metadata": {
            "tags": []
          }
        }
      ]
    },
    {
      "cell_type": "markdown",
      "metadata": {
        "id": "TkHQOK08_cY4",
        "colab_type": "text"
      },
      "source": [
        "now let's look at the environment documentation to understand what does the state 4-tuple mean:"
      ]
    },
    {
      "cell_type": "code",
      "metadata": {
        "id": "Q7ZYXBrF-3mr",
        "colab_type": "code",
        "outputId": "f7f85633-bc5b-49aa-d435-ed584ac80e71",
        "colab": {
          "base_uri": "https://localhost:8080/",
          "height": 676
        }
      },
      "source": [
        "print(env.unwrapped.__doc__)"
      ],
      "execution_count": 0,
      "outputs": [
        {
          "output_type": "stream",
          "text": [
            "\n",
            "    Description:\n",
            "        A pole is attached by an un-actuated joint to a cart, which moves along a frictionless track. The pendulum starts upright, and the goal is to prevent it from falling over by increasing and reducing the cart's velocity.\n",
            "\n",
            "    Source:\n",
            "        This environment corresponds to the version of the cart-pole problem described by Barto, Sutton, and Anderson\n",
            "\n",
            "    Observation: \n",
            "        Type: Box(4)\n",
            "        Num\tObservation                 Min         Max\n",
            "        0\tCart Position             -4.8            4.8\n",
            "        1\tCart Velocity             -Inf            Inf\n",
            "        2\tPole Angle                 -24°           24°\n",
            "        3\tPole Velocity At Tip      -Inf            Inf\n",
            "        \n",
            "    Actions:\n",
            "        Type: Discrete(2)\n",
            "        Num\tAction\n",
            "        0\tPush cart to the left\n",
            "        1\tPush cart to the right\n",
            "        \n",
            "        Note: The amount the velocity is reduced or increased is not fixed as it depends on the angle the pole is pointing. This is because the center of gravity of the pole increases the amount of energy needed to move the cart underneath it\n",
            "\n",
            "    Reward:\n",
            "        Reward is 1 for every step taken, including the termination step\n",
            "\n",
            "    Starting State:\n",
            "        All observations are assigned a uniform random value between ±0.05\n",
            "\n",
            "    Episode Termination:\n",
            "        Pole Angle is more than ±12°\n",
            "        Cart Position is more than ±2.4 (center of the cart reaches the edge of the display)\n",
            "        Episode length is greater than 200\n",
            "        Solved Requirements\n",
            "        Considered solved when the average reward is greater than or equal to 195.0 over 100 consecutive trials.\n",
            "    \n"
          ],
          "name": "stdout"
        }
      ]
    },
    {
      "cell_type": "markdown",
      "metadata": {
        "id": "6EoKOiQ34ViW",
        "colab_type": "text"
      },
      "source": [
        "### Play a few games\n",
        "\n",
        "We need to estimate observation distributions. To do so, we'll play a few games and record all states."
      ]
    },
    {
      "cell_type": "code",
      "metadata": {
        "id": "t6mjlFA74ViX",
        "colab_type": "code",
        "outputId": "4481a137-e806-4725-b5f1-5d200b1aaab7",
        "colab": {
          "base_uri": "https://localhost:8080/",
          "height": 1025
        }
      },
      "source": [
        "all_states = []\n",
        "for _ in range(1000):\n",
        "    all_states.append(env.reset())\n",
        "    done = False\n",
        "    while not done:\n",
        "        s, r, done, _ = env.step(env.action_space.sample())\n",
        "        all_states.append(s)\n",
        "        if done: break\n",
        "            \n",
        "all_states = np.array(all_states)\n",
        "\n",
        "for obs_i in range(env.observation_space.shape[0]):\n",
        "    plt.hist(all_states[:, obs_i], bins=20)\n",
        "    plt.show()"
      ],
      "execution_count": 0,
      "outputs": [
        {
          "output_type": "display_data",
          "data": {
            "image/png": "[encoded data removed]",
            "text/plain": [
              "<Figure size 432x288 with 1 Axes>"
            ]
          },
          "metadata": {
            "tags": []
          }
        },
        {
          "output_type": "display_data",
          "data": {
            "image/png": "[encoded data removed]",
            "text/plain": [
              "<Figure size 432x288 with 1 Axes>"
            ]
          },
          "metadata": {
            "tags": []
          }
        },
        {
          "output_type": "display_data",
          "data": {
            "image/png": "[encoded data removed]",
            "text/plain": [
              "<Figure size 432x288 with 1 Axes>"
            ]
          },
          "metadata": {
            "tags": []
          }
        },
        {
          "output_type": "display_data",
          "data": {
            "image/png": "[encoded data removed]",
            "text/plain": [
              "<Figure size 432x288 with 1 Axes>"
            ]
          },
          "metadata": {
            "tags": []
          }
        }
      ]
    },
    {
      "cell_type": "markdown",
      "metadata": {
        "id": "a3hnnQOM4ViZ",
        "colab_type": "text"
      },
      "source": [
        "## Binarize environment"
      ]
    },
    {
      "cell_type": "code",
      "metadata": {
        "id": "ZqQXmPFz4Via",
        "colab_type": "code",
        "colab": {}
      },
      "source": [
        "from gym.core import ObservationWrapper\n",
        "class Binarizer(ObservationWrapper): # notice the usage of wrapper\n",
        "    \n",
        "    def _observation(self, state):    \n",
        "        \n",
        "        #state = <round state to some amount digits.>\n",
        "        #hint: you can do that with round(x,n_digits)\n",
        "        #you will need to pick a different n_digits for each dimension\n",
        "        \n",
        "        #state = <YOUR CODE> # n_digits can be any integer but we recommend between 0 and 2 and can (should) be different between state dimension>\n",
        "        digits = [0, 1, 2, 1]\n",
        "\n",
        "        state = [round(x, digits[index]) for index,  x in enumerate(state)]\n",
        "      \n",
        "        return tuple(state)"
      ],
      "execution_count": 0,
      "outputs": []
    },
    {
      "cell_type": "code",
      "metadata": {
        "id": "iwql8A8E4Vic",
        "colab_type": "code",
        "colab": {}
      },
      "source": [
        "env = Binarizer(gym.make(\"CartPole-v0\"))"
      ],
      "execution_count": 0,
      "outputs": []
    },
    {
      "cell_type": "code",
      "metadata": {
        "id": "KWwgNuLT4Vif",
        "colab_type": "code",
        "outputId": "0ddcfd1f-bd49-45d7-8043-1249c9a8fc44",
        "colab": {
          "base_uri": "https://localhost:8080/",
          "height": 1025
        }
      },
      "source": [
        "all_states = []\n",
        "for _ in range(1000):\n",
        "    all_states.append(env.reset())\n",
        "    done = False\n",
        "    while not done:\n",
        "        s, r, done, _ = env.step(env.action_space.sample())\n",
        "        all_states.append(s)\n",
        "        if done: break\n",
        "            \n",
        "all_states = np.array(all_states)\n",
        "\n",
        "for obs_i in range(env.observation_space.shape[0]):\n",
        "    \n",
        "    plt.hist(all_states[:,obs_i],bins=20)\n",
        "    plt.show()"
      ],
      "execution_count": 0,
      "outputs": [
        {
          "output_type": "display_data",
          "data": {
            "image/png": "[encoded data removed]",
            "text/plain": [
              "<Figure size 432x288 with 1 Axes>"
            ]
          },
          "metadata": {
            "tags": []
          }
        },
        {
          "output_type": "display_data",
          "data": {
            "image/png": "[encoded data removed]",
            "text/plain": [
              "<Figure size 432x288 with 1 Axes>"
            ]
          },
          "metadata": {
            "tags": []
          }
        },
        {
          "output_type": "display_data",
          "data": {
            "image/png": "[encoded data removed]",
            "text/plain": [
              "<Figure size 432x288 with 1 Axes>"
            ]
          },
          "metadata": {
            "tags": []
          }
        },
        {
          "output_type": "display_data",
          "data": {
            "image/png": "[encoded data removed]",
            "text/plain": [
              "<Figure size 432x288 with 1 Axes>"
            ]
          },
          "metadata": {
            "tags": []
          }
        }
      ]
    },
    {
      "cell_type": "markdown",
      "metadata": {
        "id": "zTPuASz24Vii",
        "colab_type": "text"
      },
      "source": [
        "## Learn binarized policy\n",
        "\n",
        "Now let's train a policy that uses binarized state space.\n",
        "\n",
        "__Tips:__ \n",
        "* If your binarization is too coarse, your agent may fail to find optimal policy. In that case, change binarization. \n",
        "* If your binarization is too fine-grained, your agent will take much longer than 1000 steps to converge. You can either increase number of iterations and decrease epsilon decay or change binarization.\n",
        "* Having 10^3 ~ 10^4 distinct states is recommended (`len(QLearningAgent._qvalues)`), but not required.\n",
        "* Feel free to change what ever you want (eps # steps etc)\n"
      ]
    },
    {
      "cell_type": "code",
      "metadata": {
        "id": "WsKTWwJA4Vij",
        "colab_type": "code",
        "colab": {}
      },
      "source": [
        "agent = QLearningAgent(alpha=0.5, epsilon=0.25, discount=0.99,\n",
        "                       get_legal_actions= lambda s: range(n_actions))"
      ],
      "execution_count": 0,
      "outputs": []
    },
    {
      "cell_type": "code",
      "metadata": {
        "scrolled": true,
        "id": "5SNMaR5s4Vil",
        "colab_type": "code",
        "outputId": "b5022174-e67a-4d48-94a3-5b82dd0d0d08",
        "colab": {
          "base_uri": "https://localhost:8080/",
          "height": 286
        }
      },
      "source": [
        "from IPython.display import clear_output\n",
        "rewards = []\n",
        "for i in range(3000):\n",
        "    rewards.append(play_and_train(env,agent))   \n",
        "    \n",
        "    #OPTIONAL YOUR CODE: adjust epsilon\n",
        "    \n",
        "    if i %20 ==0:\n",
        "        agent.epsilon *= 0.99\n",
        "        clear_output(True)\n",
        "        print('eps =', agent.epsilon, 'mean reward =', np.mean(rewards[-10:]) , 'i=', i)\n",
        "        plt.plot(rewards)\n",
        "        plt.show()\n",
        "        "
      ],
      "execution_count": 0,
      "outputs": [
        {
          "output_type": "stream",
          "text": [
            "eps = 0.055362946809715236 mean reward = 67.8 i= 2980\n"
          ],
          "name": "stdout"
        },
        {
          "output_type": "display_data",
          "data": {
            "image/png": "[encoded data removed]",
            "text/plain": [
              "<Figure size 432x288 with 1 Axes>"
            ]
          },
          "metadata": {
            "tags": []
          }
        }
      ]
    },
    {
      "cell_type": "markdown",
      "metadata": {
        "collapsed": true,
        "id": "5TIapl4E4Vip",
        "colab_type": "text"
      },
      "source": [
        "### Check Solution"
      ]
    },
    {
      "cell_type": "code",
      "metadata": {
        "id": "Xur6VmOL4Vip",
        "colab_type": "code",
        "outputId": "37757def-cef8-48c9-f2e5-32928874c975",
        "colab": {
          "base_uri": "https://localhost:8080/",
          "height": 34
        }
      },
      "source": [
        "assert np.mean(rewards[:-100])>70 # good enough\n",
        "print('good enough')"
      ],
      "execution_count": 0,
      "outputs": [
        {
          "output_type": "stream",
          "text": [
            "good enough\n"
          ],
          "name": "stdout"
        }
      ]
    },
    {
      "cell_type": "markdown",
      "metadata": {
        "id": "pc0xNnH34Vit",
        "colab_type": "text"
      },
      "source": [
        "## Part 2:  Q-learning with Function Approximation\n",
        "\n",
        "Consider asking colab for a gpu enabled kernel"
      ]
    },
    {
      "cell_type": "code",
      "metadata": {
        "id": "jlbSd_nY36I7",
        "colab_type": "code",
        "outputId": "912662c0-62f4-463b-e6ba-1c1a63d983e7",
        "colab": {
          "base_uri": "https://localhost:8080/",
          "height": 52
        }
      },
      "source": [
        "%matplotlib inline\n",
        "%load_ext autoreload\n",
        "%autoreload 2\n",
        "# fix no screen problem in collab (https://stackoverflow.com/questions/50107530/how-to-render-openai-gym-in-google-colab?rq=1)\n",
        "!apt-get install -y xvfb python-opengl > /dev/null 2>&1\n",
        "!pip install gym pyvirtualdisplay > /dev/null 2>&1\n"
      ],
      "execution_count": 5,
      "outputs": [
        {
          "output_type": "stream",
          "text": [
            "The autoreload extension is already loaded. To reload it, use:\n",
            "  %reload_ext autoreload\n"
          ],
          "name": "stdout"
        }
      ]
    },
    {
      "cell_type": "code",
      "metadata": {
        "id": "ckviF5-agGhw",
        "colab_type": "code",
        "colab": {}
      },
      "source": [
        "\n",
        "from IPython import display as ipythondisplay\n",
        "from pyvirtualdisplay import Display"
      ],
      "execution_count": 0,
      "outputs": []
    },
    {
      "cell_type": "code",
      "metadata": {
        "id": "THyHnRqRCJCD",
        "colab_type": "code",
        "outputId": "e92f08eb-9e88-4c96-ac96-226c0e8ecb10",
        "colab": {
          "base_uri": "https://localhost:8080/",
          "height": 304
        }
      },
      "source": [
        "#make sure we got everything in place\n",
        "\n",
        "display = Display(visible=0, size=(400, 300))\n",
        "display.start()\n",
        "%matplotlib inline\n",
        "\n",
        "env = gym.make(\"CartPole-v0\").env\n",
        "env.reset()\n",
        "n_actions = env.action_space.n\n",
        "state_dim = env.observation_space.shape\n",
        "\n",
        "plt.imshow(env.render(\"rgb_array\"))"
      ],
      "execution_count": 7,
      "outputs": [
        {
          "output_type": "stream",
          "text": [
            "xdpyinfo was not found, X start can not be checked! Please install xdpyinfo!\n"
          ],
          "name": "stderr"
        },
        {
          "output_type": "execute_result",
          "data": {
            "text/plain": [
              "<matplotlib.image.AxesImage at 0x7fe3726ea9b0>"
            ]
          },
          "metadata": {
            "tags": []
          },
          "execution_count": 7
        },
        {
          "output_type": "display_data",
          "data": {
            "image/png": "[encoded data removed]",
            "text/plain": [
              "<Figure size 432x288 with 1 Axes>"
            ]
          },
          "metadata": {
            "tags": []
          }
        }
      ]
    },
    {
      "cell_type": "markdown",
      "metadata": {
        "id": "T0kCL6JkC1jG",
        "colab_type": "text"
      },
      "source": [
        "### Approximate (deep) Q-learning: building the network\n",
        "\n",
        "To train a neural network policy one must have a neural network policy. Let's build it.\n",
        "\n",
        "\n",
        "Since we're working with a pre-extracted features (cart positions, angles and velocities), we don't need a complicated network yet. In fact, let's build something like this for starters:\n",
        "\n",
        "![img](https://raw.githubusercontent.com/yandexdataschool/Practical_RL/master/yet_another_week/_resource/qlearning_scheme.png)\n",
        "\n",
        "For your first run, please only use linear layers (L.Dense) and activations. Stuff like batch normalization or dropout may ruin everything if used haphazardly. \n",
        "\n",
        "Also please avoid using nonlinearities like sigmoid & tanh: agent's observations are not normalized so sigmoids may become saturated from init.\n",
        "\n",
        "Ideally you should start small with maybe 1-2 hidden layers with < 200 neurons and then increase network size if agent doesn't beat the target score."
      ]
    },
    {
      "cell_type": "code",
      "metadata": {
        "id": "6zla_WoxC61J",
        "colab_type": "code",
        "colab": {}
      },
      "source": [
        ""
      ],
      "execution_count": 0,
      "outputs": []
    },
    {
      "cell_type": "markdown",
      "metadata": {
        "colab_type": "text",
        "id": "SyvURakzIsc2"
      },
      "source": [
        "### Q-learning via gradient descent\n",
        "\n",
        "We shall now train our agent's Q-function by minimizing the TD loss:\n",
        "$$ L = { 1 \\over N} \\sum_i (Q_{\\theta}(s,a) - [r(s,a) + \\gamma \\cdot max_{a'} Q_{-}(s', a')]) ^2 $$\n",
        "\n",
        "\n",
        "Where\n",
        "* $s, a, r, s'$ are current state, action, reward and next state respectively\n",
        "* $\\gamma$ is a discount factor defined two cells above.\n",
        "\n",
        "The tricky part is with  $Q_{-}(s',a')$. From an engineering standpoint, it's the same as $Q_{\\theta}$ - the output of your neural network policy. However, when doing gradient descent, __we won't propagate gradients through it__ to make training more stable (see lectures).\n",
        "\n",
        "To do so, we shall use `tf.stop_gradient` function which basically says \"consider this thing constant when doingbackprop\"."
      ]
    },
    {
      "cell_type": "code",
      "metadata": {
        "id": "_Eo4_McGhFXb",
        "colab_type": "code",
        "colab": {}
      },
      "source": [
        "import gym\n",
        "import matplotlib.pyplot as plt\n",
        "from pyvirtualdisplay import Display\n",
        "import random\n",
        "import torch\n",
        "import torch.nn as nn\n",
        "import torch.optim as optim\n",
        "import torch.nn.functional as F\n",
        "from collections import namedtuple  "
      ],
      "execution_count": 0,
      "outputs": []
    },
    {
      "cell_type": "code",
      "metadata": {
        "id": "oXd2uULXIv0_",
        "colab_type": "code",
        "colab": {}
      },
      "source": [
        "env = gym.make(\"CartPole-v0\").env\n",
        "env.reset()\n",
        "n_actions = env.action_space.n\n",
        "state_dim = env.observation_space.shape\n",
        "number_of_states = state_dim[0]\n",
        "device = torch.device(\"cuda\" if torch.cuda.is_available() else \"cpu\")"
      ],
      "execution_count": 0,
      "outputs": []
    },
    {
      "cell_type": "code",
      "metadata": {
        "id": "_25m7pppDnLI",
        "colab_type": "code",
        "colab": {}
      },
      "source": [
        "MEMROY_SIZE = 2000\n",
        "BATCH_SIZE = 32\n",
        "gamma = 0.99"
      ],
      "execution_count": 0,
      "outputs": []
    },
    {
      "cell_type": "code",
      "metadata": {
        "id": "fBGYlVjNhFaP",
        "colab_type": "code",
        "outputId": "1514f19e-a549-4d1d-90a6-534772030a17",
        "colab": {
          "base_uri": "https://localhost:8080/",
          "height": 34
        }
      },
      "source": [
        "n_actions,state_dim"
      ],
      "execution_count": 11,
      "outputs": [
        {
          "output_type": "execute_result",
          "data": {
            "text/plain": [
              "(2, (4,))"
            ]
          },
          "metadata": {
            "tags": []
          },
          "execution_count": 11
        }
      ]
    },
    {
      "cell_type": "code",
      "metadata": {
        "id": "D-c1rMDchFc7",
        "colab_type": "code",
        "colab": {}
      },
      "source": [
        "class Net(nn.Module):\n",
        "    def __init__(self, input_size, ouput_size):\n",
        "        super(Net, self).__init__()\n",
        "        self.pipe = nn.Sequential(nn.Linear(input_size, 50), nn.ReLU(),\n",
        "                                  nn.Linear(50, ouput_size))\n",
        "\n",
        "    def forward(self, x):\n",
        "        return self.pipe(x)\n",
        "    \n",
        "    def _init_weights(self, m):\n",
        "        if type(m) == nn.Linear:\n",
        "            m.weight.data.normal_(0, 0.1)\n",
        "            \n",
        "    def initWeights(self):\n",
        "        self.pipe.apply(self._init_weights)\n"
      ],
      "execution_count": 0,
      "outputs": []
    },
    {
      "cell_type": "code",
      "metadata": {
        "id": "HNi-K_P2hFiU",
        "colab_type": "code",
        "colab": {}
      },
      "source": [
        "policy_net  = Net(number_of_states, n_actions).to(device)\n",
        "policy_net.initWeights()"
      ],
      "execution_count": 0,
      "outputs": []
    },
    {
      "cell_type": "code",
      "metadata": {
        "id": "fM99O3MeEhYV",
        "colab_type": "code",
        "colab": {
          "base_uri": "https://localhost:8080/",
          "height": 141
        },
        "outputId": "639d94ea-3b5f-4a18-b0a9-ad627e66401c"
      },
      "source": [
        "target_net  = Net(number_of_states, n_actions).to(device)\n",
        "target_net.load_state_dict(policy_net.state_dict())\n",
        "target_net.eval()"
      ],
      "execution_count": 14,
      "outputs": [
        {
          "output_type": "execute_result",
          "data": {
            "text/plain": [
              "Net(\n",
              "  (pipe): Sequential(\n",
              "    (0): Linear(in_features=4, out_features=50, bias=True)\n",
              "    (1): ReLU()\n",
              "    (2): Linear(in_features=50, out_features=2, bias=True)\n",
              "  )\n",
              ")"
            ]
          },
          "metadata": {
            "tags": []
          },
          "execution_count": 14
        }
      ]
    },
    {
      "cell_type": "code",
      "metadata": {
        "id": "f3eOAODvhFlT",
        "colab_type": "code",
        "colab": {}
      },
      "source": [
        "loss_func = nn.MSELoss()\n",
        "NUMBER_OF_EPISODES = 220\n",
        "lr = 1e-2"
      ],
      "execution_count": 0,
      "outputs": []
    },
    {
      "cell_type": "code",
      "metadata": {
        "id": "aimwePj5hFvU",
        "colab_type": "code",
        "colab": {}
      },
      "source": [
        "Transition = namedtuple('Transition',\n",
        "                        ('state', 'action', 'next_state', 'reward'))\n",
        "\n",
        "optimizer = torch.optim.Adam(policy_net.parameters(), lr=lr)"
      ],
      "execution_count": 0,
      "outputs": []
    },
    {
      "cell_type": "code",
      "metadata": {
        "id": "tMd9qqQfhFyC",
        "colab_type": "code",
        "colab": {}
      },
      "source": [
        "class ReplayMemory:\n",
        "\n",
        "    def __init__(self, capacity):\n",
        "        self.capacity = capacity\n",
        "        self.memory = [None for _ in range(self.capacity)]\n",
        "        self.position = 0\n",
        "        self.memory_counter = 0\n",
        "\n",
        "    def push(self, *args):\n",
        "\n",
        "        self.memory[self.position] = Transition(*args)\n",
        "        self.position = (self.position + 1) % self.capacity\n",
        "        self.memory_counter  += 1\n",
        "\n",
        "    def sample(self, batch_size):\n",
        "        return random.sample(self.memory, batch_size)\n"
      ],
      "execution_count": 0,
      "outputs": []
    },
    {
      "cell_type": "code",
      "metadata": {
        "id": "UnOHUCDIhF01",
        "colab_type": "code",
        "colab": {}
      },
      "source": [
        "def select_action(state, epsilon = 0):\n",
        "\n",
        "    state = torch.unsqueeze(torch.FloatTensor(state), 0).to(device)\n",
        "\n",
        "    if random.random() <= epsilon:\n",
        "        with torch.no_grad():\n",
        "            selected_action = np.random.randint(0, n_actions)\n",
        "\n",
        "    else:\n",
        "\n",
        "        actions_expected_rewards = policy_net(state)\n",
        "        selected_action = torch.max(actions_expected_rewards, 1)[1].cpu().data.numpy()[0].item()\n",
        "\n",
        "    return selected_action"
      ],
      "execution_count": 0,
      "outputs": []
    },
    {
      "cell_type": "code",
      "metadata": {
        "id": "AdG1nwWchF3y",
        "colab_type": "code",
        "colab": {}
      },
      "source": [
        "def train():\n",
        "    batch_sample = replay_memory.sample(batch_size=BATCH_SIZE)\n",
        "    b_s = torch.FloatTensor([sample.state for sample in batch_sample]).to(device)\n",
        "\n",
        "    b_a = torch.LongTensor([sample.action for sample in batch_sample]).reshape(-1,1).to(device)\n",
        "    b_r = torch.FloatTensor([sample.reward for sample in batch_sample]).reshape(-1,1).to(device)\n",
        "    b_s_ = torch.FloatTensor([sample.next_state for sample in batch_sample]).to(device)\n",
        "\n",
        "    q_eval = policy_net(b_s).gather(1, b_a)  # shape (batch, 1)\n",
        "    q_next = target_net(b_s_).detach()  # detach from graph, don't backpropagate\n",
        "    q_target = b_r + gamma * q_next.max(1)[0].view(BATCH_SIZE, 1)  # shape (batch, 1)\n",
        "    loss = loss_func(q_eval, q_target)\n",
        "\n",
        "    optimizer.zero_grad()\n",
        "    loss.backward()\n",
        "    optimizer.step()"
      ],
      "execution_count": 0,
      "outputs": []
    },
    {
      "cell_type": "code",
      "metadata": {
        "id": "FX33CzMEhF9i",
        "colab_type": "code",
        "colab": {
          "base_uri": "https://localhost:8080/",
          "height": 870
        },
        "outputId": "f272d9a5-08ec-43b0-e817-c9cf818caa24"
      },
      "source": [
        "num_of_episodes_for_update = 100\n",
        "replay_memory = ReplayMemory(MEMROY_SIZE)\n",
        "stated_trainning = False\n",
        "cycles = 0\n",
        "for episode in range(NUMBER_OF_EPISODES):\n",
        "    \n",
        "    state = env.reset()\n",
        "    reward = 0\n",
        "\n",
        "    episode_tato_reward = 0\n",
        "\n",
        "    while True:\n",
        "\n",
        "        if cycles % num_of_episodes_for_update == 0:\n",
        "            #print('copy weights')\n",
        "\n",
        "            target_net.load_state_dict(policy_net.state_dict())\n",
        "\n",
        "        cycles += 1\n",
        "\n",
        "        env.render()\n",
        "\n",
        "        action = select_action(state, epsilon=0.1)\n",
        "\n",
        "        next_state, reward, done, _ = env.step(action)\n",
        "\n",
        "        x, x_dot, theta, theta_dot = next_state\n",
        "        r1 = (env.x_threshold - abs(x)) / env.x_threshold - 0.8\n",
        "        r2 = (env.theta_threshold_radians - abs(theta)) / env.theta_threshold_radians - 0.5\n",
        "        reward = r1 + r2\n",
        "\n",
        "\n",
        "        episode_tato_reward += reward\n",
        "\n",
        "        replay_memory.push(state, action, next_state, reward)\n",
        "\n",
        "        if replay_memory.memory_counter >= MEMROY_SIZE:\n",
        "\n",
        "            if not stated_trainning:\n",
        "                stated_trainning = True\n",
        "                print('start trainning')\n",
        "\n",
        "            train()\n",
        "\n",
        "        state = next_state\n",
        "\n",
        "        if done:\n",
        "            episode_tato_reward +=-1\n",
        "\n",
        "            if stated_trainning:\n",
        "                #print(episode_tato_reward)\n",
        "                print('Ep:  {0} | Ep_r:  {1}'.format(episode, episode_tato_reward))\n",
        "            else:\n",
        "                if episode % 100 == 0:\n",
        "                    print(episode_tato_reward)\n",
        "\n",
        "            break\n"
      ],
      "execution_count": 0,
      "outputs": [
        {
          "output_type": "stream",
          "text": [
            "0.10137451389336283\n",
            "start trainning\n",
            "Ep:  46 | Ep_r:  1.513796832087574\n",
            "Ep:  47 | Ep_r:  1.234364152815676\n",
            "Ep:  48 | Ep_r:  3.040617229486963\n",
            "Ep:  49 | Ep_r:  9.0593140471422\n",
            "Ep:  50 | Ep_r:  9.810071663408099\n",
            "Ep:  51 | Ep_r:  14.683738607827788\n",
            "Ep:  52 | Ep_r:  3.9038004481775728\n",
            "Ep:  53 | Ep_r:  6.037512655120256\n",
            "Ep:  54 | Ep_r:  5.327255038621645\n",
            "Ep:  55 | Ep_r:  -1.7080571493764731\n",
            "Ep:  56 | Ep_r:  11.118124600511242\n",
            "Ep:  57 | Ep_r:  1.5490213556958858\n",
            "Ep:  58 | Ep_r:  1.6082574979125592\n",
            "Ep:  59 | Ep_r:  -1.3864030514296526\n",
            "Ep:  60 | Ep_r:  1.2898790127953434\n",
            "Ep:  61 | Ep_r:  4.083050076625835\n",
            "Ep:  62 | Ep_r:  1.4712057566908232\n",
            "Ep:  63 | Ep_r:  2.1501984801900935\n",
            "Ep:  64 | Ep_r:  3.1016751843244235\n",
            "Ep:  65 | Ep_r:  1.1114137665920891\n",
            "Ep:  66 | Ep_r:  3.005520455959587\n",
            "Ep:  67 | Ep_r:  0.3074633014334034\n",
            "Ep:  68 | Ep_r:  1.7571286915507573\n",
            "Ep:  69 | Ep_r:  0.595249895475134\n",
            "Ep:  70 | Ep_r:  -0.356373693658368\n",
            "Ep:  71 | Ep_r:  1.5167534348048028\n",
            "Ep:  72 | Ep_r:  0.4222444694327945\n",
            "Ep:  73 | Ep_r:  1.5470317857920914\n",
            "Ep:  74 | Ep_r:  1.730122860059982\n",
            "Ep:  75 | Ep_r:  0.9859505711442005\n",
            "Ep:  76 | Ep_r:  1.6234914873851274\n",
            "Ep:  77 | Ep_r:  0.6144260589203561\n",
            "Ep:  78 | Ep_r:  2.263206200445806\n",
            "Ep:  79 | Ep_r:  1.7769846017016073\n",
            "Ep:  80 | Ep_r:  3.1875516599519136\n",
            "Ep:  81 | Ep_r:  2.329750691561515\n",
            "Ep:  82 | Ep_r:  -9.480570428940029\n",
            "Ep:  83 | Ep_r:  0.779114528802292\n",
            "Ep:  84 | Ep_r:  -2.310726590960803\n",
            "Ep:  85 | Ep_r:  15.844980741359258\n",
            "Ep:  86 | Ep_r:  193.64975407784033\n",
            "Ep:  87 | Ep_r:  71.7544936661867\n",
            "Ep:  88 | Ep_r:  81.93428744392826\n",
            "Ep:  89 | Ep_r:  -7.736823029317851\n",
            "Ep:  90 | Ep_r:  125.98585101437614\n",
            "Ep:  91 | Ep_r:  222.70704875536256\n"
          ],
          "name": "stdout"
        }
      ]
    },
    {
      "cell_type": "code",
      "metadata": {
        "id": "c6Mrygj8hFs0",
        "colab_type": "code",
        "colab": {}
      },
      "source": [
        ""
      ],
      "execution_count": 0,
      "outputs": []
    },
    {
      "cell_type": "code",
      "metadata": {
        "id": "95ccaWF8hFqQ",
        "colab_type": "code",
        "colab": {}
      },
      "source": [
        ""
      ],
      "execution_count": 0,
      "outputs": []
    },
    {
      "cell_type": "code",
      "metadata": {
        "id": "F5LgcIEIhFn3",
        "colab_type": "code",
        "colab": {}
      },
      "source": [
        ""
      ],
      "execution_count": 0,
      "outputs": []
    },
    {
      "cell_type": "code",
      "metadata": {
        "id": "-UfZDy1yhFgI",
        "colab_type": "code",
        "colab": {}
      },
      "source": [
        ""
      ],
      "execution_count": 0,
      "outputs": []
    },
    {
      "cell_type": "code",
      "metadata": {
        "id": "_v1jX78Zrp0P",
        "colab_type": "code",
        "colab": {}
      },
      "source": [
        ""
      ],
      "execution_count": 0,
      "outputs": []
    },
    {
      "cell_type": "code",
      "metadata": {
        "id": "s-5vAKWYrqFC",
        "colab_type": "code",
        "colab": {}
      },
      "source": [
        ""
      ],
      "execution_count": 0,
      "outputs": []
    },
    {
      "cell_type": "code",
      "metadata": {
        "id": "4R-A4-WErqSv",
        "colab_type": "code",
        "colab": {}
      },
      "source": [
        ""
      ],
      "execution_count": 0,
      "outputs": []
    },
    {
      "cell_type": "code",
      "metadata": {
        "id": "D0mtMtUPrqgU",
        "colab_type": "code",
        "colab": {}
      },
      "source": [
        ""
      ],
      "execution_count": 0,
      "outputs": []
    },
    {
      "cell_type": "code",
      "metadata": {
        "id": "zKqWGfd7rqtt",
        "colab_type": "code",
        "colab": {}
      },
      "source": [
        ""
      ],
      "execution_count": 0,
      "outputs": []
    },
    {
      "cell_type": "code",
      "metadata": {
        "id": "lkhS7o9KrISa",
        "colab_type": "code",
        "colab": {}
      },
      "source": [
        ""
      ],
      "execution_count": 0,
      "outputs": []
    },
    {
      "cell_type": "code",
      "metadata": {
        "id": "KDvbLYzcGYoE",
        "colab_type": "code",
        "colab": {}
      },
      "source": [
        ""
      ],
      "execution_count": 0,
      "outputs": []
    },
    {
      "cell_type": "code",
      "metadata": {
        "id": "BqvbmEKtGZFI",
        "colab_type": "code",
        "colab": {}
      },
      "source": [
        ""
      ],
      "execution_count": 0,
      "outputs": []
    },
    {
      "cell_type": "code",
      "metadata": {
        "id": "vFVRgXo6GdC6",
        "colab_type": "code",
        "colab": {}
      },
      "source": [
        ""
      ],
      "execution_count": 0,
      "outputs": []
    },
    {
      "cell_type": "code",
      "metadata": {
        "id": "KPs43yXJGoI-",
        "colab_type": "code",
        "outputId": "53c53a9a-d3eb-4d0f-e6ab-d574167b3cb9",
        "colab": {
          "base_uri": "https://localhost:8080/",
          "height": 68
        }
      },
      "source": [
        ""
      ],
      "execution_count": 0,
      "outputs": [
        {
          "output_type": "stream",
          "text": [
            "WARNING:tensorflow:From /usr/local/lib/python3.6/dist-packages/tensorflow/python/ops/math_ops.py:3066: to_int32 (from tensorflow.python.ops.math_ops) is deprecated and will be removed in a future version.\n",
            "Instructions for updating:\n",
            "Use tf.cast instead.\n"
          ],
          "name": "stdout"
        }
      ]
    },
    {
      "cell_type": "code",
      "metadata": {
        "id": "qKh8quPlGq0_",
        "colab_type": "code",
        "outputId": "9d609825-b3fb-4cce-c284-fbf0bdebc333",
        "colab": {
          "base_uri": "https://localhost:8080/",
          "height": 34
        }
      },
      "source": [
        ""
      ],
      "execution_count": 0,
      "outputs": [
        {
          "output_type": "stream",
          "text": [
            "good job\n"
          ],
          "name": "stdout"
        }
      ]
    },
    {
      "cell_type": "code",
      "metadata": {
        "id": "UiHjnzBlZkGz",
        "colab_type": "code",
        "colab": {}
      },
      "source": [
        ""
      ],
      "execution_count": 0,
      "outputs": []
    },
    {
      "cell_type": "code",
      "metadata": {
        "id": "6bOX_C1HGwTe",
        "colab_type": "code",
        "colab": {}
      },
      "source": [
        ""
      ],
      "execution_count": 0,
      "outputs": []
    },
    {
      "cell_type": "markdown",
      "metadata": {
        "id": "YUMWa84gQ9q1",
        "colab_type": "text"
      },
      "source": [
        "![alt text](https://cdn-images-1.medium.com/max/1600/1*LqQEd7iO2ECwEzW2vG0OBw.png)"
      ]
    },
    {
      "cell_type": "markdown",
      "metadata": {
        "id": "38rqGLQjXqm3",
        "colab_type": "text"
      },
      "source": [
        ""
      ]
    },
    {
      "cell_type": "markdown",
      "metadata": {
        "id": "6TYThW58HCwR",
        "colab_type": "text"
      },
      "source": [
        "### How to interpret results\n",
        "\n",
        "\n",
        "Welcome to the f.. world of deep f...n reinforcement learning. Don't expect agent's reward to smoothly go up. Hope for it to go increase eventually. If it deems you worthy.\n",
        "\n",
        "Seriously though,\n",
        "* __ mean reward__ is the average reward per game. For a correct implementation it may stay low for some 10 epochs, then start growing while oscilating insanely and converges by ~50-100 steps depending on the network architecture. \n",
        "* If it never reaches target score by the end of for loop, try increasing the number of hidden neurons or look at the epsilon.\n",
        "* __ epsilon__ - agent's willingness to explore. If you see that agent's already at < 0.01 epsilon before it's is at least 200, just reset it back to 0.1 - 0.5."
      ]
    },
    {
      "cell_type": "code",
      "metadata": {
        "id": "fWEnsDfwQqvP",
        "colab_type": "code",
        "outputId": "552168d9-0d84-4260-fd4f-8a4c56e684c4",
        "colab": {
          "base_uri": "https://localhost:8080/",
          "height": 158
        }
      },
      "source": [
        "!pip install JSAnimation\n",
        "# Imports specifically so we can render outputs in Jupyter.\n",
        "from JSAnimation.IPython_display import display_animation\n",
        "from matplotlib import animation\n",
        "from IPython.display import display\n",
        "\n",
        "\n",
        "def display_frames_as_gif(frames):\n",
        "    \"\"\"\n",
        "    Displays a list of frames as a gif, with controls\n",
        "    \"\"\"\n",
        "    #plt.figure(figsize=(frames[0].shape[1] / 72.0, frames[0].shape[0] / 72.0), dpi = 72)\n",
        "    patch = plt.imshow(frames[0])\n",
        "    plt.axis('off')\n",
        "\n",
        "    def animate(i):\n",
        "        patch.set_data(frames[i])\n",
        "\n",
        "    anim = animation.FuncAnimation(plt.gcf(), animate, frames = len(frames), interval=50)\n",
        "    display(display_animation(anim, default_mode='loop'))\n"
      ],
      "execution_count": 33,
      "outputs": [
        {
          "output_type": "stream",
          "text": [
            "Collecting JSAnimation\n",
            "  Downloading https://files.pythonhosted.org/packages/3c/e6/a93a578400c38a43af8b4271334ed2444b42d65580f1d6721c9fe32e9fd8/JSAnimation-0.1.tar.gz\n",
            "Building wheels for collected packages: JSAnimation\n",
            "  Building wheel for JSAnimation (setup.py) ... \u001b[?25l\u001b[?25hdone\n",
            "  Stored in directory: /root/.cache/pip/wheels/3c/c2/b2/b444dffc3eed9c78139288d301c4009a42c0dd061d3b62cead\n",
            "Successfully built JSAnimation\n",
            "Installing collected packages: JSAnimation\n",
            "Successfully installed JSAnimation-0.1\n"
          ],
          "name": "stdout"
        }
      ]
    },
    {
      "cell_type": "code",
      "metadata": {
        "id": "x06v9ZvQXrdi",
        "colab_type": "code",
        "outputId": "fdd6a29a-5d92-4e6b-9182-03b4e8c12f45",
        "colab": {
          "base_uri": "https://localhost:8080/",
          "height": 238
        }
      },
      "source": [
        "#record agent\n",
        "frames = []\n",
        "s = env.reset()\n",
        "epsilon = 0\n",
        "total_reward = 0\n",
        "for t in range(1000):\n",
        "    frames.append(env.render(mode = 'rgb_array'))\n",
        "    a = get_action(s, epsilon=epsilon)       \n",
        "    next_s, r, done, _ = env.step(a)\n",
        "    total_reward += r\n",
        "    s = next_s\n",
        "    if done: break\n",
        "print(t)\n",
        "env.close()\n",
        "display_frames_as_gif(frames)"
      ],
      "execution_count": 1,
      "outputs": [
        {
          "output_type": "error",
          "ename": "NameError",
          "evalue": "ignored",
          "traceback": [
            "\u001b[0;31m---------------------------------------------------------------------------\u001b[0m",
            "\u001b[0;31mNameError\u001b[0m                                 Traceback (most recent call last)",
            "\u001b[0;32m<ipython-input-1-650eccfe1519>\u001b[0m in \u001b[0;36m<module>\u001b[0;34m()\u001b[0m\n\u001b[1;32m      1\u001b[0m \u001b[0mframes\u001b[0m \u001b[0;34m=\u001b[0m \u001b[0;34m[\u001b[0m\u001b[0;34m]\u001b[0m\u001b[0;34m\u001b[0m\u001b[0;34m\u001b[0m\u001b[0m\n\u001b[0;32m----> 2\u001b[0;31m \u001b[0ms\u001b[0m \u001b[0;34m=\u001b[0m \u001b[0menv\u001b[0m\u001b[0;34m.\u001b[0m\u001b[0mreset\u001b[0m\u001b[0;34m(\u001b[0m\u001b[0;34m)\u001b[0m\u001b[0;34m\u001b[0m\u001b[0;34m\u001b[0m\u001b[0m\n\u001b[0m\u001b[1;32m      3\u001b[0m \u001b[0mepsilon\u001b[0m \u001b[0;34m=\u001b[0m \u001b[0;36m0\u001b[0m\u001b[0;34m\u001b[0m\u001b[0;34m\u001b[0m\u001b[0m\n\u001b[1;32m      4\u001b[0m \u001b[0mtotal_reward\u001b[0m \u001b[0;34m=\u001b[0m \u001b[0;36m0\u001b[0m\u001b[0;34m\u001b[0m\u001b[0;34m\u001b[0m\u001b[0m\n\u001b[1;32m      5\u001b[0m \u001b[0;32mfor\u001b[0m \u001b[0mt\u001b[0m \u001b[0;32min\u001b[0m \u001b[0mrange\u001b[0m\u001b[0;34m(\u001b[0m\u001b[0;36m1000\u001b[0m\u001b[0;34m)\u001b[0m\u001b[0;34m:\u001b[0m\u001b[0;34m\u001b[0m\u001b[0;34m\u001b[0m\u001b[0m\n",
            "\u001b[0;31mNameError\u001b[0m: name 'env' is not defined"
          ]
        }
      ]
    },
    {
      "cell_type": "code",
      "metadata": {
        "id": "FAThrbjCHHzB",
        "colab_type": "code",
        "colab": {}
      },
      "source": [
        "# record sessions - didn't work for me in colab\n",
        "# import gym.wrappers\n",
        "# env = gym.wrappers.Monitor(gym.make(\"CartPole-v0\"),directory=\"videos\",force=True, write_upon_reset=True)\n",
        "# sessions = [generate_session(epsilon=0, train=False) for _ in range(1)]\n",
        "# print(np.mean(sessions))\n",
        "# env.close()\n",
        "# sessions\n",
        "#show video\n",
        "# from IPython.display import HTML\n",
        "# import os\n",
        "\n",
        "# video_names = list(filter(lambda s:s.endswith(\".mp4\"),os.listdir(\"./videos/\")))\n",
        "\n",
        "# HTML(\"\"\"\n",
        "# <video width=\"640\" height=\"480\" controls>\n",
        "#   <source src=\"{}\" type=\"video/mp4\">\n",
        "# </video>\n",
        "# \"\"\".format(\"./videos/\"+video_names[-1])) #this may or may not be _last_ video. Try other indices"
      ],
      "execution_count": 0,
      "outputs": []
    }
  ]
}